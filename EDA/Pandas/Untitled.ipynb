{
 "cells": [
  {
   "cell_type": "code",
   "execution_count": 10,
   "id": "c9858c57",
   "metadata": {},
   "outputs": [],
   "source": [
    "d = '''{\n",
    "\"Name\" : \"Shubham Rawat\",\n",
    "\"Email\" : \"Rawatshubham@gmail.com\",\n",
    "\"Experience\" : [\"ML\",\"DL\",\"Flask\",\"Python\"],\n",
    "\"Tech\" : [\"test1\",\"test2\",\"test3\",\"test4\"],\n",
    "\"address\" : \"Roorkee\"\n",
    "}\n",
    "\n",
    "'''"
   ]
  },
  {
   "cell_type": "code",
   "execution_count": 2,
   "id": "bfbb2f90",
   "metadata": {},
   "outputs": [],
   "source": [
    "import pandas as pd\n"
   ]
  },
  {
   "cell_type": "code",
   "execution_count": 11,
   "id": "da3889da",
   "metadata": {},
   "outputs": [
    {
     "data": {
      "text/html": [
       "<div>\n",
       "<style scoped>\n",
       "    .dataframe tbody tr th:only-of-type {\n",
       "        vertical-align: middle;\n",
       "    }\n",
       "\n",
       "    .dataframe tbody tr th {\n",
       "        vertical-align: top;\n",
       "    }\n",
       "\n",
       "    .dataframe thead th {\n",
       "        text-align: right;\n",
       "    }\n",
       "</style>\n",
       "<table border=\"1\" class=\"dataframe\">\n",
       "  <thead>\n",
       "    <tr style=\"text-align: right;\">\n",
       "      <th></th>\n",
       "      <th>Name</th>\n",
       "      <th>Email</th>\n",
       "      <th>Experience</th>\n",
       "      <th>Tech</th>\n",
       "      <th>address</th>\n",
       "    </tr>\n",
       "  </thead>\n",
       "  <tbody>\n",
       "    <tr>\n",
       "      <th>0</th>\n",
       "      <td>Shubham Rawat</td>\n",
       "      <td>Rawatshubham@gmail.com</td>\n",
       "      <td>ML</td>\n",
       "      <td>test1</td>\n",
       "      <td>Roorkee</td>\n",
       "    </tr>\n",
       "    <tr>\n",
       "      <th>1</th>\n",
       "      <td>Shubham Rawat</td>\n",
       "      <td>Rawatshubham@gmail.com</td>\n",
       "      <td>DL</td>\n",
       "      <td>test2</td>\n",
       "      <td>Roorkee</td>\n",
       "    </tr>\n",
       "    <tr>\n",
       "      <th>2</th>\n",
       "      <td>Shubham Rawat</td>\n",
       "      <td>Rawatshubham@gmail.com</td>\n",
       "      <td>Flask</td>\n",
       "      <td>test3</td>\n",
       "      <td>Roorkee</td>\n",
       "    </tr>\n",
       "    <tr>\n",
       "      <th>3</th>\n",
       "      <td>Shubham Rawat</td>\n",
       "      <td>Rawatshubham@gmail.com</td>\n",
       "      <td>Python</td>\n",
       "      <td>test4</td>\n",
       "      <td>Roorkee</td>\n",
       "    </tr>\n",
       "  </tbody>\n",
       "</table>\n",
       "</div>"
      ],
      "text/plain": [
       "            Name                   Email Experience   Tech  address\n",
       "0  Shubham Rawat  Rawatshubham@gmail.com         ML  test1  Roorkee\n",
       "1  Shubham Rawat  Rawatshubham@gmail.com         DL  test2  Roorkee\n",
       "2  Shubham Rawat  Rawatshubham@gmail.com      Flask  test3  Roorkee\n",
       "3  Shubham Rawat  Rawatshubham@gmail.com     Python  test4  Roorkee"
      ]
     },
     "execution_count": 11,
     "metadata": {},
     "output_type": "execute_result"
    }
   ],
   "source": [
    "pd.read_json(d)"
   ]
  },
  {
   "cell_type": "code",
   "execution_count": 1,
   "id": "759a96fa",
   "metadata": {},
   "outputs": [],
   "source": [
    "import numpy as np"
   ]
  },
  {
   "cell_type": "code",
   "execution_count": 4,
   "id": "8946efea",
   "metadata": {},
   "outputs": [
    {
     "data": {
      "text/plain": [
       "array([[0., 0., 0., 0.],\n",
       "       [0., 0., 0., 0.],\n",
       "       [0., 0., 0., 0.],\n",
       "       [0., 0., 0., 0.]])"
      ]
     },
     "execution_count": 4,
     "metadata": {},
     "output_type": "execute_result"
    }
   ],
   "source": [
    "np.zeros((4,4))"
   ]
  },
  {
   "cell_type": "code",
   "execution_count": 5,
   "id": "6817f321",
   "metadata": {},
   "outputs": [
    {
     "data": {
      "text/plain": [
       "array([[1., 1., 1.],\n",
       "       [1., 1., 1.],\n",
       "       [1., 1., 1.]])"
      ]
     },
     "execution_count": 5,
     "metadata": {},
     "output_type": "execute_result"
    }
   ],
   "source": [
    "np.ones((3,3))"
   ]
  },
  {
   "cell_type": "code",
   "execution_count": 6,
   "id": "8eefcc3f",
   "metadata": {},
   "outputs": [
    {
     "data": {
      "text/plain": [
       "array([[[1., 1.],\n",
       "        [1., 1.],\n",
       "        [1., 1.],\n",
       "        [1., 1.]],\n",
       "\n",
       "       [[1., 1.],\n",
       "        [1., 1.],\n",
       "        [1., 1.],\n",
       "        [1., 1.]],\n",
       "\n",
       "       [[1., 1.],\n",
       "        [1., 1.],\n",
       "        [1., 1.],\n",
       "        [1., 1.]]])"
      ]
     },
     "execution_count": 6,
     "metadata": {},
     "output_type": "execute_result"
    }
   ],
   "source": [
    "np.ones((3,4,2))"
   ]
  },
  {
   "cell_type": "code",
   "execution_count": 7,
   "id": "1f6ac2d4",
   "metadata": {},
   "outputs": [
    {
     "data": {
      "text/plain": [
       "array([[5., 5., 5., 5.],\n",
       "       [5., 5., 5., 5.],\n",
       "       [5., 5., 5., 5.]])"
      ]
     },
     "execution_count": 7,
     "metadata": {},
     "output_type": "execute_result"
    }
   ],
   "source": [
    "5 + np.zeros((3,4))"
   ]
  },
  {
   "cell_type": "code",
   "execution_count": 13,
   "id": "1328df16",
   "metadata": {},
   "outputs": [
    {
     "data": {
      "text/plain": [
       "array([[1.37962049e-306, 1.24610791e-306, 1.11260959e-306,\n",
       "        1.69109959e-306, 9.34603679e-307, 1.42419802e-306],\n",
       "       [1.78019082e-306, 4.45061456e-308, 1.24612081e-306,\n",
       "        1.37962049e-306, 9.34597567e-307, 1.29061821e-306],\n",
       "       [1.78019625e-306, 1.11255866e-306, 8.90098127e-307,\n",
       "        9.34609790e-307, 3.91792279e-317, 8.34424766e-308]])"
      ]
     },
     "execution_count": 13,
     "metadata": {},
     "output_type": "execute_result"
    }
   ],
   "source": [
    "np.empty((3,6))"
   ]
  },
  {
   "cell_type": "code",
   "execution_count": 16,
   "id": "84ecdfed",
   "metadata": {
    "scrolled": false
   },
   "outputs": [
    {
     "data": {
      "text/plain": [
       "array([2.        , 2.08163265, 2.16326531, 2.24489796, 2.32653061,\n",
       "       2.40816327, 2.48979592, 2.57142857, 2.65306122, 2.73469388,\n",
       "       2.81632653, 2.89795918, 2.97959184, 3.06122449, 3.14285714,\n",
       "       3.2244898 , 3.30612245, 3.3877551 , 3.46938776, 3.55102041,\n",
       "       3.63265306, 3.71428571, 3.79591837, 3.87755102, 3.95918367,\n",
       "       4.04081633, 4.12244898, 4.20408163, 4.28571429, 4.36734694,\n",
       "       4.44897959, 4.53061224, 4.6122449 , 4.69387755, 4.7755102 ,\n",
       "       4.85714286, 4.93877551, 5.02040816, 5.10204082, 5.18367347,\n",
       "       5.26530612, 5.34693878, 5.42857143, 5.51020408, 5.59183673,\n",
       "       5.67346939, 5.75510204, 5.83673469, 5.91836735, 6.        ])"
      ]
     },
     "execution_count": 16,
     "metadata": {},
     "output_type": "execute_result"
    }
   ],
   "source": [
    "#we can generate many no. between 2 no.\n",
    "np.linspace(2,6)"
   ]
  },
  {
   "cell_type": "code",
   "execution_count": 19,
   "id": "c086983b",
   "metadata": {},
   "outputs": [
    {
     "data": {
      "text/plain": [
       "array([[2.        , 2.08163265, 2.16326531, 2.24489796, 2.32653061,\n",
       "        2.40816327, 2.48979592, 2.57142857, 2.65306122, 2.73469388],\n",
       "       [2.81632653, 2.89795918, 2.97959184, 3.06122449, 3.14285714,\n",
       "        3.2244898 , 3.30612245, 3.3877551 , 3.46938776, 3.55102041],\n",
       "       [3.63265306, 3.71428571, 3.79591837, 3.87755102, 3.95918367,\n",
       "        4.04081633, 4.12244898, 4.20408163, 4.28571429, 4.36734694],\n",
       "       [4.44897959, 4.53061224, 4.6122449 , 4.69387755, 4.7755102 ,\n",
       "        4.85714286, 4.93877551, 5.02040816, 5.10204082, 5.18367347],\n",
       "       [5.26530612, 5.34693878, 5.42857143, 5.51020408, 5.59183673,\n",
       "        5.67346939, 5.75510204, 5.83673469, 5.91836735, 6.        ]])"
      ]
     },
     "execution_count": 19,
     "metadata": {},
     "output_type": "execute_result"
    }
   ],
   "source": [
    "np.linspace(2,6).reshape(5,10)"
   ]
  },
  {
   "cell_type": "code",
   "execution_count": null,
   "id": "58d82a50",
   "metadata": {},
   "outputs": [],
   "source": []
  }
 ],
 "metadata": {
  "kernelspec": {
   "display_name": "Python 3 (ipykernel)",
   "language": "python",
   "name": "python3"
  },
  "language_info": {
   "codemirror_mode": {
    "name": "ipython",
    "version": 3
   },
   "file_extension": ".py",
   "mimetype": "text/x-python",
   "name": "python",
   "nbconvert_exporter": "python",
   "pygments_lexer": "ipython3",
   "version": "3.9.7"
  }
 },
 "nbformat": 4,
 "nbformat_minor": 5
}
