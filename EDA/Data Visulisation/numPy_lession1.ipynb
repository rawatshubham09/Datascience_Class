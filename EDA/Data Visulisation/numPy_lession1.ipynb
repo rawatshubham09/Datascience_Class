{
 "cells": [
  {
   "cell_type": "code",
   "execution_count": 1,
   "id": "8fc833e4",
   "metadata": {},
   "outputs": [],
   "source": [
    "import numpy as np"
   ]
  },
  {
   "cell_type": "code",
   "execution_count": 3,
   "id": "a7f42ab7",
   "metadata": {},
   "outputs": [
    {
     "name": "stdout",
     "output_type": "stream",
     "text": [
      "<class 'numpy.ndarray'> :- [1 2 3 4 5 6]\n"
     ]
    }
   ],
   "source": [
    "a = np.array([1,2,3,4,5,6])\n",
    "print(type(a),\":-\", a)"
   ]
  },
  {
   "cell_type": "code",
   "execution_count": 5,
   "id": "a94acad4",
   "metadata": {},
   "outputs": [
    {
     "data": {
      "text/plain": [
       "array(['1', '2', '3', '4', '5', 'shubham', '(5+5j)'], dtype='<U64')"
      ]
     },
     "execution_count": 5,
     "metadata": {},
     "output_type": "execute_result"
    }
   ],
   "source": [
    "# Entire data converted into string:\n",
    "np.array([1,2,3,4,5,\"shubham\", 5+5j])"
   ]
  },
  {
   "cell_type": "code",
   "execution_count": 7,
   "id": "f552c74a",
   "metadata": {},
   "outputs": [
    {
     "data": {
      "text/plain": [
       "array([1. , 2. , 3. , 4.5, 6. ])"
      ]
     },
     "execution_count": 7,
     "metadata": {},
     "output_type": "execute_result"
    }
   ],
   "source": [
    "# convert data into float:\n",
    "np.array([1,2,3,4.5,6])"
   ]
  },
  {
   "cell_type": "code",
   "execution_count": 8,
   "id": "98f4155f",
   "metadata": {},
   "outputs": [
    {
     "data": {
      "text/plain": [
       "array([[1, 2],\n",
       "       [3, 4]])"
      ]
     },
     "execution_count": 8,
     "metadata": {},
     "output_type": "execute_result"
    }
   ],
   "source": [
    "# Creating 2D array:\n",
    "np.array([[1,2],[3,4]])"
   ]
  },
  {
   "cell_type": "code",
   "execution_count": 9,
   "id": "c68a9bc8",
   "metadata": {},
   "outputs": [
    {
     "name": "stderr",
     "output_type": "stream",
     "text": [
      "C:\\Users\\Shubham\\AppData\\Local\\Temp/ipykernel_10780/3863184416.py:2: VisibleDeprecationWarning: Creating an ndarray from ragged nested sequences (which is a list-or-tuple of lists-or-tuples-or ndarrays with different lengths or shapes) is deprecated. If you meant to do this, you must specify 'dtype=object' when creating the ndarray.\n",
      "  np.array([[1,2],[3,4],[5,6,7]])\n"
     ]
    },
    {
     "data": {
      "text/plain": [
       "array([list([1, 2]), list([3, 4]), list([5, 6, 7])], dtype=object)"
      ]
     },
     "execution_count": 9,
     "metadata": {},
     "output_type": "execute_result"
    }
   ],
   "source": [
    "#giving uneven data:\n",
    "np.array([[1,2],[3,4],[5,6,7]])"
   ]
  },
  {
   "cell_type": "code",
   "execution_count": 10,
   "id": "bac020b8",
   "metadata": {},
   "outputs": [
    {
     "data": {
      "text/plain": [
       "array([[[1, 2, 3]]])"
      ]
     },
     "execution_count": 10,
     "metadata": {},
     "output_type": "execute_result"
    }
   ],
   "source": [
    "# creatin n dimenshion mattrix:\n",
    "np.array([1,2,3], ndmin = 3)"
   ]
  },
  {
   "cell_type": "code",
   "execution_count": 12,
   "id": "d7ebf6d0",
   "metadata": {},
   "outputs": [
    {
     "data": {
      "text/plain": [
       "array([1.+0.j, 2.+0.j, 3.+0.j, 4.+0.j, 5.+0.j])"
      ]
     },
     "execution_count": 12,
     "metadata": {},
     "output_type": "execute_result"
    }
   ],
   "source": [
    "#using datatype as complex to convert it to complex\n",
    "np.array([1,2,3,4,5], dtype = complex)"
   ]
  },
  {
   "cell_type": "code",
   "execution_count": 16,
   "id": "ee3a6df1",
   "metadata": {},
   "outputs": [
    {
     "name": "stdout",
     "output_type": "stream",
     "text": [
      "<class 'numpy.int16'> : 1, <class 'numpy.int64'> : 2\n"
     ]
    }
   ],
   "source": [
    "# allocating size of data type:\n",
    "a = np.array([(1,2),(2,3)], dtype = [(\"a\",'<i2'),(\"b\",'<i8')]) # 2 digit i2, 8 digit i8\n",
    "print(f\"{type(a[0][0])} : {a[0][0]}, {type(a[0][1])} : {a[0][1]}\")"
   ]
  },
  {
   "cell_type": "code",
   "execution_count": 17,
   "id": "ce584e12",
   "metadata": {},
   "outputs": [
    {
     "data": {
      "text/plain": [
       "array([[ True, False, False, False],\n",
       "       [False,  True, False, False],\n",
       "       [False, False,  True, False],\n",
       "       [False, False, False,  True]])"
      ]
     },
     "execution_count": 17,
     "metadata": {},
     "output_type": "execute_result"
    }
   ],
   "source": [
    "# usig from function:\n",
    "\n",
    "np.fromfunction(lambda i,j:i==j, (4,4))"
   ]
  },
  {
   "cell_type": "code",
   "execution_count": 18,
   "id": "c570d5fe",
   "metadata": {},
   "outputs": [
    {
     "data": {
      "text/plain": [
       "array([[0., 0., 0.],\n",
       "       [0., 1., 2.],\n",
       "       [0., 2., 4.]])"
      ]
     },
     "execution_count": 18,
     "metadata": {},
     "output_type": "execute_result"
    }
   ],
   "source": [
    "np.fromfunction(lambda i,j:i*j,(3,3))"
   ]
  },
  {
   "cell_type": "code",
   "execution_count": 19,
   "id": "56df0723",
   "metadata": {},
   "outputs": [
    {
     "name": "stderr",
     "output_type": "stream",
     "text": [
      "C:\\Users\\Shubham\\AppData\\Local\\Temp/ipykernel_10780/2378518310.py:2: RuntimeWarning: divide by zero encountered in true_divide\n",
      "  np.fromfunction(lambda i,j:i/j, (4,4))\n",
      "C:\\Users\\Shubham\\AppData\\Local\\Temp/ipykernel_10780/2378518310.py:2: RuntimeWarning: invalid value encountered in true_divide\n",
      "  np.fromfunction(lambda i,j:i/j, (4,4))\n"
     ]
    },
    {
     "data": {
      "text/plain": [
       "array([[       nan, 0.        , 0.        , 0.        ],\n",
       "       [       inf, 1.        , 0.5       , 0.33333333],\n",
       "       [       inf, 2.        , 1.        , 0.66666667],\n",
       "       [       inf, 3.        , 1.5       , 1.        ]])"
      ]
     },
     "execution_count": 19,
     "metadata": {},
     "output_type": "execute_result"
    }
   ],
   "source": [
    "# inf -> infinity function is given in numpy\n",
    "np.fromfunction(lambda i,j:i/j, (4,4))"
   ]
  },
  {
   "cell_type": "code",
   "execution_count": 20,
   "id": "fa1df29d",
   "metadata": {},
   "outputs": [],
   "source": [
    "# creating generator is created:\n",
    "gen = (i*i for i in range(1,6))"
   ]
  },
  {
   "cell_type": "code",
   "execution_count": 21,
   "id": "427c69dc",
   "metadata": {},
   "outputs": [
    {
     "data": {
      "text/plain": [
       "array([ 1,  4,  9, 16, 25])"
      ]
     },
     "execution_count": 21,
     "metadata": {},
     "output_type": "execute_result"
    }
   ],
   "source": [
    "#from iteration object\n",
    "np.fromiter(gen , dtype = int)"
   ]
  },
  {
   "cell_type": "code",
   "execution_count": 23,
   "id": "f4f392af",
   "metadata": {},
   "outputs": [
    {
     "data": {
      "text/plain": [
       "array([ 232,  636,  232,   18, 2321,  121,   32])"
      ]
     },
     "execution_count": 23,
     "metadata": {},
     "output_type": "execute_result"
    }
   ],
   "source": [
    "#from string:\n",
    "np.fromstring(\"232 636 232 18 2321 121 32\", sep = \" \", dtype = int)"
   ]
  },
  {
   "cell_type": "code",
   "execution_count": 24,
   "id": "bd772791",
   "metadata": {},
   "outputs": [],
   "source": [
    "# checking size, shape and dimenshion of any matrix:"
   ]
  },
  {
   "cell_type": "code",
   "execution_count": 25,
   "id": "12130a14",
   "metadata": {},
   "outputs": [
    {
     "data": {
      "text/plain": [
       "2"
      ]
     },
     "execution_count": 25,
     "metadata": {},
     "output_type": "execute_result"
    }
   ],
   "source": [
    "a = np.array([[1,2,3],[4,5,6],[7,8,9]])\n",
    "a.ndim #2D data"
   ]
  },
  {
   "cell_type": "code",
   "execution_count": 26,
   "id": "0f336ba3",
   "metadata": {},
   "outputs": [
    {
     "data": {
      "text/plain": [
       "9"
      ]
     },
     "execution_count": 26,
     "metadata": {},
     "output_type": "execute_result"
    }
   ],
   "source": [
    "a.size"
   ]
  },
  {
   "cell_type": "code",
   "execution_count": 27,
   "id": "f3e11e76",
   "metadata": {},
   "outputs": [
    {
     "data": {
      "text/plain": [
       "(3, 3)"
      ]
     },
     "execution_count": 27,
     "metadata": {},
     "output_type": "execute_result"
    }
   ],
   "source": [
    "a.shape"
   ]
  },
  {
   "cell_type": "code",
   "execution_count": 31,
   "id": "9fac1a00",
   "metadata": {},
   "outputs": [
    {
     "name": "stdout",
     "output_type": "stream",
     "text": [
      "[ 0  2  5  7 10] using linspace\n",
      "[[0. 0. 0.]\n",
      " [0. 0. 0.]] using zeros\n"
     ]
    }
   ],
   "source": [
    "# linspace and zeros:\n",
    "arr1 = np.linspace(0,10,5, dtype = int)\n",
    "arr2 = np.zeros((2,3))\n",
    "print(arr1, \"using linspace\")\n",
    "print(arr2, \"using zeros\")"
   ]
  },
  {
   "cell_type": "code",
   "execution_count": 33,
   "id": "088590b0",
   "metadata": {},
   "outputs": [
    {
     "data": {
      "text/plain": [
       "array([[1., 1., 1., 1.],\n",
       "       [1., 1., 1., 1.],\n",
       "       [1., 1., 1., 1.],\n",
       "       [1., 1., 1., 1.]])"
      ]
     },
     "execution_count": 33,
     "metadata": {},
     "output_type": "execute_result"
    }
   ],
   "source": [
    "np.ones((4,4))"
   ]
  },
  {
   "cell_type": "code",
   "execution_count": 34,
   "id": "eb508a3d",
   "metadata": {},
   "outputs": [
    {
     "data": {
      "text/plain": [
       "array([[[1.],\n",
       "        [1.],\n",
       "        [1.],\n",
       "        [1.]],\n",
       "\n",
       "       [[1.],\n",
       "        [1.],\n",
       "        [1.],\n",
       "        [1.]],\n",
       "\n",
       "       [[1.],\n",
       "        [1.],\n",
       "        [1.],\n",
       "        [1.]],\n",
       "\n",
       "       [[1.],\n",
       "        [1.],\n",
       "        [1.],\n",
       "        [1.]]])"
      ]
     },
     "execution_count": 34,
     "metadata": {},
     "output_type": "execute_result"
    }
   ],
   "source": [
    "np.ones((4,4,1))"
   ]
  },
  {
   "cell_type": "code",
   "execution_count": 36,
   "id": "d414c9c2",
   "metadata": {},
   "outputs": [
    {
     "data": {
      "text/plain": [
       "array([[1.        , 0.5       , 0.33333333],\n",
       "       [2.        , 1.        , 0.66666667],\n",
       "       [3.        , 1.5       , 1.        ]])"
      ]
     },
     "execution_count": 36,
     "metadata": {},
     "output_type": "execute_result"
    }
   ],
   "source": [
    "np.empty((3,3)) #generate random data"
   ]
  },
  {
   "cell_type": "code",
   "execution_count": 38,
   "id": "c54900a3",
   "metadata": {},
   "outputs": [
    {
     "data": {
      "text/plain": [
       "array([[3., 0., 0.],\n",
       "       [0., 3., 0.],\n",
       "       [0., 0., 3.]])"
      ]
     },
     "execution_count": 38,
     "metadata": {},
     "output_type": "execute_result"
    }
   ],
   "source": [
    "# printing ones matrix I*3:\n",
    "np.eye(3)*3"
   ]
  },
  {
   "cell_type": "code",
   "execution_count": 40,
   "id": "f751b14e",
   "metadata": {},
   "outputs": [
    {
     "data": {
      "text/plain": [
       "array([[1.  , 1.04, 1.08, 1.12, 1.16, 1.2 , 1.24, 1.28, 1.32, 1.36, 1.4 ,\n",
       "        1.44, 1.48, 1.52, 1.56, 1.6 , 1.64, 1.68, 1.72, 1.76, 1.8 , 1.84,\n",
       "        1.88, 1.92, 1.96, 2.  , 2.04, 2.08, 2.12, 2.16, 2.2 , 2.24, 2.28,\n",
       "        2.32, 2.36, 2.4 , 2.44, 2.48, 2.52, 2.56, 2.6 , 2.64, 2.68, 2.72,\n",
       "        2.76, 2.8 , 2.84, 2.88, 2.92, 2.96],\n",
       "       [2.  , 2.02, 2.04, 2.06, 2.08, 2.1 , 2.12, 2.14, 2.16, 2.18, 2.2 ,\n",
       "        2.22, 2.24, 2.26, 2.28, 2.3 , 2.32, 2.34, 2.36, 2.38, 2.4 , 2.42,\n",
       "        2.44, 2.46, 2.48, 2.5 , 2.52, 2.54, 2.56, 2.58, 2.6 , 2.62, 2.64,\n",
       "        2.66, 2.68, 2.7 , 2.72, 2.74, 2.76, 2.78, 2.8 , 2.82, 2.84, 2.86,\n",
       "        2.88, 2.9 , 2.92, 2.94, 2.96, 2.98]])"
      ]
     },
     "execution_count": 40,
     "metadata": {},
     "output_type": "execute_result"
    }
   ],
   "source": [
    "#line space and log space:\n",
    "np.linspace([1,2],3,endpoint = False, axis = 1)"
   ]
  },
  {
   "cell_type": "code",
   "execution_count": 43,
   "id": "6fe37dfe",
   "metadata": {},
   "outputs": [
    {
     "data": {
      "text/plain": [
       "array([[ 10.        ,   9.58589468,   9.18893768,   8.80841888,\n",
       "          8.44365757,   8.09400122,   7.75882432,   7.43752728,\n",
       "          7.12953531,   6.83429746,   6.55128557,   6.27999335,\n",
       "          6.01993548,   5.77064675,   5.5316812 ,   5.30261134,\n",
       "          5.08302738,   4.87253651,   4.67076218,   4.47734343,\n",
       "          4.29193426,   4.11420298,   3.94383164,   3.78051548,\n",
       "          3.62396232,   3.47389211,   3.33003639,   3.19213781,\n",
       "          3.05994969,   2.93323554,   2.8117687 ,   2.69533186,\n",
       "          2.58371673,   2.47672365,   2.3741612 ,   2.27584593,\n",
       "          2.18160194,   2.09126064,   2.00466042,   1.92164637,\n",
       "          1.84206997,   1.76578887,   1.69266662,   1.62257239,\n",
       "          1.5553808 ,   1.49097166,   1.42922973,   1.37004456,\n",
       "          1.31331029,   1.25892541],\n",
       "       [100.        ,  91.4585875 ,  83.64673228,  76.50211983,\n",
       "         69.96775821,  63.99152336,  58.52574339,  53.52681823,\n",
       "         48.95487189,  44.77343434,  40.94915062,  37.45151475,\n",
       "         34.25262639,  31.32696828,  28.6512027 ,  26.20398529,\n",
       "         23.96579481,  21.91877742,  20.04660423,  18.33434107,\n",
       "         16.76832937,  15.33607719,  14.02615957,  12.82812743,\n",
       "         11.73242415,  10.73030941,   9.81378942,   8.97555318,\n",
       "          8.20891416,   7.50775694,   6.86648845,   6.27999335,\n",
       "          5.74359321,   5.25300922,   4.80432804,   4.39397056,\n",
       "          4.01866341,   3.67541279,   3.36148062,   3.0743627 ,\n",
       "          2.8117687 ,   2.57160393,   2.35195264,   2.15106266,\n",
       "          1.96733152,   1.79929362,   1.64560853,   1.50505032,\n",
       "          1.37649776,   1.25892541]])"
      ]
     },
     "execution_count": 43,
     "metadata": {},
     "output_type": "execute_result"
    }
   ],
   "source": [
    "np.logspace([1,2],0.1, axis = 1)"
   ]
  },
  {
   "cell_type": "code",
   "execution_count": 44,
   "id": "593bee2c",
   "metadata": {},
   "outputs": [
    {
     "data": {
      "text/plain": [
       "array([ 100.        ,  129.1549665 ,  166.81005372,  215.443469  ,\n",
       "        278.25594022,  359.38136638,  464.15888336,  599.48425032,\n",
       "        774.26368268, 1000.        ])"
      ]
     },
     "execution_count": 44,
     "metadata": {},
     "output_type": "execute_result"
    }
   ],
   "source": [
    "np.logspace(2,3,10)"
   ]
  },
  {
   "cell_type": "code",
   "execution_count": 45,
   "id": "acad0d5b",
   "metadata": {},
   "outputs": [],
   "source": [
    "#reshape:\n",
    "\n",
    "a = np.linspace(1,10, 100)"
   ]
  },
  {
   "cell_type": "code",
   "execution_count": 46,
   "id": "cb4bdeb6",
   "metadata": {},
   "outputs": [
    {
     "data": {
      "text/plain": [
       "(100,)"
      ]
     },
     "execution_count": 46,
     "metadata": {},
     "output_type": "execute_result"
    }
   ],
   "source": [
    "a.shape"
   ]
  },
  {
   "cell_type": "code",
   "execution_count": 47,
   "id": "cd8ded0b",
   "metadata": {},
   "outputs": [
    {
     "data": {
      "text/plain": [
       "array([[ 1.        ,  1.09090909,  1.18181818,  1.27272727,  1.36363636,\n",
       "         1.45454545,  1.54545455,  1.63636364,  1.72727273,  1.81818182,\n",
       "         1.90909091,  2.        ,  2.09090909,  2.18181818,  2.27272727,\n",
       "         2.36363636,  2.45454545,  2.54545455,  2.63636364,  2.72727273,\n",
       "         2.81818182,  2.90909091,  3.        ,  3.09090909,  3.18181818,\n",
       "         3.27272727,  3.36363636,  3.45454545,  3.54545455,  3.63636364,\n",
       "         3.72727273,  3.81818182,  3.90909091,  4.        ,  4.09090909,\n",
       "         4.18181818,  4.27272727,  4.36363636,  4.45454545,  4.54545455,\n",
       "         4.63636364,  4.72727273,  4.81818182,  4.90909091,  5.        ,\n",
       "         5.09090909,  5.18181818,  5.27272727,  5.36363636,  5.45454545],\n",
       "       [ 5.54545455,  5.63636364,  5.72727273,  5.81818182,  5.90909091,\n",
       "         6.        ,  6.09090909,  6.18181818,  6.27272727,  6.36363636,\n",
       "         6.45454545,  6.54545455,  6.63636364,  6.72727273,  6.81818182,\n",
       "         6.90909091,  7.        ,  7.09090909,  7.18181818,  7.27272727,\n",
       "         7.36363636,  7.45454545,  7.54545455,  7.63636364,  7.72727273,\n",
       "         7.81818182,  7.90909091,  8.        ,  8.09090909,  8.18181818,\n",
       "         8.27272727,  8.36363636,  8.45454545,  8.54545455,  8.63636364,\n",
       "         8.72727273,  8.81818182,  8.90909091,  9.        ,  9.09090909,\n",
       "         9.18181818,  9.27272727,  9.36363636,  9.45454545,  9.54545455,\n",
       "         9.63636364,  9.72727273,  9.81818182,  9.90909091, 10.        ]])"
      ]
     },
     "execution_count": 47,
     "metadata": {},
     "output_type": "execute_result"
    }
   ],
   "source": [
    "a = a.reshape(2,50)\n",
    "a"
   ]
  },
  {
   "cell_type": "code",
   "execution_count": 48,
   "id": "94b754f7",
   "metadata": {
    "scrolled": true
   },
   "outputs": [
    {
     "data": {
      "text/plain": [
       "(2, 50)"
      ]
     },
     "execution_count": 48,
     "metadata": {},
     "output_type": "execute_result"
    }
   ],
   "source": [
    "a.shape"
   ]
  },
  {
   "cell_type": "markdown",
   "id": "ab97abbc",
   "metadata": {},
   "source": [
    "### Calculating standard divation of data"
   ]
  },
  {
   "cell_type": "code",
   "execution_count": 60,
   "id": "0b3688aa",
   "metadata": {},
   "outputs": [
    {
     "data": {
      "text/plain": [
       "array([429, 499, 511, 271, 895, 887, 485,  10, 445, 176, 145, 286, 284,\n",
       "       902, 967, 184, 822, 283, 446, 961, 845, 298, 864, 232, 899, 282,\n",
       "       551, 139, 229, 248, 229, 405, 333, 579,  78, 755,  54, 414, 550,\n",
       "       313, 324, 759, 953, 469, 229, 318,  24, 945, 346, 538, 318, 286,\n",
       "       388,  51, 525, 739, 321, 212, 214, 802, 772, 176, 896, 546, 113,\n",
       "       160, 233, 788, 723, 275, 215, 593,  61, 502, 521, 913, 435,  90,\n",
       "       528, 440, 131, 372, 304, 394, 563, 819, 950, 365, 308, 544,  76,\n",
       "       627, 520, 112, 691, 767, 924, 292, 284, 846])"
      ]
     },
     "execution_count": 60,
     "metadata": {},
     "output_type": "execute_result"
    }
   ],
   "source": [
    "a = np.random.randint(1,1000,100)\n",
    "a"
   ]
  },
  {
   "cell_type": "code",
   "execution_count": 63,
   "id": "19f5c92b",
   "metadata": {},
   "outputs": [
    {
     "data": {
      "text/plain": [
       "458.15"
      ]
     },
     "execution_count": 63,
     "metadata": {},
     "output_type": "execute_result"
    }
   ],
   "source": [
    "mean = sum(a)/len(a) #mean\n",
    "mean"
   ]
  },
  {
   "cell_type": "code",
   "execution_count": 64,
   "id": "ed443504",
   "metadata": {},
   "outputs": [
    {
     "data": {
      "text/plain": [
       "array([ -29.15,   40.85,   52.85, -187.15,  436.85,  428.85,   26.85,\n",
       "       -448.15,  -13.15, -282.15, -313.15, -172.15, -174.15,  443.85,\n",
       "        508.85, -274.15,  363.85, -175.15,  -12.15,  502.85,  386.85,\n",
       "       -160.15,  405.85, -226.15,  440.85, -176.15,   92.85, -319.15,\n",
       "       -229.15, -210.15, -229.15,  -53.15, -125.15,  120.85, -380.15,\n",
       "        296.85, -404.15,  -44.15,   91.85, -145.15, -134.15,  300.85,\n",
       "        494.85,   10.85, -229.15, -140.15, -434.15,  486.85, -112.15,\n",
       "         79.85, -140.15, -172.15,  -70.15, -407.15,   66.85,  280.85,\n",
       "       -137.15, -246.15, -244.15,  343.85,  313.85, -282.15,  437.85,\n",
       "         87.85, -345.15, -298.15, -225.15,  329.85,  264.85, -183.15,\n",
       "       -243.15,  134.85, -397.15,   43.85,   62.85,  454.85,  -23.15,\n",
       "       -368.15,   69.85,  -18.15, -327.15,  -86.15, -154.15,  -64.15,\n",
       "        104.85,  360.85,  491.85,  -93.15, -150.15,   85.85, -382.15,\n",
       "        168.85,   61.85, -346.15,  232.85,  308.85,  465.85, -166.15,\n",
       "       -174.15,  387.85])"
      ]
     },
     "execution_count": 64,
     "metadata": {},
     "output_type": "execute_result"
    }
   ],
   "source": [
    "new_a = a - mean\n",
    "new_a"
   ]
  },
  {
   "cell_type": "code",
   "execution_count": 67,
   "id": "f70afc16",
   "metadata": {},
   "outputs": [
    {
     "data": {
      "text/plain": [
       "1.1368683772161604e-14"
      ]
     },
     "execution_count": 67,
     "metadata": {},
     "output_type": "execute_result"
    }
   ],
   "source": [
    "sd = sum(new_a)/len(new_a) # standard deviation\n",
    "sd"
   ]
  },
  {
   "cell_type": "markdown",
   "id": "d3da0d38",
   "metadata": {},
   "source": [
    "### appling Z score in data to normilize it:"
   ]
  },
  {
   "cell_type": "code",
   "execution_count": 68,
   "id": "ab217405",
   "metadata": {},
   "outputs": [
    {
     "data": {
      "text/plain": [
       "array([-2.56406112e+15,  3.59320400e+15,  4.64873516e+15, -1.64618881e+16,\n",
       "        3.84257324e+16,  3.77220449e+16,  2.36175098e+15, -3.94196909e+16,\n",
       "       -1.15668623e+15, -2.48181765e+16, -2.75449653e+16, -1.51424741e+16,\n",
       "       -1.53183960e+16,  3.90414589e+16,  4.47589193e+16, -2.41144890e+16,\n",
       "        3.20045845e+16, -1.54063569e+16, -1.06872530e+15,  4.42311538e+16,\n",
       "        3.40276859e+16, -1.40869430e+16,  3.56989435e+16, -1.98923644e+16,\n",
       "        3.87775761e+16, -1.54943179e+16,  8.16717237e+15, -2.80727309e+16,\n",
       "       -2.01562472e+16, -1.84849895e+16, -2.01562472e+16, -4.67512344e+15,\n",
       "       -1.10083104e+16,  1.06300784e+16, -3.34383476e+16,  2.61112021e+16,\n",
       "       -3.55494099e+16, -3.88347507e+15,  8.07921144e+15, -1.27675290e+16,\n",
       "       -1.17999588e+16,  2.64630459e+16,  4.35274663e+16,  9.54376093e+14,\n",
       "       -2.01562472e+16, -1.23277244e+16, -3.81882379e+16,  4.28237789e+16,\n",
       "       -9.86481832e+15,  7.02368028e+15, -1.23277244e+16, -1.51424741e+16,\n",
       "       -6.17045926e+15, -3.58132927e+16,  5.88018819e+15,  2.47038273e+16,\n",
       "       -1.20638416e+16, -2.16515830e+16, -2.14756611e+16,  3.02453659e+16,\n",
       "        2.76065380e+16, -2.48181765e+16,  3.85136933e+16,  7.72736772e+15,\n",
       "       -3.03597151e+16, -2.62255513e+16, -1.98044034e+16,  2.90139128e+16,\n",
       "        2.32964524e+16, -1.61100444e+16, -2.13877002e+16,  1.18615314e+16,\n",
       "       -3.49336834e+16,  3.85708679e+15,  5.52834446e+15,  4.00090291e+16,\n",
       "       -2.03629553e+15, -3.23828165e+16,  6.14407098e+15, -1.59649088e+15,\n",
       "       -2.87764183e+16, -7.57783414e+15, -1.35591774e+16, -5.64269367e+15,\n",
       "        9.22270353e+15,  3.17407017e+16,  4.32635835e+16, -8.19356065e+15,\n",
       "       -1.32073337e+16,  7.55144586e+15, -3.36142695e+16,  1.48522031e+16,\n",
       "        5.44038353e+15, -3.04476760e+16,  2.04817026e+16,  2.71667333e+16,\n",
       "        4.09765993e+16, -1.46147086e+16, -1.53183960e+16,  3.41156468e+16])"
      ]
     },
     "execution_count": 68,
     "metadata": {},
     "output_type": "execute_result"
    }
   ],
   "source": [
    "z_data = (a-mean)/sd\n",
    "z_data"
   ]
  },
  {
   "cell_type": "code",
   "execution_count": 74,
   "id": "3f6e753c",
   "metadata": {},
   "outputs": [
    {
     "data": {
      "text/plain": [
       "(100,)"
      ]
     },
     "execution_count": 74,
     "metadata": {},
     "output_type": "execute_result"
    }
   ],
   "source": [
    "z_data.shape"
   ]
  },
  {
   "cell_type": "code",
   "execution_count": 80,
   "id": "a1cddc69",
   "metadata": {},
   "outputs": [
    {
     "name": "stderr",
     "output_type": "stream",
     "text": [
      "C:\\Python\\Python39\\lib\\site-packages\\seaborn\\_decorators.py:36: FutureWarning: Pass the following variables as keyword args: x, y. From version 0.12, the only valid positional argument will be `data`, and passing other arguments without an explicit keyword will result in an error or misinterpretation.\n",
      "  warnings.warn(\n"
     ]
    },
    {
     "data": {
      "image/png": "[encoded data removed]",
      "text/plain": [
       "<Figure size 432x288 with 1 Axes>"
      ]
     },
     "metadata": {
      "needs_background": "light"
     },
     "output_type": "display_data"
    }
   ],
   "source": [
    "import seaborn as sns\n",
    "sns.lineplot(z_data,np.random.randint(-4,4,100));"
   ]
  },
  {
   "cell_type": "code",
   "execution_count": 82,
   "id": "1d528d7b",
   "metadata": {},
   "outputs": [
    {
     "data": {
      "text/plain": [
       "array([[ 4,  8, 51, 13],\n",
       "       [19, 35, 35, 26],\n",
       "       [55, 32, 38, 12],\n",
       "       [ 9, 17, 31, 50]])"
      ]
     },
     "execution_count": 82,
     "metadata": {},
     "output_type": "execute_result"
    }
   ],
   "source": [
    "arr = np.random.randint(2,60,(4,4))\n",
    "arr"
   ]
  },
  {
   "cell_type": "code",
   "execution_count": 84,
   "id": "62fd5b0b",
   "metadata": {},
   "outputs": [
    {
     "data": {
      "text/plain": [
       "array([[38, 12],\n",
       "       [31, 50]])"
      ]
     },
     "execution_count": 84,
     "metadata": {},
     "output_type": "execute_result"
    }
   ],
   "source": [
    "arr[2:,2:]"
   ]
  },
  {
   "cell_type": "code",
   "execution_count": 86,
   "id": "c9cb558e",
   "metadata": {},
   "outputs": [],
   "source": [
    "arr1 = np.random.randint(1,10,(3,3))\n",
    "arr2 = np.random.randint(1,10,(3,3))"
   ]
  },
  {
   "cell_type": "code",
   "execution_count": 87,
   "id": "6793269e",
   "metadata": {},
   "outputs": [
    {
     "data": {
      "text/plain": [
       "array([[2, 2, 3],\n",
       "       [1, 9, 2],\n",
       "       [2, 2, 2]])"
      ]
     },
     "execution_count": 87,
     "metadata": {},
     "output_type": "execute_result"
    }
   ],
   "source": [
    "arr1"
   ]
  },
  {
   "cell_type": "code",
   "execution_count": 88,
   "id": "e66adbfb",
   "metadata": {},
   "outputs": [
    {
     "data": {
      "text/plain": [
       "array([[4, 5, 2],\n",
       "       [7, 5, 2],\n",
       "       [4, 2, 4]])"
      ]
     },
     "execution_count": 88,
     "metadata": {},
     "output_type": "execute_result"
    }
   ],
   "source": [
    "arr2"
   ]
  },
  {
   "cell_type": "code",
   "execution_count": 90,
   "id": "130b3fa2",
   "metadata": {},
   "outputs": [
    {
     "data": {
      "text/plain": [
       "array([[34, 26, 20],\n",
       "       [75, 54, 28],\n",
       "       [30, 24, 16]])"
      ]
     },
     "execution_count": 90,
     "metadata": {},
     "output_type": "execute_result"
    }
   ],
   "source": [
    "#matrix multiplication\n",
    "arr1@arr2"
   ]
  },
  {
   "cell_type": "code",
   "execution_count": 92,
   "id": "bfa713b2",
   "metadata": {},
   "outputs": [
    {
     "data": {
      "text/plain": [
       "array([[9, 7],\n",
       "       [9, 2],\n",
       "       [6, 6]])"
      ]
     },
     "execution_count": 92,
     "metadata": {},
     "output_type": "execute_result"
    }
   ],
   "source": [
    "arr3 = np.random.randint(1,10,(3,2))\n",
    "arr3"
   ]
  },
  {
   "cell_type": "code",
   "execution_count": 93,
   "id": "76fb658e",
   "metadata": {},
   "outputs": [
    {
     "data": {
      "text/plain": [
       "array([[ 54,  36],\n",
       "       [102,  37],\n",
       "       [ 48,  30]])"
      ]
     },
     "execution_count": 93,
     "metadata": {},
     "output_type": "execute_result"
    }
   ],
   "source": [
    "arr1@arr3"
   ]
  },
  {
   "cell_type": "code",
   "execution_count": 95,
   "id": "d59c910e",
   "metadata": {},
   "outputs": [
    {
     "data": {
      "text/plain": [
       "array([[2, 1, 2],\n",
       "       [2, 9, 2],\n",
       "       [3, 2, 2]])"
      ]
     },
     "execution_count": 95,
     "metadata": {},
     "output_type": "execute_result"
    }
   ],
   "source": [
    "#Transpose\n",
    "arr1.T"
   ]
  },
  {
   "cell_type": "code",
   "execution_count": 96,
   "id": "a62319a6",
   "metadata": {},
   "outputs": [
    {
     "data": {
      "text/plain": [
       "array([[1.41421356, 1.41421356, 1.73205081],\n",
       "       [1.        , 3.        , 1.41421356],\n",
       "       [1.41421356, 1.41421356, 1.41421356]])"
      ]
     },
     "execution_count": 96,
     "metadata": {},
     "output_type": "execute_result"
    }
   ],
   "source": [
    "#sqrt and log10\n",
    "np.sqrt(arr1)"
   ]
  },
  {
   "cell_type": "code",
   "execution_count": 97,
   "id": "84050ebd",
   "metadata": {},
   "outputs": [
    {
     "data": {
      "text/plain": [
       "array([[0.30103   , 0.30103   , 0.47712125],\n",
       "       [0.        , 0.95424251, 0.30103   ],\n",
       "       [0.30103   , 0.30103   , 0.30103   ]])"
      ]
     },
     "execution_count": 97,
     "metadata": {},
     "output_type": "execute_result"
    }
   ],
   "source": [
    "np.log10(arr1)"
   ]
  },
  {
   "cell_type": "code",
   "execution_count": 98,
   "id": "7405dcf9",
   "metadata": {},
   "outputs": [
    {
     "data": {
      "text/plain": [
       "True"
      ]
     },
     "execution_count": 98,
     "metadata": {},
     "output_type": "execute_result"
    }
   ],
   "source": [
    "np.any(arr1)"
   ]
  },
  {
   "cell_type": "code",
   "execution_count": 99,
   "id": "220f110c",
   "metadata": {},
   "outputs": [
    {
     "data": {
      "text/plain": [
       "'[[2 2 3]\\n [1 9 2]\\n [2 2 2]]'"
      ]
     },
     "execution_count": 99,
     "metadata": {},
     "output_type": "execute_result"
    }
   ],
   "source": [
    "np.array2string(arr1)"
   ]
  },
  {
   "cell_type": "code",
   "execution_count": null,
   "id": "2f5c0e5f",
   "metadata": {},
   "outputs": [],
   "source": [
    "np.s"
   ]
  }
 ],
 "metadata": {
  "kernelspec": {
   "display_name": "Python 3 (ipykernel)",
   "language": "python",
   "name": "python3"
  },
  "language_info": {
   "codemirror_mode": {
    "name": "ipython",
    "version": 3
   },
   "file_extension": ".py",
   "mimetype": "text/x-python",
   "name": "python",
   "nbconvert_exporter": "python",
   "pygments_lexer": "ipython3",
   "version": "3.9.7"
  }
 },
 "nbformat": 4,
 "nbformat_minor": 5
}
