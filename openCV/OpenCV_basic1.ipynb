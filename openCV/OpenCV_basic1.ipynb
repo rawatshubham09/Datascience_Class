{
 "cells": [
  {
   "cell_type": "code",
   "execution_count": 4,
   "id": "9d7a2dd5",
   "metadata": {},
   "outputs": [],
   "source": [
    "#!pip install opencv-python\n"
   ]
  },
  {
   "cell_type": "code",
   "execution_count": 7,
   "id": "ae84c19e",
   "metadata": {},
   "outputs": [],
   "source": [
    "import cv2\n",
    "import numpy as np"
   ]
  },
  {
   "cell_type": "markdown",
   "id": "8ebd8b06",
   "metadata": {},
   "source": [
    "### Vedio capture"
   ]
  },
  {
   "cell_type": "code",
   "execution_count": 5,
   "id": "bcb801af",
   "metadata": {},
   "outputs": [],
   "source": [
    "cap = cv2.VideoCapture(\"Cars.mp4\")\n",
    "\n",
    "while cap.isOpened():\n",
    "    success, frame = cap.read()\n",
    "    \n",
    "    if success:\n",
    "        #new = cv2.resize(frame, (1024,1024))\n",
    "        cv2.imshow(\"frame\", frame)\n",
    "        if cv2.waitKey(25) & 0xff == ord(\"q\"):\n",
    "            break\n",
    "    else:\n",
    "        break\n",
    "    \n",
    "cap.release()\n",
    "cv2.destroyAllWindows()"
   ]
  },
  {
   "cell_type": "markdown",
   "id": "645864c8",
   "metadata": {},
   "source": [
    "### Multiple Vedio"
   ]
  },
  {
   "cell_type": "code",
   "execution_count": 10,
   "id": "5919ce78",
   "metadata": {},
   "outputs": [],
   "source": [
    "cap = cv2.VideoCapture(\"Cars.mp4\")\n",
    "my_cap = cv2.VideoCapture(0)\n",
    "\n",
    "while cap.isOpened() and my_cap.isOpened():\n",
    "    success, frame = cap.read()\n",
    "    success2, frame2 = my_cap.read()\n",
    "    \n",
    "    if success:\n",
    "        frame = cv2.resize(frame, (600,400))\n",
    "        my_frame = cv2.resize(frame2, (600,400))\n",
    "        #hstaking\n",
    "        h_frame1 = np.hstack((frame,frame))\n",
    "        h_frame2 = np.hstack((my_frame,frame))\n",
    "        cv2.imshow(\"frame\", np.vstack((h_frame1,h_frame2)))\n",
    "        if cv2.waitKey(25) & 0xff == ord(\"q\"):\n",
    "            break\n",
    "    else:\n",
    "        break\n",
    "    \n",
    "cap.release()\n",
    "my_cap.release()\n",
    "cv2.destroyAllWindows()"
   ]
  },
  {
   "cell_type": "markdown",
   "id": "05e5b917",
   "metadata": {},
   "source": [
    "## Camera capture"
   ]
  },
  {
   "cell_type": "code",
   "execution_count": 6,
   "id": "2c84b4d8",
   "metadata": {},
   "outputs": [],
   "source": [
    "cap = cv2.VideoCapture(0)\n",
    "\n",
    "while cap.isOpened():\n",
    "    success, frame = cap.read()\n",
    "    \n",
    "    if success:\n",
    "        #new = cv2.resize(frame, (1024,1024))\n",
    "        cv2.imshow(\"frame\", frame)\n",
    "        if cv2.waitKey(25) & 0xff == ord(\"q\"):\n",
    "            break\n",
    "    else:\n",
    "        break\n",
    "    \n",
    "cap.release()\n",
    "cv2.destroyAllWindows()"
   ]
  },
  {
   "cell_type": "markdown",
   "id": "b88ed0d5",
   "metadata": {},
   "source": [
    "## Save images"
   ]
  },
  {
   "cell_type": "code",
   "execution_count": 15,
   "id": "f61f547e",
   "metadata": {},
   "outputs": [],
   "source": [
    "# self generated images\n",
    "\n",
    "imageMat = np.random.randint(0,255,(500,600,3))\n",
    "\n",
    "cv2.imwrite(\"random.jpg\",imageMat)\n",
    "\n",
    "cap = cv2.VideoCapture(\"random.jpg\")\n",
    "\n",
    "sucess, frame = cap.read()\n",
    "\n",
    "cv2.imshow(\"frame1\", frame)\n",
    "\n",
    "cv2.waitKey(0) \n",
    "\n",
    "cap.release()\n",
    "\n",
    "cv2.destroyAllWindows()\n",
    "\n",
    "\n"
   ]
  },
  {
   "cell_type": "markdown",
   "id": "070501ef",
   "metadata": {},
   "source": [
    "## Save vedio"
   ]
  },
  {
   "cell_type": "code",
   "execution_count": 17,
   "id": "7eddde53",
   "metadata": {},
   "outputs": [],
   "source": [
    "import os\n",
    "os.mkdir(\"Video_image_screenshort\")"
   ]
  },
  {
   "cell_type": "code",
   "execution_count": 20,
   "id": "6f0761fd",
   "metadata": {},
   "outputs": [
    {
     "ename": "KeyboardInterrupt",
     "evalue": "",
     "output_type": "error",
     "traceback": [
      "\u001b[1;31m---------------------------------------------------------------------------\u001b[0m",
      "\u001b[1;31mKeyboardInterrupt\u001b[0m                         Traceback (most recent call last)",
      "Cell \u001b[1;32mIn [20], line 4\u001b[0m\n\u001b[0;32m      1\u001b[0m cap \u001b[38;5;241m=\u001b[39m cv2\u001b[38;5;241m.\u001b[39mVideoCapture(\u001b[38;5;241m0\u001b[39m)\n\u001b[0;32m      3\u001b[0m \u001b[38;5;28;01mwhile\u001b[39;00m cap\u001b[38;5;241m.\u001b[39misOpened():\n\u001b[1;32m----> 4\u001b[0m     succ, frame \u001b[38;5;241m=\u001b[39m \u001b[43mcap\u001b[49m\u001b[38;5;241;43m.\u001b[39;49m\u001b[43mread\u001b[49m\u001b[43m(\u001b[49m\u001b[43m)\u001b[49m\n\u001b[0;32m      5\u001b[0m     i \u001b[38;5;241m=\u001b[39m \u001b[38;5;241m1\u001b[39m\n\u001b[0;32m      6\u001b[0m     \u001b[38;5;28;01mif\u001b[39;00m succ:\n",
      "\u001b[1;31mKeyboardInterrupt\u001b[0m: "
     ]
    }
   ],
   "source": [
    "cap = cv2.VideoCapture(0)\n",
    "\n",
    "while cap.isOpened():\n",
    "    succ, frame = cap.read()\n",
    "    i = 1\n",
    "    if succ:\n",
    "        name = f\"Video_image_screenshort/my_img_{i}.jpg\"\n",
    "        #save image in jpg formate\n",
    "        cv2.imwrite(name, frame)\n",
    "        # to display image\n",
    "        cv2.imshow(\"frame1\",frame)\n",
    "        i += 1\n",
    "        # to wait for 1 sec before stop\n",
    "        \n",
    "        if cv2.waitKey(25) and 0xff == ord(\"q\"):\n",
    "            break\n",
    "    else:\n",
    "        break\n",
    "\n",
    "cap.release()\n",
    "cv2.destroyAllWindows()"
   ]
  },
  {
   "cell_type": "code",
   "execution_count": 22,
   "id": "cd227530",
   "metadata": {},
   "outputs": [],
   "source": [
    "cap.release()\n",
    "cv2.destroyAllWindows()"
   ]
  },
  {
   "cell_type": "code",
   "execution_count": null,
   "id": "defcd827",
   "metadata": {},
   "outputs": [],
   "source": []
  }
 ],
 "metadata": {
  "kernelspec": {
   "display_name": "Python 3 (ipykernel)",
   "language": "python",
   "name": "python3"
  },
  "language_info": {
   "codemirror_mode": {
    "name": "ipython",
    "version": 3
   },
   "file_extension": ".py",
   "mimetype": "text/x-python",
   "name": "python",
   "nbconvert_exporter": "python",
   "pygments_lexer": "ipython3",
   "version": "3.9.15"
  }
 },
 "nbformat": 4,
 "nbformat_minor": 5
}
