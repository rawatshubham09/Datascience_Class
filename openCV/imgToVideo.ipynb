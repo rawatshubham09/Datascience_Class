{
 "cells": [
  {
   "cell_type": "code",
   "execution_count": 1,
   "id": "f29322b0",
   "metadata": {},
   "outputs": [],
   "source": [
    "import cv2\n",
    "import os\n",
    "import numpy as np"
   ]
  },
  {
   "cell_type": "markdown",
   "id": "1db127fa",
   "metadata": {},
   "source": [
    "## random img to video"
   ]
  },
  {
   "cell_type": "code",
   "execution_count": 12,
   "id": "0697455e",
   "metadata": {},
   "outputs": [],
   "source": [
    "# parameters\n",
    "weidth, height, frame, fps, sec = [600, 500, 3, 30, 5]\n",
    "\n",
    "# fourcc for video\n",
    "fourcc = cv2.VideoWriter_fourcc(*\"MP42\")\n",
    "\n",
    "video = cv2.VideoWriter(\"random.mp4\", fourcc, float(fps),(weidth,height))\n",
    "\n",
    "for i in range(fps*sec):\n",
    "    img = np.random.randint(0, 255, (height, weidth ,frame), dtype=np.uint8)\n",
    "    video.write(img)\n",
    "\n",
    "video.release()"
   ]
  },
  {
   "cell_type": "markdown",
   "id": "14972703",
   "metadata": {},
   "source": [
    "## image to video"
   ]
  },
  {
   "cell_type": "code",
   "execution_count": 16,
   "id": "052c583e",
   "metadata": {},
   "outputs": [],
   "source": [
    "# Saving Image names\n",
    "path = \"images\"\n",
    "listImg = os.listdir(path)\n",
    "\n",
    "# parameters\n",
    "weidth, height, frame, fps, sec = [600, 500, 3, 30, 5]\n",
    "\n",
    "# fourcc for video\n",
    "fourcc = cv2.VideoWriter_fourcc(*\"MP42\")\n",
    "\n",
    "video = cv2.VideoWriter(\"randomImage.mp4\", fourcc, float(fps),(weidth,height))\n",
    "\n",
    "'''for i in range(fps*sec):\n",
    "    img = np.random.randint(0, 255, (height, weidth ,frame), dtype=np.uint8)\n",
    "    video.write(img)'''\n",
    "for i in range(fps*sec):\n",
    "    ImgName = np.random.choice(listImg)\n",
    "    imagePath = os.path.join(path,ImgName)\n",
    "    \n",
    "    # reading image\n",
    "    img = cv2.imread(imagePath)\n",
    "    #resizing to our frame size\n",
    "    resizeImg = cv2.resize(img, (weidth,height))\n",
    "    video.write(resizeImg)\n",
    "\n",
    "video.release()"
   ]
  },
  {
   "cell_type": "code",
   "execution_count": null,
   "id": "e4f7df9e",
   "metadata": {},
   "outputs": [],
   "source": []
  }
 ],
 "metadata": {
  "kernelspec": {
   "display_name": "Python 3 (ipykernel)",
   "language": "python",
   "name": "python3"
  },
  "language_info": {
   "codemirror_mode": {
    "name": "ipython",
    "version": 3
   },
   "file_extension": ".py",
   "mimetype": "text/x-python",
   "name": "python",
   "nbconvert_exporter": "python",
   "pygments_lexer": "ipython3",
   "version": "3.9.15"
  }
 },
 "nbformat": 4,
 "nbformat_minor": 5
}
