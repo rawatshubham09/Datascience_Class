{
 "cells": [
  {
   "cell_type": "markdown",
   "id": "339afc2c",
   "metadata": {},
   "source": [
    "## Rectangle over image"
   ]
  },
  {
   "cell_type": "code",
   "execution_count": 5,
   "id": "9a80e879",
   "metadata": {},
   "outputs": [],
   "source": [
    " \n",
    "import cv2\n",
    "import numpy as np\n",
    " \n",
    "img_path = \"images\\Hello.6a342c70-7791-11ed-9880-f4267926c211.jpg\"\n",
    " \n",
    "image = cv2.imread(img_path)\n",
    "image = cv2.resize(image, (1280, 720))\n",
    " \n",
    "pt1 = (500, 100)\n",
    "pt2 = (800, 400)\n",
    "color = (0, 255, 0)\n",
    "thickness = 4\n",
    "lineType = cv2.LINE_4\n",
    " \n",
    "#rectangle(img, pt1, pt2, color[, thickness[, lineType[, shift]]])\n",
    "img_rect = cv2.rectangle(image, pt1, pt2, color, thickness, lineType)\n",
    " \n",
    "cv2.imshow(\"Rectangle on Image\", img_rect)\n",
    " \n",
    "cv2.waitKey(0)\n",
    "cv2.destroyAllWindows()"
   ]
  },
  {
   "cell_type": "markdown",
   "id": "75af1753",
   "metadata": {},
   "source": [
    "## filled rectangle"
   ]
  },
  {
   "cell_type": "code",
   "execution_count": 6,
   "id": "85a9d26a",
   "metadata": {},
   "outputs": [],
   "source": [
    " \n",
    "import cv2\n",
    "import numpy as np\n",
    " \n",
    "img_path = \"images\\Hello.6a342c70-7791-11ed-9880-f4267926c211.jpg\"\n",
    " \n",
    "image = cv2.imread(img_path)\n",
    "image = cv2.resize(image, (1280, 720))\n",
    " \n",
    "pt1 = (500, 100)\n",
    "pt2 = (800, 400)\n",
    "color = (0, 255, 0)\n",
    "thickness = -1\n",
    "lineType = cv2.LINE_4\n",
    " \n",
    "#rectangle(img, pt1, pt2, color[, thickness[, lineType[, shift]]])\n",
    "img_rect = cv2.rectangle(image, pt1, pt2, color, thickness, lineType)\n",
    " \n",
    "cv2.imshow(\"Rectangle on Image\", img_rect)\n",
    " \n",
    "cv2.waitKey(0)\n",
    "cv2.destroyAllWindows()"
   ]
  },
  {
   "cell_type": "markdown",
   "id": "302d0386",
   "metadata": {},
   "source": [
    "## Text on rectangle"
   ]
  },
  {
   "cell_type": "code",
   "execution_count": 8,
   "id": "4dce5200",
   "metadata": {},
   "outputs": [],
   "source": [
    "import cv2\n",
    "import numpy as np\n",
    " \n",
    "img_path = \"images\\Hello.6a342c70-7791-11ed-9880-f4267926c211.jpg\"\n",
    " \n",
    "image = cv2.imread(img_path)\n",
    "image = cv2.resize(image, (1280, 720))\n",
    " \n",
    "pt1 = (500, 100)\n",
    "pt2 = (800, 400)\n",
    "color = (255, 0, 0)\n",
    "thickness = 4\n",
    "lineType = cv2.LINE_4\n",
    " \n",
    "#rectangle(img, pt1, pt2, color[, thickness[, lineType[, shift]]])\n",
    "img_rect = cv2.rectangle(image, pt1, pt2, color, thickness, lineType)\n",
    " \n",
    "#text on image\n",
    "text = \"Face - 100%\"\n",
    "org = (500, 80)\n",
    "fontFace = cv2.FONT_HERSHEY_SIMPLEX\n",
    "fontScale = 1\n",
    "color = (0,255,25)\n",
    "lineType = cv2.LINE_4\n",
    " \n",
    "#text, org, fontFace, fontScale, color[, thickness\n",
    " \n",
    "img_text = cv2.putText(img_rect, text, org, fontFace, fontScale, color, lineType)\n",
    " \n",
    " \n",
    "cv2.imshow(\"Rectangle on Image\", img_text)\n",
    " \n",
    "cv2.waitKey(0)\n",
    "cv2.destroyAllWindows()\n"
   ]
  },
  {
   "cell_type": "markdown",
   "id": "223844eb",
   "metadata": {},
   "source": [
    "## Circle on Image"
   ]
  },
  {
   "cell_type": "code",
   "execution_count": 14,
   "id": "c301219e",
   "metadata": {},
   "outputs": [
    {
     "data": {
      "text/plain": [
       "-1"
      ]
     },
     "execution_count": 14,
     "metadata": {},
     "output_type": "execute_result"
    }
   ],
   "source": [
    "img_path = \"images\\Hello.6a342c70-7791-11ed-9880-f4267926c211.jpg\"\n",
    " \n",
    "image = cv2.imread(img_path)\n",
    "image = cv2.resize(image, (1280, 720))\n",
    "\n",
    "#text on image\n",
    "text = \"Face - 100%\"\n",
    "org = (500, 500)\n",
    "fontFace = cv2.FONT_HERSHEY_SIMPLEX\n",
    "fontScale = 1\n",
    "color = (0,255,25)\n",
    "lineType = cv2.LINE_4\n",
    " \n",
    "#text, org, fontFace, fontScale, color[, thickness\n",
    "cir_img = cv2.circle(image,(650,250), 180, color=(0,255,0), lineType=cv2.LINE_4)\n",
    "\n",
    "img_text = cv2.putText(cir_img, text, org, fontFace, fontScale, color, lineType)\n",
    "\n",
    "\n",
    "cv2.imshow(\"frame1\",cir_img)\n",
    "cv2.waitKey(0)\n"
   ]
  },
  {
   "cell_type": "code",
   "execution_count": null,
   "id": "91f49e22",
   "metadata": {},
   "outputs": [],
   "source": []
  },
  {
   "cell_type": "code",
   "execution_count": null,
   "id": "25197571",
   "metadata": {},
   "outputs": [],
   "source": []
  }
 ],
 "metadata": {
  "kernelspec": {
   "display_name": "Python 3 (ipykernel)",
   "language": "python",
   "name": "python3"
  },
  "language_info": {
   "codemirror_mode": {
    "name": "ipython",
    "version": 3
   },
   "file_extension": ".py",
   "mimetype": "text/x-python",
   "name": "python",
   "nbconvert_exporter": "python",
   "pygments_lexer": "ipython3",
   "version": "3.9.15"
  }
 },
 "nbformat": 4,
 "nbformat_minor": 5
}
