{
 "cells": [
  {
   "cell_type": "markdown",
   "id": "6344b951",
   "metadata": {},
   "source": [
    "- create a class for dictnary parsing\n",
    "    1. write a functon to give all keys \n",
    "    2. write a function to give all the values\n",
    "    3. Write a function to throw an exception in case of input is not dict.\n",
    "    4. write a function to take user input and then parse a keey and values out of dictonary\n",
    "    5. write a function to insert new key values pair into dictonary"
   ]
  },
  {
   "cell_type": "code",
   "execution_count": 3,
   "id": "1d1f5dc7",
   "metadata": {},
   "outputs": [],
   "source": [
    "class dict_parser :\n",
    "    def __init__(self, dic):\n",
    "        if type(dic) == dict:\n",
    "            self.dic = dic\n",
    "        else:\n",
    "            print(\"Not an Dictnary!!!\")\n",
    "    def print_keys(self):\n",
    "        print(\"Kes are :-\")\n",
    "        for i in self.dic:\n",
    "            print(i)\n",
    "            \n",
    "    def print_values(self):\n",
    "        print(\"Values are :-\")\n",
    "        for i in self.dic.values():\n",
    "            print(i)\n",
    "    \n",
    "    def parcer(self):\n",
    "        print(\"Key --> Values\")\n",
    "        for i,j in self.dic.items():\n",
    "            print(f\"{i} --> {j}\")\n",
    "\n",
    "    def insert_value(self, key, value):\n",
    "        self.dic[key] = value"
   ]
  },
  {
   "cell_type": "code",
   "execution_count": 4,
   "id": "b548f64c",
   "metadata": {},
   "outputs": [],
   "source": [
    "a = dict_parser({\"a\":1, \"b\":2})\n"
   ]
  },
  {
   "cell_type": "code",
   "execution_count": 5,
   "id": "b09b4ee8",
   "metadata": {},
   "outputs": [
    {
     "name": "stdout",
     "output_type": "stream",
     "text": [
      "Key --> Values\n",
      "a --> 1\n",
      "b --> 2\n"
     ]
    }
   ],
   "source": [
    "a.parcer()"
   ]
  },
  {
   "cell_type": "code",
   "execution_count": 6,
   "id": "2950be58",
   "metadata": {},
   "outputs": [
    {
     "name": "stdout",
     "output_type": "stream",
     "text": [
      "Kes are :-\n",
      "a\n",
      "b\n"
     ]
    }
   ],
   "source": [
    "a.print_keys()"
   ]
  },
  {
   "cell_type": "code",
   "execution_count": null,
   "id": "f6c61f50",
   "metadata": {},
   "outputs": [],
   "source": []
  }
 ],
 "metadata": {
  "kernelspec": {
   "display_name": "Python 3 (ipykernel)",
   "language": "python",
   "name": "python3"
  },
  "language_info": {
   "codemirror_mode": {
    "name": "ipython",
    "version": 3
   },
   "file_extension": ".py",
   "mimetype": "text/x-python",
   "name": "python",
   "nbconvert_exporter": "python",
   "pygments_lexer": "ipython3",
   "version": "3.9.7"
  }
 },
 "nbformat": 4,
 "nbformat_minor": 5
}
