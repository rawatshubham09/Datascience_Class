{
 "cells": [
  {
   "cell_type": "markdown",
   "id": "c622f342",
   "metadata": {},
   "source": [
    "## Importing Hedder Files"
   ]
  },
  {
   "cell_type": "code",
   "execution_count": 1,
   "id": "0adef067",
   "metadata": {},
   "outputs": [],
   "source": [
    "import logging as lg"
   ]
  },
  {
   "cell_type": "code",
   "execution_count": 2,
   "id": "69b3531f",
   "metadata": {},
   "outputs": [],
   "source": [
    "import os"
   ]
  },
  {
   "cell_type": "code",
   "execution_count": 3,
   "id": "22356669",
   "metadata": {},
   "outputs": [],
   "source": [
    "# This will creat a new working directory name Logging\n",
    "os.mkdir(\"logging\")\n",
    "os.chdir(os.getcwd() + \"/\" + \"logging\")     # This will cahnge current working directory"
   ]
  },
  {
   "cell_type": "code",
   "execution_count": 4,
   "id": "60200a78",
   "metadata": {},
   "outputs": [
    {
     "data": {
      "text/plain": [
       "'E:\\\\Datascience class\\\\Python\\\\classwork\\\\logging'"
      ]
     },
     "execution_count": 4,
     "metadata": {},
     "output_type": "execute_result"
    }
   ],
   "source": [
    "pwd()"
   ]
  },
  {
   "cell_type": "code",
   "execution_count": 6,
   "id": "37a70da5",
   "metadata": {},
   "outputs": [],
   "source": [
    "lg.basicConfig(filename = 'test.log', level = lg.INFO, format = '%(asctime)s %(message)s')"
   ]
  },
  {
   "cell_type": "code",
   "execution_count": 7,
   "id": "68709a92",
   "metadata": {},
   "outputs": [],
   "source": [
    "lg.info(\"I am Going to Start My Program\")"
   ]
  },
  {
   "cell_type": "code",
   "execution_count": 8,
   "id": "49c9d02a",
   "metadata": {},
   "outputs": [],
   "source": [
    "lg.warning(\"This is a first warning to my program\")"
   ]
  },
  {
   "cell_type": "code",
   "execution_count": 9,
   "id": "007c8b08",
   "metadata": {},
   "outputs": [],
   "source": [
    "lg.error(\"This is a error message\")"
   ]
  },
  {
   "cell_type": "code",
   "execution_count": 12,
   "id": "b0f5751f",
   "metadata": {},
   "outputs": [],
   "source": [
    "#Creating a function that will stor exception in log file\n",
    "\n",
    "def div(a,b):\n",
    "    try:\n",
    "        return a/b\n",
    "    except Exception as e:\n",
    "        print(\"Check logs for more info\")\n",
    "        lg.error(\"Error has Occure\")\n",
    "        lg.exception(str(e))"
   ]
  },
  {
   "cell_type": "code",
   "execution_count": 14,
   "id": "9bcc875e",
   "metadata": {},
   "outputs": [
    {
     "name": "stdout",
     "output_type": "stream",
     "text": [
      "Check logs for more info\n"
     ]
    }
   ],
   "source": [
    "div(4,0)"
   ]
  },
  {
   "cell_type": "code",
   "execution_count": 16,
   "id": "a2938329",
   "metadata": {},
   "outputs": [],
   "source": [
    "lg.shutdown()"
   ]
  },
  {
   "cell_type": "code",
   "execution_count": 6,
   "id": "ac1a8ef0",
   "metadata": {},
   "outputs": [],
   "source": [
    "import logging\n",
    "import os\n",
    "os.chdir(os.getcwd() + \"/\" + \"logging\") \n",
    "\n",
    "logging.basicConfig(filename = 'app.log', level = logging.INFO, format = '%(asctime)s %(message)s')\n",
    "\n",
    "def log_sum(*args):\n",
    "    logging.info(\"Inside log_sum Function : \")\n",
    "    logging.info(\"input info : \"+ str(args))\n",
    "    return sum(args)"
   ]
  },
  {
   "cell_type": "code",
   "execution_count": 7,
   "id": "1d81ffb9",
   "metadata": {},
   "outputs": [
    {
     "data": {
      "text/plain": [
       "65"
      ]
     },
     "execution_count": 7,
     "metadata": {},
     "output_type": "execute_result"
    }
   ],
   "source": [
    "log_sum(5,3,2,3,4,5,6,7,8,7,5,10)"
   ]
  },
  {
   "cell_type": "code",
   "execution_count": 9,
   "id": "5d957412",
   "metadata": {},
   "outputs": [
    {
     "ename": "FileNotFoundError",
     "evalue": "[Errno 2] No such file or directory: '/logging/app.log'",
     "output_type": "error",
     "traceback": [
      "\u001b[1;31m---------------------------------------------------------------------------\u001b[0m",
      "\u001b[1;31mFileNotFoundError\u001b[0m                         Traceback (most recent call last)",
      "\u001b[1;32m~\\AppData\\Local\\Temp/ipykernel_15988/3446171541.py\u001b[0m in \u001b[0;36m<module>\u001b[1;34m\u001b[0m\n\u001b[1;32m----> 1\u001b[1;33m \u001b[0mf\u001b[0m \u001b[1;33m=\u001b[0m \u001b[0mopen\u001b[0m\u001b[1;33m(\u001b[0m\u001b[1;34m\"/logging/app.log\"\u001b[0m\u001b[1;33m,\u001b[0m\u001b[1;34m\"r\"\u001b[0m\u001b[1;33m)\u001b[0m\u001b[1;33m\u001b[0m\u001b[1;33m\u001b[0m\u001b[0m\n\u001b[0m\u001b[0;32m      2\u001b[0m \u001b[0mprint\u001b[0m\u001b[1;33m(\u001b[0m\u001b[0mf\u001b[0m\u001b[1;33m.\u001b[0m\u001b[0mread\u001b[0m\u001b[1;33m(\u001b[0m\u001b[1;33m)\u001b[0m\u001b[1;33m)\u001b[0m\u001b[1;33m\u001b[0m\u001b[1;33m\u001b[0m\u001b[0m\n",
      "\u001b[1;31mFileNotFoundError\u001b[0m: [Errno 2] No such file or directory: '/logging/app.log'"
     ]
    }
   ],
   "source": [
    "f = open(\"/logging/app.log\",\"r\")\n",
    "print(f.read())"
   ]
  },
  {
   "cell_type": "code",
   "execution_count": null,
   "id": "13527651",
   "metadata": {},
   "outputs": [],
   "source": []
  }
 ],
 "metadata": {
  "kernelspec": {
   "display_name": "Python 3 (ipykernel)",
   "language": "python",
   "name": "python3"
  },
  "language_info": {
   "codemirror_mode": {
    "name": "ipython",
    "version": 3
   },
   "file_extension": ".py",
   "mimetype": "text/x-python",
   "name": "python",
   "nbconvert_exporter": "python",
   "pygments_lexer": "ipython3",
   "version": "3.9.7"
  }
 },
 "nbformat": 4,
 "nbformat_minor": 5
}
