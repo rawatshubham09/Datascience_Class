{
 "cells": [
  {
   "cell_type": "code",
   "execution_count": 1,
   "id": "a6f1e95e",
   "metadata": {},
   "outputs": [],
   "source": [
    "import numpy as np\n",
    "import pandas as pd"
   ]
  },
  {
   "cell_type": "code",
   "execution_count": 2,
   "id": "f77baf56",
   "metadata": {},
   "outputs": [],
   "source": [
    "dataset = pd.read_excel(\"Dataset/Flight Prediction/Data_Train.xlsx\")"
   ]
  },
  {
   "cell_type": "code",
   "execution_count": 4,
   "id": "d2a3c496",
   "metadata": {},
   "outputs": [
    {
     "data": {
      "text/html": [
       "<div>\n",
       "<style scoped>\n",
       "    .dataframe tbody tr th:only-of-type {\n",
       "        vertical-align: middle;\n",
       "    }\n",
       "\n",
       "    .dataframe tbody tr th {\n",
       "        vertical-align: top;\n",
       "    }\n",
       "\n",
       "    .dataframe thead th {\n",
       "        text-align: right;\n",
       "    }\n",
       "</style>\n",
       "<table border=\"1\" class=\"dataframe\">\n",
       "  <thead>\n",
       "    <tr style=\"text-align: right;\">\n",
       "      <th></th>\n",
       "      <th>Airline</th>\n",
       "      <th>Date_of_Journey</th>\n",
       "      <th>Source</th>\n",
       "      <th>Destination</th>\n",
       "      <th>Route</th>\n",
       "      <th>Dep_Time</th>\n",
       "      <th>Arrival_Time</th>\n",
       "      <th>Duration</th>\n",
       "      <th>Total_Stops</th>\n",
       "      <th>Additional_Info</th>\n",
       "      <th>Price</th>\n",
       "    </tr>\n",
       "  </thead>\n",
       "  <tbody>\n",
       "    <tr>\n",
       "      <th>8281</th>\n",
       "      <td>Air India</td>\n",
       "      <td>27/03/2019</td>\n",
       "      <td>Delhi</td>\n",
       "      <td>Cochin</td>\n",
       "      <td>DEL → BOM → COK</td>\n",
       "      <td>21:00</td>\n",
       "      <td>19:15 28 Mar</td>\n",
       "      <td>22h 15m</td>\n",
       "      <td>1 stop</td>\n",
       "      <td>No info</td>\n",
       "      <td>6692</td>\n",
       "    </tr>\n",
       "    <tr>\n",
       "      <th>6310</th>\n",
       "      <td>IndiGo</td>\n",
       "      <td>9/06/2019</td>\n",
       "      <td>Delhi</td>\n",
       "      <td>Cochin</td>\n",
       "      <td>DEL → BOM → COK</td>\n",
       "      <td>17:10</td>\n",
       "      <td>01:30 10 Jun</td>\n",
       "      <td>8h 20m</td>\n",
       "      <td>1 stop</td>\n",
       "      <td>No info</td>\n",
       "      <td>6206</td>\n",
       "    </tr>\n",
       "    <tr>\n",
       "      <th>3385</th>\n",
       "      <td>IndiGo</td>\n",
       "      <td>27/03/2019</td>\n",
       "      <td>Delhi</td>\n",
       "      <td>Cochin</td>\n",
       "      <td>DEL → AMD → COK</td>\n",
       "      <td>07:45</td>\n",
       "      <td>13:40</td>\n",
       "      <td>5h 55m</td>\n",
       "      <td>1 stop</td>\n",
       "      <td>No info</td>\n",
       "      <td>4832</td>\n",
       "    </tr>\n",
       "    <tr>\n",
       "      <th>2911</th>\n",
       "      <td>Air India</td>\n",
       "      <td>9/06/2019</td>\n",
       "      <td>Kolkata</td>\n",
       "      <td>Banglore</td>\n",
       "      <td>CCU → DEL → AMD → BLR</td>\n",
       "      <td>10:00</td>\n",
       "      <td>05:25 10 Jun</td>\n",
       "      <td>19h 25m</td>\n",
       "      <td>2 stops</td>\n",
       "      <td>No info</td>\n",
       "      <td>12744</td>\n",
       "    </tr>\n",
       "    <tr>\n",
       "      <th>6847</th>\n",
       "      <td>Jet Airways</td>\n",
       "      <td>18/05/2019</td>\n",
       "      <td>Mumbai</td>\n",
       "      <td>Hyderabad</td>\n",
       "      <td>BOM → HYD</td>\n",
       "      <td>10:20</td>\n",
       "      <td>11:50</td>\n",
       "      <td>1h 30m</td>\n",
       "      <td>non-stop</td>\n",
       "      <td>In-flight meal not included</td>\n",
       "      <td>4050</td>\n",
       "    </tr>\n",
       "  </tbody>\n",
       "</table>\n",
       "</div>"
      ],
      "text/plain": [
       "          Airline Date_of_Journey   Source Destination                  Route  \\\n",
       "8281    Air India      27/03/2019    Delhi      Cochin        DEL → BOM → COK   \n",
       "6310       IndiGo       9/06/2019    Delhi      Cochin        DEL → BOM → COK   \n",
       "3385       IndiGo      27/03/2019    Delhi      Cochin        DEL → AMD → COK   \n",
       "2911    Air India       9/06/2019  Kolkata    Banglore  CCU → DEL → AMD → BLR   \n",
       "6847  Jet Airways      18/05/2019   Mumbai   Hyderabad              BOM → HYD   \n",
       "\n",
       "     Dep_Time  Arrival_Time Duration Total_Stops              Additional_Info  \\\n",
       "8281    21:00  19:15 28 Mar  22h 15m      1 stop                      No info   \n",
       "6310    17:10  01:30 10 Jun   8h 20m      1 stop                      No info   \n",
       "3385    07:45         13:40   5h 55m      1 stop                      No info   \n",
       "2911    10:00  05:25 10 Jun  19h 25m     2 stops                      No info   \n",
       "6847    10:20         11:50   1h 30m    non-stop  In-flight meal not included   \n",
       "\n",
       "      Price  \n",
       "8281   6692  \n",
       "6310   6206  \n",
       "3385   4832  \n",
       "2911  12744  \n",
       "6847   4050  "
      ]
     },
     "execution_count": 4,
     "metadata": {},
     "output_type": "execute_result"
    }
   ],
   "source": [
    "dataset.sample(5)"
   ]
  },
  {
   "cell_type": "code",
   "execution_count": 12,
   "id": "f53831db",
   "metadata": {},
   "outputs": [],
   "source": [
    "dataset[\"Date\"] = dataset[\"Date_of_Journey\"].str.split(\"/\").str[0].astype(int)\n",
    "dataset[\"Month\"]= dataset[\"Date_of_Journey\"].str.split(\"/\").str[1].astype(int)\n",
    "dataset[\"Year\"] = dataset[\"Date_of_Journey\"].str.split(\"/\").str[2].astype(int)"
   ]
  },
  {
   "cell_type": "code",
   "execution_count": 14,
   "id": "fedf85eb",
   "metadata": {
    "scrolled": true
   },
   "outputs": [
    {
     "name": "stdout",
     "output_type": "stream",
     "text": [
      "<class 'pandas.core.frame.DataFrame'>\n",
      "RangeIndex: 10683 entries, 0 to 10682\n",
      "Data columns (total 14 columns):\n",
      " #   Column           Non-Null Count  Dtype \n",
      "---  ------           --------------  ----- \n",
      " 0   Airline          10683 non-null  object\n",
      " 1   Date_of_Journey  10683 non-null  object\n",
      " 2   Source           10683 non-null  object\n",
      " 3   Destination      10683 non-null  object\n",
      " 4   Route            10682 non-null  object\n",
      " 5   Dep_Time         10683 non-null  object\n",
      " 6   Arrival_Time     10683 non-null  object\n",
      " 7   Duration         10683 non-null  object\n",
      " 8   Total_Stops      10682 non-null  object\n",
      " 9   Additional_Info  10683 non-null  object\n",
      " 10  Price            10683 non-null  int64 \n",
      " 11  Date             10683 non-null  int32 \n",
      " 12  Month            10683 non-null  int32 \n",
      " 13  Year             10683 non-null  int32 \n",
      "dtypes: int32(3), int64(1), object(10)\n",
      "memory usage: 1.0+ MB\n"
     ]
    }
   ],
   "source": [
    "dataset.info()"
   ]
  },
  {
   "cell_type": "code",
   "execution_count": null,
   "id": "7451cc25",
   "metadata": {},
   "outputs": [],
   "source": [
    "22h 15m"
   ]
  },
  {
   "cell_type": "code",
   "execution_count": 35,
   "id": "2b59a39f",
   "metadata": {},
   "outputs": [],
   "source": [
    "def to_min(data):\n",
    "    try :\n",
    "        new_data = data.split(\" \")\n",
    "        hr = mi = 0\n",
    "        if len(new_data)==1:\n",
    "            ch = new_data[0]\n",
    "            if ch[-1]=='h':\n",
    "                hr = int(ch[:-1])\n",
    "            else:\n",
    "                mi = int(ch[:-1])\n",
    "        else:\n",
    "            hr = int(new_data[0][:-1])\n",
    "            mi = int(new_data[1][:-1])\n",
    "        return hr*60 + mi\n",
    "    except:\n",
    "        return -1"
   ]
  },
  {
   "cell_type": "code",
   "execution_count": 37,
   "id": "630654ac",
   "metadata": {},
   "outputs": [],
   "source": [
    "dataset[\"Duration_min\"] = dataset[\"Duration\"].apply(to_min)"
   ]
  },
  {
   "cell_type": "code",
   "execution_count": 38,
   "id": "c301e7d2",
   "metadata": {},
   "outputs": [
    {
     "data": {
      "text/html": [
       "<div>\n",
       "<style scoped>\n",
       "    .dataframe tbody tr th:only-of-type {\n",
       "        vertical-align: middle;\n",
       "    }\n",
       "\n",
       "    .dataframe tbody tr th {\n",
       "        vertical-align: top;\n",
       "    }\n",
       "\n",
       "    .dataframe thead th {\n",
       "        text-align: right;\n",
       "    }\n",
       "</style>\n",
       "<table border=\"1\" class=\"dataframe\">\n",
       "  <thead>\n",
       "    <tr style=\"text-align: right;\">\n",
       "      <th></th>\n",
       "      <th>Airline</th>\n",
       "      <th>Date_of_Journey</th>\n",
       "      <th>Source</th>\n",
       "      <th>Destination</th>\n",
       "      <th>Route</th>\n",
       "      <th>Dep_Time</th>\n",
       "      <th>Arrival_Time</th>\n",
       "      <th>Duration</th>\n",
       "      <th>Total_Stops</th>\n",
       "      <th>Additional_Info</th>\n",
       "      <th>Price</th>\n",
       "      <th>Date</th>\n",
       "      <th>Month</th>\n",
       "      <th>Year</th>\n",
       "      <th>Duration_min</th>\n",
       "    </tr>\n",
       "  </thead>\n",
       "  <tbody>\n",
       "    <tr>\n",
       "      <th>3112</th>\n",
       "      <td>Jet Airways</td>\n",
       "      <td>21/03/2019</td>\n",
       "      <td>Delhi</td>\n",
       "      <td>Cochin</td>\n",
       "      <td>DEL → BDQ → BOM → COK</td>\n",
       "      <td>18:25</td>\n",
       "      <td>04:25 22 Mar</td>\n",
       "      <td>10h</td>\n",
       "      <td>2 stops</td>\n",
       "      <td>In-flight meal not included</td>\n",
       "      <td>7791</td>\n",
       "      <td>21</td>\n",
       "      <td>3</td>\n",
       "      <td>2019</td>\n",
       "      <td>600</td>\n",
       "    </tr>\n",
       "    <tr>\n",
       "      <th>1053</th>\n",
       "      <td>IndiGo</td>\n",
       "      <td>27/06/2019</td>\n",
       "      <td>Delhi</td>\n",
       "      <td>Cochin</td>\n",
       "      <td>DEL → HYD → COK</td>\n",
       "      <td>07:35</td>\n",
       "      <td>12:10</td>\n",
       "      <td>4h 35m</td>\n",
       "      <td>1 stop</td>\n",
       "      <td>No info</td>\n",
       "      <td>5054</td>\n",
       "      <td>27</td>\n",
       "      <td>6</td>\n",
       "      <td>2019</td>\n",
       "      <td>275</td>\n",
       "    </tr>\n",
       "    <tr>\n",
       "      <th>447</th>\n",
       "      <td>SpiceJet</td>\n",
       "      <td>1/06/2019</td>\n",
       "      <td>Chennai</td>\n",
       "      <td>Kolkata</td>\n",
       "      <td>MAA → CCU</td>\n",
       "      <td>09:45</td>\n",
       "      <td>12:00</td>\n",
       "      <td>2h 15m</td>\n",
       "      <td>non-stop</td>\n",
       "      <td>No check-in baggage included</td>\n",
       "      <td>3543</td>\n",
       "      <td>1</td>\n",
       "      <td>6</td>\n",
       "      <td>2019</td>\n",
       "      <td>135</td>\n",
       "    </tr>\n",
       "    <tr>\n",
       "      <th>1832</th>\n",
       "      <td>Jet Airways</td>\n",
       "      <td>21/03/2019</td>\n",
       "      <td>Banglore</td>\n",
       "      <td>New Delhi</td>\n",
       "      <td>BLR → BOM → DEL</td>\n",
       "      <td>08:55</td>\n",
       "      <td>23:00</td>\n",
       "      <td>14h 5m</td>\n",
       "      <td>1 stop</td>\n",
       "      <td>In-flight meal not included</td>\n",
       "      <td>6992</td>\n",
       "      <td>21</td>\n",
       "      <td>3</td>\n",
       "      <td>2019</td>\n",
       "      <td>845</td>\n",
       "    </tr>\n",
       "  </tbody>\n",
       "</table>\n",
       "</div>"
      ],
      "text/plain": [
       "          Airline Date_of_Journey    Source Destination  \\\n",
       "3112  Jet Airways      21/03/2019     Delhi      Cochin   \n",
       "1053       IndiGo      27/06/2019     Delhi      Cochin   \n",
       "447      SpiceJet       1/06/2019   Chennai     Kolkata   \n",
       "1832  Jet Airways      21/03/2019  Banglore   New Delhi   \n",
       "\n",
       "                      Route Dep_Time  Arrival_Time Duration Total_Stops  \\\n",
       "3112  DEL → BDQ → BOM → COK    18:25  04:25 22 Mar      10h     2 stops   \n",
       "1053        DEL → HYD → COK    07:35         12:10   4h 35m      1 stop   \n",
       "447               MAA → CCU    09:45         12:00   2h 15m    non-stop   \n",
       "1832        BLR → BOM → DEL    08:55         23:00   14h 5m      1 stop   \n",
       "\n",
       "                   Additional_Info  Price  Date  Month  Year  Duration_min  \n",
       "3112   In-flight meal not included   7791    21      3  2019           600  \n",
       "1053                       No info   5054    27      6  2019           275  \n",
       "447   No check-in baggage included   3543     1      6  2019           135  \n",
       "1832   In-flight meal not included   6992    21      3  2019           845  "
      ]
     },
     "execution_count": 38,
     "metadata": {},
     "output_type": "execute_result"
    }
   ],
   "source": [
    "dataset.sample(4)"
   ]
  },
  {
   "cell_type": "code",
   "execution_count": 73,
   "id": "c699a879",
   "metadata": {},
   "outputs": [
    {
     "data": {
      "text/plain": [
       "array(['non-stop', '2 stops', '1 stop', '3 stops', nan, '4 stops'],\n",
       "      dtype=object)"
      ]
     },
     "execution_count": 73,
     "metadata": {},
     "output_type": "execute_result"
    }
   ],
   "source": [
    "dataset.Total_Stops.unique()"
   ]
  },
  {
   "cell_type": "code",
   "execution_count": 75,
   "id": "32432c61",
   "metadata": {},
   "outputs": [],
   "source": [
    "dataset[\"Total_Stops\"] = dataset[\"Total_Stops\"].map({'non-stop':1, '2 stops':2, '1 stop':1, '3 stops':3, 'nan':1, '4 stops':4})"
   ]
  },
  {
   "cell_type": "code",
   "execution_count": 77,
   "id": "87c9ca48",
   "metadata": {},
   "outputs": [
    {
     "data": {
      "text/html": [
       "<div>\n",
       "<style scoped>\n",
       "    .dataframe tbody tr th:only-of-type {\n",
       "        vertical-align: middle;\n",
       "    }\n",
       "\n",
       "    .dataframe tbody tr th {\n",
       "        vertical-align: top;\n",
       "    }\n",
       "\n",
       "    .dataframe thead th {\n",
       "        text-align: right;\n",
       "    }\n",
       "</style>\n",
       "<table border=\"1\" class=\"dataframe\">\n",
       "  <thead>\n",
       "    <tr style=\"text-align: right;\">\n",
       "      <th></th>\n",
       "      <th>Airline</th>\n",
       "      <th>Date_of_Journey</th>\n",
       "      <th>Source</th>\n",
       "      <th>Destination</th>\n",
       "      <th>Route</th>\n",
       "      <th>Dep_Time</th>\n",
       "      <th>Arrival_Time</th>\n",
       "      <th>Duration</th>\n",
       "      <th>Total_Stops</th>\n",
       "      <th>Additional_Info</th>\n",
       "      <th>Price</th>\n",
       "      <th>Date</th>\n",
       "      <th>Month</th>\n",
       "      <th>Year</th>\n",
       "      <th>Duration_min</th>\n",
       "    </tr>\n",
       "  </thead>\n",
       "  <tbody>\n",
       "    <tr>\n",
       "      <th>266</th>\n",
       "      <td>IndiGo</td>\n",
       "      <td>24/06/2019</td>\n",
       "      <td>Delhi</td>\n",
       "      <td>Cochin</td>\n",
       "      <td>DEL → BOM → COK</td>\n",
       "      <td>11:25</td>\n",
       "      <td>01:30 25 Jun</td>\n",
       "      <td>14h 5m</td>\n",
       "      <td>1.0</td>\n",
       "      <td>No info</td>\n",
       "      <td>5684</td>\n",
       "      <td>24</td>\n",
       "      <td>6</td>\n",
       "      <td>2019</td>\n",
       "      <td>845</td>\n",
       "    </tr>\n",
       "    <tr>\n",
       "      <th>9878</th>\n",
       "      <td>Multiple carriers</td>\n",
       "      <td>27/06/2019</td>\n",
       "      <td>Delhi</td>\n",
       "      <td>Cochin</td>\n",
       "      <td>DEL → BOM → COK</td>\n",
       "      <td>11:40</td>\n",
       "      <td>01:30 28 Jun</td>\n",
       "      <td>13h 50m</td>\n",
       "      <td>1.0</td>\n",
       "      <td>In-flight meal not included</td>\n",
       "      <td>5797</td>\n",
       "      <td>27</td>\n",
       "      <td>6</td>\n",
       "      <td>2019</td>\n",
       "      <td>830</td>\n",
       "    </tr>\n",
       "    <tr>\n",
       "      <th>5096</th>\n",
       "      <td>Jet Airways</td>\n",
       "      <td>15/06/2019</td>\n",
       "      <td>Delhi</td>\n",
       "      <td>Cochin</td>\n",
       "      <td>DEL → BOM → COK</td>\n",
       "      <td>17:30</td>\n",
       "      <td>19:00 16 Jun</td>\n",
       "      <td>25h 30m</td>\n",
       "      <td>1.0</td>\n",
       "      <td>In-flight meal not included</td>\n",
       "      <td>10262</td>\n",
       "      <td>15</td>\n",
       "      <td>6</td>\n",
       "      <td>2019</td>\n",
       "      <td>1530</td>\n",
       "    </tr>\n",
       "    <tr>\n",
       "      <th>8141</th>\n",
       "      <td>Air India</td>\n",
       "      <td>6/03/2019</td>\n",
       "      <td>Delhi</td>\n",
       "      <td>Cochin</td>\n",
       "      <td>DEL → MAA → COK</td>\n",
       "      <td>12:30</td>\n",
       "      <td>09:25 07 Mar</td>\n",
       "      <td>20h 55m</td>\n",
       "      <td>1.0</td>\n",
       "      <td>No info</td>\n",
       "      <td>13832</td>\n",
       "      <td>6</td>\n",
       "      <td>3</td>\n",
       "      <td>2019</td>\n",
       "      <td>1255</td>\n",
       "    </tr>\n",
       "    <tr>\n",
       "      <th>2244</th>\n",
       "      <td>Vistara</td>\n",
       "      <td>9/04/2019</td>\n",
       "      <td>Delhi</td>\n",
       "      <td>Cochin</td>\n",
       "      <td>DEL → COK</td>\n",
       "      <td>06:00</td>\n",
       "      <td>09:10</td>\n",
       "      <td>3h 10m</td>\n",
       "      <td>1.0</td>\n",
       "      <td>No info</td>\n",
       "      <td>5586</td>\n",
       "      <td>9</td>\n",
       "      <td>4</td>\n",
       "      <td>2019</td>\n",
       "      <td>190</td>\n",
       "    </tr>\n",
       "  </tbody>\n",
       "</table>\n",
       "</div>"
      ],
      "text/plain": [
       "                Airline Date_of_Journey Source Destination            Route  \\\n",
       "266              IndiGo      24/06/2019  Delhi      Cochin  DEL → BOM → COK   \n",
       "9878  Multiple carriers      27/06/2019  Delhi      Cochin  DEL → BOM → COK   \n",
       "5096        Jet Airways      15/06/2019  Delhi      Cochin  DEL → BOM → COK   \n",
       "8141          Air India       6/03/2019  Delhi      Cochin  DEL → MAA → COK   \n",
       "2244            Vistara       9/04/2019  Delhi      Cochin        DEL → COK   \n",
       "\n",
       "     Dep_Time  Arrival_Time Duration  Total_Stops  \\\n",
       "266     11:25  01:30 25 Jun   14h 5m          1.0   \n",
       "9878    11:40  01:30 28 Jun  13h 50m          1.0   \n",
       "5096    17:30  19:00 16 Jun  25h 30m          1.0   \n",
       "8141    12:30  09:25 07 Mar  20h 55m          1.0   \n",
       "2244    06:00         09:10   3h 10m          1.0   \n",
       "\n",
       "                  Additional_Info  Price  Date  Month  Year  Duration_min  \n",
       "266                       No info   5684    24      6  2019           845  \n",
       "9878  In-flight meal not included   5797    27      6  2019           830  \n",
       "5096  In-flight meal not included  10262    15      6  2019          1530  \n",
       "8141                      No info  13832     6      3  2019          1255  \n",
       "2244                      No info   5586     9      4  2019           190  "
      ]
     },
     "execution_count": 77,
     "metadata": {},
     "output_type": "execute_result"
    }
   ],
   "source": [
    "dataset.sample(5)"
   ]
  },
  {
   "cell_type": "code",
   "execution_count": 86,
   "id": "bafd70e9",
   "metadata": {
    "scrolled": true
   },
   "outputs": [
    {
     "name": "stdout",
     "output_type": "stream",
     "text": [
      "<class 'pandas.core.frame.DataFrame'>\n",
      "Int64Index: 10682 entries, 0 to 10682\n",
      "Data columns (total 15 columns):\n",
      " #   Column           Non-Null Count  Dtype  \n",
      "---  ------           --------------  -----  \n",
      " 0   Airline          10682 non-null  object \n",
      " 1   Date_of_Journey  10682 non-null  object \n",
      " 2   Source           10682 non-null  object \n",
      " 3   Destination      10682 non-null  object \n",
      " 4   Route            10682 non-null  object \n",
      " 5   Dep_Time         10682 non-null  object \n",
      " 6   Arrival_Time     10682 non-null  object \n",
      " 7   Duration         10682 non-null  object \n",
      " 8   Total_Stops      10682 non-null  float64\n",
      " 9   Additional_Info  10682 non-null  object \n",
      " 10  Price            10682 non-null  int64  \n",
      " 11  Date             10682 non-null  int32  \n",
      " 12  Month            10682 non-null  int32  \n",
      " 13  Year             10682 non-null  int32  \n",
      " 14  Duration_min     10682 non-null  int64  \n",
      "dtypes: float64(1), int32(3), int64(2), object(9)\n",
      "memory usage: 1.2+ MB\n"
     ]
    }
   ],
   "source": [
    "dataset.info()"
   ]
  },
  {
   "cell_type": "code",
   "execution_count": 93,
   "id": "af6c98f7",
   "metadata": {},
   "outputs": [
    {
     "name": "stdout",
     "output_type": "stream",
     "text": [
      "<class 'pandas.core.frame.DataFrame'>\n",
      "Int64Index: 10682 entries, 0 to 10682\n",
      "Data columns (total 17 columns):\n",
      " #   Column           Non-Null Count  Dtype  \n",
      "---  ------           --------------  -----  \n",
      " 0   Airline          10682 non-null  object \n",
      " 1   Date_of_Journey  10682 non-null  object \n",
      " 2   Source           10682 non-null  object \n",
      " 3   Destination      10682 non-null  object \n",
      " 4   Route            10682 non-null  object \n",
      " 5   Dep_Time         10682 non-null  object \n",
      " 6   Arrival_Time     10682 non-null  object \n",
      " 7   Duration         10682 non-null  object \n",
      " 8   Total_Stops      10682 non-null  float64\n",
      " 9   Additional_Info  10682 non-null  object \n",
      " 10  Price            10682 non-null  int64  \n",
      " 11  Date             10682 non-null  int32  \n",
      " 12  Month            10682 non-null  int32  \n",
      " 13  Year             10682 non-null  int32  \n",
      " 14  Duration_min     10682 non-null  int64  \n",
      " 15  Dep_hr           10682 non-null  object \n",
      " 16  Dep_min          10682 non-null  object \n",
      "dtypes: float64(1), int32(3), int64(2), object(11)\n",
      "memory usage: 1.6+ MB\n"
     ]
    }
   ],
   "source": [
    "dataset[\"Dep_hr\"] = dataset[\"Dep_Time\"].str.split(\":\").str[0]\n",
    "dataset[\"Dep_min\"] = dataset[\"Dep_Time\"].str.split(\":\").str[1]\n",
    "dataset.info()"
   ]
  },
  {
   "cell_type": "code",
   "execution_count": 94,
   "id": "b64ecf80",
   "metadata": {
    "scrolled": true
   },
   "outputs": [
    {
     "name": "stdout",
     "output_type": "stream",
     "text": [
      "<class 'pandas.core.frame.DataFrame'>\n",
      "Int64Index: 10682 entries, 0 to 10682\n",
      "Data columns (total 19 columns):\n",
      " #   Column           Non-Null Count  Dtype  \n",
      "---  ------           --------------  -----  \n",
      " 0   Airline          10682 non-null  object \n",
      " 1   Date_of_Journey  10682 non-null  object \n",
      " 2   Source           10682 non-null  object \n",
      " 3   Destination      10682 non-null  object \n",
      " 4   Route            10682 non-null  object \n",
      " 5   Dep_Time         10682 non-null  object \n",
      " 6   Arrival_Time     10682 non-null  object \n",
      " 7   Duration         10682 non-null  object \n",
      " 8   Total_Stops      10682 non-null  float64\n",
      " 9   Additional_Info  10682 non-null  object \n",
      " 10  Price            10682 non-null  int64  \n",
      " 11  Date             10682 non-null  int32  \n",
      " 12  Month            10682 non-null  int32  \n",
      " 13  Year             10682 non-null  int32  \n",
      " 14  Duration_min     10682 non-null  int64  \n",
      " 15  Dep_hr           10682 non-null  object \n",
      " 16  Dep_min          10682 non-null  object \n",
      " 17  Arrival_hr       10682 non-null  object \n",
      " 18  Arrival_min      10682 non-null  object \n",
      "dtypes: float64(1), int32(3), int64(2), object(13)\n",
      "memory usage: 1.8+ MB\n"
     ]
    }
   ],
   "source": [
    "dataset[\"Arrival_Time\"] = dataset[\"Arrival_Time\"].str.split(\" \").str[0]\n",
    "dataset[\"Arrival_hr\"] = dataset[\"Arrival_Time\"].str.split(\":\").str[0]\n",
    "dataset[\"Arrival_min\"] = dataset[\"Arrival_Time\"].str.split(\":\").str[1]\n",
    "dataset.info()"
   ]
  },
  {
   "cell_type": "code",
   "execution_count": 95,
   "id": "10f6bc98",
   "metadata": {},
   "outputs": [],
   "source": [
    "dataset[\"Arrival_hr\"] = dataset[\"Arrival_hr\"].astype(int)\n",
    "dataset[\"Arrival_min\"] = dataset[\"Arrival_min\"].astype(int)\n",
    "dataset[\"Dep_hr\"] = dataset[\"Dep_hr\"].astype(int)\n",
    "dataset[\"Dep_min\"] = dataset[\"Dep_min\"].astype(int)"
   ]
  },
  {
   "cell_type": "code",
   "execution_count": 97,
   "id": "5f2e61a7",
   "metadata": {
    "scrolled": true
   },
   "outputs": [
    {
     "data": {
      "text/plain": [
       "Index(['Airline', 'Date_of_Journey', 'Source', 'Destination', 'Route',\n",
       "       'Dep_Time', 'Arrival_Time', 'Duration', 'Total_Stops',\n",
       "       'Additional_Info', 'Price', 'Date', 'Month', 'Year', 'Duration_min',\n",
       "       'Dep_hr', 'Dep_min', 'Arrival_hr', 'Arrival_min'],\n",
       "      dtype='object')"
      ]
     },
     "execution_count": 97,
     "metadata": {},
     "output_type": "execute_result"
    }
   ],
   "source": [
    "dataset.columns"
   ]
  },
  {
   "cell_type": "code",
   "execution_count": 98,
   "id": "5d2e53b3",
   "metadata": {
    "scrolled": false
   },
   "outputs": [
    {
     "name": "stdout",
     "output_type": "stream",
     "text": [
      "<class 'pandas.core.frame.DataFrame'>\n",
      "Int64Index: 10682 entries, 0 to 10682\n",
      "Data columns (total 14 columns):\n",
      " #   Column           Non-Null Count  Dtype  \n",
      "---  ------           --------------  -----  \n",
      " 0   Airline          10682 non-null  object \n",
      " 1   Source           10682 non-null  object \n",
      " 2   Destination      10682 non-null  object \n",
      " 3   Total_Stops      10682 non-null  float64\n",
      " 4   Additional_Info  10682 non-null  object \n",
      " 5   Price            10682 non-null  int64  \n",
      " 6   Date             10682 non-null  int32  \n",
      " 7   Month            10682 non-null  int32  \n",
      " 8   Year             10682 non-null  int32  \n",
      " 9   Duration_min     10682 non-null  int64  \n",
      " 10  Dep_hr           10682 non-null  int32  \n",
      " 11  Dep_min          10682 non-null  int32  \n",
      " 12  Arrival_hr       10682 non-null  int32  \n",
      " 13  Arrival_min      10682 non-null  int32  \n",
      "dtypes: float64(1), int32(7), int64(2), object(4)\n",
      "memory usage: 1.2+ MB\n"
     ]
    }
   ],
   "source": [
    "# Droping Un Wanted info\n",
    "dataset.drop(['Route','Dep_Time', 'Arrival_Time', 'Duration','Date_of_Journey'],axis=1,inplace=True)\n",
    "dataset.info()"
   ]
  },
  {
   "cell_type": "code",
   "execution_count": 80,
   "id": "819ec9e0",
   "metadata": {},
   "outputs": [
    {
     "data": {
      "text/plain": [
       "Airline            0\n",
       "Date_of_Journey    0\n",
       "Source             0\n",
       "Destination        0\n",
       "Route              1\n",
       "Dep_Time           0\n",
       "Arrival_Time       0\n",
       "Duration           0\n",
       "Total_Stops        1\n",
       "Additional_Info    0\n",
       "Price              0\n",
       "Date               0\n",
       "Month              0\n",
       "Year               0\n",
       "Duration_min       0\n",
       "dtype: int64"
      ]
     },
     "execution_count": 80,
     "metadata": {},
     "output_type": "execute_result"
    }
   ],
   "source": [
    "#Droping Null Values\n",
    "dataset.isnull().sum()"
   ]
  },
  {
   "cell_type": "code",
   "execution_count": 82,
   "id": "0ea396cd",
   "metadata": {},
   "outputs": [],
   "source": [
    "dataset.dropna(inplace=True)"
   ]
  },
  {
   "cell_type": "code",
   "execution_count": 100,
   "id": "59f91579",
   "metadata": {},
   "outputs": [
    {
     "data": {
      "text/plain": [
       "((10682, 14), (10460, 14))"
      ]
     },
     "execution_count": 100,
     "metadata": {},
     "output_type": "execute_result"
    }
   ],
   "source": [
    "dataset.shape, dataset.drop_duplicates().shape"
   ]
  },
  {
   "cell_type": "code",
   "execution_count": 101,
   "id": "352ec82e",
   "metadata": {},
   "outputs": [],
   "source": [
    "#Dropping Repeted dataset.\n",
    "dataset.drop_duplicates(inplace=True)"
   ]
  },
  {
   "cell_type": "markdown",
   "id": "7203d34d",
   "metadata": {},
   "source": [
    "## For Categorical Data"
   ]
  },
  {
   "cell_type": "code",
   "execution_count": 132,
   "id": "e0603333",
   "metadata": {
    "scrolled": true
   },
   "outputs": [
    {
     "data": {
      "text/html": [
       "<div>\n",
       "<style scoped>\n",
       "    .dataframe tbody tr th:only-of-type {\n",
       "        vertical-align: middle;\n",
       "    }\n",
       "\n",
       "    .dataframe tbody tr th {\n",
       "        vertical-align: top;\n",
       "    }\n",
       "\n",
       "    .dataframe thead th {\n",
       "        text-align: right;\n",
       "    }\n",
       "</style>\n",
       "<table border=\"1\" class=\"dataframe\">\n",
       "  <thead>\n",
       "    <tr style=\"text-align: right;\">\n",
       "      <th></th>\n",
       "      <th>index</th>\n",
       "      <th>Airline</th>\n",
       "    </tr>\n",
       "  </thead>\n",
       "  <tbody>\n",
       "    <tr>\n",
       "      <th>0</th>\n",
       "      <td>Jet Airways</td>\n",
       "      <td>3700</td>\n",
       "    </tr>\n",
       "    <tr>\n",
       "      <th>1</th>\n",
       "      <td>IndiGo</td>\n",
       "      <td>2043</td>\n",
       "    </tr>\n",
       "    <tr>\n",
       "      <th>2</th>\n",
       "      <td>Air India</td>\n",
       "      <td>1694</td>\n",
       "    </tr>\n",
       "    <tr>\n",
       "      <th>3</th>\n",
       "      <td>Multiple carriers</td>\n",
       "      <td>1196</td>\n",
       "    </tr>\n",
       "    <tr>\n",
       "      <th>4</th>\n",
       "      <td>SpiceJet</td>\n",
       "      <td>815</td>\n",
       "    </tr>\n",
       "    <tr>\n",
       "      <th>5</th>\n",
       "      <td>Vistara</td>\n",
       "      <td>477</td>\n",
       "    </tr>\n",
       "    <tr>\n",
       "      <th>6</th>\n",
       "      <td>Air Asia</td>\n",
       "      <td>318</td>\n",
       "    </tr>\n",
       "    <tr>\n",
       "      <th>7</th>\n",
       "      <td>GoAir</td>\n",
       "      <td>194</td>\n",
       "    </tr>\n",
       "    <tr>\n",
       "      <th>8</th>\n",
       "      <td>Multiple carriers Premium economy</td>\n",
       "      <td>13</td>\n",
       "    </tr>\n",
       "    <tr>\n",
       "      <th>9</th>\n",
       "      <td>Jet Airways Business</td>\n",
       "      <td>6</td>\n",
       "    </tr>\n",
       "    <tr>\n",
       "      <th>10</th>\n",
       "      <td>Vistara Premium economy</td>\n",
       "      <td>3</td>\n",
       "    </tr>\n",
       "    <tr>\n",
       "      <th>11</th>\n",
       "      <td>Trujet</td>\n",
       "      <td>1</td>\n",
       "    </tr>\n",
       "  </tbody>\n",
       "</table>\n",
       "</div>"
      ],
      "text/plain": [
       "                                index  Airline\n",
       "0                         Jet Airways     3700\n",
       "1                              IndiGo     2043\n",
       "2                           Air India     1694\n",
       "3                   Multiple carriers     1196\n",
       "4                            SpiceJet      815\n",
       "5                             Vistara      477\n",
       "6                            Air Asia      318\n",
       "7                               GoAir      194\n",
       "8   Multiple carriers Premium economy       13\n",
       "9                Jet Airways Business        6\n",
       "10            Vistara Premium economy        3\n",
       "11                             Trujet        1"
      ]
     },
     "execution_count": 132,
     "metadata": {},
     "output_type": "execute_result"
    }
   ],
   "source": [
    "# For dataset Airlines\n",
    "data = dataset.Airline.value_counts().reset_index()\n",
    "data"
   ]
  },
  {
   "cell_type": "code",
   "execution_count": 139,
   "id": "6d0fabc1",
   "metadata": {},
   "outputs": [],
   "source": [
    "def for_airlines(data):\n",
    "    try:\n",
    "        name = [\"Multiple carriers Premium economy\",\"Jet Airways Business\",\"Vistara Premium economy\",\"Trujet\"]\n",
    "        if data in name :\n",
    "            return \"Others\"\n",
    "        else:\n",
    "            return data\n",
    "    except:\n",
    "        return np.nan"
   ]
  },
  {
   "cell_type": "code",
   "execution_count": 140,
   "id": "e70a916d",
   "metadata": {},
   "outputs": [],
   "source": [
    "dataset[\"Airline\"] = dataset[\"Airline\"].apply(for_airlines)"
   ]
  },
  {
   "cell_type": "code",
   "execution_count": 141,
   "id": "a798a685",
   "metadata": {
    "scrolled": true
   },
   "outputs": [
    {
     "data": {
      "text/plain": [
       "Delhi       4345\n",
       "Kolkata     2860\n",
       "Banglore    2177\n",
       "Mumbai       697\n",
       "Chennai      381\n",
       "Name: Source, dtype: int64"
      ]
     },
     "execution_count": 141,
     "metadata": {},
     "output_type": "execute_result"
    }
   ],
   "source": [
    "#For Source dataset\n",
    "dataset[\"Source\"].value_counts()"
   ]
  },
  {
   "cell_type": "code",
   "execution_count": 146,
   "id": "17b3022f",
   "metadata": {},
   "outputs": [
    {
     "data": {
      "text/html": [
       "<div>\n",
       "<style scoped>\n",
       "    .dataframe tbody tr th:only-of-type {\n",
       "        vertical-align: middle;\n",
       "    }\n",
       "\n",
       "    .dataframe tbody tr th {\n",
       "        vertical-align: top;\n",
       "    }\n",
       "\n",
       "    .dataframe thead th {\n",
       "        text-align: right;\n",
       "    }\n",
       "</style>\n",
       "<table border=\"1\" class=\"dataframe\">\n",
       "  <thead>\n",
       "    <tr style=\"text-align: right;\">\n",
       "      <th></th>\n",
       "      <th>index</th>\n",
       "      <th>Additional_Info</th>\n",
       "    </tr>\n",
       "  </thead>\n",
       "  <tbody>\n",
       "    <tr>\n",
       "      <th>0</th>\n",
       "      <td>No info</td>\n",
       "      <td>8180</td>\n",
       "    </tr>\n",
       "    <tr>\n",
       "      <th>1</th>\n",
       "      <td>In-flight meal not included</td>\n",
       "      <td>1926</td>\n",
       "    </tr>\n",
       "    <tr>\n",
       "      <th>2</th>\n",
       "      <td>No check-in baggage included</td>\n",
       "      <td>318</td>\n",
       "    </tr>\n",
       "    <tr>\n",
       "      <th>3</th>\n",
       "      <td>1 Long layover</td>\n",
       "      <td>19</td>\n",
       "    </tr>\n",
       "    <tr>\n",
       "      <th>4</th>\n",
       "      <td>Change airports</td>\n",
       "      <td>7</td>\n",
       "    </tr>\n",
       "    <tr>\n",
       "      <th>5</th>\n",
       "      <td>Business class</td>\n",
       "      <td>4</td>\n",
       "    </tr>\n",
       "    <tr>\n",
       "      <th>6</th>\n",
       "      <td>No Info</td>\n",
       "      <td>3</td>\n",
       "    </tr>\n",
       "    <tr>\n",
       "      <th>7</th>\n",
       "      <td>1 Short layover</td>\n",
       "      <td>1</td>\n",
       "    </tr>\n",
       "    <tr>\n",
       "      <th>8</th>\n",
       "      <td>Red-eye flight</td>\n",
       "      <td>1</td>\n",
       "    </tr>\n",
       "    <tr>\n",
       "      <th>9</th>\n",
       "      <td>2 Long layover</td>\n",
       "      <td>1</td>\n",
       "    </tr>\n",
       "  </tbody>\n",
       "</table>\n",
       "</div>"
      ],
      "text/plain": [
       "                          index  Additional_Info\n",
       "0                       No info             8180\n",
       "1   In-flight meal not included             1926\n",
       "2  No check-in baggage included              318\n",
       "3                1 Long layover               19\n",
       "4               Change airports                7\n",
       "5                Business class                4\n",
       "6                       No Info                3\n",
       "7               1 Short layover                1\n",
       "8                Red-eye flight                1\n",
       "9                2 Long layover                1"
      ]
     },
     "execution_count": 146,
     "metadata": {},
     "output_type": "execute_result"
    }
   ],
   "source": [
    "#For Additional Info\n",
    "pd.DataFrame(dataset.Additional_Info.value_counts().reset_index())"
   ]
  },
  {
   "cell_type": "code",
   "execution_count": 71,
   "id": "688dd49e",
   "metadata": {
    "scrolled": true
   },
   "outputs": [
    {
     "data": {
      "text/plain": [
       "Cochin       4537\n",
       "Banglore     2871\n",
       "Delhi        1265\n",
       "New Delhi     932\n",
       "Hyderabad     697\n",
       "Kolkata       381\n",
       "Name: Destination, dtype: int64"
      ]
     },
     "execution_count": 71,
     "metadata": {},
     "output_type": "execute_result"
    }
   ],
   "source": [
    "dataset.Destination.value_counts()"
   ]
  },
  {
   "cell_type": "code",
   "execution_count": null,
   "id": "c172e3c9",
   "metadata": {},
   "outputs": [],
   "source": []
  }
 ],
 "metadata": {
  "kernelspec": {
   "display_name": "Python 3 (ipykernel)",
   "language": "python",
   "name": "python3"
  },
  "language_info": {
   "codemirror_mode": {
    "name": "ipython",
    "version": 3
   },
   "file_extension": ".py",
   "mimetype": "text/x-python",
   "name": "python",
   "nbconvert_exporter": "python",
   "pygments_lexer": "ipython3",
   "version": "3.9.7"
  }
 },
 "nbformat": 4,
 "nbformat_minor": 5
}
