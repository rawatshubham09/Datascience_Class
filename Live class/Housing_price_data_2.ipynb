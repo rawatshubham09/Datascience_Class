{
 "cells": [
  {
   "cell_type": "markdown",
   "id": "3061642f",
   "metadata": {},
   "source": [
    "## Feature Engineering House Price\n",
    "1. Handling Missing Values\n",
    "2. Temporal Variable\n",
    "3. Handle Categorical Variables\n",
    "4. Standarddize the variable"
   ]
  },
  {
   "cell_type": "code",
   "execution_count": 9,
   "id": "311508e3",
   "metadata": {},
   "outputs": [],
   "source": [
    "import pandas as pd\n",
    "import numpy as np\n",
    "import matplotlib.pyplot as plt\n",
    "%matplotlib inline\n",
    "from sklearn.pipeline import Pipeline\n",
    "import stat"
   ]
  },
  {
   "cell_type": "code",
   "execution_count": 2,
   "id": "cc91b3cc",
   "metadata": {
    "scrolled": true
   },
   "outputs": [
    {
     "data": {
      "text/html": [
       "<div>\n",
       "<style scoped>\n",
       "    .dataframe tbody tr th:only-of-type {\n",
       "        vertical-align: middle;\n",
       "    }\n",
       "\n",
       "    .dataframe tbody tr th {\n",
       "        vertical-align: top;\n",
       "    }\n",
       "\n",
       "    .dataframe thead th {\n",
       "        text-align: right;\n",
       "    }\n",
       "</style>\n",
       "<table border=\"1\" class=\"dataframe\">\n",
       "  <thead>\n",
       "    <tr style=\"text-align: right;\">\n",
       "      <th></th>\n",
       "      <th>Id</th>\n",
       "      <th>MSSubClass</th>\n",
       "      <th>MSZoning</th>\n",
       "      <th>LotFrontage</th>\n",
       "      <th>LotArea</th>\n",
       "      <th>Street</th>\n",
       "      <th>Alley</th>\n",
       "      <th>LotShape</th>\n",
       "      <th>LandContour</th>\n",
       "      <th>Utilities</th>\n",
       "      <th>...</th>\n",
       "      <th>PoolArea</th>\n",
       "      <th>PoolQC</th>\n",
       "      <th>Fence</th>\n",
       "      <th>MiscFeature</th>\n",
       "      <th>MiscVal</th>\n",
       "      <th>MoSold</th>\n",
       "      <th>YrSold</th>\n",
       "      <th>SaleType</th>\n",
       "      <th>SaleCondition</th>\n",
       "      <th>SalePrice</th>\n",
       "    </tr>\n",
       "  </thead>\n",
       "  <tbody>\n",
       "    <tr>\n",
       "      <th>1025</th>\n",
       "      <td>1026</td>\n",
       "      <td>20</td>\n",
       "      <td>RL</td>\n",
       "      <td>70.0</td>\n",
       "      <td>7700</td>\n",
       "      <td>Pave</td>\n",
       "      <td>NaN</td>\n",
       "      <td>Reg</td>\n",
       "      <td>Lvl</td>\n",
       "      <td>AllPub</td>\n",
       "      <td>...</td>\n",
       "      <td>0</td>\n",
       "      <td>NaN</td>\n",
       "      <td>MnPrv</td>\n",
       "      <td>NaN</td>\n",
       "      <td>0</td>\n",
       "      <td>3</td>\n",
       "      <td>2007</td>\n",
       "      <td>WD</td>\n",
       "      <td>Normal</td>\n",
       "      <td>112500</td>\n",
       "    </tr>\n",
       "    <tr>\n",
       "      <th>1273</th>\n",
       "      <td>1274</td>\n",
       "      <td>80</td>\n",
       "      <td>RL</td>\n",
       "      <td>124.0</td>\n",
       "      <td>11512</td>\n",
       "      <td>Pave</td>\n",
       "      <td>NaN</td>\n",
       "      <td>IR1</td>\n",
       "      <td>Lvl</td>\n",
       "      <td>AllPub</td>\n",
       "      <td>...</td>\n",
       "      <td>0</td>\n",
       "      <td>NaN</td>\n",
       "      <td>GdPrv</td>\n",
       "      <td>NaN</td>\n",
       "      <td>0</td>\n",
       "      <td>5</td>\n",
       "      <td>2008</td>\n",
       "      <td>WD</td>\n",
       "      <td>Normal</td>\n",
       "      <td>177000</td>\n",
       "    </tr>\n",
       "    <tr>\n",
       "      <th>698</th>\n",
       "      <td>699</td>\n",
       "      <td>20</td>\n",
       "      <td>RL</td>\n",
       "      <td>65.0</td>\n",
       "      <td>8450</td>\n",
       "      <td>Pave</td>\n",
       "      <td>NaN</td>\n",
       "      <td>Reg</td>\n",
       "      <td>Lvl</td>\n",
       "      <td>AllPub</td>\n",
       "      <td>...</td>\n",
       "      <td>0</td>\n",
       "      <td>NaN</td>\n",
       "      <td>MnPrv</td>\n",
       "      <td>NaN</td>\n",
       "      <td>0</td>\n",
       "      <td>4</td>\n",
       "      <td>2010</td>\n",
       "      <td>WD</td>\n",
       "      <td>Normal</td>\n",
       "      <td>138500</td>\n",
       "    </tr>\n",
       "    <tr>\n",
       "      <th>1171</th>\n",
       "      <td>1172</td>\n",
       "      <td>20</td>\n",
       "      <td>RL</td>\n",
       "      <td>76.0</td>\n",
       "      <td>9120</td>\n",
       "      <td>Pave</td>\n",
       "      <td>NaN</td>\n",
       "      <td>Reg</td>\n",
       "      <td>Lvl</td>\n",
       "      <td>AllPub</td>\n",
       "      <td>...</td>\n",
       "      <td>0</td>\n",
       "      <td>NaN</td>\n",
       "      <td>NaN</td>\n",
       "      <td>Shed</td>\n",
       "      <td>1400</td>\n",
       "      <td>11</td>\n",
       "      <td>2008</td>\n",
       "      <td>WD</td>\n",
       "      <td>Normal</td>\n",
       "      <td>163000</td>\n",
       "    </tr>\n",
       "    <tr>\n",
       "      <th>794</th>\n",
       "      <td>795</td>\n",
       "      <td>60</td>\n",
       "      <td>RL</td>\n",
       "      <td>NaN</td>\n",
       "      <td>10832</td>\n",
       "      <td>Pave</td>\n",
       "      <td>NaN</td>\n",
       "      <td>IR1</td>\n",
       "      <td>Lvl</td>\n",
       "      <td>AllPub</td>\n",
       "      <td>...</td>\n",
       "      <td>0</td>\n",
       "      <td>NaN</td>\n",
       "      <td>NaN</td>\n",
       "      <td>Shed</td>\n",
       "      <td>500</td>\n",
       "      <td>10</td>\n",
       "      <td>2008</td>\n",
       "      <td>WD</td>\n",
       "      <td>Normal</td>\n",
       "      <td>194500</td>\n",
       "    </tr>\n",
       "  </tbody>\n",
       "</table>\n",
       "<p>5 rows × 81 columns</p>\n",
       "</div>"
      ],
      "text/plain": [
       "        Id  MSSubClass MSZoning  LotFrontage  LotArea Street Alley LotShape  \\\n",
       "1025  1026          20       RL         70.0     7700   Pave   NaN      Reg   \n",
       "1273  1274          80       RL        124.0    11512   Pave   NaN      IR1   \n",
       "698    699          20       RL         65.0     8450   Pave   NaN      Reg   \n",
       "1171  1172          20       RL         76.0     9120   Pave   NaN      Reg   \n",
       "794    795          60       RL          NaN    10832   Pave   NaN      IR1   \n",
       "\n",
       "     LandContour Utilities  ... PoolArea PoolQC  Fence MiscFeature MiscVal  \\\n",
       "1025         Lvl    AllPub  ...        0    NaN  MnPrv         NaN       0   \n",
       "1273         Lvl    AllPub  ...        0    NaN  GdPrv         NaN       0   \n",
       "698          Lvl    AllPub  ...        0    NaN  MnPrv         NaN       0   \n",
       "1171         Lvl    AllPub  ...        0    NaN    NaN        Shed    1400   \n",
       "794          Lvl    AllPub  ...        0    NaN    NaN        Shed     500   \n",
       "\n",
       "     MoSold YrSold  SaleType  SaleCondition  SalePrice  \n",
       "1025      3   2007        WD         Normal     112500  \n",
       "1273      5   2008        WD         Normal     177000  \n",
       "698       4   2010        WD         Normal     138500  \n",
       "1171     11   2008        WD         Normal     163000  \n",
       "794      10   2008        WD         Normal     194500  \n",
       "\n",
       "[5 rows x 81 columns]"
      ]
     },
     "execution_count": 2,
     "metadata": {},
     "output_type": "execute_result"
    }
   ],
   "source": [
    "dataset = pd.read_csv(\"Dataset/Housing_price/train.csv\")\n",
    "dataset.sample(5)"
   ]
  },
  {
   "cell_type": "code",
   "execution_count": 5,
   "id": "29c2c48b",
   "metadata": {},
   "outputs": [],
   "source": [
    "X = dataset.drop([\"Id\",\"SalePrice\"], axis=1)\n",
    "y = dataset[\"SalePrice\"]"
   ]
  },
  {
   "cell_type": "code",
   "execution_count": 6,
   "id": "4d5bab9c",
   "metadata": {},
   "outputs": [
    {
     "data": {
      "text/plain": [
       "((1460, 79), (1460,))"
      ]
     },
     "execution_count": 6,
     "metadata": {},
     "output_type": "execute_result"
    }
   ],
   "source": [
    "X.shape, y.shape"
   ]
  },
  {
   "cell_type": "code",
   "execution_count": 7,
   "id": "65e329e7",
   "metadata": {},
   "outputs": [],
   "source": [
    "from sklearn.model_selection import train_test_split\n",
    "X_train,X_test,y_train,y_test = train_test_split(X,y,test_size=0.2,random_state=42)"
   ]
  },
  {
   "cell_type": "code",
   "execution_count": 8,
   "id": "d4b315d7",
   "metadata": {},
   "outputs": [
    {
     "data": {
      "text/plain": [
       "((1168, 79), (292, 79))"
      ]
     },
     "execution_count": 8,
     "metadata": {},
     "output_type": "execute_result"
    }
   ],
   "source": [
    "X_train.shape, X_test.shape"
   ]
  },
  {
   "cell_type": "markdown",
   "id": "750c47a4",
   "metadata": {},
   "source": [
    "### Handling Missing values"
   ]
  },
  {
   "cell_type": "code",
   "execution_count": 20,
   "id": "80fb0456",
   "metadata": {},
   "outputs": [],
   "source": [
    "feature_nan = [[feature,dataset[feature].isnull().mean()*100] for feature in dataset.columns if dataset[feature].isnull().sum()>=1]"
   ]
  },
  {
   "cell_type": "code",
   "execution_count": 21,
   "id": "df14bfba",
   "metadata": {},
   "outputs": [
    {
     "name": "stdout",
     "output_type": "stream",
     "text": [
      "LotFrontage missing values in %age is 17.73972602739726\n",
      "Alley missing values in %age is 93.76712328767123\n",
      "MasVnrType missing values in %age is 0.547945205479452\n",
      "MasVnrArea missing values in %age is 0.547945205479452\n",
      "BsmtQual missing values in %age is 2.5342465753424657\n",
      "BsmtCond missing values in %age is 2.5342465753424657\n",
      "BsmtExposure missing values in %age is 2.6027397260273974\n",
      "BsmtFinType1 missing values in %age is 2.5342465753424657\n",
      "BsmtFinType2 missing values in %age is 2.6027397260273974\n",
      "Electrical missing values in %age is 0.0684931506849315\n",
      "FireplaceQu missing values in %age is 47.26027397260274\n",
      "GarageType missing values in %age is 5.5479452054794525\n",
      "GarageYrBlt missing values in %age is 5.5479452054794525\n",
      "GarageFinish missing values in %age is 5.5479452054794525\n",
      "GarageQual missing values in %age is 5.5479452054794525\n",
      "GarageCond missing values in %age is 5.5479452054794525\n",
      "PoolQC missing values in %age is 99.52054794520548\n",
      "Fence missing values in %age is 80.75342465753424\n",
      "MiscFeature missing values in %age is 96.30136986301369\n"
     ]
    }
   ],
   "source": [
    "for feature,val in feature_nan:\n",
    "    print(f\"{feature} missing values in %age is {val}\")"
   ]
  },
  {
   "cell_type": "code",
   "execution_count": 30,
   "id": "32885814",
   "metadata": {},
   "outputs": [],
   "source": [
    "# Categorical Features\n",
    "feature_cat = [feature for feature in dataset.columns if dataset[feature].dtypes=='O']"
   ]
  },
  {
   "cell_type": "code",
   "execution_count": 29,
   "id": "4c50b9f8",
   "metadata": {},
   "outputs": [
    {
     "data": {
      "text/plain": [
       "Id               False\n",
       "MSSubClass       False\n",
       "MSZoning          True\n",
       "LotFrontage      False\n",
       "LotArea          False\n",
       "                 ...  \n",
       "MoSold           False\n",
       "YrSold           False\n",
       "SaleType          True\n",
       "SaleCondition     True\n",
       "SalePrice        False\n",
       "Length: 81, dtype: bool"
      ]
     },
     "execution_count": 29,
     "metadata": {},
     "output_type": "execute_result"
    }
   ],
   "source": [
    "data = dataset.copy()\n",
    "def replace_cat_feature(data, cat_feature):\n",
    "    mode_value = data[feature].mode()\n",
    "    "
   ]
  },
  {
   "cell_type": "code",
   "execution_count": 32,
   "id": "f06f9e10",
   "metadata": {},
   "outputs": [],
   "source": [
    "#Numerical values\n",
    "feature_num_nan = [feature for feature in dataset.columns if dataset[feature].dtypes!='O' and dataset[feature].isnull().sum()>=1]"
   ]
  },
  {
   "cell_type": "code",
   "execution_count": 33,
   "id": "113d3a00",
   "metadata": {},
   "outputs": [
    {
     "data": {
      "text/plain": [
       "['LotFrontage', 'MasVnrArea', 'GarageYrBlt']"
      ]
     },
     "execution_count": 33,
     "metadata": {},
     "output_type": "execute_result"
    }
   ],
   "source": [
    "feature_num_nan"
   ]
  },
  {
   "cell_type": "code",
   "execution_count": 34,
   "id": "dcbaeba0",
   "metadata": {},
   "outputs": [],
   "source": [
    "for feature in feature_num_nan:\n",
    "    median_values = dataset[feature].median()\n",
    "    ## Creating a new feature to capture nan values()\n",
    "    dataset[feature+'nan'] = np.where(dataset[feature].isnull(),1,0)\n",
    "    dataset[feature].fillna(median_values,inplace=True)"
   ]
  },
  {
   "cell_type": "code",
   "execution_count": 35,
   "id": "616cd72c",
   "metadata": {},
   "outputs": [
    {
     "data": {
      "text/html": [
       "<div>\n",
       "<style scoped>\n",
       "    .dataframe tbody tr th:only-of-type {\n",
       "        vertical-align: middle;\n",
       "    }\n",
       "\n",
       "    .dataframe tbody tr th {\n",
       "        vertical-align: top;\n",
       "    }\n",
       "\n",
       "    .dataframe thead th {\n",
       "        text-align: right;\n",
       "    }\n",
       "</style>\n",
       "<table border=\"1\" class=\"dataframe\">\n",
       "  <thead>\n",
       "    <tr style=\"text-align: right;\">\n",
       "      <th></th>\n",
       "      <th>Id</th>\n",
       "      <th>MSSubClass</th>\n",
       "      <th>MSZoning</th>\n",
       "      <th>LotFrontage</th>\n",
       "      <th>LotArea</th>\n",
       "      <th>Street</th>\n",
       "      <th>Alley</th>\n",
       "      <th>LotShape</th>\n",
       "      <th>LandContour</th>\n",
       "      <th>Utilities</th>\n",
       "      <th>...</th>\n",
       "      <th>MiscFeature</th>\n",
       "      <th>MiscVal</th>\n",
       "      <th>MoSold</th>\n",
       "      <th>YrSold</th>\n",
       "      <th>SaleType</th>\n",
       "      <th>SaleCondition</th>\n",
       "      <th>SalePrice</th>\n",
       "      <th>LotFrontagenan</th>\n",
       "      <th>MasVnrAreanan</th>\n",
       "      <th>GarageYrBltnan</th>\n",
       "    </tr>\n",
       "  </thead>\n",
       "  <tbody>\n",
       "    <tr>\n",
       "      <th>1091</th>\n",
       "      <td>1092</td>\n",
       "      <td>160</td>\n",
       "      <td>FV</td>\n",
       "      <td>24.0</td>\n",
       "      <td>2160</td>\n",
       "      <td>Pave</td>\n",
       "      <td>Pave</td>\n",
       "      <td>Reg</td>\n",
       "      <td>Lvl</td>\n",
       "      <td>AllPub</td>\n",
       "      <td>...</td>\n",
       "      <td>NaN</td>\n",
       "      <td>0</td>\n",
       "      <td>3</td>\n",
       "      <td>2008</td>\n",
       "      <td>WD</td>\n",
       "      <td>Normal</td>\n",
       "      <td>160000</td>\n",
       "      <td>0</td>\n",
       "      <td>0</td>\n",
       "      <td>0</td>\n",
       "    </tr>\n",
       "    <tr>\n",
       "      <th>163</th>\n",
       "      <td>164</td>\n",
       "      <td>45</td>\n",
       "      <td>RL</td>\n",
       "      <td>55.0</td>\n",
       "      <td>5500</td>\n",
       "      <td>Pave</td>\n",
       "      <td>NaN</td>\n",
       "      <td>Reg</td>\n",
       "      <td>Lvl</td>\n",
       "      <td>AllPub</td>\n",
       "      <td>...</td>\n",
       "      <td>NaN</td>\n",
       "      <td>0</td>\n",
       "      <td>4</td>\n",
       "      <td>2007</td>\n",
       "      <td>WD</td>\n",
       "      <td>Normal</td>\n",
       "      <td>103200</td>\n",
       "      <td>0</td>\n",
       "      <td>0</td>\n",
       "      <td>1</td>\n",
       "    </tr>\n",
       "    <tr>\n",
       "      <th>782</th>\n",
       "      <td>783</td>\n",
       "      <td>20</td>\n",
       "      <td>RL</td>\n",
       "      <td>67.0</td>\n",
       "      <td>16285</td>\n",
       "      <td>Pave</td>\n",
       "      <td>NaN</td>\n",
       "      <td>IR2</td>\n",
       "      <td>Lvl</td>\n",
       "      <td>AllPub</td>\n",
       "      <td>...</td>\n",
       "      <td>NaN</td>\n",
       "      <td>0</td>\n",
       "      <td>6</td>\n",
       "      <td>2009</td>\n",
       "      <td>WD</td>\n",
       "      <td>Normal</td>\n",
       "      <td>187100</td>\n",
       "      <td>0</td>\n",
       "      <td>0</td>\n",
       "      <td>0</td>\n",
       "    </tr>\n",
       "    <tr>\n",
       "      <th>53</th>\n",
       "      <td>54</td>\n",
       "      <td>20</td>\n",
       "      <td>RL</td>\n",
       "      <td>68.0</td>\n",
       "      <td>50271</td>\n",
       "      <td>Pave</td>\n",
       "      <td>NaN</td>\n",
       "      <td>IR1</td>\n",
       "      <td>Low</td>\n",
       "      <td>AllPub</td>\n",
       "      <td>...</td>\n",
       "      <td>NaN</td>\n",
       "      <td>0</td>\n",
       "      <td>11</td>\n",
       "      <td>2006</td>\n",
       "      <td>WD</td>\n",
       "      <td>Normal</td>\n",
       "      <td>385000</td>\n",
       "      <td>0</td>\n",
       "      <td>0</td>\n",
       "      <td>0</td>\n",
       "    </tr>\n",
       "    <tr>\n",
       "      <th>918</th>\n",
       "      <td>919</td>\n",
       "      <td>60</td>\n",
       "      <td>RL</td>\n",
       "      <td>103.0</td>\n",
       "      <td>13125</td>\n",
       "      <td>Pave</td>\n",
       "      <td>NaN</td>\n",
       "      <td>IR1</td>\n",
       "      <td>Lvl</td>\n",
       "      <td>AllPub</td>\n",
       "      <td>...</td>\n",
       "      <td>NaN</td>\n",
       "      <td>0</td>\n",
       "      <td>11</td>\n",
       "      <td>2007</td>\n",
       "      <td>WD</td>\n",
       "      <td>Normal</td>\n",
       "      <td>238000</td>\n",
       "      <td>0</td>\n",
       "      <td>0</td>\n",
       "      <td>0</td>\n",
       "    </tr>\n",
       "  </tbody>\n",
       "</table>\n",
       "<p>5 rows × 84 columns</p>\n",
       "</div>"
      ],
      "text/plain": [
       "        Id  MSSubClass MSZoning  LotFrontage  LotArea Street Alley LotShape  \\\n",
       "1091  1092         160       FV         24.0     2160   Pave  Pave      Reg   \n",
       "163    164          45       RL         55.0     5500   Pave   NaN      Reg   \n",
       "782    783          20       RL         67.0    16285   Pave   NaN      IR2   \n",
       "53      54          20       RL         68.0    50271   Pave   NaN      IR1   \n",
       "918    919          60       RL        103.0    13125   Pave   NaN      IR1   \n",
       "\n",
       "     LandContour Utilities  ... MiscFeature MiscVal MoSold YrSold SaleType  \\\n",
       "1091         Lvl    AllPub  ...         NaN       0      3   2008       WD   \n",
       "163          Lvl    AllPub  ...         NaN       0      4   2007       WD   \n",
       "782          Lvl    AllPub  ...         NaN       0      6   2009       WD   \n",
       "53           Low    AllPub  ...         NaN       0     11   2006       WD   \n",
       "918          Lvl    AllPub  ...         NaN       0     11   2007       WD   \n",
       "\n",
       "     SaleCondition SalePrice  LotFrontagenan  MasVnrAreanan  GarageYrBltnan  \n",
       "1091        Normal    160000               0              0               0  \n",
       "163         Normal    103200               0              0               1  \n",
       "782         Normal    187100               0              0               0  \n",
       "53          Normal    385000               0              0               0  \n",
       "918         Normal    238000               0              0               0  \n",
       "\n",
       "[5 rows x 84 columns]"
      ]
     },
     "execution_count": 35,
     "metadata": {},
     "output_type": "execute_result"
    }
   ],
   "source": [
    "dataset.sample(5)"
   ]
  },
  {
   "cell_type": "code",
   "execution_count": 37,
   "id": "4c6f7624",
   "metadata": {},
   "outputs": [],
   "source": [
    "yr_features = [feature for feature in dataset.columns if feature[0:2] == \"Yr\" or feature[0:2] == \"Ye\"]"
   ]
  },
  {
   "cell_type": "code",
   "execution_count": null,
   "id": "a1b29315",
   "metadata": {},
   "outputs": [],
   "source": []
  }
 ],
 "metadata": {
  "kernelspec": {
   "display_name": "Python 3 (ipykernel)",
   "language": "python",
   "name": "python3"
  },
  "language_info": {
   "codemirror_mode": {
    "name": "ipython",
    "version": 3
   },
   "file_extension": ".py",
   "mimetype": "text/x-python",
   "name": "python",
   "nbconvert_exporter": "python",
   "pygments_lexer": "ipython3",
   "version": "3.9.7"
  }
 },
 "nbformat": 4,
 "nbformat_minor": 5
}
