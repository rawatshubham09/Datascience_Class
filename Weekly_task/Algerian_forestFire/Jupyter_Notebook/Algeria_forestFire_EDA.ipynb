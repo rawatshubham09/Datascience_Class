{
 "cells": [
  {
   "cell_type": "code",
   "execution_count": 1,
   "id": "f64a44af",
   "metadata": {},
   "outputs": [],
   "source": [
    "import pandas as pd\n",
    "import numpy as np\n",
    "import matplotlib.pyplot as plt\n",
    "import seaborn as sns\n",
    "import plotly.express as pty\n",
    "%matplotlib inline"
   ]
  },
  {
   "cell_type": "code",
   "execution_count": 2,
   "id": "8253fecb",
   "metadata": {},
   "outputs": [],
   "source": [
    "from sklearn.model_selection import train_test_split\n",
    "import missingno as mis"
   ]
  },
  {
   "cell_type": "code",
   "execution_count": 3,
   "id": "49757e72",
   "metadata": {},
   "outputs": [
    {
     "data": {
      "text/html": [
       "<div>\n",
       "<style scoped>\n",
       "    .dataframe tbody tr th:only-of-type {\n",
       "        vertical-align: middle;\n",
       "    }\n",
       "\n",
       "    .dataframe tbody tr th {\n",
       "        vertical-align: top;\n",
       "    }\n",
       "\n",
       "    .dataframe thead th {\n",
       "        text-align: right;\n",
       "    }\n",
       "</style>\n",
       "<table border=\"1\" class=\"dataframe\">\n",
       "  <thead>\n",
       "    <tr style=\"text-align: right;\">\n",
       "      <th></th>\n",
       "      <th></th>\n",
       "      <th></th>\n",
       "      <th></th>\n",
       "      <th></th>\n",
       "      <th></th>\n",
       "      <th></th>\n",
       "      <th></th>\n",
       "      <th></th>\n",
       "      <th></th>\n",
       "      <th></th>\n",
       "      <th></th>\n",
       "      <th></th>\n",
       "      <th>Bejaia Region Dataset</th>\n",
       "    </tr>\n",
       "  </thead>\n",
       "  <tbody>\n",
       "    <tr>\n",
       "      <th>day</th>\n",
       "      <th>month</th>\n",
       "      <th>year</th>\n",
       "      <th>Temperature</th>\n",
       "      <th>RH</th>\n",
       "      <th>Ws</th>\n",
       "      <th>Rain</th>\n",
       "      <th>FFMC</th>\n",
       "      <th>DMC</th>\n",
       "      <th>DC</th>\n",
       "      <th>ISI</th>\n",
       "      <th>BUI</th>\n",
       "      <th>FWI</th>\n",
       "      <td>Classes</td>\n",
       "    </tr>\n",
       "    <tr>\n",
       "      <th>01</th>\n",
       "      <th>06</th>\n",
       "      <th>2012</th>\n",
       "      <th>29</th>\n",
       "      <th>57</th>\n",
       "      <th>18</th>\n",
       "      <th>0</th>\n",
       "      <th>65.7</th>\n",
       "      <th>3.4</th>\n",
       "      <th>7.6</th>\n",
       "      <th>1.3</th>\n",
       "      <th>3.4</th>\n",
       "      <th>0.5</th>\n",
       "      <td>not fire</td>\n",
       "    </tr>\n",
       "  </tbody>\n",
       "</table>\n",
       "</div>"
      ],
      "text/plain": [
       "                                                                  Bejaia Region Dataset \n",
       "day month year Temperature  RH  Ws Rain  FFMC DMC DC  ISI BUI FWI              Classes  \n",
       "01  06    2012 29          57  18  0     65.7 3.4 7.6 1.3 3.4 0.5            not fire   "
      ]
     },
     "execution_count": 3,
     "metadata": {},
     "output_type": "execute_result"
    }
   ],
   "source": [
    "data = pd.read_csv(\"Algerian_forestFores.csv\")\n",
    "data.head(2)"
   ]
  },
  {
   "cell_type": "code",
   "execution_count": 4,
   "id": "6d319cd5",
   "metadata": {},
   "outputs": [
    {
     "data": {
      "text/plain": [
       "Index(['Bejaia Region Dataset '], dtype='object')"
      ]
     },
     "execution_count": 4,
     "metadata": {},
     "output_type": "execute_result"
    }
   ],
   "source": [
    "data.columns"
   ]
  },
  {
   "cell_type": "code",
   "execution_count": 6,
   "id": "49a623a7",
   "metadata": {
    "scrolled": false
   },
   "outputs": [
    {
     "data": {
      "text/plain": [
       "MultiIndex([('day', 'month', 'year', 'Temperature', ' RH', ' Ws', ...),\n",
       "            ( '01',    '06', '2012',          '29',  '57',  '18', ...),\n",
       "            ( '02',    '06', '2012',          '29',  '61',  '13', ...),\n",
       "            ( '03',    '06', '2012',          '26',  '82',  '22', ...),\n",
       "            ( '04',    '06', '2012',          '25',  '89',  '13', ...),\n",
       "            ( '05',    '06', '2012',          '27',  '77',  '16', ...),\n",
       "            ( '06',    '06', '2012',          '31',  '67',  '14', ...),\n",
       "            ( '07',    '06', '2012',          '33',  '54',  '13', ...),\n",
       "            ( '08',    '06', '2012',          '30',  '73',  '15', ...),\n",
       "            ( '09',    '06', '2012',          '25',  '88',  '13', ...),\n",
       "            ...\n",
       "            ( '21',    '09', '2012',          '35',  '34',  '17', ...),\n",
       "            ( '22',    '09', '2012',          '33',  '64',  '13', ...),\n",
       "            ( '23',    '09', '2012',          '35',  '56',  '14', ...),\n",
       "            ( '24',    '09', '2012',          '26',  '49',   '6', ...),\n",
       "            ( '25',    '09', '2012',          '28',  '70',  '15', ...),\n",
       "            ( '26',    '09', '2012',          '30',  '65',  '14', ...),\n",
       "            ( '27',    '09', '2012',          '28',  '87',  '15', ...),\n",
       "            ( '28',    '09', '2012',          '27',  '87',  '29', ...),\n",
       "            ( '29',    '09', '2012',          '24',  '54',  '18', ...),\n",
       "            ( '30',    '09', '2012',          '24',  '64',  '15', ...)],\n",
       "           length=247)"
      ]
     },
     "execution_count": 6,
     "metadata": {},
     "output_type": "execute_result"
    }
   ],
   "source": [
    "df = data[\"Bejaia Region Dataset \"].index\n",
    "df"
   ]
  },
  {
   "cell_type": "markdown",
   "id": "063524a7",
   "metadata": {},
   "source": [
    "- Observation:\n",
    "    1. Independent Feature and \"Data\" is in index of csv file, Dependent Feature is in Values. \n",
    "    2. First row of Data contain all feature name, rest contain data which need to Process.\n",
    "    2. This Dataset Contain two different Dependent Features, one for Regression Problem - \"Tempreature\" and another for\n",
    "        Classification Problem - \"Classes\"."
   ]
  },
  {
   "cell_type": "code",
   "execution_count": 7,
   "id": "8a992d19",
   "metadata": {},
   "outputs": [
    {
     "data": {
      "text/plain": [
       "(247, 1)"
      ]
     },
     "execution_count": 7,
     "metadata": {},
     "output_type": "execute_result"
    }
   ],
   "source": [
    "#Dependent Feature\n",
    "y = data.values\n",
    "y.shape"
   ]
  },
  {
   "cell_type": "code",
   "execution_count": 8,
   "id": "918e4bc5",
   "metadata": {
    "scrolled": false
   },
   "outputs": [
    {
     "data": {
      "text/html": [
       "<div>\n",
       "<style scoped>\n",
       "    .dataframe tbody tr th:only-of-type {\n",
       "        vertical-align: middle;\n",
       "    }\n",
       "\n",
       "    .dataframe tbody tr th {\n",
       "        vertical-align: top;\n",
       "    }\n",
       "\n",
       "    .dataframe thead th {\n",
       "        text-align: right;\n",
       "    }\n",
       "</style>\n",
       "<table border=\"1\" class=\"dataframe\">\n",
       "  <thead>\n",
       "    <tr style=\"text-align: right;\">\n",
       "      <th></th>\n",
       "      <th>day</th>\n",
       "      <th>month</th>\n",
       "      <th>year</th>\n",
       "      <th>Temperature</th>\n",
       "      <th>RH</th>\n",
       "      <th>Ws</th>\n",
       "      <th>Rain</th>\n",
       "      <th>FFMC</th>\n",
       "      <th>DMC</th>\n",
       "      <th>DC</th>\n",
       "      <th>ISI</th>\n",
       "      <th>BUI</th>\n",
       "      <th>FWI</th>\n",
       "    </tr>\n",
       "  </thead>\n",
       "  <tbody>\n",
       "    <tr>\n",
       "      <th>0</th>\n",
       "      <td>01</td>\n",
       "      <td>06</td>\n",
       "      <td>2012</td>\n",
       "      <td>29</td>\n",
       "      <td>57</td>\n",
       "      <td>18</td>\n",
       "      <td>0</td>\n",
       "      <td>65.7</td>\n",
       "      <td>3.4</td>\n",
       "      <td>7.6</td>\n",
       "      <td>1.3</td>\n",
       "      <td>3.4</td>\n",
       "      <td>0.5</td>\n",
       "    </tr>\n",
       "    <tr>\n",
       "      <th>1</th>\n",
       "      <td>02</td>\n",
       "      <td>06</td>\n",
       "      <td>2012</td>\n",
       "      <td>29</td>\n",
       "      <td>61</td>\n",
       "      <td>13</td>\n",
       "      <td>1.3</td>\n",
       "      <td>64.4</td>\n",
       "      <td>4.1</td>\n",
       "      <td>7.6</td>\n",
       "      <td>1</td>\n",
       "      <td>3.9</td>\n",
       "      <td>0.4</td>\n",
       "    </tr>\n",
       "    <tr>\n",
       "      <th>2</th>\n",
       "      <td>03</td>\n",
       "      <td>06</td>\n",
       "      <td>2012</td>\n",
       "      <td>26</td>\n",
       "      <td>82</td>\n",
       "      <td>22</td>\n",
       "      <td>13.1</td>\n",
       "      <td>47.1</td>\n",
       "      <td>2.5</td>\n",
       "      <td>7.1</td>\n",
       "      <td>0.3</td>\n",
       "      <td>2.7</td>\n",
       "      <td>0.1</td>\n",
       "    </tr>\n",
       "  </tbody>\n",
       "</table>\n",
       "</div>"
      ],
      "text/plain": [
       "  day month  year Temperature  RH  Ws Rain   FFMC  DMC   DC  ISI  BUI  FWI\n",
       "0  01    06  2012          29  57  18     0  65.7  3.4  7.6  1.3  3.4  0.5\n",
       "1  02    06  2012          29  61  13   1.3  64.4  4.1  7.6    1  3.9  0.4\n",
       "2  03    06  2012          26  82  22  13.1  47.1  2.5  7.1  0.3  2.7  0.1"
      ]
     },
     "execution_count": 8,
     "metadata": {},
     "output_type": "execute_result"
    }
   ],
   "source": [
    "#Independent Feature\n",
    "Algeria_df = pd.DataFrame.from_records(df[1:],columns=df[0])\n",
    "Algeria_df.head(3)"
   ]
  },
  {
   "cell_type": "code",
   "execution_count": 9,
   "id": "a75ef36f",
   "metadata": {},
   "outputs": [],
   "source": [
    "Algeria_df[\"Classes\"] = y[1:]"
   ]
  },
  {
   "cell_type": "code",
   "execution_count": 10,
   "id": "f00b1375",
   "metadata": {},
   "outputs": [
    {
     "data": {
      "text/plain": [
       "(246, 14)"
      ]
     },
     "execution_count": 10,
     "metadata": {},
     "output_type": "execute_result"
    }
   ],
   "source": [
    "Algeria_df.shape"
   ]
  },
  {
   "cell_type": "code",
   "execution_count": 11,
   "id": "f6d647ad",
   "metadata": {
    "scrolled": false
   },
   "outputs": [
    {
     "name": "stdout",
     "output_type": "stream",
     "text": [
      "<class 'pandas.core.frame.DataFrame'>\n",
      "RangeIndex: 246 entries, 0 to 245\n",
      "Data columns (total 14 columns):\n",
      " #   Column       Non-Null Count  Dtype \n",
      "---  ------       --------------  ----- \n",
      " 0   day          246 non-null    object\n",
      " 1   month        245 non-null    object\n",
      " 2   year         245 non-null    object\n",
      " 3   Temperature  245 non-null    object\n",
      " 4    RH          245 non-null    object\n",
      " 5    Ws          245 non-null    object\n",
      " 6   Rain         245 non-null    object\n",
      " 7   FFMC         245 non-null    object\n",
      " 8   DMC          245 non-null    object\n",
      " 9   DC           245 non-null    object\n",
      " 10  ISI          245 non-null    object\n",
      " 11  BUI          245 non-null    object\n",
      " 12  FWI          245 non-null    object\n",
      " 13  Classes      244 non-null    object\n",
      "dtypes: object(14)\n",
      "memory usage: 27.0+ KB\n"
     ]
    }
   ],
   "source": [
    "Algeria_df.info()"
   ]
  },
  {
   "cell_type": "markdown",
   "id": "2e056873",
   "metadata": {},
   "source": [
    " - Converting Object into suitable data type int and float"
   ]
  },
  {
   "cell_type": "code",
   "execution_count": 12,
   "id": "85e0d0cf",
   "metadata": {
    "scrolled": true
   },
   "outputs": [
    {
     "name": "stdout",
     "output_type": "stream",
     "text": [
      "-*--*--*--*--*--*--*--*--*--*--*--*--*--*--*--*--*--*--*--*--*--*--*--*--*--*--*--*--*--*-\n",
      "33\n",
      "day  :  ['01' '02' '03' '04' '05' '06' '07' '08' '09' '10' '11' '12' '13' '14'\n",
      " '15' '16' '17' '18' '19' '20' '21' '22' '23' '24' '25' '26' '27' '28'\n",
      " '29' '30' '31' 'Sidi-Bel Abbes Region Dataset' 'day']\n",
      "-*--*--*--*--*--*--*--*--*--*--*--*--*--*--*--*--*--*--*--*--*--*--*--*--*--*--*--*--*--*-\n",
      "6\n",
      "month  :  ['06' '07' '08' '09' nan 'month']\n",
      "-*--*--*--*--*--*--*--*--*--*--*--*--*--*--*--*--*--*--*--*--*--*--*--*--*--*--*--*--*--*-\n",
      "3\n",
      "year  :  ['2012' nan 'year']\n",
      "-*--*--*--*--*--*--*--*--*--*--*--*--*--*--*--*--*--*--*--*--*--*--*--*--*--*--*--*--*--*-\n",
      "21\n",
      "Temperature  :  ['29' '26' '25' '27' '31' '33' '30' '28' '32' '34' '35' '36' '37' '22'\n",
      " '24' nan 'Temperature' '38' '39' '40' '42']\n",
      "-*--*--*--*--*--*--*--*--*--*--*--*--*--*--*--*--*--*--*--*--*--*--*--*--*--*--*--*--*--*-\n",
      "64\n",
      " RH  :  ['57' '61' '82' '89' '77' '67' '54' '73' '88' '79' '65' '81' '84' '78'\n",
      " '80' '55' '62' '66' '64' '53' '47' '50' '68' '75' '76' '63' '69' '70'\n",
      " '59' '48' '45' '60' '51' '52' '58' '86' '74' '71' '49' nan ' RH' '44'\n",
      " '41' '42' '90' '87' '72' '46' '37' '36' '56' '43' '83' '29' '34' '33'\n",
      " '35' '39' '31' '21' '40' '24' '38' '26']\n",
      "-*--*--*--*--*--*--*--*--*--*--*--*--*--*--*--*--*--*--*--*--*--*--*--*--*--*--*--*--*--*-\n",
      "20\n",
      " Ws  :  ['18' '13' '22' '16' '14' '15' '12' '19' '21' '20' '17' '26' '11' nan\n",
      " ' Ws' '10' '9' '8' '6' '29']\n",
      "-*--*--*--*--*--*--*--*--*--*--*--*--*--*--*--*--*--*--*--*--*--*--*--*--*--*--*--*--*--*-\n",
      "41\n",
      "Rain   :  ['0' '1.3' '13.1' '2.5' '0.2' '1.2' '0.5' '3.1' '0.7' '0.6' '0.3' '0.1'\n",
      " '0.4' '1' '1.4' '0.8' '16.8' '7.2' '10.1' '3.8' '0.9' '1.8' '4.6' '8.3'\n",
      " '5.8' nan 'Rain ' '4' '2' '4.7' '8.7' '4.5' '1.1' '1.7' '2.2' '6' '1.9'\n",
      " '2.9' '4.1' '6.5' '4.4']\n",
      "-*--*--*--*--*--*--*--*--*--*--*--*--*--*--*--*--*--*--*--*--*--*--*--*--*--*--*--*--*--*-\n",
      "175\n",
      "FFMC  :  ['65.7' '64.4' '47.1' '28.6' '64.8' '82.6' '88.2' '86.6' '52.9' '73.2'\n",
      " '84.5' '84' '50' '59' '49.4' '36.1' '37.3' '56.9' '79.9' '59.8' '81'\n",
      " '79.1' '81.4' '85.9' '86.7' '86.8' '89' '89.1' '88.7' '59.9' '55.7'\n",
      " '63.1' '80.1' '87' '80' '85.6' '66.6' '81.1' '75.1' '81.8' '73.9' '60.7'\n",
      " '72.6' '82.8' '85.4' '88.1' '73.4' '68.2' '70' '84.3' '89.2' '90.3'\n",
      " '86.5' '87.2' '78.8' '78' '76.6' '85' '86.4' '77.1' '87.4' '88.9' '81.3'\n",
      " '82.4' '80.2' '89.3' '89.4' '88.3' '88.6' '89.5' '85.8' '84.9' '90.1'\n",
      " '72.7' '52.5' '46' '30.5' '42.6' '68.4' '80.8' '75.8' '69.6' '62' '56.1'\n",
      " '58.5' '71' '40.9' '47.4' '44.9' '78.1' '87.7' '83.8' '87.8' '77.8'\n",
      " '73.7' '68.3' '48.6' '82' '85.7' '77.5' '45' nan 'FFMC' '57.1' '48.7'\n",
      " '79.4' '83.7' '71.4' '90.6' '72.3' '53.4' '66.8' '62.2' '65.5' '64.6'\n",
      " '60.2' '86.2' '78.3' '74.2' '85.3' '86' '92.5' '79.7' '63.7' '87.6'\n",
      " '84.7' '88' '90.5' '82.3' '74.8' '85.2' '84.6' '86.1' '89.9' '93.9'\n",
      " '91.5' '87.3' '72.8' '73.8' '87.5' '93.3' '93.7' '93.8' '70.5' '69.7'\n",
      " '91.7' '94.2' '93' '91.9' '83.9' '92' '96' '94.3' '82.7' '91.2' '92.1'\n",
      " '92.2' '91' '79.2' '37.9' '75.4' '82.2' '73.5' '66.1' '64.5' '83.3'\n",
      " '82.5' '83.1' '59.5' '84.2' '79.5' '61.3' '41.1' '45.9' '67.3']\n",
      "-*--*--*--*--*--*--*--*--*--*--*--*--*--*--*--*--*--*--*--*--*--*--*--*--*--*--*--*--*--*-\n",
      "168\n",
      "DMC  :  ['3.4' '4.1' '2.5' '1.3' '3' '5.8' '9.9' '12.1' '7.9' '9.5' '12.5' '13.8'\n",
      " '6.7' '4.6' '1.7' '1.1' '1.9' '4.5' '6.3' '7' '8.2' '11.2' '14.2' '17.8'\n",
      " '21.6' '25.5' '18.4' '22.9' '2.4' '2.6' '7.6' '10.9' '9.7' '7.7' '6'\n",
      " '8.1' '7.8' '5.2' '9.4' '12' '12.3' '18.5' '16.4' '10.5' '9.6' '17.1'\n",
      " '22.2' '24.4' '26.7' '28.5' '31.9' '4.8' '5.7' '11.1' '13' '15.5' '11.3'\n",
      " '14.8' '18.6' '21.7' '15.6' '19' '11.7' '16' '20' '23.2' '25.9' '29.6'\n",
      " '33.5' '37.6' '40.5' '43.9' '45.6' '47' '50.2' '54.2' '25.2' '8.7' '0.7'\n",
      " '1.2' '3.6' '3.2' '2.1' '2.2' '0.9' '6.4' '9.8' '13.5' '16.5' '10.6'\n",
      " '5.5' '8.3' '7.1' '2.9' nan 'DMC' '2.7' '8.4' '8.5' '13.3' '18.2' '21.3'\n",
      " '11.4' '7.2' '4.2' '3.9' '4.4' '3.8' '10' '12.8' '20.9' '27.2' '17.9'\n",
      " '13.6' '18.7' '8' '12.6' '12.9' '18' '19.4' '21.1' '23.9' '27.8' '32.7'\n",
      " '39.6' '44.2' '46.6' '10.8' '11.8' '15.7' '19.5' '23.8' '28.3' '23'\n",
      " '23.6' '11' '15.8' '22.5' '16.9' '22.3' '22.6' '30.3' '35.9' '34.4'\n",
      " '36.9' '41.1' '46.1' '51.3' '56.3' '61.3' '65.9' '37' '20.7' '24.8' '4'\n",
      " '3.3' '6.6' '4.7' '6.5' '11.5' '21.2' '25.8' '24.9' '26.1' '29.4' '11.9'\n",
      " '3.5' '4.3']\n",
      "-*--*--*--*--*--*--*--*--*--*--*--*--*--*--*--*--*--*--*--*--*--*--*--*--*--*--*--*--*--*-\n",
      "200\n",
      "DC  :  ['7.6' '7.1' '6.9' '14.2' '22.2' '30.5' '38.3' '38.8' '46.3' '54.3' '61.4'\n",
      " '17' '7.8' '7.4' '8' '16' '27.1' '31.6' '39.5' '47.7' '55.8' '63.8'\n",
      " '71.8' '80.3' '88.5' '84.4' '92.8' '8.6' '8.3' '9.2' '18.5' '27.9' '37'\n",
      " '40.4' '49.8' '9.3' '18.7' '27.7' '37.2' '22.9' '25.5' '34.1' '43.1'\n",
      " '52.8' '62.1' '71.5' '79.9' '71.3' '79.7' '88.7' '98.6' '108.5' '117.8'\n",
      " '127' '136' '145.7' '10.2' '10' '19.8' '29.7' '39.1' '48.6' '47' '57'\n",
      " '67' '77' '75.1' '85.1' '94.7' '92.5' '90.4' '100.7' '110.9' '120.9'\n",
      " '130.6' '141.1' '151.3' '161.5' '171.3' '181.3' '190.6' '200.2' '210.4'\n",
      " '220.4' '180.4' '8.7' '7.5' '7' '15.7' '24' '32.2' '30.1' '8.4' '8.9'\n",
      " '16.6' '7.3' '24.3' '33.1' '41.3' '49.3' '57.9' '41.4' '30.4' '15.2'\n",
      " '7.7' '16.3' '24.9' '8.8' nan 'DC' '8.2' '15.4' '17.6' '26.3' '28.9'\n",
      " '14.7' '22.5' '37.8' '18.4' '25.6' '34.5' '43.3' '52.4' '36.7' '8.5'\n",
      " '17.8' '27.3' '36.8' '46.4' '45.1' '35.4' '9.7' '9.9' '9.5' '19.4' '10.4'\n",
      " '14.6 9' '24.1' '42.3' '51.6' '61.1' '71' '80.6' '90.1' '99' '56.6'\n",
      " '15.9' '19.7' '28.3' '37.6' '47.2' '57.1' '67.2' '10.5' '21.4' '32.1'\n",
      " '42.7' '52.5' '9.1' '9.8' '20.2' '30.9' '41.5' '55.5' '54.2' '65.1'\n",
      " '76.4' '86.8' '96.8' '107' '117.1' '127.5' '137.7' '147.7' '157.5'\n",
      " '167.2' '177.3' '166' '149.2' '159.1' '168.2' '26.6' '17.7' '26.1' '25.2'\n",
      " '33.4' '50.2' '59.2' '63.3' '77.8' '86' '88' '97.3' '106.3' '115.6'\n",
      " '28.1' '36.1' '44.5' '7.9' '16.5']\n",
      "-*--*--*--*--*--*--*--*--*--*--*--*--*--*--*--*--*--*--*--*--*--*--*--*--*--*--*--*--*--*-\n",
      "108\n",
      "ISI  :  ['1.3' '1' '0.3' '0' '1.2' '3.1' '6.4' '5.6' '0.4' '4' '4.8' '0.5' '0.7'\n",
      " '2.5' '0.9' '2.6' '2.4' '3.3' '5.7' '6.7' '9.2' '7.6' '2.2' '7.2' '1.1'\n",
      " '0.8' '2.7' '2.8' '6' '1.5' '3' '1.4' '3.2' '4.6' '7.7' '5.2' '1.8' '10'\n",
      " '8.7' '4.7' '6.8' '2' '1.7' '5.5' '6.9' '7.4' '7.1' '5.9' '3.7' '9.7'\n",
      " '8.8' '9.9' '10.4' '9' '8.2' '4.4' '7.3' '12.5' '0.6' '0.2' '0.1' '2.1'\n",
      " '1.9' '6.2' '7.8' '4.5' '5.4' nan 'ISI' '8.4' '13.4' '5' '1.6' '4.9' '7'\n",
      " '8' '11.7' '11.3' '4.3' '4.1' '8.3' '4.2' '10.9' '9.5' '18.5' '13.2'\n",
      " '13.8' '17.2' '15.7' '19' '9.6' '16.6' '15.5' '7.5' '10.8' '3.5' '16'\n",
      " '3.8' '5.1' '11.5' '12.2' '14.3' '13.1' '8.1' '9.8' '9.1' '14.2' '11.2']\n",
      "-*--*--*--*--*--*--*--*--*--*--*--*--*--*--*--*--*--*--*--*--*--*--*--*--*--*--*--*--*--*-\n",
      "176\n",
      "BUI  :  ['3.4' '3.9' '2.7' '1.7' '7' '10.9' '13.5' '10.5' '12.6' '15.8' '17.7'\n",
      " '6.7' '4.4' '3' '2.2' '1.6' '2.4' '5.3' '5.1' '8.4' '9.7' '11.5' '14.9'\n",
      " '18.3' '21.6' '25.8' '29.7' '23.8' '28.3' '2.9' '2.8' '5.7' '9.1' '12.5'\n",
      " '12.1' '15.4' '7.4' '5.8' '8.1' '9.2' '11.7' '5.9' '8.3' '11.1' '14.2'\n",
      " '18.2' '16.5' '22.4' '21.7' '14.7' '18.5' '23.9' '29.4' '32.1' '35'\n",
      " '37.4' '41.2' '4.7' '5.5' '8.2' '17.2' '14.1' '17.9' '21.9' '25.5' '20.7'\n",
      " '24.4' '27.2' '22' '17.6' '22.9' '27.5' '31.3' '34.7' '38.8' '43.1'\n",
      " '47.5' '50.9' '54.7' '57.1' '59.3' '62.9' '67.4' '1.8' '1.1' '5.6' '2.6'\n",
      " '3.7' '1.4' '4.2' '7.7' '11.3' '16' '19.2' '12.9' '9.6' '6.2' '9' '6.8'\n",
      " nan 'BUI' '6.5' '9.3' '10.7' '7.3' '13.1' '18' '21.2' '6.1' '7.1' '4.1'\n",
      " '3.8' '9.9' '12.7' '16.4' '20.8' '27.1' '17.8' '3.3' '7.8' '10.3' '18.7'\n",
      " '16.7' '13.7' '9.4' '10.4' '20.9' '27.7' '32.6' '39.5' '44' '46.5' '11.4'\n",
      " '11.8' '15.7' '19.5' '10.6' '16.9' '23.5' '6.9' '11' '18.4' '17.5' '22.3'\n",
      " '19' '24.2' '30.4' '35.9' '35.5' '38.1' '41.3' '45.5' '50.2' '54.9'\n",
      " '59.5' '64' '68' '30.6' '35.7' '39.3' '4' '6' '3.5' '6.4' '10' '4.6'\n",
      " '6.6' '12.4' '14.3' '26.2' '28.2' '28.9' '32.4' '36' '11.9' '4.8']\n",
      "-*--*--*--*--*--*--*--*--*--*--*--*--*--*--*--*--*--*--*--*--*--*--*--*--*--*--*--*--*--*-\n",
      "129\n",
      "FWI  :  ['0.5' '0.4' '0.1' '0' '2.5' '7.2' '7.1' '0.3' '0.9' '5.6' '7.1 ' '0.2'\n",
      " '1.4' '2.2' '2.3' '3.8' '7.5' '8.4' '10.6' '15' '13.9' '3.9' '12.9' '1.7'\n",
      " '4.9' '6.8' '3.2' '8' '0.6' '3.4' '0.8' '3.6' '6' '10.9' '4' '8.8' '2.8'\n",
      " '2.1' '1.3' '7.3' '15.3' '11.3' '11.9' '10.7' '15.7' '6.1' '2.6' '9.9'\n",
      " '11.6' '12.1' '4.2' '10.2' '6.3' '14.6' '16.1' '17.2' '16.8' '18.4'\n",
      " '20.4' '22.3' '20.9' '20.3' '13.7' '13.2' '19.9' '30.2' '5.9' '7.7' '9.7'\n",
      " '8.3' '0.7' '4.1' nan 'FWI' '1' '3.1' '1.9' '10' '16.7' '1.2' '5.3' '6.7'\n",
      " '9.5' '12' '6.4' '5.2' '3' '9.6' '4.7' 'fire   ' '14.1' '9.1' '13' '17.3'\n",
      " '30' '25.4' '16.3' '9' '14.5' '13.5' '19.5' '12.6' '12.7' '21.6' '18.8'\n",
      " '10.5' '5.5' '14.8' '24' '26.3' '12.2' '18.1' '24.5' '26.9' '31.1' '30.3'\n",
      " '26.1' '16' '19.4' '2.7' '3.7' '10.3' '5.7' '9.8' '19.3' '17.5' '15.4'\n",
      " '15.2' '6.5']\n",
      "-*--*--*--*--*--*--*--*--*--*--*--*--*--*--*--*--*--*--*--*--*--*--*--*--*--*--*--*--*--*-\n",
      "10\n",
      "Classes  :  ['not fire   ' 'fire   ' 'fire' 'fire ' 'not fire' 'not fire ' nan\n",
      " 'Classes  ' 'not fire     ' 'not fire    ']\n"
     ]
    }
   ],
   "source": [
    "for feature in Algeria_df.columns:\n",
    "    print(\"-*-\"*30)\n",
    "    uniq_value = Algeria_df[feature].unique()\n",
    "    print(len(uniq_value))\n",
    "    print(feature, \" : \", uniq_value)"
   ]
  },
  {
   "cell_type": "markdown",
   "id": "6dccad91",
   "metadata": {},
   "source": [
    "- Observations:\n",
    "    1. Converting Object into Numeric and non numeric to null\n",
    "    2. Multiple words and sentence in Numerical data replace with NaN\n",
    "    3. In Dependent feature Classes there need to strip extra space and remove Nan or Classes rows"
   ]
  },
  {
   "cell_type": "code",
   "execution_count": 13,
   "id": "09c6fd59",
   "metadata": {
    "scrolled": true
   },
   "outputs": [
    {
     "name": "stdout",
     "output_type": "stream",
     "text": [
      "<class 'pandas.core.frame.DataFrame'>\n",
      "RangeIndex: 246 entries, 0 to 245\n",
      "Data columns (total 14 columns):\n",
      " #   Column       Non-Null Count  Dtype  \n",
      "---  ------       --------------  -----  \n",
      " 0   day          244 non-null    float64\n",
      " 1   month        244 non-null    float64\n",
      " 2   year         244 non-null    float64\n",
      " 3   Temperature  244 non-null    float64\n",
      " 4    RH          244 non-null    float64\n",
      " 5    Ws          244 non-null    float64\n",
      " 6   Rain         244 non-null    float64\n",
      " 7   FFMC         244 non-null    float64\n",
      " 8   DMC          244 non-null    float64\n",
      " 9   DC           243 non-null    float64\n",
      " 10  ISI          244 non-null    float64\n",
      " 11  BUI          244 non-null    float64\n",
      " 12  FWI          243 non-null    float64\n",
      " 13  Classes      244 non-null    object \n",
      "dtypes: float64(13), object(1)\n",
      "memory usage: 27.0+ KB\n"
     ]
    }
   ],
   "source": [
    "#For loop to convert into numeric:\n",
    "for feature in Algeria_df.columns:\n",
    "    if feature != \"Classes\":\n",
    "        Algeria_df[feature] = pd.to_numeric(Algeria_df[feature], errors='coerce')\n",
    "\n",
    "Algeria_df.info()"
   ]
  },
  {
   "cell_type": "code",
   "execution_count": 14,
   "id": "73d9844e",
   "metadata": {
    "scrolled": false
   },
   "outputs": [
    {
     "data": {
      "text/plain": [
       "0     243\n",
       "14      1\n",
       "13      1\n",
       "3       1\n",
       "dtype: int64"
      ]
     },
     "execution_count": 14,
     "metadata": {},
     "output_type": "execute_result"
    }
   ],
   "source": [
    "Algeria_df.isnull().sum(axis=1).value_counts()"
   ]
  },
  {
   "cell_type": "markdown",
   "id": "cffb46df",
   "metadata": {},
   "source": [
    "- Observation:\n",
    "    1. Only 3 row contain null values.\n",
    "    2. 2 out of 3 have thirteen null feature values"
   ]
  },
  {
   "cell_type": "code",
   "execution_count": 15,
   "id": "9aafd157",
   "metadata": {},
   "outputs": [
    {
     "data": {
      "text/plain": [
       "(243, 14)"
      ]
     },
     "execution_count": 15,
     "metadata": {},
     "output_type": "execute_result"
    }
   ],
   "source": [
    "Algeria_df.dropna(inplace=True)\n",
    "Algeria_df.shape"
   ]
  },
  {
   "cell_type": "code",
   "execution_count": 70,
   "id": "f4a4c1aa",
   "metadata": {},
   "outputs": [],
   "source": [
    "#Saving For Further Processing\n",
    "Algeria_df.to_csv(\"Algeria_forest_fire_updated.csv\")"
   ]
  },
  {
   "cell_type": "code",
   "execution_count": 41,
   "id": "8c1430a8",
   "metadata": {
    "scrolled": true
   },
   "outputs": [
    {
     "data": {
      "text/html": [
       "<div>\n",
       "<style scoped>\n",
       "    .dataframe tbody tr th:only-of-type {\n",
       "        vertical-align: middle;\n",
       "    }\n",
       "\n",
       "    .dataframe tbody tr th {\n",
       "        vertical-align: top;\n",
       "    }\n",
       "\n",
       "    .dataframe thead th {\n",
       "        text-align: right;\n",
       "    }\n",
       "</style>\n",
       "<table border=\"1\" class=\"dataframe\">\n",
       "  <thead>\n",
       "    <tr style=\"text-align: right;\">\n",
       "      <th></th>\n",
       "      <th>day</th>\n",
       "      <th>month</th>\n",
       "      <th>year</th>\n",
       "      <th>Temperature</th>\n",
       "      <th>RH</th>\n",
       "      <th>Ws</th>\n",
       "      <th>Rain</th>\n",
       "      <th>FFMC</th>\n",
       "      <th>DMC</th>\n",
       "      <th>DC</th>\n",
       "      <th>ISI</th>\n",
       "      <th>BUI</th>\n",
       "      <th>FWI</th>\n",
       "    </tr>\n",
       "  </thead>\n",
       "  <tbody>\n",
       "    <tr>\n",
       "      <th>count</th>\n",
       "      <td>243.000000</td>\n",
       "      <td>243.000000</td>\n",
       "      <td>243.0</td>\n",
       "      <td>243.000000</td>\n",
       "      <td>243.000000</td>\n",
       "      <td>243.000000</td>\n",
       "      <td>243.000000</td>\n",
       "      <td>243.000000</td>\n",
       "      <td>243.000000</td>\n",
       "      <td>243.000000</td>\n",
       "      <td>243.000000</td>\n",
       "      <td>243.000000</td>\n",
       "      <td>243.000000</td>\n",
       "    </tr>\n",
       "    <tr>\n",
       "      <th>mean</th>\n",
       "      <td>15.761317</td>\n",
       "      <td>7.502058</td>\n",
       "      <td>2012.0</td>\n",
       "      <td>32.152263</td>\n",
       "      <td>62.041152</td>\n",
       "      <td>15.493827</td>\n",
       "      <td>0.762963</td>\n",
       "      <td>77.842387</td>\n",
       "      <td>14.680658</td>\n",
       "      <td>49.430864</td>\n",
       "      <td>4.742387</td>\n",
       "      <td>16.690535</td>\n",
       "      <td>7.035391</td>\n",
       "    </tr>\n",
       "    <tr>\n",
       "      <th>std</th>\n",
       "      <td>8.842552</td>\n",
       "      <td>1.114793</td>\n",
       "      <td>0.0</td>\n",
       "      <td>3.628039</td>\n",
       "      <td>14.828160</td>\n",
       "      <td>2.811385</td>\n",
       "      <td>2.003207</td>\n",
       "      <td>14.349641</td>\n",
       "      <td>12.393040</td>\n",
       "      <td>47.665606</td>\n",
       "      <td>4.154234</td>\n",
       "      <td>14.228421</td>\n",
       "      <td>7.440568</td>\n",
       "    </tr>\n",
       "    <tr>\n",
       "      <th>min</th>\n",
       "      <td>1.000000</td>\n",
       "      <td>6.000000</td>\n",
       "      <td>2012.0</td>\n",
       "      <td>22.000000</td>\n",
       "      <td>21.000000</td>\n",
       "      <td>6.000000</td>\n",
       "      <td>0.000000</td>\n",
       "      <td>28.600000</td>\n",
       "      <td>0.700000</td>\n",
       "      <td>6.900000</td>\n",
       "      <td>0.000000</td>\n",
       "      <td>1.100000</td>\n",
       "      <td>0.000000</td>\n",
       "    </tr>\n",
       "    <tr>\n",
       "      <th>25%</th>\n",
       "      <td>8.000000</td>\n",
       "      <td>7.000000</td>\n",
       "      <td>2012.0</td>\n",
       "      <td>30.000000</td>\n",
       "      <td>52.500000</td>\n",
       "      <td>14.000000</td>\n",
       "      <td>0.000000</td>\n",
       "      <td>71.850000</td>\n",
       "      <td>5.800000</td>\n",
       "      <td>12.350000</td>\n",
       "      <td>1.400000</td>\n",
       "      <td>6.000000</td>\n",
       "      <td>0.700000</td>\n",
       "    </tr>\n",
       "    <tr>\n",
       "      <th>50%</th>\n",
       "      <td>16.000000</td>\n",
       "      <td>8.000000</td>\n",
       "      <td>2012.0</td>\n",
       "      <td>32.000000</td>\n",
       "      <td>63.000000</td>\n",
       "      <td>15.000000</td>\n",
       "      <td>0.000000</td>\n",
       "      <td>83.300000</td>\n",
       "      <td>11.300000</td>\n",
       "      <td>33.100000</td>\n",
       "      <td>3.500000</td>\n",
       "      <td>12.400000</td>\n",
       "      <td>4.200000</td>\n",
       "    </tr>\n",
       "    <tr>\n",
       "      <th>75%</th>\n",
       "      <td>23.000000</td>\n",
       "      <td>8.000000</td>\n",
       "      <td>2012.0</td>\n",
       "      <td>35.000000</td>\n",
       "      <td>73.500000</td>\n",
       "      <td>17.000000</td>\n",
       "      <td>0.500000</td>\n",
       "      <td>88.300000</td>\n",
       "      <td>20.800000</td>\n",
       "      <td>69.100000</td>\n",
       "      <td>7.250000</td>\n",
       "      <td>22.650000</td>\n",
       "      <td>11.450000</td>\n",
       "    </tr>\n",
       "    <tr>\n",
       "      <th>max</th>\n",
       "      <td>31.000000</td>\n",
       "      <td>9.000000</td>\n",
       "      <td>2012.0</td>\n",
       "      <td>42.000000</td>\n",
       "      <td>90.000000</td>\n",
       "      <td>29.000000</td>\n",
       "      <td>16.800000</td>\n",
       "      <td>96.000000</td>\n",
       "      <td>65.900000</td>\n",
       "      <td>220.400000</td>\n",
       "      <td>19.000000</td>\n",
       "      <td>68.000000</td>\n",
       "      <td>31.100000</td>\n",
       "    </tr>\n",
       "  </tbody>\n",
       "</table>\n",
       "</div>"
      ],
      "text/plain": [
       "              day       month    year  Temperature          RH          Ws  \\\n",
       "count  243.000000  243.000000   243.0   243.000000  243.000000  243.000000   \n",
       "mean    15.761317    7.502058  2012.0    32.152263   62.041152   15.493827   \n",
       "std      8.842552    1.114793     0.0     3.628039   14.828160    2.811385   \n",
       "min      1.000000    6.000000  2012.0    22.000000   21.000000    6.000000   \n",
       "25%      8.000000    7.000000  2012.0    30.000000   52.500000   14.000000   \n",
       "50%     16.000000    8.000000  2012.0    32.000000   63.000000   15.000000   \n",
       "75%     23.000000    8.000000  2012.0    35.000000   73.500000   17.000000   \n",
       "max     31.000000    9.000000  2012.0    42.000000   90.000000   29.000000   \n",
       "\n",
       "            Rain         FFMC         DMC          DC         ISI         BUI  \\\n",
       "count  243.000000  243.000000  243.000000  243.000000  243.000000  243.000000   \n",
       "mean     0.762963   77.842387   14.680658   49.430864    4.742387   16.690535   \n",
       "std      2.003207   14.349641   12.393040   47.665606    4.154234   14.228421   \n",
       "min      0.000000   28.600000    0.700000    6.900000    0.000000    1.100000   \n",
       "25%      0.000000   71.850000    5.800000   12.350000    1.400000    6.000000   \n",
       "50%      0.000000   83.300000   11.300000   33.100000    3.500000   12.400000   \n",
       "75%      0.500000   88.300000   20.800000   69.100000    7.250000   22.650000   \n",
       "max     16.800000   96.000000   65.900000  220.400000   19.000000   68.000000   \n",
       "\n",
       "              FWI  \n",
       "count  243.000000  \n",
       "mean     7.035391  \n",
       "std      7.440568  \n",
       "min      0.000000  \n",
       "25%      0.700000  \n",
       "50%      4.200000  \n",
       "75%     11.450000  \n",
       "max     31.100000  "
      ]
     },
     "execution_count": 41,
     "metadata": {},
     "output_type": "execute_result"
    }
   ],
   "source": [
    "# Relation ship between different different Feature\n",
    "Algeria_df.describe()"
   ]
  },
  {
   "cell_type": "code",
   "execution_count": 17,
   "id": "e605755e",
   "metadata": {
    "scrolled": true
   },
   "outputs": [
    {
     "data": {
      "text/plain": [
       "array(['not fire   ', 'fire   ', 'fire', 'fire ', 'not fire', 'not fire ',\n",
       "       'not fire     ', 'not fire    '], dtype=object)"
      ]
     },
     "execution_count": 17,
     "metadata": {},
     "output_type": "execute_result"
    }
   ],
   "source": [
    "Algeria_df[\"Classes\"].unique()"
   ]
  },
  {
   "cell_type": "markdown",
   "id": "34c899cd",
   "metadata": {},
   "source": [
    "- Multiple Categorical values with same name.\n",
    "- Striping of white space is required"
   ]
  },
  {
   "cell_type": "code",
   "execution_count": 20,
   "id": "4e2b3160",
   "metadata": {},
   "outputs": [
    {
     "data": {
      "text/plain": [
       "fire        137\n",
       "not fire    106\n",
       "Name: Classes, dtype: int64"
      ]
     },
     "execution_count": 20,
     "metadata": {},
     "output_type": "execute_result"
    }
   ],
   "source": [
    "Algeria_df[\"Classes\"] = Algeria_df[\"Classes\"].str.rstrip()\n",
    "Algeria_df[\"Classes\"].value_counts()"
   ]
  },
  {
   "cell_type": "markdown",
   "id": "c5ab8f72",
   "metadata": {},
   "source": [
    "### Checking for no. of Zero values in dataset:"
   ]
  },
  {
   "cell_type": "code",
   "execution_count": 22,
   "id": "054d916e",
   "metadata": {},
   "outputs": [
    {
     "name": "stdout",
     "output_type": "stream",
     "text": [
      "day ==> 0.0 %\n",
      "month ==> 0.0 %\n",
      "year ==> 0.0 %\n",
      "Temperature ==> 0.0 %\n",
      " RH ==> 0.0 %\n",
      " Ws ==> 0.0 %\n",
      "Rain  ==> 54.73 %\n",
      "FFMC ==> 0.0 %\n",
      "DMC ==> 0.0 %\n",
      "DC ==> 0.0 %\n",
      "ISI ==> 1.65 %\n",
      "BUI ==> 0.0 %\n",
      "FWI ==> 3.7 %\n",
      "Classes ==> 0.0 %\n"
     ]
    }
   ],
   "source": [
    "#Calculating no. of Zeros present in data\n",
    "for feature in Algeria_df.columns:\n",
    "    column = Algeria_df[feature]\n",
    "    count = np.round((column==0).sum()/len(column)*100,2)\n",
    "    print(f\"{feature} ==> {count} %\")"
   ]
  },
  {
   "cell_type": "markdown",
   "id": "8b3eaaa4",
   "metadata": {},
   "source": [
    "- Observations:\n",
    "    1. 54.7% of Rain feature data contain zero value which mean it is Dry reagion.\n",
    "    2. More then 50% of data is zero so, Rain data will be Highly Right Skewed"
   ]
  },
  {
   "cell_type": "code",
   "execution_count": 60,
   "id": "7f24eeae",
   "metadata": {
    "scrolled": true
   },
   "outputs": [],
   "source": [
    "Algeria_df[\"Classes\"] = Algeria_df[\"Classes\"].apply(lambda x: 1 if x==\"fire\" else 0)"
   ]
  },
  {
   "cell_type": "code",
   "execution_count": 61,
   "id": "a3d741e0",
   "metadata": {},
   "outputs": [
    {
     "name": "stdout",
     "output_type": "stream",
     "text": [
      "<class 'pandas.core.frame.DataFrame'>\n",
      "Int64Index: 243 entries, 0 to 245\n",
      "Data columns (total 14 columns):\n",
      " #   Column       Non-Null Count  Dtype  \n",
      "---  ------       --------------  -----  \n",
      " 0   day          243 non-null    float64\n",
      " 1   month        243 non-null    float64\n",
      " 2   year         243 non-null    float64\n",
      " 3   Temperature  243 non-null    float64\n",
      " 4    RH          243 non-null    float64\n",
      " 5    Ws          243 non-null    float64\n",
      " 6   Rain         243 non-null    float64\n",
      " 7   FFMC         243 non-null    float64\n",
      " 8   DMC          243 non-null    float64\n",
      " 9   DC           243 non-null    float64\n",
      " 10  ISI          243 non-null    float64\n",
      " 11  BUI          243 non-null    float64\n",
      " 12  FWI          243 non-null    float64\n",
      " 13  Classes      243 non-null    int64  \n",
      "dtypes: float64(13), int64(1)\n",
      "memory usage: 36.6 KB\n"
     ]
    }
   ],
   "source": [
    "Algeria_df.info()"
   ]
  },
  {
   "cell_type": "code",
   "execution_count": 62,
   "id": "3b6f35a9",
   "metadata": {},
   "outputs": [
    {
     "data": {
      "text/plain": [
       "<AxesSubplot:>"
      ]
     },
     "execution_count": 62,
     "metadata": {},
     "output_type": "execute_result"
    },
    {
     "data": {
      "image/png": "[encoded data removed]",
      "text/plain": [
       "<Figure size 720x576 with 2 Axes>"
      ]
     },
     "metadata": {
      "needs_background": "light"
     },
     "output_type": "display_data"
    }
   ],
   "source": [
    "#For Duplicate data\n",
    "plt.figure(figsize=(10,8))\n",
    "sns.heatmap(Algeria_df.corr(method=\"spearman\"),annot=True)"
   ]
  },
  {
   "cell_type": "markdown",
   "id": "f6189d32",
   "metadata": {},
   "source": [
    "- Observations:\n",
    "     1. Year has only one value which is 2012 so it can be drop \n",
    "     2. We can use FFMC,DC,ISI,BUI,FWI to Predict the Zero values of Rain.\n",
    "     3. There is Strong Relations in Last 6 feature (FFMC,DC,ISI,BUI,FWI) removing some Co-relation \n",
    "         will improve the performence of Model"
   ]
  },
  {
   "cell_type": "code",
   "execution_count": 36,
   "id": "15452d8f",
   "metadata": {
    "scrolled": false
   },
   "outputs": [
    {
     "data": {
      "text/plain": [
       "<AxesSubplot:xlabel='month,Classes'>"
      ]
     },
     "execution_count": 36,
     "metadata": {},
     "output_type": "execute_result"
    },
    {
     "data": {
      "image/png": "[encoded data removed]",
      "text/plain": [
       "<Figure size 720x576 with 1 Axes>"
      ]
     },
     "metadata": {
      "needs_background": "light"
     },
     "output_type": "display_data"
    }
   ],
   "source": [
    "Algeria_df.groupby([\"month\",\"Classes\"]).count()[\"BUI\"].plot(kind=\"bar\", figsize=(10,8))"
   ]
  },
  {
   "cell_type": "markdown",
   "id": "157a432f",
   "metadata": {},
   "source": [
    "- Observation:\n",
    "    1. July and Augest has Higest rate of Fire due to warm climatic conditions.\n",
    "    2. Arund 50 time in Augest Fire case is Observed which is Maximum in other months.\n",
    " "
   ]
  },
  {
   "cell_type": "code",
   "execution_count": 44,
   "id": "9d361bd1",
   "metadata": {
    "scrolled": true
   },
   "outputs": [
    {
     "data": {
      "text/plain": [
       "Index(['day', 'month', 'year', 'Temperature', ' RH', ' Ws', 'Rain ', 'FFMC',\n",
       "       'DMC', 'DC', 'ISI', 'BUI', 'FWI', 'Classes'],\n",
       "      dtype='object')"
      ]
     },
     "execution_count": 44,
     "metadata": {},
     "output_type": "execute_result"
    }
   ],
   "source": [
    "Algeria_df.columns"
   ]
  },
  {
   "cell_type": "code",
   "execution_count": 53,
   "id": "5b0837e8",
   "metadata": {},
   "outputs": [],
   "source": [
    "rain_10 = Algeria_df[\"Rain \"] + 10"
   ]
  },
  {
   "cell_type": "code",
   "execution_count": 54,
   "id": "3074424d",
   "metadata": {},
   "outputs": [
    {
     "data": {
      "application/vnd.plotly.v1+json": {
       "config": {
        "plotlyServerURL": "https://plot.ly"
       },
       "data": [
        {
         "hovertemplate": "Classes=not fire<br>Temperature=%{x}<br> RH=%{y}<br> Ws=%{z}<br>size=%{marker.size}<extra></extra>",
         "legendgroup": "not fire",
         "marker": {
          "color": "#636efa",
          "size": [
           10,
           11.3,
           23.1,
           12.5,
           10,
           10.2,
           10,
           11.2,
           10.5,
           13.1,
           10.7,
           10.6,
           10.3,
           10.1,
           10.4,
           10.1,
           10.3,
           11,
           11.2,
           10.7,
           10,
           10.2,
           11.4,
           10.7,
           10,
           10.1,
           10,
           10.6,
           10.4,
           10,
           10.1,
           10.4,
           10.1,
           10,
           10.4,
           10.3,
           10.3,
           10.3,
           10.8,
           26.8,
           17.2,
           20.1,
           13.8,
           10.1,
           10.1,
           10.3,
           10.9,
           11,
           11.8,
           11.8,
           10,
           14.6,
           18.3,
           10.4,
           10,
           10.6,
           10.5,
           10.6,
           15.8,
           10,
           10.7,
           11.8,
           11.4,
           10.7,
           14,
           12,
           10,
           10.2,
           11.3,
           10.1,
           12,
           10.7,
           10,
           10.4,
           14.7,
           18.7,
           14.5,
           10.2,
           11.1,
           10.8,
           11.7,
           12.2,
           13.8,
           12.9,
           11.1,
           11.2,
           10.2,
           10,
           10,
           13.1,
           12.9,
           10.4,
           10,
           10,
           10.2,
           14.1,
           16.5,
           11.1,
           10,
           10.2,
           12,
           10,
           14.4,
           10.5,
           10.1,
           10.2
          ],
          "sizemode": "area",
          "sizeref": 0.067,
          "symbol": "circle"
         },
         "mode": "markers",
         "name": "not fire",
         "scene": "scene",
         "showlegend": true,
         "type": "scatter3d",
         "x": [
          29,
          29,
          26,
          25,
          27,
          25,
          28,
          27,
          30,
          28,
          29,
          30,
          31,
          31,
          30,
          31,
          32,
          29,
          27,
          32,
          33,
          35,
          32,
          33,
          33,
          31,
          34,
          34,
          30,
          28,
          28,
          27,
          28,
          36,
          35,
          35,
          32,
          35,
          35,
          28,
          25,
          22,
          25,
          29,
          29,
          31,
          30,
          30,
          33,
          30,
          29,
          25,
          22,
          24,
          30,
          31,
          32,
          29,
          26,
          31,
          32,
          26,
          25,
          32,
          30,
          29,
          30,
          32,
          28,
          27,
          30,
          27,
          28,
          29,
          31,
          33,
          32,
          31,
          33,
          33,
          34,
          28,
          34,
          34,
          33,
          39,
          35,
          29,
          38,
          30,
          34,
          35,
          29,
          28,
          30,
          30,
          34,
          29,
          30,
          34,
          26,
          28,
          28,
          27,
          24,
          24
         ],
         "y": [
          57,
          61,
          82,
          89,
          77,
          88,
          79,
          84,
          78,
          80,
          89,
          89,
          78,
          55,
          80,
          67,
          47,
          68,
          75,
          76,
          78,
          64,
          68,
          69,
          76,
          75,
          81,
          61,
          80,
          76,
          79,
          66,
          78,
          45,
          55,
          63,
          60,
          51,
          70,
          80,
          76,
          86,
          78,
          73,
          74,
          71,
          73,
          77,
          73,
          77,
          88,
          86,
          76,
          82,
          65,
          50,
          54,
          65,
          81,
          54,
          47,
          80,
          78,
          71,
          73,
          80,
          64,
          60,
          51,
          59,
          52,
          79,
          90,
          87,
          69,
          62,
          67,
          72,
          46,
          59,
          42,
          58,
          51,
          56,
          63,
          64,
          58,
          87,
          52,
          54,
          63,
          56,
          86,
          67,
          66,
          58,
          71,
          74,
          73,
          58,
          49,
          70,
          87,
          87,
          54,
          64
         ],
         "z": [
          18,
          13,
          22,
          13,
          16,
          13,
          12,
          21,
          20,
          17,
          13,
          16,
          14,
          16,
          16,
          17,
          13,
          19,
          19,
          20,
          17,
          18,
          14,
          13,
          14,
          13,
          15,
          13,
          19,
          21,
          18,
          22,
          16,
          14,
          12,
          14,
          18,
          13,
          17,
          21,
          17,
          15,
          15,
          17,
          19,
          17,
          17,
          15,
          12,
          21,
          13,
          21,
          26,
          15,
          14,
          19,
          11,
          19,
          21,
          11,
          14,
          16,
          14,
          12,
          13,
          14,
          14,
          14,
          17,
          18,
          15,
          16,
          15,
          15,
          17,
          10,
          14,
          14,
          14,
          16,
          15,
          18,
          16,
          15,
          17,
          9,
          10,
          18,
          14,
          14,
          13,
          14,
          16,
          19,
          15,
          12,
          14,
          15,
          14,
          13,
          6,
          15,
          15,
          29,
          18,
          15
         ]
        },
        {
         "hovertemplate": "Classes=fire<br>Temperature=%{x}<br> RH=%{y}<br> Ws=%{z}<br>size=%{marker.size}<extra></extra>",
         "legendgroup": "fire",
         "marker": {
          "color": "#EF553B",
          "size": [
           10,
           10,
           10,
           10,
           10,
           10,
           10.1,
           10,
           10,
           10,
           10,
           10,
           10,
           10,
           10,
           10,
           10,
           10,
           10,
           10.1,
           10,
           10,
           10,
           10,
           10,
           10,
           10,
           10,
           10,
           10,
           10,
           10,
           10,
           10,
           10,
           10,
           10,
           10.3,
           10.3,
           10,
           10,
           10,
           10,
           10,
           10,
           10,
           10,
           10,
           10,
           10,
           10,
           10,
           10,
           10,
           10,
           10,
           10,
           10,
           10,
           10.1,
           10.2,
           10,
           10,
           10,
           10,
           10,
           10,
           10,
           10,
           10,
           10.6,
           10,
           10.1,
           10,
           10,
           10.3,
           10.5,
           16,
           11.9,
           10,
           10.6,
           10,
           10,
           10,
           10,
           10,
           10,
           10,
           10,
           10,
           10,
           10,
           10,
           10,
           10,
           10,
           10,
           10.1,
           10,
           10,
           10.2,
           10,
           10.4,
           10.2,
           10,
           10.3,
           10.1,
           10,
           10,
           10.1,
           10,
           10,
           10,
           10,
           10,
           10,
           10,
           10,
           10.5,
           10,
           10,
           10,
           10,
           10,
           10,
           10,
           10,
           10,
           10,
           10,
           10,
           10.1,
           10.1,
           10,
           10,
           10,
           10
          ],
          "sizemode": "area",
          "sizeref": 0.067,
          "symbol": "circle"
         },
         "mode": "markers",
         "name": "fire",
         "scene": "scene",
         "showlegend": true,
         "type": "scatter3d",
         "x": [
          31,
          33,
          30,
          31,
          26,
          30,
          32,
          32,
          31,
          31,
          34,
          32,
          33,
          33,
          32,
          33,
          29,
          31,
          35,
          33,
          33,
          31,
          36,
          36,
          33,
          32,
          31,
          35,
          34,
          34,
          32,
          32,
          35,
          35,
          35,
          35,
          33,
          36,
          36,
          37,
          36,
          35,
          35,
          36,
          36,
          36,
          34,
          35,
          31,
          33,
          34,
          35,
          29,
          31,
          32,
          29,
          28,
          31,
          31,
          35,
          35,
          30,
          31,
          27,
          32,
          35,
          34,
          36,
          36,
          37,
          37,
          33,
          34,
          34,
          34,
          35,
          38,
          35,
          36,
          36,
          39,
          34,
          31,
          32,
          33,
          34,
          36,
          36,
          32,
          31,
          33,
          34,
          36,
          37,
          40,
          39,
          38,
          34,
          37,
          39,
          39,
          40,
          39,
          35,
          37,
          35,
          40,
          42,
          37,
          35,
          36,
          36,
          37,
          36,
          35,
          34,
          33,
          36,
          35,
          34,
          30,
          28,
          31,
          30,
          30,
          31,
          29,
          28,
          32,
          33,
          34,
          36,
          29,
          35,
          33,
          35,
          30
         ],
         "y": [
          67,
          54,
          73,
          65,
          81,
          78,
          62,
          66,
          64,
          64,
          53,
          55,
          50,
          66,
          63,
          68,
          70,
          68,
          59,
          65,
          70,
          65,
          53,
          48,
          76,
          73,
          79,
          64,
          69,
          65,
          75,
          69,
          59,
          55,
          63,
          63,
          66,
          55,
          61,
          52,
          54,
          62,
          68,
          58,
          55,
          53,
          64,
          60,
          78,
          82,
          64,
          48,
          75,
          52,
          49,
          57,
          84,
          55,
          66,
          54,
          44,
          41,
          42,
          58,
          55,
          68,
          70,
          62,
          55,
          37,
          36,
          48,
          56,
          58,
          45,
          42,
          43,
          47,
          43,
          44,
          45,
          45,
          83,
          81,
          68,
          58,
          50,
          29,
          48,
          71,
          57,
          59,
          56,
          55,
          34,
          33,
          35,
          42,
          56,
          43,
          39,
          31,
          21,
          34,
          40,
          46,
          41,
          24,
          37,
          66,
          81,
          71,
          53,
          43,
          38,
          40,
          37,
          54,
          53,
          49,
          59,
          75,
          62,
          88,
          80,
          72,
          49,
          81,
          51,
          26,
          44,
          33,
          41,
          34,
          64,
          56,
          65
         ],
         "z": [
          14,
          13,
          15,
          14,
          19,
          14,
          18,
          17,
          15,
          18,
          18,
          14,
          14,
          14,
          14,
          19,
          14,
          14,
          17,
          15,
          17,
          18,
          19,
          13,
          15,
          15,
          15,
          17,
          13,
          13,
          14,
          16,
          17,
          14,
          13,
          15,
          14,
          13,
          18,
          18,
          18,
          19,
          19,
          19,
          18,
          16,
          14,
          15,
          18,
          21,
          16,
          18,
          16,
          14,
          11,
          14,
          18,
          11,
          11,
          11,
          17,
          15,
          21,
          17,
          14,
          16,
          16,
          16,
          15,
          13,
          13,
          16,
          17,
          18,
          18,
          15,
          13,
          18,
          15,
          13,
          13,
          17,
          17,
          17,
          15,
          16,
          16,
          18,
          18,
          17,
          16,
          16,
          16,
          15,
          14,
          17,
          15,
          17,
          11,
          12,
          15,
          15,
          17,
          16,
          13,
          13,
          10,
          9,
          14,
          15,
          15,
          15,
          14,
          16,
          15,
          18,
          16,
          14,
          17,
          15,
          19,
          16,
          15,
          14,
          15,
          14,
          19,
          15,
          13,
          13,
          12,
          13,
          8,
          17,
          13,
          14,
          14
         ]
        }
       ],
       "layout": {
        "legend": {
         "itemsizing": "constant",
         "title": {
          "text": "Classes"
         },
         "tracegroupgap": 0
        },
        "margin": {
         "t": 60
        },
        "scene": {
         "domain": {
          "x": [
           0,
           1
          ],
          "y": [
           0,
           1
          ]
         },
         "xaxis": {
          "title": {
           "text": "Temperature"
          }
         },
         "yaxis": {
          "title": {
           "text": " RH"
          }
         },
         "zaxis": {
          "title": {
           "text": " Ws"
          }
         }
        },
        "template": {
         "data": {
          "bar": [
           {
            "error_x": {
             "color": "#2a3f5f"
            },
            "error_y": {
             "color": "#2a3f5f"
            },
            "marker": {
             "line": {
              "color": "#E5ECF6",
              "width": 0.5
             },
             "pattern": {
              "fillmode": "overlay",
              "size": 10,
              "solidity": 0.2
             }
            },
            "type": "bar"
           }
          ],
          "barpolar": [
           {
            "marker": {
             "line": {
              "color": "#E5ECF6",
              "width": 0.5
             },
             "pattern": {
              "fillmode": "overlay",
              "size": 10,
              "solidity": 0.2
             }
            },
            "type": "barpolar"
           }
          ],
          "carpet": [
           {
            "aaxis": {
             "endlinecolor": "#2a3f5f",
             "gridcolor": "white",
             "linecolor": "white",
             "minorgridcolor": "white",
             "startlinecolor": "#2a3f5f"
            },
            "baxis": {
             "endlinecolor": "#2a3f5f",
             "gridcolor": "white",
             "linecolor": "white",
             "minorgridcolor": "white",
             "startlinecolor": "#2a3f5f"
            },
            "type": "carpet"
           }
          ],
          "choropleth": [
           {
            "colorbar": {
             "outlinewidth": 0,
             "ticks": ""
            },
            "type": "choropleth"
           }
          ],
          "contour": [
           {
            "colorbar": {
             "outlinewidth": 0,
             "ticks": ""
            },
            "colorscale": [
             [
              0,
              "#0d0887"
             ],
             [
              0.1111111111111111,
              "#46039f"
             ],
             [
              0.2222222222222222,
              "#7201a8"
             ],
             [
              0.3333333333333333,
              "#9c179e"
             ],
             [
              0.4444444444444444,
              "#bd3786"
             ],
             [
              0.5555555555555556,
              "#d8576b"
             ],
             [
              0.6666666666666666,
              "#ed7953"
             ],
             [
              0.7777777777777778,
              "#fb9f3a"
             ],
             [
              0.8888888888888888,
              "#fdca26"
             ],
             [
              1,
              "#f0f921"
             ]
            ],
            "type": "contour"
           }
          ],
          "contourcarpet": [
           {
            "colorbar": {
             "outlinewidth": 0,
             "ticks": ""
            },
            "type": "contourcarpet"
           }
          ],
          "heatmap": [
           {
            "colorbar": {
             "outlinewidth": 0,
             "ticks": ""
            },
            "colorscale": [
             [
              0,
              "#0d0887"
             ],
             [
              0.1111111111111111,
              "#46039f"
             ],
             [
              0.2222222222222222,
              "#7201a8"
             ],
             [
              0.3333333333333333,
              "#9c179e"
             ],
             [
              0.4444444444444444,
              "#bd3786"
             ],
             [
              0.5555555555555556,
              "#d8576b"
             ],
             [
              0.6666666666666666,
              "#ed7953"
             ],
             [
              0.7777777777777778,
              "#fb9f3a"
             ],
             [
              0.8888888888888888,
              "#fdca26"
             ],
             [
              1,
              "#f0f921"
             ]
            ],
            "type": "heatmap"
           }
          ],
          "heatmapgl": [
           {
            "colorbar": {
             "outlinewidth": 0,
             "ticks": ""
            },
            "colorscale": [
             [
              0,
              "#0d0887"
             ],
             [
              0.1111111111111111,
              "#46039f"
             ],
             [
              0.2222222222222222,
              "#7201a8"
             ],
             [
              0.3333333333333333,
              "#9c179e"
             ],
             [
              0.4444444444444444,
              "#bd3786"
             ],
             [
              0.5555555555555556,
              "#d8576b"
             ],
             [
              0.6666666666666666,
              "#ed7953"
             ],
             [
              0.7777777777777778,
              "#fb9f3a"
             ],
             [
              0.8888888888888888,
              "#fdca26"
             ],
             [
              1,
              "#f0f921"
             ]
            ],
            "type": "heatmapgl"
           }
          ],
          "histogram": [
           {
            "marker": {
             "pattern": {
              "fillmode": "overlay",
              "size": 10,
              "solidity": 0.2
             }
            },
            "type": "histogram"
           }
          ],
          "histogram2d": [
           {
            "colorbar": {
             "outlinewidth": 0,
             "ticks": ""
            },
            "colorscale": [
             [
              0,
              "#0d0887"
             ],
             [
              0.1111111111111111,
              "#46039f"
             ],
             [
              0.2222222222222222,
              "#7201a8"
             ],
             [
              0.3333333333333333,
              "#9c179e"
             ],
             [
              0.4444444444444444,
              "#bd3786"
             ],
             [
              0.5555555555555556,
              "#d8576b"
             ],
             [
              0.6666666666666666,
              "#ed7953"
             ],
             [
              0.7777777777777778,
              "#fb9f3a"
             ],
             [
              0.8888888888888888,
              "#fdca26"
             ],
             [
              1,
              "#f0f921"
             ]
            ],
            "type": "histogram2d"
           }
          ],
          "histogram2dcontour": [
           {
            "colorbar": {
             "outlinewidth": 0,
             "ticks": ""
            },
            "colorscale": [
             [
              0,
              "#0d0887"
             ],
             [
              0.1111111111111111,
              "#46039f"
             ],
             [
              0.2222222222222222,
              "#7201a8"
             ],
             [
              0.3333333333333333,
              "#9c179e"
             ],
             [
              0.4444444444444444,
              "#bd3786"
             ],
             [
              0.5555555555555556,
              "#d8576b"
             ],
             [
              0.6666666666666666,
              "#ed7953"
             ],
             [
              0.7777777777777778,
              "#fb9f3a"
             ],
             [
              0.8888888888888888,
              "#fdca26"
             ],
             [
              1,
              "#f0f921"
             ]
            ],
            "type": "histogram2dcontour"
           }
          ],
          "mesh3d": [
           {
            "colorbar": {
             "outlinewidth": 0,
             "ticks": ""
            },
            "type": "mesh3d"
           }
          ],
          "parcoords": [
           {
            "line": {
             "colorbar": {
              "outlinewidth": 0,
              "ticks": ""
             }
            },
            "type": "parcoords"
           }
          ],
          "pie": [
           {
            "automargin": true,
            "type": "pie"
           }
          ],
          "scatter": [
           {
            "marker": {
             "colorbar": {
              "outlinewidth": 0,
              "ticks": ""
             }
            },
            "type": "scatter"
           }
          ],
          "scatter3d": [
           {
            "line": {
             "colorbar": {
              "outlinewidth": 0,
              "ticks": ""
             }
            },
            "marker": {
             "colorbar": {
              "outlinewidth": 0,
              "ticks": ""
             }
            },
            "type": "scatter3d"
           }
          ],
          "scattercarpet": [
           {
            "marker": {
             "colorbar": {
              "outlinewidth": 0,
              "ticks": ""
             }
            },
            "type": "scattercarpet"
           }
          ],
          "scattergeo": [
           {
            "marker": {
             "colorbar": {
              "outlinewidth": 0,
              "ticks": ""
             }
            },
            "type": "scattergeo"
           }
          ],
          "scattergl": [
           {
            "marker": {
             "colorbar": {
              "outlinewidth": 0,
              "ticks": ""
             }
            },
            "type": "scattergl"
           }
          ],
          "scattermapbox": [
           {
            "marker": {
             "colorbar": {
              "outlinewidth": 0,
              "ticks": ""
             }
            },
            "type": "scattermapbox"
           }
          ],
          "scatterpolar": [
           {
            "marker": {
             "colorbar": {
              "outlinewidth": 0,
              "ticks": ""
             }
            },
            "type": "scatterpolar"
           }
          ],
          "scatterpolargl": [
           {
            "marker": {
             "colorbar": {
              "outlinewidth": 0,
              "ticks": ""
             }
            },
            "type": "scatterpolargl"
           }
          ],
          "scatterternary": [
           {
            "marker": {
             "colorbar": {
              "outlinewidth": 0,
              "ticks": ""
             }
            },
            "type": "scatterternary"
           }
          ],
          "surface": [
           {
            "colorbar": {
             "outlinewidth": 0,
             "ticks": ""
            },
            "colorscale": [
             [
              0,
              "#0d0887"
             ],
             [
              0.1111111111111111,
              "#46039f"
             ],
             [
              0.2222222222222222,
              "#7201a8"
             ],
             [
              0.3333333333333333,
              "#9c179e"
             ],
             [
              0.4444444444444444,
              "#bd3786"
             ],
             [
              0.5555555555555556,
              "#d8576b"
             ],
             [
              0.6666666666666666,
              "#ed7953"
             ],
             [
              0.7777777777777778,
              "#fb9f3a"
             ],
             [
              0.8888888888888888,
              "#fdca26"
             ],
             [
              1,
              "#f0f921"
             ]
            ],
            "type": "surface"
           }
          ],
          "table": [
           {
            "cells": {
             "fill": {
              "color": "#EBF0F8"
             },
             "line": {
              "color": "white"
             }
            },
            "header": {
             "fill": {
              "color": "#C8D4E3"
             },
             "line": {
              "color": "white"
             }
            },
            "type": "table"
           }
          ]
         },
         "layout": {
          "annotationdefaults": {
           "arrowcolor": "#2a3f5f",
           "arrowhead": 0,
           "arrowwidth": 1
          },
          "autotypenumbers": "strict",
          "coloraxis": {
           "colorbar": {
            "outlinewidth": 0,
            "ticks": ""
           }
          },
          "colorscale": {
           "diverging": [
            [
             0,
             "#8e0152"
            ],
            [
             0.1,
             "#c51b7d"
            ],
            [
             0.2,
             "#de77ae"
            ],
            [
             0.3,
             "#f1b6da"
            ],
            [
             0.4,
             "#fde0ef"
            ],
            [
             0.5,
             "#f7f7f7"
            ],
            [
             0.6,
             "#e6f5d0"
            ],
            [
             0.7,
             "#b8e186"
            ],
            [
             0.8,
             "#7fbc41"
            ],
            [
             0.9,
             "#4d9221"
            ],
            [
             1,
             "#276419"
            ]
           ],
           "sequential": [
            [
             0,
             "#0d0887"
            ],
            [
             0.1111111111111111,
             "#46039f"
            ],
            [
             0.2222222222222222,
             "#7201a8"
            ],
            [
             0.3333333333333333,
             "#9c179e"
            ],
            [
             0.4444444444444444,
             "#bd3786"
            ],
            [
             0.5555555555555556,
             "#d8576b"
            ],
            [
             0.6666666666666666,
             "#ed7953"
            ],
            [
             0.7777777777777778,
             "#fb9f3a"
            ],
            [
             0.8888888888888888,
             "#fdca26"
            ],
            [
             1,
             "#f0f921"
            ]
           ],
           "sequentialminus": [
            [
             0,
             "#0d0887"
            ],
            [
             0.1111111111111111,
             "#46039f"
            ],
            [
             0.2222222222222222,
             "#7201a8"
            ],
            [
             0.3333333333333333,
             "#9c179e"
            ],
            [
             0.4444444444444444,
             "#bd3786"
            ],
            [
             0.5555555555555556,
             "#d8576b"
            ],
            [
             0.6666666666666666,
             "#ed7953"
            ],
            [
             0.7777777777777778,
             "#fb9f3a"
            ],
            [
             0.8888888888888888,
             "#fdca26"
            ],
            [
             1,
             "#f0f921"
            ]
           ]
          },
          "colorway": [
           "#636efa",
           "#EF553B",
           "#00cc96",
           "#ab63fa",
           "#FFA15A",
           "#19d3f3",
           "#FF6692",
           "#B6E880",
           "#FF97FF",
           "#FECB52"
          ],
          "font": {
           "color": "#2a3f5f"
          },
          "geo": {
           "bgcolor": "white",
           "lakecolor": "white",
           "landcolor": "#E5ECF6",
           "showlakes": true,
           "showland": true,
           "subunitcolor": "white"
          },
          "hoverlabel": {
           "align": "left"
          },
          "hovermode": "closest",
          "mapbox": {
           "style": "light"
          },
          "paper_bgcolor": "white",
          "plot_bgcolor": "#E5ECF6",
          "polar": {
           "angularaxis": {
            "gridcolor": "white",
            "linecolor": "white",
            "ticks": ""
           },
           "bgcolor": "#E5ECF6",
           "radialaxis": {
            "gridcolor": "white",
            "linecolor": "white",
            "ticks": ""
           }
          },
          "scene": {
           "xaxis": {
            "backgroundcolor": "#E5ECF6",
            "gridcolor": "white",
            "gridwidth": 2,
            "linecolor": "white",
            "showbackground": true,
            "ticks": "",
            "zerolinecolor": "white"
           },
           "yaxis": {
            "backgroundcolor": "#E5ECF6",
            "gridcolor": "white",
            "gridwidth": 2,
            "linecolor": "white",
            "showbackground": true,
            "ticks": "",
            "zerolinecolor": "white"
           },
           "zaxis": {
            "backgroundcolor": "#E5ECF6",
            "gridcolor": "white",
            "gridwidth": 2,
            "linecolor": "white",
            "showbackground": true,
            "ticks": "",
            "zerolinecolor": "white"
           }
          },
          "shapedefaults": {
           "line": {
            "color": "#2a3f5f"
           }
          },
          "ternary": {
           "aaxis": {
            "gridcolor": "white",
            "linecolor": "white",
            "ticks": ""
           },
           "baxis": {
            "gridcolor": "white",
            "linecolor": "white",
            "ticks": ""
           },
           "bgcolor": "#E5ECF6",
           "caxis": {
            "gridcolor": "white",
            "linecolor": "white",
            "ticks": ""
           }
          },
          "title": {
           "x": 0.05
          },
          "xaxis": {
           "automargin": true,
           "gridcolor": "white",
           "linecolor": "white",
           "ticks": "",
           "title": {
            "standoff": 15
           },
           "zerolinecolor": "white",
           "zerolinewidth": 2
          },
          "yaxis": {
           "automargin": true,
           "gridcolor": "white",
           "linecolor": "white",
           "ticks": "",
           "title": {
            "standoff": 15
           },
           "zerolinecolor": "white",
           "zerolinewidth": 2
          }
         }
        }
       }
      },
      "text/html": [
       "<div>                            <div id=\"0c6115ac-09b1-4aea-b000-4490520070d3\" class=\"plotly-graph-div\" style=\"height:525px; width:100%;\"></div>            <script type=\"text/javascript\">                require([\"plotly\"], function(Plotly) {                    window.PLOTLYENV=window.PLOTLYENV || {};                                    if (document.getElementById(\"0c6115ac-09b1-4aea-b000-4490520070d3\")) {                    Plotly.newPlot(                        \"0c6115ac-09b1-4aea-b000-4490520070d3\",                        [{\"hovertemplate\":\"Classes=not fire<br>Temperature=%{x}<br> RH=%{y}<br> Ws=%{z}<br>size=%{marker.size}<extra></extra>\",\"legendgroup\":\"not fire\",\"marker\":{\"color\":\"#636efa\",\"size\":[10.0,11.3,23.1,12.5,10.0,10.2,10.0,11.2,10.5,13.1,10.7,10.6,10.3,10.1,10.4,10.1,10.3,11.0,11.2,10.7,10.0,10.2,11.4,10.7,10.0,10.1,10.0,10.6,10.4,10.0,10.1,10.4,10.1,10.0,10.4,10.3,10.3,10.3,10.8,26.8,17.2,20.1,13.8,10.1,10.1,10.3,10.9,11.0,11.8,11.8,10.0,14.6,18.3,10.4,10.0,10.6,10.5,10.6,15.8,10.0,10.7,11.8,11.4,10.7,14.0,12.0,10.0,10.2,11.3,10.1,12.0,10.7,10.0,10.4,14.7,18.7,14.5,10.2,11.1,10.8,11.7,12.2,13.8,12.9,11.1,11.2,10.2,10.0,10.0,13.1,12.9,10.4,10.0,10.0,10.2,14.1,16.5,11.1,10.0,10.2,12.0,10.0,14.4,10.5,10.1,10.2],\"sizemode\":\"area\",\"sizeref\":0.067,\"symbol\":\"circle\"},\"mode\":\"markers\",\"name\":\"not fire\",\"scene\":\"scene\",\"showlegend\":true,\"x\":[29.0,29.0,26.0,25.0,27.0,25.0,28.0,27.0,30.0,28.0,29.0,30.0,31.0,31.0,30.0,31.0,32.0,29.0,27.0,32.0,33.0,35.0,32.0,33.0,33.0,31.0,34.0,34.0,30.0,28.0,28.0,27.0,28.0,36.0,35.0,35.0,32.0,35.0,35.0,28.0,25.0,22.0,25.0,29.0,29.0,31.0,30.0,30.0,33.0,30.0,29.0,25.0,22.0,24.0,30.0,31.0,32.0,29.0,26.0,31.0,32.0,26.0,25.0,32.0,30.0,29.0,30.0,32.0,28.0,27.0,30.0,27.0,28.0,29.0,31.0,33.0,32.0,31.0,33.0,33.0,34.0,28.0,34.0,34.0,33.0,39.0,35.0,29.0,38.0,30.0,34.0,35.0,29.0,28.0,30.0,30.0,34.0,29.0,30.0,34.0,26.0,28.0,28.0,27.0,24.0,24.0],\"y\":[57.0,61.0,82.0,89.0,77.0,88.0,79.0,84.0,78.0,80.0,89.0,89.0,78.0,55.0,80.0,67.0,47.0,68.0,75.0,76.0,78.0,64.0,68.0,69.0,76.0,75.0,81.0,61.0,80.0,76.0,79.0,66.0,78.0,45.0,55.0,63.0,60.0,51.0,70.0,80.0,76.0,86.0,78.0,73.0,74.0,71.0,73.0,77.0,73.0,77.0,88.0,86.0,76.0,82.0,65.0,50.0,54.0,65.0,81.0,54.0,47.0,80.0,78.0,71.0,73.0,80.0,64.0,60.0,51.0,59.0,52.0,79.0,90.0,87.0,69.0,62.0,67.0,72.0,46.0,59.0,42.0,58.0,51.0,56.0,63.0,64.0,58.0,87.0,52.0,54.0,63.0,56.0,86.0,67.0,66.0,58.0,71.0,74.0,73.0,58.0,49.0,70.0,87.0,87.0,54.0,64.0],\"z\":[18.0,13.0,22.0,13.0,16.0,13.0,12.0,21.0,20.0,17.0,13.0,16.0,14.0,16.0,16.0,17.0,13.0,19.0,19.0,20.0,17.0,18.0,14.0,13.0,14.0,13.0,15.0,13.0,19.0,21.0,18.0,22.0,16.0,14.0,12.0,14.0,18.0,13.0,17.0,21.0,17.0,15.0,15.0,17.0,19.0,17.0,17.0,15.0,12.0,21.0,13.0,21.0,26.0,15.0,14.0,19.0,11.0,19.0,21.0,11.0,14.0,16.0,14.0,12.0,13.0,14.0,14.0,14.0,17.0,18.0,15.0,16.0,15.0,15.0,17.0,10.0,14.0,14.0,14.0,16.0,15.0,18.0,16.0,15.0,17.0,9.0,10.0,18.0,14.0,14.0,13.0,14.0,16.0,19.0,15.0,12.0,14.0,15.0,14.0,13.0,6.0,15.0,15.0,29.0,18.0,15.0],\"type\":\"scatter3d\"},{\"hovertemplate\":\"Classes=fire<br>Temperature=%{x}<br> RH=%{y}<br> Ws=%{z}<br>size=%{marker.size}<extra></extra>\",\"legendgroup\":\"fire\",\"marker\":{\"color\":\"#EF553B\",\"size\":[10.0,10.0,10.0,10.0,10.0,10.0,10.1,10.0,10.0,10.0,10.0,10.0,10.0,10.0,10.0,10.0,10.0,10.0,10.0,10.1,10.0,10.0,10.0,10.0,10.0,10.0,10.0,10.0,10.0,10.0,10.0,10.0,10.0,10.0,10.0,10.0,10.0,10.3,10.3,10.0,10.0,10.0,10.0,10.0,10.0,10.0,10.0,10.0,10.0,10.0,10.0,10.0,10.0,10.0,10.0,10.0,10.0,10.0,10.0,10.1,10.2,10.0,10.0,10.0,10.0,10.0,10.0,10.0,10.0,10.0,10.6,10.0,10.1,10.0,10.0,10.3,10.5,16.0,11.9,10.0,10.6,10.0,10.0,10.0,10.0,10.0,10.0,10.0,10.0,10.0,10.0,10.0,10.0,10.0,10.0,10.0,10.0,10.1,10.0,10.0,10.2,10.0,10.4,10.2,10.0,10.3,10.1,10.0,10.0,10.1,10.0,10.0,10.0,10.0,10.0,10.0,10.0,10.0,10.5,10.0,10.0,10.0,10.0,10.0,10.0,10.0,10.0,10.0,10.0,10.0,10.0,10.1,10.1,10.0,10.0,10.0,10.0],\"sizemode\":\"area\",\"sizeref\":0.067,\"symbol\":\"circle\"},\"mode\":\"markers\",\"name\":\"fire\",\"scene\":\"scene\",\"showlegend\":true,\"x\":[31.0,33.0,30.0,31.0,26.0,30.0,32.0,32.0,31.0,31.0,34.0,32.0,33.0,33.0,32.0,33.0,29.0,31.0,35.0,33.0,33.0,31.0,36.0,36.0,33.0,32.0,31.0,35.0,34.0,34.0,32.0,32.0,35.0,35.0,35.0,35.0,33.0,36.0,36.0,37.0,36.0,35.0,35.0,36.0,36.0,36.0,34.0,35.0,31.0,33.0,34.0,35.0,29.0,31.0,32.0,29.0,28.0,31.0,31.0,35.0,35.0,30.0,31.0,27.0,32.0,35.0,34.0,36.0,36.0,37.0,37.0,33.0,34.0,34.0,34.0,35.0,38.0,35.0,36.0,36.0,39.0,34.0,31.0,32.0,33.0,34.0,36.0,36.0,32.0,31.0,33.0,34.0,36.0,37.0,40.0,39.0,38.0,34.0,37.0,39.0,39.0,40.0,39.0,35.0,37.0,35.0,40.0,42.0,37.0,35.0,36.0,36.0,37.0,36.0,35.0,34.0,33.0,36.0,35.0,34.0,30.0,28.0,31.0,30.0,30.0,31.0,29.0,28.0,32.0,33.0,34.0,36.0,29.0,35.0,33.0,35.0,30.0],\"y\":[67.0,54.0,73.0,65.0,81.0,78.0,62.0,66.0,64.0,64.0,53.0,55.0,50.0,66.0,63.0,68.0,70.0,68.0,59.0,65.0,70.0,65.0,53.0,48.0,76.0,73.0,79.0,64.0,69.0,65.0,75.0,69.0,59.0,55.0,63.0,63.0,66.0,55.0,61.0,52.0,54.0,62.0,68.0,58.0,55.0,53.0,64.0,60.0,78.0,82.0,64.0,48.0,75.0,52.0,49.0,57.0,84.0,55.0,66.0,54.0,44.0,41.0,42.0,58.0,55.0,68.0,70.0,62.0,55.0,37.0,36.0,48.0,56.0,58.0,45.0,42.0,43.0,47.0,43.0,44.0,45.0,45.0,83.0,81.0,68.0,58.0,50.0,29.0,48.0,71.0,57.0,59.0,56.0,55.0,34.0,33.0,35.0,42.0,56.0,43.0,39.0,31.0,21.0,34.0,40.0,46.0,41.0,24.0,37.0,66.0,81.0,71.0,53.0,43.0,38.0,40.0,37.0,54.0,53.0,49.0,59.0,75.0,62.0,88.0,80.0,72.0,49.0,81.0,51.0,26.0,44.0,33.0,41.0,34.0,64.0,56.0,65.0],\"z\":[14.0,13.0,15.0,14.0,19.0,14.0,18.0,17.0,15.0,18.0,18.0,14.0,14.0,14.0,14.0,19.0,14.0,14.0,17.0,15.0,17.0,18.0,19.0,13.0,15.0,15.0,15.0,17.0,13.0,13.0,14.0,16.0,17.0,14.0,13.0,15.0,14.0,13.0,18.0,18.0,18.0,19.0,19.0,19.0,18.0,16.0,14.0,15.0,18.0,21.0,16.0,18.0,16.0,14.0,11.0,14.0,18.0,11.0,11.0,11.0,17.0,15.0,21.0,17.0,14.0,16.0,16.0,16.0,15.0,13.0,13.0,16.0,17.0,18.0,18.0,15.0,13.0,18.0,15.0,13.0,13.0,17.0,17.0,17.0,15.0,16.0,16.0,18.0,18.0,17.0,16.0,16.0,16.0,15.0,14.0,17.0,15.0,17.0,11.0,12.0,15.0,15.0,17.0,16.0,13.0,13.0,10.0,9.0,14.0,15.0,15.0,15.0,14.0,16.0,15.0,18.0,16.0,14.0,17.0,15.0,19.0,16.0,15.0,14.0,15.0,14.0,19.0,15.0,13.0,13.0,12.0,13.0,8.0,17.0,13.0,14.0,14.0],\"type\":\"scatter3d\"}],                        {\"template\":{\"data\":{\"bar\":[{\"error_x\":{\"color\":\"#2a3f5f\"},\"error_y\":{\"color\":\"#2a3f5f\"},\"marker\":{\"line\":{\"color\":\"#E5ECF6\",\"width\":0.5},\"pattern\":{\"fillmode\":\"overlay\",\"size\":10,\"solidity\":0.2}},\"type\":\"bar\"}],\"barpolar\":[{\"marker\":{\"line\":{\"color\":\"#E5ECF6\",\"width\":0.5},\"pattern\":{\"fillmode\":\"overlay\",\"size\":10,\"solidity\":0.2}},\"type\":\"barpolar\"}],\"carpet\":[{\"aaxis\":{\"endlinecolor\":\"#2a3f5f\",\"gridcolor\":\"white\",\"linecolor\":\"white\",\"minorgridcolor\":\"white\",\"startlinecolor\":\"#2a3f5f\"},\"baxis\":{\"endlinecolor\":\"#2a3f5f\",\"gridcolor\":\"white\",\"linecolor\":\"white\",\"minorgridcolor\":\"white\",\"startlinecolor\":\"#2a3f5f\"},\"type\":\"carpet\"}],\"choropleth\":[{\"colorbar\":{\"outlinewidth\":0,\"ticks\":\"\"},\"type\":\"choropleth\"}],\"contour\":[{\"colorbar\":{\"outlinewidth\":0,\"ticks\":\"\"},\"colorscale\":[[0.0,\"#0d0887\"],[0.1111111111111111,\"#46039f\"],[0.2222222222222222,\"#7201a8\"],[0.3333333333333333,\"#9c179e\"],[0.4444444444444444,\"#bd3786\"],[0.5555555555555556,\"#d8576b\"],[0.6666666666666666,\"#ed7953\"],[0.7777777777777778,\"#fb9f3a\"],[0.8888888888888888,\"#fdca26\"],[1.0,\"#f0f921\"]],\"type\":\"contour\"}],\"contourcarpet\":[{\"colorbar\":{\"outlinewidth\":0,\"ticks\":\"\"},\"type\":\"contourcarpet\"}],\"heatmap\":[{\"colorbar\":{\"outlinewidth\":0,\"ticks\":\"\"},\"colorscale\":[[0.0,\"#0d0887\"],[0.1111111111111111,\"#46039f\"],[0.2222222222222222,\"#7201a8\"],[0.3333333333333333,\"#9c179e\"],[0.4444444444444444,\"#bd3786\"],[0.5555555555555556,\"#d8576b\"],[0.6666666666666666,\"#ed7953\"],[0.7777777777777778,\"#fb9f3a\"],[0.8888888888888888,\"#fdca26\"],[1.0,\"#f0f921\"]],\"type\":\"heatmap\"}],\"heatmapgl\":[{\"colorbar\":{\"outlinewidth\":0,\"ticks\":\"\"},\"colorscale\":[[0.0,\"#0d0887\"],[0.1111111111111111,\"#46039f\"],[0.2222222222222222,\"#7201a8\"],[0.3333333333333333,\"#9c179e\"],[0.4444444444444444,\"#bd3786\"],[0.5555555555555556,\"#d8576b\"],[0.6666666666666666,\"#ed7953\"],[0.7777777777777778,\"#fb9f3a\"],[0.8888888888888888,\"#fdca26\"],[1.0,\"#f0f921\"]],\"type\":\"heatmapgl\"}],\"histogram\":[{\"marker\":{\"pattern\":{\"fillmode\":\"overlay\",\"size\":10,\"solidity\":0.2}},\"type\":\"histogram\"}],\"histogram2d\":[{\"colorbar\":{\"outlinewidth\":0,\"ticks\":\"\"},\"colorscale\":[[0.0,\"#0d0887\"],[0.1111111111111111,\"#46039f\"],[0.2222222222222222,\"#7201a8\"],[0.3333333333333333,\"#9c179e\"],[0.4444444444444444,\"#bd3786\"],[0.5555555555555556,\"#d8576b\"],[0.6666666666666666,\"#ed7953\"],[0.7777777777777778,\"#fb9f3a\"],[0.8888888888888888,\"#fdca26\"],[1.0,\"#f0f921\"]],\"type\":\"histogram2d\"}],\"histogram2dcontour\":[{\"colorbar\":{\"outlinewidth\":0,\"ticks\":\"\"},\"colorscale\":[[0.0,\"#0d0887\"],[0.1111111111111111,\"#46039f\"],[0.2222222222222222,\"#7201a8\"],[0.3333333333333333,\"#9c179e\"],[0.4444444444444444,\"#bd3786\"],[0.5555555555555556,\"#d8576b\"],[0.6666666666666666,\"#ed7953\"],[0.7777777777777778,\"#fb9f3a\"],[0.8888888888888888,\"#fdca26\"],[1.0,\"#f0f921\"]],\"type\":\"histogram2dcontour\"}],\"mesh3d\":[{\"colorbar\":{\"outlinewidth\":0,\"ticks\":\"\"},\"type\":\"mesh3d\"}],\"parcoords\":[{\"line\":{\"colorbar\":{\"outlinewidth\":0,\"ticks\":\"\"}},\"type\":\"parcoords\"}],\"pie\":[{\"automargin\":true,\"type\":\"pie\"}],\"scatter\":[{\"marker\":{\"colorbar\":{\"outlinewidth\":0,\"ticks\":\"\"}},\"type\":\"scatter\"}],\"scatter3d\":[{\"line\":{\"colorbar\":{\"outlinewidth\":0,\"ticks\":\"\"}},\"marker\":{\"colorbar\":{\"outlinewidth\":0,\"ticks\":\"\"}},\"type\":\"scatter3d\"}],\"scattercarpet\":[{\"marker\":{\"colorbar\":{\"outlinewidth\":0,\"ticks\":\"\"}},\"type\":\"scattercarpet\"}],\"scattergeo\":[{\"marker\":{\"colorbar\":{\"outlinewidth\":0,\"ticks\":\"\"}},\"type\":\"scattergeo\"}],\"scattergl\":[{\"marker\":{\"colorbar\":{\"outlinewidth\":0,\"ticks\":\"\"}},\"type\":\"scattergl\"}],\"scattermapbox\":[{\"marker\":{\"colorbar\":{\"outlinewidth\":0,\"ticks\":\"\"}},\"type\":\"scattermapbox\"}],\"scatterpolar\":[{\"marker\":{\"colorbar\":{\"outlinewidth\":0,\"ticks\":\"\"}},\"type\":\"scatterpolar\"}],\"scatterpolargl\":[{\"marker\":{\"colorbar\":{\"outlinewidth\":0,\"ticks\":\"\"}},\"type\":\"scatterpolargl\"}],\"scatterternary\":[{\"marker\":{\"colorbar\":{\"outlinewidth\":0,\"ticks\":\"\"}},\"type\":\"scatterternary\"}],\"surface\":[{\"colorbar\":{\"outlinewidth\":0,\"ticks\":\"\"},\"colorscale\":[[0.0,\"#0d0887\"],[0.1111111111111111,\"#46039f\"],[0.2222222222222222,\"#7201a8\"],[0.3333333333333333,\"#9c179e\"],[0.4444444444444444,\"#bd3786\"],[0.5555555555555556,\"#d8576b\"],[0.6666666666666666,\"#ed7953\"],[0.7777777777777778,\"#fb9f3a\"],[0.8888888888888888,\"#fdca26\"],[1.0,\"#f0f921\"]],\"type\":\"surface\"}],\"table\":[{\"cells\":{\"fill\":{\"color\":\"#EBF0F8\"},\"line\":{\"color\":\"white\"}},\"header\":{\"fill\":{\"color\":\"#C8D4E3\"},\"line\":{\"color\":\"white\"}},\"type\":\"table\"}]},\"layout\":{\"annotationdefaults\":{\"arrowcolor\":\"#2a3f5f\",\"arrowhead\":0,\"arrowwidth\":1},\"autotypenumbers\":\"strict\",\"coloraxis\":{\"colorbar\":{\"outlinewidth\":0,\"ticks\":\"\"}},\"colorscale\":{\"diverging\":[[0,\"#8e0152\"],[0.1,\"#c51b7d\"],[0.2,\"#de77ae\"],[0.3,\"#f1b6da\"],[0.4,\"#fde0ef\"],[0.5,\"#f7f7f7\"],[0.6,\"#e6f5d0\"],[0.7,\"#b8e186\"],[0.8,\"#7fbc41\"],[0.9,\"#4d9221\"],[1,\"#276419\"]],\"sequential\":[[0.0,\"#0d0887\"],[0.1111111111111111,\"#46039f\"],[0.2222222222222222,\"#7201a8\"],[0.3333333333333333,\"#9c179e\"],[0.4444444444444444,\"#bd3786\"],[0.5555555555555556,\"#d8576b\"],[0.6666666666666666,\"#ed7953\"],[0.7777777777777778,\"#fb9f3a\"],[0.8888888888888888,\"#fdca26\"],[1.0,\"#f0f921\"]],\"sequentialminus\":[[0.0,\"#0d0887\"],[0.1111111111111111,\"#46039f\"],[0.2222222222222222,\"#7201a8\"],[0.3333333333333333,\"#9c179e\"],[0.4444444444444444,\"#bd3786\"],[0.5555555555555556,\"#d8576b\"],[0.6666666666666666,\"#ed7953\"],[0.7777777777777778,\"#fb9f3a\"],[0.8888888888888888,\"#fdca26\"],[1.0,\"#f0f921\"]]},\"colorway\":[\"#636efa\",\"#EF553B\",\"#00cc96\",\"#ab63fa\",\"#FFA15A\",\"#19d3f3\",\"#FF6692\",\"#B6E880\",\"#FF97FF\",\"#FECB52\"],\"font\":{\"color\":\"#2a3f5f\"},\"geo\":{\"bgcolor\":\"white\",\"lakecolor\":\"white\",\"landcolor\":\"#E5ECF6\",\"showlakes\":true,\"showland\":true,\"subunitcolor\":\"white\"},\"hoverlabel\":{\"align\":\"left\"},\"hovermode\":\"closest\",\"mapbox\":{\"style\":\"light\"},\"paper_bgcolor\":\"white\",\"plot_bgcolor\":\"#E5ECF6\",\"polar\":{\"angularaxis\":{\"gridcolor\":\"white\",\"linecolor\":\"white\",\"ticks\":\"\"},\"bgcolor\":\"#E5ECF6\",\"radialaxis\":{\"gridcolor\":\"white\",\"linecolor\":\"white\",\"ticks\":\"\"}},\"scene\":{\"xaxis\":{\"backgroundcolor\":\"#E5ECF6\",\"gridcolor\":\"white\",\"gridwidth\":2,\"linecolor\":\"white\",\"showbackground\":true,\"ticks\":\"\",\"zerolinecolor\":\"white\"},\"yaxis\":{\"backgroundcolor\":\"#E5ECF6\",\"gridcolor\":\"white\",\"gridwidth\":2,\"linecolor\":\"white\",\"showbackground\":true,\"ticks\":\"\",\"zerolinecolor\":\"white\"},\"zaxis\":{\"backgroundcolor\":\"#E5ECF6\",\"gridcolor\":\"white\",\"gridwidth\":2,\"linecolor\":\"white\",\"showbackground\":true,\"ticks\":\"\",\"zerolinecolor\":\"white\"}},\"shapedefaults\":{\"line\":{\"color\":\"#2a3f5f\"}},\"ternary\":{\"aaxis\":{\"gridcolor\":\"white\",\"linecolor\":\"white\",\"ticks\":\"\"},\"baxis\":{\"gridcolor\":\"white\",\"linecolor\":\"white\",\"ticks\":\"\"},\"bgcolor\":\"#E5ECF6\",\"caxis\":{\"gridcolor\":\"white\",\"linecolor\":\"white\",\"ticks\":\"\"}},\"title\":{\"x\":0.05},\"xaxis\":{\"automargin\":true,\"gridcolor\":\"white\",\"linecolor\":\"white\",\"ticks\":\"\",\"title\":{\"standoff\":15},\"zerolinecolor\":\"white\",\"zerolinewidth\":2},\"yaxis\":{\"automargin\":true,\"gridcolor\":\"white\",\"linecolor\":\"white\",\"ticks\":\"\",\"title\":{\"standoff\":15},\"zerolinecolor\":\"white\",\"zerolinewidth\":2}}},\"scene\":{\"domain\":{\"x\":[0.0,1.0],\"y\":[0.0,1.0]},\"xaxis\":{\"title\":{\"text\":\"Temperature\"}},\"yaxis\":{\"title\":{\"text\":\" RH\"}},\"zaxis\":{\"title\":{\"text\":\" Ws\"}}},\"legend\":{\"title\":{\"text\":\"Classes\"},\"tracegroupgap\":0,\"itemsizing\":\"constant\"},\"margin\":{\"t\":60}},                        {\"responsive\": true}                    ).then(function(){\n",
       "                            \n",
       "var gd = document.getElementById('0c6115ac-09b1-4aea-b000-4490520070d3');\n",
       "var x = new MutationObserver(function (mutations, observer) {{\n",
       "        var display = window.getComputedStyle(gd).display;\n",
       "        if (!display || display === 'none') {{\n",
       "            console.log([gd, 'removed!']);\n",
       "            Plotly.purge(gd);\n",
       "            observer.disconnect();\n",
       "        }}\n",
       "}});\n",
       "\n",
       "// Listen for the removal of the full notebook cells\n",
       "var notebookContainer = gd.closest('#notebook-container');\n",
       "if (notebookContainer) {{\n",
       "    x.observe(notebookContainer, {childList: true});\n",
       "}}\n",
       "\n",
       "// Listen for the clearing of the current output cell\n",
       "var outputEl = gd.closest('.output');\n",
       "if (outputEl) {{\n",
       "    x.observe(outputEl, {childList: true});\n",
       "}}\n",
       "\n",
       "                        })                };                });            </script>        </div>"
      ]
     },
     "metadata": {},
     "output_type": "display_data"
    }
   ],
   "source": [
    "# Relatonship Between Temprature, Humidity and Wind Speed\n",
    "pty.scatter_3d(Algeria_df, \"Temperature\", \" RH\", \" Ws\", color=\"Classes\", size=rain_10)"
   ]
  },
  {
   "cell_type": "markdown",
   "id": "08182600",
   "metadata": {},
   "source": [
    "- Observations:\n",
    "    1. Temprature and fire has direct relation. More the temprature More no. of Fire case.\n",
    "    2. Humidity and Temprature Combined play very Crucial Role in determining Fire in Forest.\n",
    "    3. If Humidity is less there is high chance of Getting Fire in Forest\n",
    "    4. Slower wind Speed help in Fire Incident in Forest"
   ]
  },
  {
   "cell_type": "code",
   "execution_count": 64,
   "id": "bfe080e2",
   "metadata": {},
   "outputs": [
    {
     "data": {
      "application/vnd.plotly.v1+json": {
       "config": {
        "plotlyServerURL": "https://plot.ly"
       },
       "data": [
        {
         "hovertemplate": "FFMC=%{x}<br>FWI=%{y}<br>ISI=%{z}<br>size=%{marker.size}<br>Classes=%{marker.color}<extra></extra>",
         "legendgroup": "",
         "marker": {
          "color": [
           0,
           0,
           0,
           0,
           0,
           1,
           1,
           1,
           0,
           0,
           1,
           1,
           0,
           0,
           0,
           0,
           0,
           0,
           0,
           0,
           1,
           0,
           1,
           1,
           1,
           1,
           1,
           1,
           0,
           1,
           0,
           0,
           0,
           0,
           1,
           1,
           0,
           1,
           0,
           0,
           0,
           0,
           0,
           0,
           0,
           0,
           1,
           1,
           1,
           1,
           1,
           0,
           0,
           0,
           1,
           1,
           1,
           1,
           1,
           1,
           1,
           0,
           0,
           0,
           1,
           1,
           1,
           1,
           0,
           1,
           1,
           1,
           0,
           1,
           1,
           1,
           1,
           1,
           1,
           1,
           1,
           1,
           1,
           1,
           1,
           1,
           1,
           1,
           1,
           1,
           0,
           0,
           0,
           0,
           0,
           0,
           1,
           0,
           0,
           0,
           0,
           0,
           0,
           0,
           0,
           0,
           0,
           0,
           1,
           1,
           1,
           1,
           1,
           0,
           0,
           0,
           0,
           0,
           1,
           0,
           0,
           0,
           0,
           0,
           0,
           0,
           0,
           1,
           1,
           0,
           0,
           1,
           1,
           1,
           0,
           0,
           0,
           0,
           0,
           0,
           0,
           0,
           1,
           0,
           0,
           1,
           1,
           1,
           1,
           1,
           1,
           0,
           0,
           1,
           1,
           1,
           1,
           1,
           1,
           1,
           1,
           0,
           0,
           1,
           1,
           1,
           1,
           1,
           1,
           1,
           1,
           1,
           1,
           1,
           0,
           0,
           0,
           0,
           1,
           1,
           1,
           1,
           0,
           1,
           1,
           1,
           1,
           0,
           0,
           1,
           1,
           1,
           1,
           1,
           1,
           1,
           1,
           1,
           1,
           1,
           1,
           1,
           1,
           1,
           1,
           1,
           1,
           1,
           1,
           0,
           1,
           1,
           1,
           0,
           0,
           1,
           0,
           0,
           0,
           1,
           1,
           1,
           0,
           0,
           1,
           1,
           1,
           1,
           1,
           1,
           1,
           1,
           0,
           1,
           1,
           1,
           0,
           0,
           1,
           0,
           0,
           0,
           0
          ],
          "coloraxis": "coloraxis",
          "size": [
           10,
           11.3,
           23.1,
           12.5,
           10,
           10,
           10,
           10,
           10.2,
           10,
           10,
           10,
           11.2,
           10.5,
           13.1,
           10.7,
           10.6,
           10.3,
           10.1,
           10.4,
           10,
           10.1,
           10.1,
           10,
           10,
           10,
           10,
           10,
           10.3,
           10,
           11,
           11.2,
           10.7,
           10,
           10,
           10,
           10.2,
           10,
           11.4,
           10.7,
           10,
           10.1,
           10,
           10.6,
           10.4,
           10,
           10,
           10,
           10,
           10.1,
           10,
           10.1,
           10.4,
           10.1,
           10,
           10,
           10,
           10,
           10,
           10,
           10,
           10,
           10.4,
           10.3,
           10,
           10,
           10,
           10,
           10.3,
           10,
           10,
           10,
           10.3,
           10,
           10,
           10.3,
           10.3,
           10,
           10,
           10,
           10,
           10,
           10,
           10,
           10,
           10,
           10,
           10,
           10,
           10,
           10.8,
           26.8,
           17.2,
           20.1,
           13.8,
           10.1,
           10,
           10.1,
           10.3,
           10.9,
           11,
           11.8,
           11.8,
           10,
           14.6,
           18.3,
           10.4,
           10,
           10,
           10,
           10,
           10,
           10,
           10.6,
           10.5,
           10.6,
           15.8,
           10,
           10,
           10.7,
           11.8,
           11.4,
           10.7,
           14,
           12,
           10,
           10.2,
           10.1,
           10.2,
           11.3,
           10.1,
           10,
           10,
           10,
           12,
           10.7,
           10,
           10.4,
           14.7,
           18.7,
           14.5,
           10.2,
           10,
           11.1,
           10.8,
           10,
           10,
           10,
           10,
           10,
           10.6,
           11.7,
           12.2,
           10,
           10.1,
           10,
           10,
           10.3,
           10.5,
           16,
           11.9,
           13.8,
           12.9,
           10,
           10.6,
           10,
           10,
           10,
           10,
           10,
           10,
           10,
           10,
           10,
           11.1,
           11.2,
           10.2,
           10,
           10,
           10,
           10,
           10,
           10,
           10,
           10,
           10,
           10.1,
           13.1,
           12.9,
           10,
           10,
           10.2,
           10,
           10.4,
           10.2,
           10,
           10.3,
           10.1,
           10,
           10,
           10.1,
           10,
           10,
           10,
           10,
           10,
           10,
           10,
           10,
           10.4,
           10.5,
           10,
           10,
           10,
           10,
           10,
           10.2,
           14.1,
           16.5,
           10,
           10,
           10,
           11.1,
           10,
           10,
           10,
           10,
           10,
           10,
           10,
           10.1,
           10.1,
           10.2,
           10,
           10,
           10,
           12,
           10,
           10,
           14.4,
           10.5,
           10.1,
           10.2
          ],
          "sizemode": "area",
          "sizeref": 0.067,
          "symbol": "circle"
         },
         "mode": "markers",
         "name": "",
         "scene": "scene",
         "showlegend": false,
         "type": "scatter3d",
         "x": [
          65.7,
          64.4,
          47.1,
          28.6,
          64.8,
          82.6,
          88.2,
          86.6,
          52.9,
          73.2,
          84.5,
          84,
          50,
          59,
          49.4,
          36.1,
          37.3,
          56.9,
          79.9,
          59.8,
          81,
          79.1,
          81.4,
          85.9,
          86.7,
          86.8,
          89,
          89.1,
          79.9,
          88.7,
          59.9,
          55.7,
          63.1,
          80.1,
          85.9,
          87,
          80,
          85.6,
          66.6,
          66.6,
          81.1,
          75.1,
          81.8,
          73.9,
          60.7,
          72.6,
          82.8,
          85.4,
          88.1,
          81.4,
          85.4,
          73.4,
          68.2,
          70,
          84.3,
          89.2,
          90.3,
          86.5,
          86.6,
          85.4,
          87.2,
          78.8,
          78,
          76.6,
          85,
          86.8,
          86.4,
          86.5,
          77.1,
          87.4,
          88.9,
          88.9,
          81.3,
          87,
          87,
          82.4,
          80.2,
          89.3,
          89.4,
          89.4,
          88.3,
          88.6,
          89.1,
          89.5,
          88.9,
          88.9,
          85.8,
          84.9,
          89.4,
          90.1,
          72.7,
          52.5,
          46,
          30.5,
          42.6,
          68.4,
          80.8,
          75.8,
          69.6,
          62,
          56.1,
          59.9,
          58.5,
          71,
          40.9,
          47.4,
          44.9,
          78.1,
          87.7,
          89.4,
          89.3,
          83.8,
          87.8,
          77.8,
          73.7,
          68.3,
          48.6,
          82,
          85.7,
          77.5,
          47.4,
          45,
          57.1,
          55.7,
          48.7,
          79.4,
          77.1,
          83.7,
          85.6,
          71.4,
          78.1,
          89.4,
          90.6,
          88.9,
          72.3,
          53.4,
          66.8,
          47.4,
          62.2,
          65.5,
          64.6,
          60.2,
          86.2,
          78.3,
          74.2,
          85.3,
          86,
          87.8,
          89.1,
          92.5,
          86.2,
          79.7,
          63.7,
          87.6,
          84.7,
          88,
          90.5,
          84.7,
          85,
          80.8,
          82.3,
          77.5,
          74.8,
          90.1,
          85.2,
          90.5,
          84.5,
          84.6,
          86.1,
          88.1,
          89.9,
          93.9,
          91.5,
          87.3,
          72.8,
          73.8,
          78.3,
          80,
          87.5,
          88.1,
          88.9,
          89.3,
          78.3,
          93.3,
          93.7,
          93.8,
          88.3,
          70.5,
          69.7,
          87.4,
          91.7,
          89.3,
          94.2,
          93,
          88.3,
          91.9,
          83.9,
          92,
          96,
          94.3,
          82.7,
          83.7,
          86,
          89.5,
          91.2,
          92.1,
          92.1,
          92.2,
          91,
          79.2,
          80.2,
          89.2,
          89.1,
          37.9,
          75.4,
          82.2,
          73.5,
          66.1,
          64.5,
          83.3,
          82.5,
          83.1,
          59.5,
          79.2,
          84.2,
          88.6,
          84.6,
          88.7,
          93.9,
          92.5,
          90.6,
          83.9,
          79.5,
          92.2,
          88.9,
          89,
          61.3,
          79.9,
          85.4,
          41.1,
          45.9,
          79.7,
          67.3
         ],
         "y": [
          0.5,
          0.4,
          0.1,
          0,
          0.5,
          2.5,
          7.2,
          7.1,
          0.3,
          0.9,
          5.6,
          7.1,
          0.2,
          0.4,
          0.1,
          0,
          0,
          0.2,
          1.4,
          0.4,
          2.2,
          2.3,
          3.8,
          7.5,
          8.4,
          10.6,
          15,
          13.9,
          3.9,
          12.9,
          0.4,
          0.3,
          0.5,
          1.7,
          4.9,
          6.8,
          3.2,
          8,
          0.6,
          0.5,
          2.2,
          0.9,
          3.4,
          0.8,
          0.5,
          0.4,
          3.6,
          6,
          10.9,
          4,
          8.8,
          2.8,
          2.1,
          1.3,
          7.3,
          15.3,
          15.3,
          11.3,
          11.9,
          10.7,
          15.7,
          0.9,
          0.8,
          0.8,
          3.9,
          6.1,
          6.8,
          8,
          2.6,
          9.9,
          11.6,
          12.1,
          4.2,
          10.2,
          10.6,
          6.3,
          4.2,
          14.6,
          16.1,
          17.2,
          16.8,
          18.4,
          20.4,
          22.3,
          20.9,
          20.3,
          13.7,
          13.2,
          19.9,
          30.2,
          4.2,
          0.3,
          0.1,
          0,
          0,
          0.5,
          1.7,
          0.9,
          0.6,
          0.4,
          0.2,
          0.3,
          0.3,
          0.5,
          0,
          0.1,
          0,
          0.8,
          5.9,
          7.7,
          9.7,
          6.3,
          8.3,
          2.8,
          0.7,
          0.7,
          0.1,
          1.7,
          4.1,
          0.9,
          0.1,
          0.1,
          0.2,
          0.2,
          0.1,
          1,
          0.9,
          3.1,
          6,
          0.8,
          1.9,
          10,
          16.7,
          12.9,
          0.9,
          0.3,
          0.6,
          0.1,
          0.4,
          0.4,
          0.4,
          0.3,
          4.9,
          1.2,
          0.8,
          5.3,
          6.7,
          9.5,
          12,
          18.4,
          7.2,
          2.2,
          0.5,
          6.4,
          5.2,
          9.9,
          15,
          6.3,
          5.2,
          3,
          3.1,
          1.3,
          0.8,
          9.6,
          4.7,
          14.1,
          7.3,
          7.7,
          9.1,
          13,
          17.3,
          30,
          25.4,
          16.3,
          2.5,
          0.7,
          1,
          3.2,
          9,
          10.9,
          13.2,
          14.5,
          0.8,
          13.5,
          19.5,
          20.9,
          12.6,
          0.8,
          0.6,
          5.9,
          12.7,
          10.7,
          21.6,
          18.8,
          10.5,
          15.7,
          5.5,
          14.8,
          24,
          26.3,
          7.7,
          9,
          12.2,
          18.1,
          24.5,
          26.9,
          31.1,
          30.3,
          26.1,
          6.1,
          5.9,
          16,
          19.4,
          0,
          0.8,
          2.5,
          0.7,
          0.4,
          0.4,
          3.2,
          2.7,
          3.7,
          0.3,
          1.2,
          3.9,
          10.3,
          5.7,
          9.8,
          19.3,
          17.5,
          15.4,
          5.6,
          3.8,
          21.6,
          13.7,
          15.2,
          0.4,
          3,
          6.5,
          0,
          0.2,
          0.7,
          0.5
         ],
         "z": [
          1.3,
          1,
          0.3,
          0,
          1.2,
          3.1,
          6.4,
          5.6,
          0.4,
          1.3,
          4,
          4.8,
          0.5,
          1,
          0.4,
          0,
          0,
          0.7,
          2.5,
          0.9,
          2.6,
          2.4,
          3.3,
          5.6,
          5.7,
          6.7,
          9.2,
          7.6,
          2.2,
          7.2,
          1.1,
          0.8,
          1.3,
          2.7,
          4.8,
          5.6,
          2.8,
          6,
          1.1,
          1.1,
          2.6,
          1.5,
          3,
          1.4,
          1.1,
          0.7,
          3.2,
          4.6,
          7.7,
          2.8,
          5.2,
          1.8,
          1.8,
          1.4,
          4.8,
          10,
          8.7,
          5.6,
          5.6,
          4.7,
          6.8,
          2,
          1.7,
          1.7,
          4,
          5.2,
          5.2,
          5.5,
          2.2,
          6.9,
          7.4,
          7.1,
          2.5,
          5.9,
          5.7,
          3.7,
          2.8,
          9.7,
          9.7,
          9.7,
          8.8,
          9.2,
          9.9,
          10.4,
          9,
          8.2,
          4.7,
          4.4,
          7.3,
          12.5,
          1.7,
          0.6,
          0.2,
          0,
          0.1,
          1.4,
          2.8,
          2.1,
          1.5,
          1.1,
          0.7,
          0.7,
          1.1,
          1.2,
          0.1,
          0.4,
          0.2,
          1.9,
          6.2,
          6.8,
          7.8,
          4.5,
          5.4,
          2.4,
          1.2,
          1.5,
          0.4,
          2.5,
          4,
          1.8,
          0.3,
          0.2,
          0.6,
          0.6,
          0.3,
          2.2,
          1.8,
          3.1,
          5.4,
          1.5,
          2.4,
          8.4,
          13.4,
          8.7,
          1.4,
          0.5,
          1.2,
          0.2,
          1.1,
          0.9,
          1,
          0.8,
          5,
          1.9,
          1.6,
          4.9,
          5.4,
          7,
          8,
          11.7,
          4.8,
          2.2,
          1.2,
          6.8,
          4.7,
          8,
          11.3,
          4.3,
          4.1,
          3.1,
          3.2,
          2,
          1.6,
          8.3,
          4.2,
          10.9,
          4.7,
          4.7,
          5.2,
          7.3,
          9.5,
          18.5,
          13.2,
          6.9,
          1.6,
          1.1,
          1.6,
          2.8,
          6.7,
          7.4,
          8.2,
          8.3,
          2,
          13.8,
          17.2,
          15.7,
          19,
          1.3,
          1.2,
          5.2,
          9.6,
          8.2,
          16.6,
          15.5,
          7.5,
          10.8,
          3.5,
          9.5,
          15.7,
          16,
          3.3,
          3.8,
          5.1,
          8,
          11.5,
          12.2,
          14.3,
          13.1,
          10,
          2.1,
          2.7,
          8.1,
          9.8,
          0.1,
          2,
          3.3,
          1.5,
          1,
          1,
          3.8,
          3,
          3.5,
          0.8,
          2.1,
          3.8,
          9.1,
          4.3,
          6.9,
          14.2,
          11.2,
          9,
          2.7,
          2.1,
          13.8,
          7.1,
          7.5,
          0.6,
          2.4,
          4.5,
          0.1,
          0.4,
          1.7,
          1.2
         ]
        }
       ],
       "layout": {
        "coloraxis": {
         "colorbar": {
          "title": {
           "text": "Classes"
          }
         },
         "colorscale": [
          [
           0,
           "#0d0887"
          ],
          [
           0.1111111111111111,
           "#46039f"
          ],
          [
           0.2222222222222222,
           "#7201a8"
          ],
          [
           0.3333333333333333,
           "#9c179e"
          ],
          [
           0.4444444444444444,
           "#bd3786"
          ],
          [
           0.5555555555555556,
           "#d8576b"
          ],
          [
           0.6666666666666666,
           "#ed7953"
          ],
          [
           0.7777777777777778,
           "#fb9f3a"
          ],
          [
           0.8888888888888888,
           "#fdca26"
          ],
          [
           1,
           "#f0f921"
          ]
         ]
        },
        "legend": {
         "itemsizing": "constant",
         "tracegroupgap": 0
        },
        "margin": {
         "t": 60
        },
        "scene": {
         "domain": {
          "x": [
           0,
           1
          ],
          "y": [
           0,
           1
          ]
         },
         "xaxis": {
          "title": {
           "text": "FFMC"
          }
         },
         "yaxis": {
          "title": {
           "text": "FWI"
          }
         },
         "zaxis": {
          "title": {
           "text": "ISI"
          }
         }
        },
        "template": {
         "data": {
          "bar": [
           {
            "error_x": {
             "color": "#2a3f5f"
            },
            "error_y": {
             "color": "#2a3f5f"
            },
            "marker": {
             "line": {
              "color": "#E5ECF6",
              "width": 0.5
             },
             "pattern": {
              "fillmode": "overlay",
              "size": 10,
              "solidity": 0.2
             }
            },
            "type": "bar"
           }
          ],
          "barpolar": [
           {
            "marker": {
             "line": {
              "color": "#E5ECF6",
              "width": 0.5
             },
             "pattern": {
              "fillmode": "overlay",
              "size": 10,
              "solidity": 0.2
             }
            },
            "type": "barpolar"
           }
          ],
          "carpet": [
           {
            "aaxis": {
             "endlinecolor": "#2a3f5f",
             "gridcolor": "white",
             "linecolor": "white",
             "minorgridcolor": "white",
             "startlinecolor": "#2a3f5f"
            },
            "baxis": {
             "endlinecolor": "#2a3f5f",
             "gridcolor": "white",
             "linecolor": "white",
             "minorgridcolor": "white",
             "startlinecolor": "#2a3f5f"
            },
            "type": "carpet"
           }
          ],
          "choropleth": [
           {
            "colorbar": {
             "outlinewidth": 0,
             "ticks": ""
            },
            "type": "choropleth"
           }
          ],
          "contour": [
           {
            "colorbar": {
             "outlinewidth": 0,
             "ticks": ""
            },
            "colorscale": [
             [
              0,
              "#0d0887"
             ],
             [
              0.1111111111111111,
              "#46039f"
             ],
             [
              0.2222222222222222,
              "#7201a8"
             ],
             [
              0.3333333333333333,
              "#9c179e"
             ],
             [
              0.4444444444444444,
              "#bd3786"
             ],
             [
              0.5555555555555556,
              "#d8576b"
             ],
             [
              0.6666666666666666,
              "#ed7953"
             ],
             [
              0.7777777777777778,
              "#fb9f3a"
             ],
             [
              0.8888888888888888,
              "#fdca26"
             ],
             [
              1,
              "#f0f921"
             ]
            ],
            "type": "contour"
           }
          ],
          "contourcarpet": [
           {
            "colorbar": {
             "outlinewidth": 0,
             "ticks": ""
            },
            "type": "contourcarpet"
           }
          ],
          "heatmap": [
           {
            "colorbar": {
             "outlinewidth": 0,
             "ticks": ""
            },
            "colorscale": [
             [
              0,
              "#0d0887"
             ],
             [
              0.1111111111111111,
              "#46039f"
             ],
             [
              0.2222222222222222,
              "#7201a8"
             ],
             [
              0.3333333333333333,
              "#9c179e"
             ],
             [
              0.4444444444444444,
              "#bd3786"
             ],
             [
              0.5555555555555556,
              "#d8576b"
             ],
             [
              0.6666666666666666,
              "#ed7953"
             ],
             [
              0.7777777777777778,
              "#fb9f3a"
             ],
             [
              0.8888888888888888,
              "#fdca26"
             ],
             [
              1,
              "#f0f921"
             ]
            ],
            "type": "heatmap"
           }
          ],
          "heatmapgl": [
           {
            "colorbar": {
             "outlinewidth": 0,
             "ticks": ""
            },
            "colorscale": [
             [
              0,
              "#0d0887"
             ],
             [
              0.1111111111111111,
              "#46039f"
             ],
             [
              0.2222222222222222,
              "#7201a8"
             ],
             [
              0.3333333333333333,
              "#9c179e"
             ],
             [
              0.4444444444444444,
              "#bd3786"
             ],
             [
              0.5555555555555556,
              "#d8576b"
             ],
             [
              0.6666666666666666,
              "#ed7953"
             ],
             [
              0.7777777777777778,
              "#fb9f3a"
             ],
             [
              0.8888888888888888,
              "#fdca26"
             ],
             [
              1,
              "#f0f921"
             ]
            ],
            "type": "heatmapgl"
           }
          ],
          "histogram": [
           {
            "marker": {
             "pattern": {
              "fillmode": "overlay",
              "size": 10,
              "solidity": 0.2
             }
            },
            "type": "histogram"
           }
          ],
          "histogram2d": [
           {
            "colorbar": {
             "outlinewidth": 0,
             "ticks": ""
            },
            "colorscale": [
             [
              0,
              "#0d0887"
             ],
             [
              0.1111111111111111,
              "#46039f"
             ],
             [
              0.2222222222222222,
              "#7201a8"
             ],
             [
              0.3333333333333333,
              "#9c179e"
             ],
             [
              0.4444444444444444,
              "#bd3786"
             ],
             [
              0.5555555555555556,
              "#d8576b"
             ],
             [
              0.6666666666666666,
              "#ed7953"
             ],
             [
              0.7777777777777778,
              "#fb9f3a"
             ],
             [
              0.8888888888888888,
              "#fdca26"
             ],
             [
              1,
              "#f0f921"
             ]
            ],
            "type": "histogram2d"
           }
          ],
          "histogram2dcontour": [
           {
            "colorbar": {
             "outlinewidth": 0,
             "ticks": ""
            },
            "colorscale": [
             [
              0,
              "#0d0887"
             ],
             [
              0.1111111111111111,
              "#46039f"
             ],
             [
              0.2222222222222222,
              "#7201a8"
             ],
             [
              0.3333333333333333,
              "#9c179e"
             ],
             [
              0.4444444444444444,
              "#bd3786"
             ],
             [
              0.5555555555555556,
              "#d8576b"
             ],
             [
              0.6666666666666666,
              "#ed7953"
             ],
             [
              0.7777777777777778,
              "#fb9f3a"
             ],
             [
              0.8888888888888888,
              "#fdca26"
             ],
             [
              1,
              "#f0f921"
             ]
            ],
            "type": "histogram2dcontour"
           }
          ],
          "mesh3d": [
           {
            "colorbar": {
             "outlinewidth": 0,
             "ticks": ""
            },
            "type": "mesh3d"
           }
          ],
          "parcoords": [
           {
            "line": {
             "colorbar": {
              "outlinewidth": 0,
              "ticks": ""
             }
            },
            "type": "parcoords"
           }
          ],
          "pie": [
           {
            "automargin": true,
            "type": "pie"
           }
          ],
          "scatter": [
           {
            "marker": {
             "colorbar": {
              "outlinewidth": 0,
              "ticks": ""
             }
            },
            "type": "scatter"
           }
          ],
          "scatter3d": [
           {
            "line": {
             "colorbar": {
              "outlinewidth": 0,
              "ticks": ""
             }
            },
            "marker": {
             "colorbar": {
              "outlinewidth": 0,
              "ticks": ""
             }
            },
            "type": "scatter3d"
           }
          ],
          "scattercarpet": [
           {
            "marker": {
             "colorbar": {
              "outlinewidth": 0,
              "ticks": ""
             }
            },
            "type": "scattercarpet"
           }
          ],
          "scattergeo": [
           {
            "marker": {
             "colorbar": {
              "outlinewidth": 0,
              "ticks": ""
             }
            },
            "type": "scattergeo"
           }
          ],
          "scattergl": [
           {
            "marker": {
             "colorbar": {
              "outlinewidth": 0,
              "ticks": ""
             }
            },
            "type": "scattergl"
           }
          ],
          "scattermapbox": [
           {
            "marker": {
             "colorbar": {
              "outlinewidth": 0,
              "ticks": ""
             }
            },
            "type": "scattermapbox"
           }
          ],
          "scatterpolar": [
           {
            "marker": {
             "colorbar": {
              "outlinewidth": 0,
              "ticks": ""
             }
            },
            "type": "scatterpolar"
           }
          ],
          "scatterpolargl": [
           {
            "marker": {
             "colorbar": {
              "outlinewidth": 0,
              "ticks": ""
             }
            },
            "type": "scatterpolargl"
           }
          ],
          "scatterternary": [
           {
            "marker": {
             "colorbar": {
              "outlinewidth": 0,
              "ticks": ""
             }
            },
            "type": "scatterternary"
           }
          ],
          "surface": [
           {
            "colorbar": {
             "outlinewidth": 0,
             "ticks": ""
            },
            "colorscale": [
             [
              0,
              "#0d0887"
             ],
             [
              0.1111111111111111,
              "#46039f"
             ],
             [
              0.2222222222222222,
              "#7201a8"
             ],
             [
              0.3333333333333333,
              "#9c179e"
             ],
             [
              0.4444444444444444,
              "#bd3786"
             ],
             [
              0.5555555555555556,
              "#d8576b"
             ],
             [
              0.6666666666666666,
              "#ed7953"
             ],
             [
              0.7777777777777778,
              "#fb9f3a"
             ],
             [
              0.8888888888888888,
              "#fdca26"
             ],
             [
              1,
              "#f0f921"
             ]
            ],
            "type": "surface"
           }
          ],
          "table": [
           {
            "cells": {
             "fill": {
              "color": "#EBF0F8"
             },
             "line": {
              "color": "white"
             }
            },
            "header": {
             "fill": {
              "color": "#C8D4E3"
             },
             "line": {
              "color": "white"
             }
            },
            "type": "table"
           }
          ]
         },
         "layout": {
          "annotationdefaults": {
           "arrowcolor": "#2a3f5f",
           "arrowhead": 0,
           "arrowwidth": 1
          },
          "autotypenumbers": "strict",
          "coloraxis": {
           "colorbar": {
            "outlinewidth": 0,
            "ticks": ""
           }
          },
          "colorscale": {
           "diverging": [
            [
             0,
             "#8e0152"
            ],
            [
             0.1,
             "#c51b7d"
            ],
            [
             0.2,
             "#de77ae"
            ],
            [
             0.3,
             "#f1b6da"
            ],
            [
             0.4,
             "#fde0ef"
            ],
            [
             0.5,
             "#f7f7f7"
            ],
            [
             0.6,
             "#e6f5d0"
            ],
            [
             0.7,
             "#b8e186"
            ],
            [
             0.8,
             "#7fbc41"
            ],
            [
             0.9,
             "#4d9221"
            ],
            [
             1,
             "#276419"
            ]
           ],
           "sequential": [
            [
             0,
             "#0d0887"
            ],
            [
             0.1111111111111111,
             "#46039f"
            ],
            [
             0.2222222222222222,
             "#7201a8"
            ],
            [
             0.3333333333333333,
             "#9c179e"
            ],
            [
             0.4444444444444444,
             "#bd3786"
            ],
            [
             0.5555555555555556,
             "#d8576b"
            ],
            [
             0.6666666666666666,
             "#ed7953"
            ],
            [
             0.7777777777777778,
             "#fb9f3a"
            ],
            [
             0.8888888888888888,
             "#fdca26"
            ],
            [
             1,
             "#f0f921"
            ]
           ],
           "sequentialminus": [
            [
             0,
             "#0d0887"
            ],
            [
             0.1111111111111111,
             "#46039f"
            ],
            [
             0.2222222222222222,
             "#7201a8"
            ],
            [
             0.3333333333333333,
             "#9c179e"
            ],
            [
             0.4444444444444444,
             "#bd3786"
            ],
            [
             0.5555555555555556,
             "#d8576b"
            ],
            [
             0.6666666666666666,
             "#ed7953"
            ],
            [
             0.7777777777777778,
             "#fb9f3a"
            ],
            [
             0.8888888888888888,
             "#fdca26"
            ],
            [
             1,
             "#f0f921"
            ]
           ]
          },
          "colorway": [
           "#636efa",
           "#EF553B",
           "#00cc96",
           "#ab63fa",
           "#FFA15A",
           "#19d3f3",
           "#FF6692",
           "#B6E880",
           "#FF97FF",
           "#FECB52"
          ],
          "font": {
           "color": "#2a3f5f"
          },
          "geo": {
           "bgcolor": "white",
           "lakecolor": "white",
           "landcolor": "#E5ECF6",
           "showlakes": true,
           "showland": true,
           "subunitcolor": "white"
          },
          "hoverlabel": {
           "align": "left"
          },
          "hovermode": "closest",
          "mapbox": {
           "style": "light"
          },
          "paper_bgcolor": "white",
          "plot_bgcolor": "#E5ECF6",
          "polar": {
           "angularaxis": {
            "gridcolor": "white",
            "linecolor": "white",
            "ticks": ""
           },
           "bgcolor": "#E5ECF6",
           "radialaxis": {
            "gridcolor": "white",
            "linecolor": "white",
            "ticks": ""
           }
          },
          "scene": {
           "xaxis": {
            "backgroundcolor": "#E5ECF6",
            "gridcolor": "white",
            "gridwidth": 2,
            "linecolor": "white",
            "showbackground": true,
            "ticks": "",
            "zerolinecolor": "white"
           },
           "yaxis": {
            "backgroundcolor": "#E5ECF6",
            "gridcolor": "white",
            "gridwidth": 2,
            "linecolor": "white",
            "showbackground": true,
            "ticks": "",
            "zerolinecolor": "white"
           },
           "zaxis": {
            "backgroundcolor": "#E5ECF6",
            "gridcolor": "white",
            "gridwidth": 2,
            "linecolor": "white",
            "showbackground": true,
            "ticks": "",
            "zerolinecolor": "white"
           }
          },
          "shapedefaults": {
           "line": {
            "color": "#2a3f5f"
           }
          },
          "ternary": {
           "aaxis": {
            "gridcolor": "white",
            "linecolor": "white",
            "ticks": ""
           },
           "baxis": {
            "gridcolor": "white",
            "linecolor": "white",
            "ticks": ""
           },
           "bgcolor": "#E5ECF6",
           "caxis": {
            "gridcolor": "white",
            "linecolor": "white",
            "ticks": ""
           }
          },
          "title": {
           "x": 0.05
          },
          "xaxis": {
           "automargin": true,
           "gridcolor": "white",
           "linecolor": "white",
           "ticks": "",
           "title": {
            "standoff": 15
           },
           "zerolinecolor": "white",
           "zerolinewidth": 2
          },
          "yaxis": {
           "automargin": true,
           "gridcolor": "white",
           "linecolor": "white",
           "ticks": "",
           "title": {
            "standoff": 15
           },
           "zerolinecolor": "white",
           "zerolinewidth": 2
          }
         }
        }
       }
      },
      "text/html": [
       "<div>                            <div id=\"6422a3ad-bd61-40c8-951d-e52303056948\" class=\"plotly-graph-div\" style=\"height:525px; width:100%;\"></div>            <script type=\"text/javascript\">                require([\"plotly\"], function(Plotly) {                    window.PLOTLYENV=window.PLOTLYENV || {};                                    if (document.getElementById(\"6422a3ad-bd61-40c8-951d-e52303056948\")) {                    Plotly.newPlot(                        \"6422a3ad-bd61-40c8-951d-e52303056948\",                        [{\"hovertemplate\":\"FFMC=%{x}<br>FWI=%{y}<br>ISI=%{z}<br>size=%{marker.size}<br>Classes=%{marker.color}<extra></extra>\",\"legendgroup\":\"\",\"marker\":{\"color\":[0,0,0,0,0,1,1,1,0,0,1,1,0,0,0,0,0,0,0,0,1,0,1,1,1,1,1,1,0,1,0,0,0,0,1,1,0,1,0,0,0,0,0,0,0,0,1,1,1,1,1,0,0,0,1,1,1,1,1,1,1,0,0,0,1,1,1,1,0,1,1,1,0,1,1,1,1,1,1,1,1,1,1,1,1,1,1,1,1,1,0,0,0,0,0,0,1,0,0,0,0,0,0,0,0,0,0,0,1,1,1,1,1,0,0,0,0,0,1,0,0,0,0,0,0,0,0,1,1,0,0,1,1,1,0,0,0,0,0,0,0,0,1,0,0,1,1,1,1,1,1,0,0,1,1,1,1,1,1,1,1,0,0,1,1,1,1,1,1,1,1,1,1,1,0,0,0,0,1,1,1,1,0,1,1,1,1,0,0,1,1,1,1,1,1,1,1,1,1,1,1,1,1,1,1,1,1,1,1,0,1,1,1,0,0,1,0,0,0,1,1,1,0,0,1,1,1,1,1,1,1,1,0,1,1,1,0,0,1,0,0,0,0],\"coloraxis\":\"coloraxis\",\"size\":[10.0,11.3,23.1,12.5,10.0,10.0,10.0,10.0,10.2,10.0,10.0,10.0,11.2,10.5,13.1,10.7,10.6,10.3,10.1,10.4,10.0,10.1,10.1,10.0,10.0,10.0,10.0,10.0,10.3,10.0,11.0,11.2,10.7,10.0,10.0,10.0,10.2,10.0,11.4,10.7,10.0,10.1,10.0,10.6,10.4,10.0,10.0,10.0,10.0,10.1,10.0,10.1,10.4,10.1,10.0,10.0,10.0,10.0,10.0,10.0,10.0,10.0,10.4,10.3,10.0,10.0,10.0,10.0,10.3,10.0,10.0,10.0,10.3,10.0,10.0,10.3,10.3,10.0,10.0,10.0,10.0,10.0,10.0,10.0,10.0,10.0,10.0,10.0,10.0,10.0,10.8,26.8,17.2,20.1,13.8,10.1,10.0,10.1,10.3,10.9,11.0,11.8,11.8,10.0,14.6,18.3,10.4,10.0,10.0,10.0,10.0,10.0,10.0,10.6,10.5,10.6,15.8,10.0,10.0,10.7,11.8,11.4,10.7,14.0,12.0,10.0,10.2,10.1,10.2,11.3,10.1,10.0,10.0,10.0,12.0,10.7,10.0,10.4,14.7,18.7,14.5,10.2,10.0,11.1,10.8,10.0,10.0,10.0,10.0,10.0,10.6,11.7,12.2,10.0,10.1,10.0,10.0,10.3,10.5,16.0,11.9,13.8,12.9,10.0,10.6,10.0,10.0,10.0,10.0,10.0,10.0,10.0,10.0,10.0,11.1,11.2,10.2,10.0,10.0,10.0,10.0,10.0,10.0,10.0,10.0,10.0,10.1,13.1,12.9,10.0,10.0,10.2,10.0,10.4,10.2,10.0,10.3,10.1,10.0,10.0,10.1,10.0,10.0,10.0,10.0,10.0,10.0,10.0,10.0,10.4,10.5,10.0,10.0,10.0,10.0,10.0,10.2,14.1,16.5,10.0,10.0,10.0,11.1,10.0,10.0,10.0,10.0,10.0,10.0,10.0,10.1,10.1,10.2,10.0,10.0,10.0,12.0,10.0,10.0,14.4,10.5,10.1,10.2],\"sizemode\":\"area\",\"sizeref\":0.067,\"symbol\":\"circle\"},\"mode\":\"markers\",\"name\":\"\",\"scene\":\"scene\",\"showlegend\":false,\"x\":[65.7,64.4,47.1,28.6,64.8,82.6,88.2,86.6,52.9,73.2,84.5,84.0,50.0,59.0,49.4,36.1,37.3,56.9,79.9,59.8,81.0,79.1,81.4,85.9,86.7,86.8,89.0,89.1,79.9,88.7,59.9,55.7,63.1,80.1,85.9,87.0,80.0,85.6,66.6,66.6,81.1,75.1,81.8,73.9,60.7,72.6,82.8,85.4,88.1,81.4,85.4,73.4,68.2,70.0,84.3,89.2,90.3,86.5,86.6,85.4,87.2,78.8,78.0,76.6,85.0,86.8,86.4,86.5,77.1,87.4,88.9,88.9,81.3,87.0,87.0,82.4,80.2,89.3,89.4,89.4,88.3,88.6,89.1,89.5,88.9,88.9,85.8,84.9,89.4,90.1,72.7,52.5,46.0,30.5,42.6,68.4,80.8,75.8,69.6,62.0,56.1,59.9,58.5,71.0,40.9,47.4,44.9,78.1,87.7,89.4,89.3,83.8,87.8,77.8,73.7,68.3,48.6,82.0,85.7,77.5,47.4,45.0,57.1,55.7,48.7,79.4,77.1,83.7,85.6,71.4,78.1,89.4,90.6,88.9,72.3,53.4,66.8,47.4,62.2,65.5,64.6,60.2,86.2,78.3,74.2,85.3,86.0,87.8,89.1,92.5,86.2,79.7,63.7,87.6,84.7,88.0,90.5,84.7,85.0,80.8,82.3,77.5,74.8,90.1,85.2,90.5,84.5,84.6,86.1,88.1,89.9,93.9,91.5,87.3,72.8,73.8,78.3,80.0,87.5,88.1,88.9,89.3,78.3,93.3,93.7,93.8,88.3,70.5,69.7,87.4,91.7,89.3,94.2,93.0,88.3,91.9,83.9,92.0,96.0,94.3,82.7,83.7,86.0,89.5,91.2,92.1,92.1,92.2,91.0,79.2,80.2,89.2,89.1,37.9,75.4,82.2,73.5,66.1,64.5,83.3,82.5,83.1,59.5,79.2,84.2,88.6,84.6,88.7,93.9,92.5,90.6,83.9,79.5,92.2,88.9,89.0,61.3,79.9,85.4,41.1,45.9,79.7,67.3],\"y\":[0.5,0.4,0.1,0.0,0.5,2.5,7.2,7.1,0.3,0.9,5.6,7.1,0.2,0.4,0.1,0.0,0.0,0.2,1.4,0.4,2.2,2.3,3.8,7.5,8.4,10.6,15.0,13.9,3.9,12.9,0.4,0.3,0.5,1.7,4.9,6.8,3.2,8.0,0.6,0.5,2.2,0.9,3.4,0.8,0.5,0.4,3.6,6.0,10.9,4.0,8.8,2.8,2.1,1.3,7.3,15.3,15.3,11.3,11.9,10.7,15.7,0.9,0.8,0.8,3.9,6.1,6.8,8.0,2.6,9.9,11.6,12.1,4.2,10.2,10.6,6.3,4.2,14.6,16.1,17.2,16.8,18.4,20.4,22.3,20.9,20.3,13.7,13.2,19.9,30.2,4.2,0.3,0.1,0.0,0.0,0.5,1.7,0.9,0.6,0.4,0.2,0.3,0.3,0.5,0.0,0.1,0.0,0.8,5.9,7.7,9.7,6.3,8.3,2.8,0.7,0.7,0.1,1.7,4.1,0.9,0.1,0.1,0.2,0.2,0.1,1.0,0.9,3.1,6.0,0.8,1.9,10.0,16.7,12.9,0.9,0.3,0.6,0.1,0.4,0.4,0.4,0.3,4.9,1.2,0.8,5.3,6.7,9.5,12.0,18.4,7.2,2.2,0.5,6.4,5.2,9.9,15.0,6.3,5.2,3.0,3.1,1.3,0.8,9.6,4.7,14.1,7.3,7.7,9.1,13.0,17.3,30.0,25.4,16.3,2.5,0.7,1.0,3.2,9.0,10.9,13.2,14.5,0.8,13.5,19.5,20.9,12.6,0.8,0.6,5.9,12.7,10.7,21.6,18.8,10.5,15.7,5.5,14.8,24.0,26.3,7.7,9.0,12.2,18.1,24.5,26.9,31.1,30.3,26.1,6.1,5.9,16.0,19.4,0.0,0.8,2.5,0.7,0.4,0.4,3.2,2.7,3.7,0.3,1.2,3.9,10.3,5.7,9.8,19.3,17.5,15.4,5.6,3.8,21.6,13.7,15.2,0.4,3.0,6.5,0.0,0.2,0.7,0.5],\"z\":[1.3,1.0,0.3,0.0,1.2,3.1,6.4,5.6,0.4,1.3,4.0,4.8,0.5,1.0,0.4,0.0,0.0,0.7,2.5,0.9,2.6,2.4,3.3,5.6,5.7,6.7,9.2,7.6,2.2,7.2,1.1,0.8,1.3,2.7,4.8,5.6,2.8,6.0,1.1,1.1,2.6,1.5,3.0,1.4,1.1,0.7,3.2,4.6,7.7,2.8,5.2,1.8,1.8,1.4,4.8,10.0,8.7,5.6,5.6,4.7,6.8,2.0,1.7,1.7,4.0,5.2,5.2,5.5,2.2,6.9,7.4,7.1,2.5,5.9,5.7,3.7,2.8,9.7,9.7,9.7,8.8,9.2,9.9,10.4,9.0,8.2,4.7,4.4,7.3,12.5,1.7,0.6,0.2,0.0,0.1,1.4,2.8,2.1,1.5,1.1,0.7,0.7,1.1,1.2,0.1,0.4,0.2,1.9,6.2,6.8,7.8,4.5,5.4,2.4,1.2,1.5,0.4,2.5,4.0,1.8,0.3,0.2,0.6,0.6,0.3,2.2,1.8,3.1,5.4,1.5,2.4,8.4,13.4,8.7,1.4,0.5,1.2,0.2,1.1,0.9,1.0,0.8,5.0,1.9,1.6,4.9,5.4,7.0,8.0,11.7,4.8,2.2,1.2,6.8,4.7,8.0,11.3,4.3,4.1,3.1,3.2,2.0,1.6,8.3,4.2,10.9,4.7,4.7,5.2,7.3,9.5,18.5,13.2,6.9,1.6,1.1,1.6,2.8,6.7,7.4,8.2,8.3,2.0,13.8,17.2,15.7,19.0,1.3,1.2,5.2,9.6,8.2,16.6,15.5,7.5,10.8,3.5,9.5,15.7,16.0,3.3,3.8,5.1,8.0,11.5,12.2,14.3,13.1,10.0,2.1,2.7,8.1,9.8,0.1,2.0,3.3,1.5,1.0,1.0,3.8,3.0,3.5,0.8,2.1,3.8,9.1,4.3,6.9,14.2,11.2,9.0,2.7,2.1,13.8,7.1,7.5,0.6,2.4,4.5,0.1,0.4,1.7,1.2],\"type\":\"scatter3d\"}],                        {\"template\":{\"data\":{\"bar\":[{\"error_x\":{\"color\":\"#2a3f5f\"},\"error_y\":{\"color\":\"#2a3f5f\"},\"marker\":{\"line\":{\"color\":\"#E5ECF6\",\"width\":0.5},\"pattern\":{\"fillmode\":\"overlay\",\"size\":10,\"solidity\":0.2}},\"type\":\"bar\"}],\"barpolar\":[{\"marker\":{\"line\":{\"color\":\"#E5ECF6\",\"width\":0.5},\"pattern\":{\"fillmode\":\"overlay\",\"size\":10,\"solidity\":0.2}},\"type\":\"barpolar\"}],\"carpet\":[{\"aaxis\":{\"endlinecolor\":\"#2a3f5f\",\"gridcolor\":\"white\",\"linecolor\":\"white\",\"minorgridcolor\":\"white\",\"startlinecolor\":\"#2a3f5f\"},\"baxis\":{\"endlinecolor\":\"#2a3f5f\",\"gridcolor\":\"white\",\"linecolor\":\"white\",\"minorgridcolor\":\"white\",\"startlinecolor\":\"#2a3f5f\"},\"type\":\"carpet\"}],\"choropleth\":[{\"colorbar\":{\"outlinewidth\":0,\"ticks\":\"\"},\"type\":\"choropleth\"}],\"contour\":[{\"colorbar\":{\"outlinewidth\":0,\"ticks\":\"\"},\"colorscale\":[[0.0,\"#0d0887\"],[0.1111111111111111,\"#46039f\"],[0.2222222222222222,\"#7201a8\"],[0.3333333333333333,\"#9c179e\"],[0.4444444444444444,\"#bd3786\"],[0.5555555555555556,\"#d8576b\"],[0.6666666666666666,\"#ed7953\"],[0.7777777777777778,\"#fb9f3a\"],[0.8888888888888888,\"#fdca26\"],[1.0,\"#f0f921\"]],\"type\":\"contour\"}],\"contourcarpet\":[{\"colorbar\":{\"outlinewidth\":0,\"ticks\":\"\"},\"type\":\"contourcarpet\"}],\"heatmap\":[{\"colorbar\":{\"outlinewidth\":0,\"ticks\":\"\"},\"colorscale\":[[0.0,\"#0d0887\"],[0.1111111111111111,\"#46039f\"],[0.2222222222222222,\"#7201a8\"],[0.3333333333333333,\"#9c179e\"],[0.4444444444444444,\"#bd3786\"],[0.5555555555555556,\"#d8576b\"],[0.6666666666666666,\"#ed7953\"],[0.7777777777777778,\"#fb9f3a\"],[0.8888888888888888,\"#fdca26\"],[1.0,\"#f0f921\"]],\"type\":\"heatmap\"}],\"heatmapgl\":[{\"colorbar\":{\"outlinewidth\":0,\"ticks\":\"\"},\"colorscale\":[[0.0,\"#0d0887\"],[0.1111111111111111,\"#46039f\"],[0.2222222222222222,\"#7201a8\"],[0.3333333333333333,\"#9c179e\"],[0.4444444444444444,\"#bd3786\"],[0.5555555555555556,\"#d8576b\"],[0.6666666666666666,\"#ed7953\"],[0.7777777777777778,\"#fb9f3a\"],[0.8888888888888888,\"#fdca26\"],[1.0,\"#f0f921\"]],\"type\":\"heatmapgl\"}],\"histogram\":[{\"marker\":{\"pattern\":{\"fillmode\":\"overlay\",\"size\":10,\"solidity\":0.2}},\"type\":\"histogram\"}],\"histogram2d\":[{\"colorbar\":{\"outlinewidth\":0,\"ticks\":\"\"},\"colorscale\":[[0.0,\"#0d0887\"],[0.1111111111111111,\"#46039f\"],[0.2222222222222222,\"#7201a8\"],[0.3333333333333333,\"#9c179e\"],[0.4444444444444444,\"#bd3786\"],[0.5555555555555556,\"#d8576b\"],[0.6666666666666666,\"#ed7953\"],[0.7777777777777778,\"#fb9f3a\"],[0.8888888888888888,\"#fdca26\"],[1.0,\"#f0f921\"]],\"type\":\"histogram2d\"}],\"histogram2dcontour\":[{\"colorbar\":{\"outlinewidth\":0,\"ticks\":\"\"},\"colorscale\":[[0.0,\"#0d0887\"],[0.1111111111111111,\"#46039f\"],[0.2222222222222222,\"#7201a8\"],[0.3333333333333333,\"#9c179e\"],[0.4444444444444444,\"#bd3786\"],[0.5555555555555556,\"#d8576b\"],[0.6666666666666666,\"#ed7953\"],[0.7777777777777778,\"#fb9f3a\"],[0.8888888888888888,\"#fdca26\"],[1.0,\"#f0f921\"]],\"type\":\"histogram2dcontour\"}],\"mesh3d\":[{\"colorbar\":{\"outlinewidth\":0,\"ticks\":\"\"},\"type\":\"mesh3d\"}],\"parcoords\":[{\"line\":{\"colorbar\":{\"outlinewidth\":0,\"ticks\":\"\"}},\"type\":\"parcoords\"}],\"pie\":[{\"automargin\":true,\"type\":\"pie\"}],\"scatter\":[{\"marker\":{\"colorbar\":{\"outlinewidth\":0,\"ticks\":\"\"}},\"type\":\"scatter\"}],\"scatter3d\":[{\"line\":{\"colorbar\":{\"outlinewidth\":0,\"ticks\":\"\"}},\"marker\":{\"colorbar\":{\"outlinewidth\":0,\"ticks\":\"\"}},\"type\":\"scatter3d\"}],\"scattercarpet\":[{\"marker\":{\"colorbar\":{\"outlinewidth\":0,\"ticks\":\"\"}},\"type\":\"scattercarpet\"}],\"scattergeo\":[{\"marker\":{\"colorbar\":{\"outlinewidth\":0,\"ticks\":\"\"}},\"type\":\"scattergeo\"}],\"scattergl\":[{\"marker\":{\"colorbar\":{\"outlinewidth\":0,\"ticks\":\"\"}},\"type\":\"scattergl\"}],\"scattermapbox\":[{\"marker\":{\"colorbar\":{\"outlinewidth\":0,\"ticks\":\"\"}},\"type\":\"scattermapbox\"}],\"scatterpolar\":[{\"marker\":{\"colorbar\":{\"outlinewidth\":0,\"ticks\":\"\"}},\"type\":\"scatterpolar\"}],\"scatterpolargl\":[{\"marker\":{\"colorbar\":{\"outlinewidth\":0,\"ticks\":\"\"}},\"type\":\"scatterpolargl\"}],\"scatterternary\":[{\"marker\":{\"colorbar\":{\"outlinewidth\":0,\"ticks\":\"\"}},\"type\":\"scatterternary\"}],\"surface\":[{\"colorbar\":{\"outlinewidth\":0,\"ticks\":\"\"},\"colorscale\":[[0.0,\"#0d0887\"],[0.1111111111111111,\"#46039f\"],[0.2222222222222222,\"#7201a8\"],[0.3333333333333333,\"#9c179e\"],[0.4444444444444444,\"#bd3786\"],[0.5555555555555556,\"#d8576b\"],[0.6666666666666666,\"#ed7953\"],[0.7777777777777778,\"#fb9f3a\"],[0.8888888888888888,\"#fdca26\"],[1.0,\"#f0f921\"]],\"type\":\"surface\"}],\"table\":[{\"cells\":{\"fill\":{\"color\":\"#EBF0F8\"},\"line\":{\"color\":\"white\"}},\"header\":{\"fill\":{\"color\":\"#C8D4E3\"},\"line\":{\"color\":\"white\"}},\"type\":\"table\"}]},\"layout\":{\"annotationdefaults\":{\"arrowcolor\":\"#2a3f5f\",\"arrowhead\":0,\"arrowwidth\":1},\"autotypenumbers\":\"strict\",\"coloraxis\":{\"colorbar\":{\"outlinewidth\":0,\"ticks\":\"\"}},\"colorscale\":{\"diverging\":[[0,\"#8e0152\"],[0.1,\"#c51b7d\"],[0.2,\"#de77ae\"],[0.3,\"#f1b6da\"],[0.4,\"#fde0ef\"],[0.5,\"#f7f7f7\"],[0.6,\"#e6f5d0\"],[0.7,\"#b8e186\"],[0.8,\"#7fbc41\"],[0.9,\"#4d9221\"],[1,\"#276419\"]],\"sequential\":[[0.0,\"#0d0887\"],[0.1111111111111111,\"#46039f\"],[0.2222222222222222,\"#7201a8\"],[0.3333333333333333,\"#9c179e\"],[0.4444444444444444,\"#bd3786\"],[0.5555555555555556,\"#d8576b\"],[0.6666666666666666,\"#ed7953\"],[0.7777777777777778,\"#fb9f3a\"],[0.8888888888888888,\"#fdca26\"],[1.0,\"#f0f921\"]],\"sequentialminus\":[[0.0,\"#0d0887\"],[0.1111111111111111,\"#46039f\"],[0.2222222222222222,\"#7201a8\"],[0.3333333333333333,\"#9c179e\"],[0.4444444444444444,\"#bd3786\"],[0.5555555555555556,\"#d8576b\"],[0.6666666666666666,\"#ed7953\"],[0.7777777777777778,\"#fb9f3a\"],[0.8888888888888888,\"#fdca26\"],[1.0,\"#f0f921\"]]},\"colorway\":[\"#636efa\",\"#EF553B\",\"#00cc96\",\"#ab63fa\",\"#FFA15A\",\"#19d3f3\",\"#FF6692\",\"#B6E880\",\"#FF97FF\",\"#FECB52\"],\"font\":{\"color\":\"#2a3f5f\"},\"geo\":{\"bgcolor\":\"white\",\"lakecolor\":\"white\",\"landcolor\":\"#E5ECF6\",\"showlakes\":true,\"showland\":true,\"subunitcolor\":\"white\"},\"hoverlabel\":{\"align\":\"left\"},\"hovermode\":\"closest\",\"mapbox\":{\"style\":\"light\"},\"paper_bgcolor\":\"white\",\"plot_bgcolor\":\"#E5ECF6\",\"polar\":{\"angularaxis\":{\"gridcolor\":\"white\",\"linecolor\":\"white\",\"ticks\":\"\"},\"bgcolor\":\"#E5ECF6\",\"radialaxis\":{\"gridcolor\":\"white\",\"linecolor\":\"white\",\"ticks\":\"\"}},\"scene\":{\"xaxis\":{\"backgroundcolor\":\"#E5ECF6\",\"gridcolor\":\"white\",\"gridwidth\":2,\"linecolor\":\"white\",\"showbackground\":true,\"ticks\":\"\",\"zerolinecolor\":\"white\"},\"yaxis\":{\"backgroundcolor\":\"#E5ECF6\",\"gridcolor\":\"white\",\"gridwidth\":2,\"linecolor\":\"white\",\"showbackground\":true,\"ticks\":\"\",\"zerolinecolor\":\"white\"},\"zaxis\":{\"backgroundcolor\":\"#E5ECF6\",\"gridcolor\":\"white\",\"gridwidth\":2,\"linecolor\":\"white\",\"showbackground\":true,\"ticks\":\"\",\"zerolinecolor\":\"white\"}},\"shapedefaults\":{\"line\":{\"color\":\"#2a3f5f\"}},\"ternary\":{\"aaxis\":{\"gridcolor\":\"white\",\"linecolor\":\"white\",\"ticks\":\"\"},\"baxis\":{\"gridcolor\":\"white\",\"linecolor\":\"white\",\"ticks\":\"\"},\"bgcolor\":\"#E5ECF6\",\"caxis\":{\"gridcolor\":\"white\",\"linecolor\":\"white\",\"ticks\":\"\"}},\"title\":{\"x\":0.05},\"xaxis\":{\"automargin\":true,\"gridcolor\":\"white\",\"linecolor\":\"white\",\"ticks\":\"\",\"title\":{\"standoff\":15},\"zerolinecolor\":\"white\",\"zerolinewidth\":2},\"yaxis\":{\"automargin\":true,\"gridcolor\":\"white\",\"linecolor\":\"white\",\"ticks\":\"\",\"title\":{\"standoff\":15},\"zerolinecolor\":\"white\",\"zerolinewidth\":2}}},\"scene\":{\"domain\":{\"x\":[0.0,1.0],\"y\":[0.0,1.0]},\"xaxis\":{\"title\":{\"text\":\"FFMC\"}},\"yaxis\":{\"title\":{\"text\":\"FWI\"}},\"zaxis\":{\"title\":{\"text\":\"ISI\"}}},\"coloraxis\":{\"colorbar\":{\"title\":{\"text\":\"Classes\"}},\"colorscale\":[[0.0,\"#0d0887\"],[0.1111111111111111,\"#46039f\"],[0.2222222222222222,\"#7201a8\"],[0.3333333333333333,\"#9c179e\"],[0.4444444444444444,\"#bd3786\"],[0.5555555555555556,\"#d8576b\"],[0.6666666666666666,\"#ed7953\"],[0.7777777777777778,\"#fb9f3a\"],[0.8888888888888888,\"#fdca26\"],[1.0,\"#f0f921\"]]},\"legend\":{\"tracegroupgap\":0,\"itemsizing\":\"constant\"},\"margin\":{\"t\":60}},                        {\"responsive\": true}                    ).then(function(){\n",
       "                            \n",
       "var gd = document.getElementById('6422a3ad-bd61-40c8-951d-e52303056948');\n",
       "var x = new MutationObserver(function (mutations, observer) {{\n",
       "        var display = window.getComputedStyle(gd).display;\n",
       "        if (!display || display === 'none') {{\n",
       "            console.log([gd, 'removed!']);\n",
       "            Plotly.purge(gd);\n",
       "            observer.disconnect();\n",
       "        }}\n",
       "}});\n",
       "\n",
       "// Listen for the removal of the full notebook cells\n",
       "var notebookContainer = gd.closest('#notebook-container');\n",
       "if (notebookContainer) {{\n",
       "    x.observe(notebookContainer, {childList: true});\n",
       "}}\n",
       "\n",
       "// Listen for the clearing of the current output cell\n",
       "var outputEl = gd.closest('.output');\n",
       "if (outputEl) {{\n",
       "    x.observe(outputEl, {childList: true});\n",
       "}}\n",
       "\n",
       "                        })                };                });            </script>        </div>"
      ]
     },
     "metadata": {},
     "output_type": "display_data"
    }
   ],
   "source": [
    "#Relationship Between Fire Weather Index, Fine Fuel Moisture Code and Initial Spread Index\n",
    "pty.scatter_3d(Algeria_df, \"FFMC\", \"FWI\", \"ISI\", color=\"Classes\", size=rain_10)"
   ]
  },
  {
   "cell_type": "markdown",
   "id": "6c8f012a",
   "metadata": {},
   "source": [
    "- Observatios:\n",
    "    1. Fine Fuel Moisture Code(FFMC) Plays very important Factor in forest Fire. After 80 unit Chances of Caughting Fire increased by 100%\n",
    "    2. FWI and ISI has Direct Relation with each Other."
   ]
  },
  {
   "cell_type": "code",
   "execution_count": 65,
   "id": "4a48b1d0",
   "metadata": {},
   "outputs": [
    {
     "data": {
      "application/vnd.plotly.v1+json": {
       "config": {
        "plotlyServerURL": "https://plot.ly"
       },
       "data": [
        {
         "hovertemplate": "DMC=%{x}<br>FWI=%{y}<br>BUI=%{z}<br>size=%{marker.size}<br>Classes=%{marker.color}<extra></extra>",
         "legendgroup": "",
         "marker": {
          "color": [
           0,
           0,
           0,
           0,
           0,
           1,
           1,
           1,
           0,
           0,
           1,
           1,
           0,
           0,
           0,
           0,
           0,
           0,
           0,
           0,
           1,
           0,
           1,
           1,
           1,
           1,
           1,
           1,
           0,
           1,
           0,
           0,
           0,
           0,
           1,
           1,
           0,
           1,
           0,
           0,
           0,
           0,
           0,
           0,
           0,
           0,
           1,
           1,
           1,
           1,
           1,
           0,
           0,
           0,
           1,
           1,
           1,
           1,
           1,
           1,
           1,
           0,
           0,
           0,
           1,
           1,
           1,
           1,
           0,
           1,
           1,
           1,
           0,
           1,
           1,
           1,
           1,
           1,
           1,
           1,
           1,
           1,
           1,
           1,
           1,
           1,
           1,
           1,
           1,
           1,
           0,
           0,
           0,
           0,
           0,
           0,
           1,
           0,
           0,
           0,
           0,
           0,
           0,
           0,
           0,
           0,
           0,
           0,
           1,
           1,
           1,
           1,
           1,
           0,
           0,
           0,
           0,
           0,
           1,
           0,
           0,
           0,
           0,
           0,
           0,
           0,
           0,
           1,
           1,
           0,
           0,
           1,
           1,
           1,
           0,
           0,
           0,
           0,
           0,
           0,
           0,
           0,
           1,
           0,
           0,
           1,
           1,
           1,
           1,
           1,
           1,
           0,
           0,
           1,
           1,
           1,
           1,
           1,
           1,
           1,
           1,
           0,
           0,
           1,
           1,
           1,
           1,
           1,
           1,
           1,
           1,
           1,
           1,
           1,
           0,
           0,
           0,
           0,
           1,
           1,
           1,
           1,
           0,
           1,
           1,
           1,
           1,
           0,
           0,
           1,
           1,
           1,
           1,
           1,
           1,
           1,
           1,
           1,
           1,
           1,
           1,
           1,
           1,
           1,
           1,
           1,
           1,
           1,
           1,
           0,
           1,
           1,
           1,
           0,
           0,
           1,
           0,
           0,
           0,
           1,
           1,
           1,
           0,
           0,
           1,
           1,
           1,
           1,
           1,
           1,
           1,
           1,
           0,
           1,
           1,
           1,
           0,
           0,
           1,
           0,
           0,
           0,
           0
          ],
          "coloraxis": "coloraxis",
          "size": [
           10,
           11.3,
           23.1,
           12.5,
           10,
           10,
           10,
           10,
           10.2,
           10,
           10,
           10,
           11.2,
           10.5,
           13.1,
           10.7,
           10.6,
           10.3,
           10.1,
           10.4,
           10,
           10.1,
           10.1,
           10,
           10,
           10,
           10,
           10,
           10.3,
           10,
           11,
           11.2,
           10.7,
           10,
           10,
           10,
           10.2,
           10,
           11.4,
           10.7,
           10,
           10.1,
           10,
           10.6,
           10.4,
           10,
           10,
           10,
           10,
           10.1,
           10,
           10.1,
           10.4,
           10.1,
           10,
           10,
           10,
           10,
           10,
           10,
           10,
           10,
           10.4,
           10.3,
           10,
           10,
           10,
           10,
           10.3,
           10,
           10,
           10,
           10.3,
           10,
           10,
           10.3,
           10.3,
           10,
           10,
           10,
           10,
           10,
           10,
           10,
           10,
           10,
           10,
           10,
           10,
           10,
           10.8,
           26.8,
           17.2,
           20.1,
           13.8,
           10.1,
           10,
           10.1,
           10.3,
           10.9,
           11,
           11.8,
           11.8,
           10,
           14.6,
           18.3,
           10.4,
           10,
           10,
           10,
           10,
           10,
           10,
           10.6,
           10.5,
           10.6,
           15.8,
           10,
           10,
           10.7,
           11.8,
           11.4,
           10.7,
           14,
           12,
           10,
           10.2,
           10.1,
           10.2,
           11.3,
           10.1,
           10,
           10,
           10,
           12,
           10.7,
           10,
           10.4,
           14.7,
           18.7,
           14.5,
           10.2,
           10,
           11.1,
           10.8,
           10,
           10,
           10,
           10,
           10,
           10.6,
           11.7,
           12.2,
           10,
           10.1,
           10,
           10,
           10.3,
           10.5,
           16,
           11.9,
           13.8,
           12.9,
           10,
           10.6,
           10,
           10,
           10,
           10,
           10,
           10,
           10,
           10,
           10,
           11.1,
           11.2,
           10.2,
           10,
           10,
           10,
           10,
           10,
           10,
           10,
           10,
           10,
           10.1,
           13.1,
           12.9,
           10,
           10,
           10.2,
           10,
           10.4,
           10.2,
           10,
           10.3,
           10.1,
           10,
           10,
           10.1,
           10,
           10,
           10,
           10,
           10,
           10,
           10,
           10,
           10.4,
           10.5,
           10,
           10,
           10,
           10,
           10,
           10.2,
           14.1,
           16.5,
           10,
           10,
           10,
           11.1,
           10,
           10,
           10,
           10,
           10,
           10,
           10,
           10.1,
           10.1,
           10.2,
           10,
           10,
           10,
           12,
           10,
           10,
           14.4,
           10.5,
           10.1,
           10.2
          ],
          "sizemode": "area",
          "sizeref": 0.067,
          "symbol": "circle"
         },
         "mode": "markers",
         "name": "",
         "scene": "scene",
         "showlegend": false,
         "type": "scatter3d",
         "x": [
          3.4,
          4.1,
          2.5,
          1.3,
          3,
          5.8,
          9.9,
          12.1,
          7.9,
          9.5,
          12.5,
          13.8,
          6.7,
          4.6,
          3,
          1.7,
          1.1,
          1.9,
          4.5,
          3.4,
          6.3,
          7,
          8.2,
          11.2,
          14.2,
          17.8,
          21.6,
          25.5,
          18.4,
          22.9,
          2.5,
          2.4,
          2.6,
          4.6,
          7.6,
          10.9,
          9.7,
          12.5,
          7.7,
          6,
          8.1,
          7.9,
          9.7,
          7.8,
          5.2,
          7,
          9.4,
          12.1,
          12,
          12.3,
          18.5,
          16.4,
          10.5,
          9.6,
          12.5,
          17.1,
          22.2,
          24.4,
          26.7,
          28.5,
          31.9,
          4.8,
          5.8,
          5.7,
          8.2,
          11.1,
          13,
          15.5,
          11.3,
          14.8,
          18.6,
          21.7,
          15.6,
          19,
          21.7,
          15.6,
          11.7,
          16,
          20,
          23.2,
          25.9,
          29.6,
          33.5,
          37.6,
          40.5,
          43.9,
          45.6,
          47,
          50.2,
          54.2,
          25.2,
          8.7,
          1.3,
          0.7,
          1.2,
          1.9,
          3.4,
          3.6,
          3.2,
          2.6,
          2.1,
          2.2,
          1.9,
          2.6,
          1.3,
          1.1,
          0.9,
          3.2,
          6.4,
          9.8,
          12.5,
          13.5,
          16.5,
          10.6,
          7.9,
          5.5,
          3,
          6,
          8.3,
          7.1,
          2.9,
          1.9,
          2.5,
          2.7,
          2.2,
          5.2,
          6,
          8.4,
          9.9,
          7.7,
          8.5,
          13.3,
          18.2,
          21.3,
          11.4,
          6.4,
          7.2,
          4.2,
          3.9,
          4.6,
          4.4,
          3.8,
          8.3,
          8.1,
          7,
          10,
          12.8,
          16.5,
          20.9,
          27.2,
          17.9,
          12,
          3.2,
          7.9,
          9.7,
          13.6,
          18.7,
          15.5,
          13,
          9.8,
          9.4,
          8,
          7.1,
          12.6,
          11.3,
          18,
          19.4,
          21.1,
          23.9,
          27.8,
          32.7,
          39.6,
          44.2,
          46.6,
          20.9,
          11.7,
          10.8,
          11.8,
          15.7,
          19.5,
          23.8,
          28.3,
          4.4,
          10.8,
          17.1,
          23,
          23.6,
          11,
          7.2,
          11.2,
          16.5,
          15.8,
          22.5,
          18.4,
          16.9,
          22.3,
          16.9,
          22.6,
          30.3,
          35.9,
          32.7,
          34.4,
          36.9,
          41.1,
          46.1,
          51.3,
          56.3,
          61.3,
          65.9,
          37,
          20.7,
          24.8,
          27.8,
          0.9,
          2.9,
          4.4,
          4.1,
          4,
          3.3,
          5.8,
          6.6,
          7.9,
          4.7,
          6.5,
          8.3,
          11.5,
          12.6,
          16,
          21.2,
          25.2,
          25.8,
          24.9,
          18.7,
          23.6,
          26.1,
          29.4,
          11.9,
          13.8,
          16,
          6.5,
          3.5,
          4.3,
          3.8
         ],
         "y": [
          0.5,
          0.4,
          0.1,
          0,
          0.5,
          2.5,
          7.2,
          7.1,
          0.3,
          0.9,
          5.6,
          7.1,
          0.2,
          0.4,
          0.1,
          0,
          0,
          0.2,
          1.4,
          0.4,
          2.2,
          2.3,
          3.8,
          7.5,
          8.4,
          10.6,
          15,
          13.9,
          3.9,
          12.9,
          0.4,
          0.3,
          0.5,
          1.7,
          4.9,
          6.8,
          3.2,
          8,
          0.6,
          0.5,
          2.2,
          0.9,
          3.4,
          0.8,
          0.5,
          0.4,
          3.6,
          6,
          10.9,
          4,
          8.8,
          2.8,
          2.1,
          1.3,
          7.3,
          15.3,
          15.3,
          11.3,
          11.9,
          10.7,
          15.7,
          0.9,
          0.8,
          0.8,
          3.9,
          6.1,
          6.8,
          8,
          2.6,
          9.9,
          11.6,
          12.1,
          4.2,
          10.2,
          10.6,
          6.3,
          4.2,
          14.6,
          16.1,
          17.2,
          16.8,
          18.4,
          20.4,
          22.3,
          20.9,
          20.3,
          13.7,
          13.2,
          19.9,
          30.2,
          4.2,
          0.3,
          0.1,
          0,
          0,
          0.5,
          1.7,
          0.9,
          0.6,
          0.4,
          0.2,
          0.3,
          0.3,
          0.5,
          0,
          0.1,
          0,
          0.8,
          5.9,
          7.7,
          9.7,
          6.3,
          8.3,
          2.8,
          0.7,
          0.7,
          0.1,
          1.7,
          4.1,
          0.9,
          0.1,
          0.1,
          0.2,
          0.2,
          0.1,
          1,
          0.9,
          3.1,
          6,
          0.8,
          1.9,
          10,
          16.7,
          12.9,
          0.9,
          0.3,
          0.6,
          0.1,
          0.4,
          0.4,
          0.4,
          0.3,
          4.9,
          1.2,
          0.8,
          5.3,
          6.7,
          9.5,
          12,
          18.4,
          7.2,
          2.2,
          0.5,
          6.4,
          5.2,
          9.9,
          15,
          6.3,
          5.2,
          3,
          3.1,
          1.3,
          0.8,
          9.6,
          4.7,
          14.1,
          7.3,
          7.7,
          9.1,
          13,
          17.3,
          30,
          25.4,
          16.3,
          2.5,
          0.7,
          1,
          3.2,
          9,
          10.9,
          13.2,
          14.5,
          0.8,
          13.5,
          19.5,
          20.9,
          12.6,
          0.8,
          0.6,
          5.9,
          12.7,
          10.7,
          21.6,
          18.8,
          10.5,
          15.7,
          5.5,
          14.8,
          24,
          26.3,
          7.7,
          9,
          12.2,
          18.1,
          24.5,
          26.9,
          31.1,
          30.3,
          26.1,
          6.1,
          5.9,
          16,
          19.4,
          0,
          0.8,
          2.5,
          0.7,
          0.4,
          0.4,
          3.2,
          2.7,
          3.7,
          0.3,
          1.2,
          3.9,
          10.3,
          5.7,
          9.8,
          19.3,
          17.5,
          15.4,
          5.6,
          3.8,
          21.6,
          13.7,
          15.2,
          0.4,
          3,
          6.5,
          0,
          0.2,
          0.7,
          0.5
         ],
         "z": [
          3.4,
          3.9,
          2.7,
          1.7,
          3.9,
          7,
          10.9,
          13.5,
          10.5,
          12.6,
          15.8,
          17.7,
          6.7,
          4.4,
          3,
          2.2,
          1.6,
          2.4,
          5.3,
          5.1,
          8.4,
          9.7,
          11.5,
          14.9,
          18.3,
          21.6,
          25.8,
          29.7,
          23.8,
          28.3,
          2.9,
          2.8,
          3,
          5.7,
          9.1,
          12.5,
          12.1,
          15.4,
          7.4,
          5.8,
          8.1,
          9.2,
          11.7,
          8.4,
          5.9,
          8.3,
          11.1,
          14.2,
          18.2,
          16.5,
          22.4,
          21.7,
          15.4,
          14.7,
          18.5,
          23.9,
          29.4,
          32.1,
          35,
          37.4,
          41.2,
          4.7,
          5.5,
          5.5,
          8.2,
          11.5,
          14.2,
          17.2,
          14.1,
          17.9,
          21.9,
          25.5,
          20.7,
          24.4,
          27.2,
          22,
          17.6,
          22.9,
          27.5,
          31.3,
          34.7,
          38.8,
          43.1,
          47.5,
          50.9,
          54.7,
          57.1,
          59.3,
          62.9,
          67.4,
          37.4,
          8.3,
          1.8,
          1.1,
          1.7,
          2.9,
          5.1,
          5.6,
          5.1,
          3,
          2.6,
          2.7,
          2.4,
          3.7,
          1.8,
          1.6,
          1.4,
          4.2,
          7.7,
          11.3,
          14.2,
          16,
          19.2,
          12.9,
          9.6,
          5.8,
          3,
          6.2,
          9,
          6.8,
          3,
          2.4,
          2.8,
          2.9,
          2.6,
          5.6,
          6.5,
          9.3,
          10.7,
          7.3,
          8.3,
          13.1,
          18,
          21.2,
          10.9,
          6.1,
          7.1,
          4.1,
          3.8,
          4.4,
          4.2,
          3.7,
          8.2,
          7.7,
          6.7,
          9.9,
          12.7,
          16.4,
          20.8,
          27.1,
          17.8,
          11.5,
          3.3,
          7.8,
          10.3,
          14.1,
          18.7,
          16.7,
          13.7,
          9.4,
          9,
          7.7,
          6.8,
          12.5,
          10.9,
          17.7,
          19.2,
          20.9,
          23.9,
          27.7,
          32.6,
          39.5,
          44,
          46.5,
          21.7,
          11.4,
          10.7,
          11.8,
          15.7,
          19.5,
          23.8,
          28.3,
          4.4,
          10.6,
          16.9,
          22.9,
          23.5,
          10.5,
          6.9,
          11,
          16.4,
          15.8,
          22.4,
          18.4,
          17.5,
          22.3,
          19,
          24.2,
          30.4,
          35.9,
          35.5,
          38.1,
          41.3,
          45.5,
          50.2,
          54.9,
          59.5,
          64,
          68,
          30.6,
          30.6,
          35.7,
          39.3,
          1.4,
          4,
          6,
          6,
          3.9,
          3.5,
          6.4,
          8.1,
          10,
          4.6,
          6.6,
          9.1,
          12.4,
          14.3,
          17.8,
          22.4,
          26.2,
          28.2,
          28.9,
          24.4,
          29.4,
          32.4,
          36,
          11.9,
          14.1,
          16.9,
          6.2,
          3.4,
          5.1,
          4.8
         ]
        }
       ],
       "layout": {
        "coloraxis": {
         "colorbar": {
          "title": {
           "text": "Classes"
          }
         },
         "colorscale": [
          [
           0,
           "#0d0887"
          ],
          [
           0.1111111111111111,
           "#46039f"
          ],
          [
           0.2222222222222222,
           "#7201a8"
          ],
          [
           0.3333333333333333,
           "#9c179e"
          ],
          [
           0.4444444444444444,
           "#bd3786"
          ],
          [
           0.5555555555555556,
           "#d8576b"
          ],
          [
           0.6666666666666666,
           "#ed7953"
          ],
          [
           0.7777777777777778,
           "#fb9f3a"
          ],
          [
           0.8888888888888888,
           "#fdca26"
          ],
          [
           1,
           "#f0f921"
          ]
         ]
        },
        "legend": {
         "itemsizing": "constant",
         "tracegroupgap": 0
        },
        "margin": {
         "t": 60
        },
        "scene": {
         "domain": {
          "x": [
           0,
           1
          ],
          "y": [
           0,
           1
          ]
         },
         "xaxis": {
          "title": {
           "text": "DMC"
          }
         },
         "yaxis": {
          "title": {
           "text": "FWI"
          }
         },
         "zaxis": {
          "title": {
           "text": "BUI"
          }
         }
        },
        "template": {
         "data": {
          "bar": [
           {
            "error_x": {
             "color": "#2a3f5f"
            },
            "error_y": {
             "color": "#2a3f5f"
            },
            "marker": {
             "line": {
              "color": "#E5ECF6",
              "width": 0.5
             },
             "pattern": {
              "fillmode": "overlay",
              "size": 10,
              "solidity": 0.2
             }
            },
            "type": "bar"
           }
          ],
          "barpolar": [
           {
            "marker": {
             "line": {
              "color": "#E5ECF6",
              "width": 0.5
             },
             "pattern": {
              "fillmode": "overlay",
              "size": 10,
              "solidity": 0.2
             }
            },
            "type": "barpolar"
           }
          ],
          "carpet": [
           {
            "aaxis": {
             "endlinecolor": "#2a3f5f",
             "gridcolor": "white",
             "linecolor": "white",
             "minorgridcolor": "white",
             "startlinecolor": "#2a3f5f"
            },
            "baxis": {
             "endlinecolor": "#2a3f5f",
             "gridcolor": "white",
             "linecolor": "white",
             "minorgridcolor": "white",
             "startlinecolor": "#2a3f5f"
            },
            "type": "carpet"
           }
          ],
          "choropleth": [
           {
            "colorbar": {
             "outlinewidth": 0,
             "ticks": ""
            },
            "type": "choropleth"
           }
          ],
          "contour": [
           {
            "colorbar": {
             "outlinewidth": 0,
             "ticks": ""
            },
            "colorscale": [
             [
              0,
              "#0d0887"
             ],
             [
              0.1111111111111111,
              "#46039f"
             ],
             [
              0.2222222222222222,
              "#7201a8"
             ],
             [
              0.3333333333333333,
              "#9c179e"
             ],
             [
              0.4444444444444444,
              "#bd3786"
             ],
             [
              0.5555555555555556,
              "#d8576b"
             ],
             [
              0.6666666666666666,
              "#ed7953"
             ],
             [
              0.7777777777777778,
              "#fb9f3a"
             ],
             [
              0.8888888888888888,
              "#fdca26"
             ],
             [
              1,
              "#f0f921"
             ]
            ],
            "type": "contour"
           }
          ],
          "contourcarpet": [
           {
            "colorbar": {
             "outlinewidth": 0,
             "ticks": ""
            },
            "type": "contourcarpet"
           }
          ],
          "heatmap": [
           {
            "colorbar": {
             "outlinewidth": 0,
             "ticks": ""
            },
            "colorscale": [
             [
              0,
              "#0d0887"
             ],
             [
              0.1111111111111111,
              "#46039f"
             ],
             [
              0.2222222222222222,
              "#7201a8"
             ],
             [
              0.3333333333333333,
              "#9c179e"
             ],
             [
              0.4444444444444444,
              "#bd3786"
             ],
             [
              0.5555555555555556,
              "#d8576b"
             ],
             [
              0.6666666666666666,
              "#ed7953"
             ],
             [
              0.7777777777777778,
              "#fb9f3a"
             ],
             [
              0.8888888888888888,
              "#fdca26"
             ],
             [
              1,
              "#f0f921"
             ]
            ],
            "type": "heatmap"
           }
          ],
          "heatmapgl": [
           {
            "colorbar": {
             "outlinewidth": 0,
             "ticks": ""
            },
            "colorscale": [
             [
              0,
              "#0d0887"
             ],
             [
              0.1111111111111111,
              "#46039f"
             ],
             [
              0.2222222222222222,
              "#7201a8"
             ],
             [
              0.3333333333333333,
              "#9c179e"
             ],
             [
              0.4444444444444444,
              "#bd3786"
             ],
             [
              0.5555555555555556,
              "#d8576b"
             ],
             [
              0.6666666666666666,
              "#ed7953"
             ],
             [
              0.7777777777777778,
              "#fb9f3a"
             ],
             [
              0.8888888888888888,
              "#fdca26"
             ],
             [
              1,
              "#f0f921"
             ]
            ],
            "type": "heatmapgl"
           }
          ],
          "histogram": [
           {
            "marker": {
             "pattern": {
              "fillmode": "overlay",
              "size": 10,
              "solidity": 0.2
             }
            },
            "type": "histogram"
           }
          ],
          "histogram2d": [
           {
            "colorbar": {
             "outlinewidth": 0,
             "ticks": ""
            },
            "colorscale": [
             [
              0,
              "#0d0887"
             ],
             [
              0.1111111111111111,
              "#46039f"
             ],
             [
              0.2222222222222222,
              "#7201a8"
             ],
             [
              0.3333333333333333,
              "#9c179e"
             ],
             [
              0.4444444444444444,
              "#bd3786"
             ],
             [
              0.5555555555555556,
              "#d8576b"
             ],
             [
              0.6666666666666666,
              "#ed7953"
             ],
             [
              0.7777777777777778,
              "#fb9f3a"
             ],
             [
              0.8888888888888888,
              "#fdca26"
             ],
             [
              1,
              "#f0f921"
             ]
            ],
            "type": "histogram2d"
           }
          ],
          "histogram2dcontour": [
           {
            "colorbar": {
             "outlinewidth": 0,
             "ticks": ""
            },
            "colorscale": [
             [
              0,
              "#0d0887"
             ],
             [
              0.1111111111111111,
              "#46039f"
             ],
             [
              0.2222222222222222,
              "#7201a8"
             ],
             [
              0.3333333333333333,
              "#9c179e"
             ],
             [
              0.4444444444444444,
              "#bd3786"
             ],
             [
              0.5555555555555556,
              "#d8576b"
             ],
             [
              0.6666666666666666,
              "#ed7953"
             ],
             [
              0.7777777777777778,
              "#fb9f3a"
             ],
             [
              0.8888888888888888,
              "#fdca26"
             ],
             [
              1,
              "#f0f921"
             ]
            ],
            "type": "histogram2dcontour"
           }
          ],
          "mesh3d": [
           {
            "colorbar": {
             "outlinewidth": 0,
             "ticks": ""
            },
            "type": "mesh3d"
           }
          ],
          "parcoords": [
           {
            "line": {
             "colorbar": {
              "outlinewidth": 0,
              "ticks": ""
             }
            },
            "type": "parcoords"
           }
          ],
          "pie": [
           {
            "automargin": true,
            "type": "pie"
           }
          ],
          "scatter": [
           {
            "marker": {
             "colorbar": {
              "outlinewidth": 0,
              "ticks": ""
             }
            },
            "type": "scatter"
           }
          ],
          "scatter3d": [
           {
            "line": {
             "colorbar": {
              "outlinewidth": 0,
              "ticks": ""
             }
            },
            "marker": {
             "colorbar": {
              "outlinewidth": 0,
              "ticks": ""
             }
            },
            "type": "scatter3d"
           }
          ],
          "scattercarpet": [
           {
            "marker": {
             "colorbar": {
              "outlinewidth": 0,
              "ticks": ""
             }
            },
            "type": "scattercarpet"
           }
          ],
          "scattergeo": [
           {
            "marker": {
             "colorbar": {
              "outlinewidth": 0,
              "ticks": ""
             }
            },
            "type": "scattergeo"
           }
          ],
          "scattergl": [
           {
            "marker": {
             "colorbar": {
              "outlinewidth": 0,
              "ticks": ""
             }
            },
            "type": "scattergl"
           }
          ],
          "scattermapbox": [
           {
            "marker": {
             "colorbar": {
              "outlinewidth": 0,
              "ticks": ""
             }
            },
            "type": "scattermapbox"
           }
          ],
          "scatterpolar": [
           {
            "marker": {
             "colorbar": {
              "outlinewidth": 0,
              "ticks": ""
             }
            },
            "type": "scatterpolar"
           }
          ],
          "scatterpolargl": [
           {
            "marker": {
             "colorbar": {
              "outlinewidth": 0,
              "ticks": ""
             }
            },
            "type": "scatterpolargl"
           }
          ],
          "scatterternary": [
           {
            "marker": {
             "colorbar": {
              "outlinewidth": 0,
              "ticks": ""
             }
            },
            "type": "scatterternary"
           }
          ],
          "surface": [
           {
            "colorbar": {
             "outlinewidth": 0,
             "ticks": ""
            },
            "colorscale": [
             [
              0,
              "#0d0887"
             ],
             [
              0.1111111111111111,
              "#46039f"
             ],
             [
              0.2222222222222222,
              "#7201a8"
             ],
             [
              0.3333333333333333,
              "#9c179e"
             ],
             [
              0.4444444444444444,
              "#bd3786"
             ],
             [
              0.5555555555555556,
              "#d8576b"
             ],
             [
              0.6666666666666666,
              "#ed7953"
             ],
             [
              0.7777777777777778,
              "#fb9f3a"
             ],
             [
              0.8888888888888888,
              "#fdca26"
             ],
             [
              1,
              "#f0f921"
             ]
            ],
            "type": "surface"
           }
          ],
          "table": [
           {
            "cells": {
             "fill": {
              "color": "#EBF0F8"
             },
             "line": {
              "color": "white"
             }
            },
            "header": {
             "fill": {
              "color": "#C8D4E3"
             },
             "line": {
              "color": "white"
             }
            },
            "type": "table"
           }
          ]
         },
         "layout": {
          "annotationdefaults": {
           "arrowcolor": "#2a3f5f",
           "arrowhead": 0,
           "arrowwidth": 1
          },
          "autotypenumbers": "strict",
          "coloraxis": {
           "colorbar": {
            "outlinewidth": 0,
            "ticks": ""
           }
          },
          "colorscale": {
           "diverging": [
            [
             0,
             "#8e0152"
            ],
            [
             0.1,
             "#c51b7d"
            ],
            [
             0.2,
             "#de77ae"
            ],
            [
             0.3,
             "#f1b6da"
            ],
            [
             0.4,
             "#fde0ef"
            ],
            [
             0.5,
             "#f7f7f7"
            ],
            [
             0.6,
             "#e6f5d0"
            ],
            [
             0.7,
             "#b8e186"
            ],
            [
             0.8,
             "#7fbc41"
            ],
            [
             0.9,
             "#4d9221"
            ],
            [
             1,
             "#276419"
            ]
           ],
           "sequential": [
            [
             0,
             "#0d0887"
            ],
            [
             0.1111111111111111,
             "#46039f"
            ],
            [
             0.2222222222222222,
             "#7201a8"
            ],
            [
             0.3333333333333333,
             "#9c179e"
            ],
            [
             0.4444444444444444,
             "#bd3786"
            ],
            [
             0.5555555555555556,
             "#d8576b"
            ],
            [
             0.6666666666666666,
             "#ed7953"
            ],
            [
             0.7777777777777778,
             "#fb9f3a"
            ],
            [
             0.8888888888888888,
             "#fdca26"
            ],
            [
             1,
             "#f0f921"
            ]
           ],
           "sequentialminus": [
            [
             0,
             "#0d0887"
            ],
            [
             0.1111111111111111,
             "#46039f"
            ],
            [
             0.2222222222222222,
             "#7201a8"
            ],
            [
             0.3333333333333333,
             "#9c179e"
            ],
            [
             0.4444444444444444,
             "#bd3786"
            ],
            [
             0.5555555555555556,
             "#d8576b"
            ],
            [
             0.6666666666666666,
             "#ed7953"
            ],
            [
             0.7777777777777778,
             "#fb9f3a"
            ],
            [
             0.8888888888888888,
             "#fdca26"
            ],
            [
             1,
             "#f0f921"
            ]
           ]
          },
          "colorway": [
           "#636efa",
           "#EF553B",
           "#00cc96",
           "#ab63fa",
           "#FFA15A",
           "#19d3f3",
           "#FF6692",
           "#B6E880",
           "#FF97FF",
           "#FECB52"
          ],
          "font": {
           "color": "#2a3f5f"
          },
          "geo": {
           "bgcolor": "white",
           "lakecolor": "white",
           "landcolor": "#E5ECF6",
           "showlakes": true,
           "showland": true,
           "subunitcolor": "white"
          },
          "hoverlabel": {
           "align": "left"
          },
          "hovermode": "closest",
          "mapbox": {
           "style": "light"
          },
          "paper_bgcolor": "white",
          "plot_bgcolor": "#E5ECF6",
          "polar": {
           "angularaxis": {
            "gridcolor": "white",
            "linecolor": "white",
            "ticks": ""
           },
           "bgcolor": "#E5ECF6",
           "radialaxis": {
            "gridcolor": "white",
            "linecolor": "white",
            "ticks": ""
           }
          },
          "scene": {
           "xaxis": {
            "backgroundcolor": "#E5ECF6",
            "gridcolor": "white",
            "gridwidth": 2,
            "linecolor": "white",
            "showbackground": true,
            "ticks": "",
            "zerolinecolor": "white"
           },
           "yaxis": {
            "backgroundcolor": "#E5ECF6",
            "gridcolor": "white",
            "gridwidth": 2,
            "linecolor": "white",
            "showbackground": true,
            "ticks": "",
            "zerolinecolor": "white"
           },
           "zaxis": {
            "backgroundcolor": "#E5ECF6",
            "gridcolor": "white",
            "gridwidth": 2,
            "linecolor": "white",
            "showbackground": true,
            "ticks": "",
            "zerolinecolor": "white"
           }
          },
          "shapedefaults": {
           "line": {
            "color": "#2a3f5f"
           }
          },
          "ternary": {
           "aaxis": {
            "gridcolor": "white",
            "linecolor": "white",
            "ticks": ""
           },
           "baxis": {
            "gridcolor": "white",
            "linecolor": "white",
            "ticks": ""
           },
           "bgcolor": "#E5ECF6",
           "caxis": {
            "gridcolor": "white",
            "linecolor": "white",
            "ticks": ""
           }
          },
          "title": {
           "x": 0.05
          },
          "xaxis": {
           "automargin": true,
           "gridcolor": "white",
           "linecolor": "white",
           "ticks": "",
           "title": {
            "standoff": 15
           },
           "zerolinecolor": "white",
           "zerolinewidth": 2
          },
          "yaxis": {
           "automargin": true,
           "gridcolor": "white",
           "linecolor": "white",
           "ticks": "",
           "title": {
            "standoff": 15
           },
           "zerolinecolor": "white",
           "zerolinewidth": 2
          }
         }
        }
       }
      },
      "text/html": [
       "<div>                            <div id=\"ad816aee-d6a1-4440-b2cf-34d767364163\" class=\"plotly-graph-div\" style=\"height:525px; width:100%;\"></div>            <script type=\"text/javascript\">                require([\"plotly\"], function(Plotly) {                    window.PLOTLYENV=window.PLOTLYENV || {};                                    if (document.getElementById(\"ad816aee-d6a1-4440-b2cf-34d767364163\")) {                    Plotly.newPlot(                        \"ad816aee-d6a1-4440-b2cf-34d767364163\",                        [{\"hovertemplate\":\"DMC=%{x}<br>FWI=%{y}<br>BUI=%{z}<br>size=%{marker.size}<br>Classes=%{marker.color}<extra></extra>\",\"legendgroup\":\"\",\"marker\":{\"color\":[0,0,0,0,0,1,1,1,0,0,1,1,0,0,0,0,0,0,0,0,1,0,1,1,1,1,1,1,0,1,0,0,0,0,1,1,0,1,0,0,0,0,0,0,0,0,1,1,1,1,1,0,0,0,1,1,1,1,1,1,1,0,0,0,1,1,1,1,0,1,1,1,0,1,1,1,1,1,1,1,1,1,1,1,1,1,1,1,1,1,0,0,0,0,0,0,1,0,0,0,0,0,0,0,0,0,0,0,1,1,1,1,1,0,0,0,0,0,1,0,0,0,0,0,0,0,0,1,1,0,0,1,1,1,0,0,0,0,0,0,0,0,1,0,0,1,1,1,1,1,1,0,0,1,1,1,1,1,1,1,1,0,0,1,1,1,1,1,1,1,1,1,1,1,0,0,0,0,1,1,1,1,0,1,1,1,1,0,0,1,1,1,1,1,1,1,1,1,1,1,1,1,1,1,1,1,1,1,1,0,1,1,1,0,0,1,0,0,0,1,1,1,0,0,1,1,1,1,1,1,1,1,0,1,1,1,0,0,1,0,0,0,0],\"coloraxis\":\"coloraxis\",\"size\":[10.0,11.3,23.1,12.5,10.0,10.0,10.0,10.0,10.2,10.0,10.0,10.0,11.2,10.5,13.1,10.7,10.6,10.3,10.1,10.4,10.0,10.1,10.1,10.0,10.0,10.0,10.0,10.0,10.3,10.0,11.0,11.2,10.7,10.0,10.0,10.0,10.2,10.0,11.4,10.7,10.0,10.1,10.0,10.6,10.4,10.0,10.0,10.0,10.0,10.1,10.0,10.1,10.4,10.1,10.0,10.0,10.0,10.0,10.0,10.0,10.0,10.0,10.4,10.3,10.0,10.0,10.0,10.0,10.3,10.0,10.0,10.0,10.3,10.0,10.0,10.3,10.3,10.0,10.0,10.0,10.0,10.0,10.0,10.0,10.0,10.0,10.0,10.0,10.0,10.0,10.8,26.8,17.2,20.1,13.8,10.1,10.0,10.1,10.3,10.9,11.0,11.8,11.8,10.0,14.6,18.3,10.4,10.0,10.0,10.0,10.0,10.0,10.0,10.6,10.5,10.6,15.8,10.0,10.0,10.7,11.8,11.4,10.7,14.0,12.0,10.0,10.2,10.1,10.2,11.3,10.1,10.0,10.0,10.0,12.0,10.7,10.0,10.4,14.7,18.7,14.5,10.2,10.0,11.1,10.8,10.0,10.0,10.0,10.0,10.0,10.6,11.7,12.2,10.0,10.1,10.0,10.0,10.3,10.5,16.0,11.9,13.8,12.9,10.0,10.6,10.0,10.0,10.0,10.0,10.0,10.0,10.0,10.0,10.0,11.1,11.2,10.2,10.0,10.0,10.0,10.0,10.0,10.0,10.0,10.0,10.0,10.1,13.1,12.9,10.0,10.0,10.2,10.0,10.4,10.2,10.0,10.3,10.1,10.0,10.0,10.1,10.0,10.0,10.0,10.0,10.0,10.0,10.0,10.0,10.4,10.5,10.0,10.0,10.0,10.0,10.0,10.2,14.1,16.5,10.0,10.0,10.0,11.1,10.0,10.0,10.0,10.0,10.0,10.0,10.0,10.1,10.1,10.2,10.0,10.0,10.0,12.0,10.0,10.0,14.4,10.5,10.1,10.2],\"sizemode\":\"area\",\"sizeref\":0.067,\"symbol\":\"circle\"},\"mode\":\"markers\",\"name\":\"\",\"scene\":\"scene\",\"showlegend\":false,\"x\":[3.4,4.1,2.5,1.3,3.0,5.8,9.9,12.1,7.9,9.5,12.5,13.8,6.7,4.6,3.0,1.7,1.1,1.9,4.5,3.4,6.3,7.0,8.2,11.2,14.2,17.8,21.6,25.5,18.4,22.9,2.5,2.4,2.6,4.6,7.6,10.9,9.7,12.5,7.7,6.0,8.1,7.9,9.7,7.8,5.2,7.0,9.4,12.1,12.0,12.3,18.5,16.4,10.5,9.6,12.5,17.1,22.2,24.4,26.7,28.5,31.9,4.8,5.8,5.7,8.2,11.1,13.0,15.5,11.3,14.8,18.6,21.7,15.6,19.0,21.7,15.6,11.7,16.0,20.0,23.2,25.9,29.6,33.5,37.6,40.5,43.9,45.6,47.0,50.2,54.2,25.2,8.7,1.3,0.7,1.2,1.9,3.4,3.6,3.2,2.6,2.1,2.2,1.9,2.6,1.3,1.1,0.9,3.2,6.4,9.8,12.5,13.5,16.5,10.6,7.9,5.5,3.0,6.0,8.3,7.1,2.9,1.9,2.5,2.7,2.2,5.2,6.0,8.4,9.9,7.7,8.5,13.3,18.2,21.3,11.4,6.4,7.2,4.2,3.9,4.6,4.4,3.8,8.3,8.1,7.0,10.0,12.8,16.5,20.9,27.2,17.9,12.0,3.2,7.9,9.7,13.6,18.7,15.5,13.0,9.8,9.4,8.0,7.1,12.6,11.3,18.0,19.4,21.1,23.9,27.8,32.7,39.6,44.2,46.6,20.9,11.7,10.8,11.8,15.7,19.5,23.8,28.3,4.4,10.8,17.1,23.0,23.6,11.0,7.2,11.2,16.5,15.8,22.5,18.4,16.9,22.3,16.9,22.6,30.3,35.9,32.7,34.4,36.9,41.1,46.1,51.3,56.3,61.3,65.9,37.0,20.7,24.8,27.8,0.9,2.9,4.4,4.1,4.0,3.3,5.8,6.6,7.9,4.7,6.5,8.3,11.5,12.6,16.0,21.2,25.2,25.8,24.9,18.7,23.6,26.1,29.4,11.9,13.8,16.0,6.5,3.5,4.3,3.8],\"y\":[0.5,0.4,0.1,0.0,0.5,2.5,7.2,7.1,0.3,0.9,5.6,7.1,0.2,0.4,0.1,0.0,0.0,0.2,1.4,0.4,2.2,2.3,3.8,7.5,8.4,10.6,15.0,13.9,3.9,12.9,0.4,0.3,0.5,1.7,4.9,6.8,3.2,8.0,0.6,0.5,2.2,0.9,3.4,0.8,0.5,0.4,3.6,6.0,10.9,4.0,8.8,2.8,2.1,1.3,7.3,15.3,15.3,11.3,11.9,10.7,15.7,0.9,0.8,0.8,3.9,6.1,6.8,8.0,2.6,9.9,11.6,12.1,4.2,10.2,10.6,6.3,4.2,14.6,16.1,17.2,16.8,18.4,20.4,22.3,20.9,20.3,13.7,13.2,19.9,30.2,4.2,0.3,0.1,0.0,0.0,0.5,1.7,0.9,0.6,0.4,0.2,0.3,0.3,0.5,0.0,0.1,0.0,0.8,5.9,7.7,9.7,6.3,8.3,2.8,0.7,0.7,0.1,1.7,4.1,0.9,0.1,0.1,0.2,0.2,0.1,1.0,0.9,3.1,6.0,0.8,1.9,10.0,16.7,12.9,0.9,0.3,0.6,0.1,0.4,0.4,0.4,0.3,4.9,1.2,0.8,5.3,6.7,9.5,12.0,18.4,7.2,2.2,0.5,6.4,5.2,9.9,15.0,6.3,5.2,3.0,3.1,1.3,0.8,9.6,4.7,14.1,7.3,7.7,9.1,13.0,17.3,30.0,25.4,16.3,2.5,0.7,1.0,3.2,9.0,10.9,13.2,14.5,0.8,13.5,19.5,20.9,12.6,0.8,0.6,5.9,12.7,10.7,21.6,18.8,10.5,15.7,5.5,14.8,24.0,26.3,7.7,9.0,12.2,18.1,24.5,26.9,31.1,30.3,26.1,6.1,5.9,16.0,19.4,0.0,0.8,2.5,0.7,0.4,0.4,3.2,2.7,3.7,0.3,1.2,3.9,10.3,5.7,9.8,19.3,17.5,15.4,5.6,3.8,21.6,13.7,15.2,0.4,3.0,6.5,0.0,0.2,0.7,0.5],\"z\":[3.4,3.9,2.7,1.7,3.9,7.0,10.9,13.5,10.5,12.6,15.8,17.7,6.7,4.4,3.0,2.2,1.6,2.4,5.3,5.1,8.4,9.7,11.5,14.9,18.3,21.6,25.8,29.7,23.8,28.3,2.9,2.8,3.0,5.7,9.1,12.5,12.1,15.4,7.4,5.8,8.1,9.2,11.7,8.4,5.9,8.3,11.1,14.2,18.2,16.5,22.4,21.7,15.4,14.7,18.5,23.9,29.4,32.1,35.0,37.4,41.2,4.7,5.5,5.5,8.2,11.5,14.2,17.2,14.1,17.9,21.9,25.5,20.7,24.4,27.2,22.0,17.6,22.9,27.5,31.3,34.7,38.8,43.1,47.5,50.9,54.7,57.1,59.3,62.9,67.4,37.4,8.3,1.8,1.1,1.7,2.9,5.1,5.6,5.1,3.0,2.6,2.7,2.4,3.7,1.8,1.6,1.4,4.2,7.7,11.3,14.2,16.0,19.2,12.9,9.6,5.8,3.0,6.2,9.0,6.8,3.0,2.4,2.8,2.9,2.6,5.6,6.5,9.3,10.7,7.3,8.3,13.1,18.0,21.2,10.9,6.1,7.1,4.1,3.8,4.4,4.2,3.7,8.2,7.7,6.7,9.9,12.7,16.4,20.8,27.1,17.8,11.5,3.3,7.8,10.3,14.1,18.7,16.7,13.7,9.4,9.0,7.7,6.8,12.5,10.9,17.7,19.2,20.9,23.9,27.7,32.6,39.5,44.0,46.5,21.7,11.4,10.7,11.8,15.7,19.5,23.8,28.3,4.4,10.6,16.9,22.9,23.5,10.5,6.9,11.0,16.4,15.8,22.4,18.4,17.5,22.3,19.0,24.2,30.4,35.9,35.5,38.1,41.3,45.5,50.2,54.9,59.5,64.0,68.0,30.6,30.6,35.7,39.3,1.4,4.0,6.0,6.0,3.9,3.5,6.4,8.1,10.0,4.6,6.6,9.1,12.4,14.3,17.8,22.4,26.2,28.2,28.9,24.4,29.4,32.4,36.0,11.9,14.1,16.9,6.2,3.4,5.1,4.8],\"type\":\"scatter3d\"}],                        {\"template\":{\"data\":{\"bar\":[{\"error_x\":{\"color\":\"#2a3f5f\"},\"error_y\":{\"color\":\"#2a3f5f\"},\"marker\":{\"line\":{\"color\":\"#E5ECF6\",\"width\":0.5},\"pattern\":{\"fillmode\":\"overlay\",\"size\":10,\"solidity\":0.2}},\"type\":\"bar\"}],\"barpolar\":[{\"marker\":{\"line\":{\"color\":\"#E5ECF6\",\"width\":0.5},\"pattern\":{\"fillmode\":\"overlay\",\"size\":10,\"solidity\":0.2}},\"type\":\"barpolar\"}],\"carpet\":[{\"aaxis\":{\"endlinecolor\":\"#2a3f5f\",\"gridcolor\":\"white\",\"linecolor\":\"white\",\"minorgridcolor\":\"white\",\"startlinecolor\":\"#2a3f5f\"},\"baxis\":{\"endlinecolor\":\"#2a3f5f\",\"gridcolor\":\"white\",\"linecolor\":\"white\",\"minorgridcolor\":\"white\",\"startlinecolor\":\"#2a3f5f\"},\"type\":\"carpet\"}],\"choropleth\":[{\"colorbar\":{\"outlinewidth\":0,\"ticks\":\"\"},\"type\":\"choropleth\"}],\"contour\":[{\"colorbar\":{\"outlinewidth\":0,\"ticks\":\"\"},\"colorscale\":[[0.0,\"#0d0887\"],[0.1111111111111111,\"#46039f\"],[0.2222222222222222,\"#7201a8\"],[0.3333333333333333,\"#9c179e\"],[0.4444444444444444,\"#bd3786\"],[0.5555555555555556,\"#d8576b\"],[0.6666666666666666,\"#ed7953\"],[0.7777777777777778,\"#fb9f3a\"],[0.8888888888888888,\"#fdca26\"],[1.0,\"#f0f921\"]],\"type\":\"contour\"}],\"contourcarpet\":[{\"colorbar\":{\"outlinewidth\":0,\"ticks\":\"\"},\"type\":\"contourcarpet\"}],\"heatmap\":[{\"colorbar\":{\"outlinewidth\":0,\"ticks\":\"\"},\"colorscale\":[[0.0,\"#0d0887\"],[0.1111111111111111,\"#46039f\"],[0.2222222222222222,\"#7201a8\"],[0.3333333333333333,\"#9c179e\"],[0.4444444444444444,\"#bd3786\"],[0.5555555555555556,\"#d8576b\"],[0.6666666666666666,\"#ed7953\"],[0.7777777777777778,\"#fb9f3a\"],[0.8888888888888888,\"#fdca26\"],[1.0,\"#f0f921\"]],\"type\":\"heatmap\"}],\"heatmapgl\":[{\"colorbar\":{\"outlinewidth\":0,\"ticks\":\"\"},\"colorscale\":[[0.0,\"#0d0887\"],[0.1111111111111111,\"#46039f\"],[0.2222222222222222,\"#7201a8\"],[0.3333333333333333,\"#9c179e\"],[0.4444444444444444,\"#bd3786\"],[0.5555555555555556,\"#d8576b\"],[0.6666666666666666,\"#ed7953\"],[0.7777777777777778,\"#fb9f3a\"],[0.8888888888888888,\"#fdca26\"],[1.0,\"#f0f921\"]],\"type\":\"heatmapgl\"}],\"histogram\":[{\"marker\":{\"pattern\":{\"fillmode\":\"overlay\",\"size\":10,\"solidity\":0.2}},\"type\":\"histogram\"}],\"histogram2d\":[{\"colorbar\":{\"outlinewidth\":0,\"ticks\":\"\"},\"colorscale\":[[0.0,\"#0d0887\"],[0.1111111111111111,\"#46039f\"],[0.2222222222222222,\"#7201a8\"],[0.3333333333333333,\"#9c179e\"],[0.4444444444444444,\"#bd3786\"],[0.5555555555555556,\"#d8576b\"],[0.6666666666666666,\"#ed7953\"],[0.7777777777777778,\"#fb9f3a\"],[0.8888888888888888,\"#fdca26\"],[1.0,\"#f0f921\"]],\"type\":\"histogram2d\"}],\"histogram2dcontour\":[{\"colorbar\":{\"outlinewidth\":0,\"ticks\":\"\"},\"colorscale\":[[0.0,\"#0d0887\"],[0.1111111111111111,\"#46039f\"],[0.2222222222222222,\"#7201a8\"],[0.3333333333333333,\"#9c179e\"],[0.4444444444444444,\"#bd3786\"],[0.5555555555555556,\"#d8576b\"],[0.6666666666666666,\"#ed7953\"],[0.7777777777777778,\"#fb9f3a\"],[0.8888888888888888,\"#fdca26\"],[1.0,\"#f0f921\"]],\"type\":\"histogram2dcontour\"}],\"mesh3d\":[{\"colorbar\":{\"outlinewidth\":0,\"ticks\":\"\"},\"type\":\"mesh3d\"}],\"parcoords\":[{\"line\":{\"colorbar\":{\"outlinewidth\":0,\"ticks\":\"\"}},\"type\":\"parcoords\"}],\"pie\":[{\"automargin\":true,\"type\":\"pie\"}],\"scatter\":[{\"marker\":{\"colorbar\":{\"outlinewidth\":0,\"ticks\":\"\"}},\"type\":\"scatter\"}],\"scatter3d\":[{\"line\":{\"colorbar\":{\"outlinewidth\":0,\"ticks\":\"\"}},\"marker\":{\"colorbar\":{\"outlinewidth\":0,\"ticks\":\"\"}},\"type\":\"scatter3d\"}],\"scattercarpet\":[{\"marker\":{\"colorbar\":{\"outlinewidth\":0,\"ticks\":\"\"}},\"type\":\"scattercarpet\"}],\"scattergeo\":[{\"marker\":{\"colorbar\":{\"outlinewidth\":0,\"ticks\":\"\"}},\"type\":\"scattergeo\"}],\"scattergl\":[{\"marker\":{\"colorbar\":{\"outlinewidth\":0,\"ticks\":\"\"}},\"type\":\"scattergl\"}],\"scattermapbox\":[{\"marker\":{\"colorbar\":{\"outlinewidth\":0,\"ticks\":\"\"}},\"type\":\"scattermapbox\"}],\"scatterpolar\":[{\"marker\":{\"colorbar\":{\"outlinewidth\":0,\"ticks\":\"\"}},\"type\":\"scatterpolar\"}],\"scatterpolargl\":[{\"marker\":{\"colorbar\":{\"outlinewidth\":0,\"ticks\":\"\"}},\"type\":\"scatterpolargl\"}],\"scatterternary\":[{\"marker\":{\"colorbar\":{\"outlinewidth\":0,\"ticks\":\"\"}},\"type\":\"scatterternary\"}],\"surface\":[{\"colorbar\":{\"outlinewidth\":0,\"ticks\":\"\"},\"colorscale\":[[0.0,\"#0d0887\"],[0.1111111111111111,\"#46039f\"],[0.2222222222222222,\"#7201a8\"],[0.3333333333333333,\"#9c179e\"],[0.4444444444444444,\"#bd3786\"],[0.5555555555555556,\"#d8576b\"],[0.6666666666666666,\"#ed7953\"],[0.7777777777777778,\"#fb9f3a\"],[0.8888888888888888,\"#fdca26\"],[1.0,\"#f0f921\"]],\"type\":\"surface\"}],\"table\":[{\"cells\":{\"fill\":{\"color\":\"#EBF0F8\"},\"line\":{\"color\":\"white\"}},\"header\":{\"fill\":{\"color\":\"#C8D4E3\"},\"line\":{\"color\":\"white\"}},\"type\":\"table\"}]},\"layout\":{\"annotationdefaults\":{\"arrowcolor\":\"#2a3f5f\",\"arrowhead\":0,\"arrowwidth\":1},\"autotypenumbers\":\"strict\",\"coloraxis\":{\"colorbar\":{\"outlinewidth\":0,\"ticks\":\"\"}},\"colorscale\":{\"diverging\":[[0,\"#8e0152\"],[0.1,\"#c51b7d\"],[0.2,\"#de77ae\"],[0.3,\"#f1b6da\"],[0.4,\"#fde0ef\"],[0.5,\"#f7f7f7\"],[0.6,\"#e6f5d0\"],[0.7,\"#b8e186\"],[0.8,\"#7fbc41\"],[0.9,\"#4d9221\"],[1,\"#276419\"]],\"sequential\":[[0.0,\"#0d0887\"],[0.1111111111111111,\"#46039f\"],[0.2222222222222222,\"#7201a8\"],[0.3333333333333333,\"#9c179e\"],[0.4444444444444444,\"#bd3786\"],[0.5555555555555556,\"#d8576b\"],[0.6666666666666666,\"#ed7953\"],[0.7777777777777778,\"#fb9f3a\"],[0.8888888888888888,\"#fdca26\"],[1.0,\"#f0f921\"]],\"sequentialminus\":[[0.0,\"#0d0887\"],[0.1111111111111111,\"#46039f\"],[0.2222222222222222,\"#7201a8\"],[0.3333333333333333,\"#9c179e\"],[0.4444444444444444,\"#bd3786\"],[0.5555555555555556,\"#d8576b\"],[0.6666666666666666,\"#ed7953\"],[0.7777777777777778,\"#fb9f3a\"],[0.8888888888888888,\"#fdca26\"],[1.0,\"#f0f921\"]]},\"colorway\":[\"#636efa\",\"#EF553B\",\"#00cc96\",\"#ab63fa\",\"#FFA15A\",\"#19d3f3\",\"#FF6692\",\"#B6E880\",\"#FF97FF\",\"#FECB52\"],\"font\":{\"color\":\"#2a3f5f\"},\"geo\":{\"bgcolor\":\"white\",\"lakecolor\":\"white\",\"landcolor\":\"#E5ECF6\",\"showlakes\":true,\"showland\":true,\"subunitcolor\":\"white\"},\"hoverlabel\":{\"align\":\"left\"},\"hovermode\":\"closest\",\"mapbox\":{\"style\":\"light\"},\"paper_bgcolor\":\"white\",\"plot_bgcolor\":\"#E5ECF6\",\"polar\":{\"angularaxis\":{\"gridcolor\":\"white\",\"linecolor\":\"white\",\"ticks\":\"\"},\"bgcolor\":\"#E5ECF6\",\"radialaxis\":{\"gridcolor\":\"white\",\"linecolor\":\"white\",\"ticks\":\"\"}},\"scene\":{\"xaxis\":{\"backgroundcolor\":\"#E5ECF6\",\"gridcolor\":\"white\",\"gridwidth\":2,\"linecolor\":\"white\",\"showbackground\":true,\"ticks\":\"\",\"zerolinecolor\":\"white\"},\"yaxis\":{\"backgroundcolor\":\"#E5ECF6\",\"gridcolor\":\"white\",\"gridwidth\":2,\"linecolor\":\"white\",\"showbackground\":true,\"ticks\":\"\",\"zerolinecolor\":\"white\"},\"zaxis\":{\"backgroundcolor\":\"#E5ECF6\",\"gridcolor\":\"white\",\"gridwidth\":2,\"linecolor\":\"white\",\"showbackground\":true,\"ticks\":\"\",\"zerolinecolor\":\"white\"}},\"shapedefaults\":{\"line\":{\"color\":\"#2a3f5f\"}},\"ternary\":{\"aaxis\":{\"gridcolor\":\"white\",\"linecolor\":\"white\",\"ticks\":\"\"},\"baxis\":{\"gridcolor\":\"white\",\"linecolor\":\"white\",\"ticks\":\"\"},\"bgcolor\":\"#E5ECF6\",\"caxis\":{\"gridcolor\":\"white\",\"linecolor\":\"white\",\"ticks\":\"\"}},\"title\":{\"x\":0.05},\"xaxis\":{\"automargin\":true,\"gridcolor\":\"white\",\"linecolor\":\"white\",\"ticks\":\"\",\"title\":{\"standoff\":15},\"zerolinecolor\":\"white\",\"zerolinewidth\":2},\"yaxis\":{\"automargin\":true,\"gridcolor\":\"white\",\"linecolor\":\"white\",\"ticks\":\"\",\"title\":{\"standoff\":15},\"zerolinecolor\":\"white\",\"zerolinewidth\":2}}},\"scene\":{\"domain\":{\"x\":[0.0,1.0],\"y\":[0.0,1.0]},\"xaxis\":{\"title\":{\"text\":\"DMC\"}},\"yaxis\":{\"title\":{\"text\":\"FWI\"}},\"zaxis\":{\"title\":{\"text\":\"BUI\"}}},\"coloraxis\":{\"colorbar\":{\"title\":{\"text\":\"Classes\"}},\"colorscale\":[[0.0,\"#0d0887\"],[0.1111111111111111,\"#46039f\"],[0.2222222222222222,\"#7201a8\"],[0.3333333333333333,\"#9c179e\"],[0.4444444444444444,\"#bd3786\"],[0.5555555555555556,\"#d8576b\"],[0.6666666666666666,\"#ed7953\"],[0.7777777777777778,\"#fb9f3a\"],[0.8888888888888888,\"#fdca26\"],[1.0,\"#f0f921\"]]},\"legend\":{\"tracegroupgap\":0,\"itemsizing\":\"constant\"},\"margin\":{\"t\":60}},                        {\"responsive\": true}                    ).then(function(){\n",
       "                            \n",
       "var gd = document.getElementById('ad816aee-d6a1-4440-b2cf-34d767364163');\n",
       "var x = new MutationObserver(function (mutations, observer) {{\n",
       "        var display = window.getComputedStyle(gd).display;\n",
       "        if (!display || display === 'none') {{\n",
       "            console.log([gd, 'removed!']);\n",
       "            Plotly.purge(gd);\n",
       "            observer.disconnect();\n",
       "        }}\n",
       "}});\n",
       "\n",
       "// Listen for the removal of the full notebook cells\n",
       "var notebookContainer = gd.closest('#notebook-container');\n",
       "if (notebookContainer) {{\n",
       "    x.observe(notebookContainer, {childList: true});\n",
       "}}\n",
       "\n",
       "// Listen for the clearing of the current output cell\n",
       "var outputEl = gd.closest('.output');\n",
       "if (outputEl) {{\n",
       "    x.observe(outputEl, {childList: true});\n",
       "}}\n",
       "\n",
       "                        })                };                });            </script>        </div>"
      ]
     },
     "metadata": {},
     "output_type": "display_data"
    }
   ],
   "source": [
    "#Relationship Between Buildup Index, Fire Weather Index and Duff Moisture Code\n",
    "pty.scatter_3d(Algeria_df, \"DMC\", \"FWI\", \"BUI\", color=\"Classes\", size=rain_10)"
   ]
  },
  {
   "cell_type": "markdown",
   "id": "d0e5510b",
   "metadata": {},
   "source": [
    "- Observations:\n",
    "    1. If FWI is more then 5 Then chances of Forest fire raise upto 100%\n",
    "    2. FWI, DMC and BUI are Directly Co-related Linearly."
   ]
  },
  {
   "cell_type": "code",
   "execution_count": 72,
   "id": "74a916c7",
   "metadata": {},
   "outputs": [
    {
     "data": {
      "image/png": "[encoded data removed]",
      "text/plain": [
       "<Figure size 720x576 with 1 Axes>"
      ]
     },
     "metadata": {
      "needs_background": "light"
     },
     "output_type": "display_data"
    }
   ],
   "source": [
    "# Plotting 2d Graph using FFMC and ISI\n",
    "plt.figure(figsize=(10,8))\n",
    "sns.scatterplot(x=Algeria_df[\"FFMC\"], y = Algeria_df[\"ISI\"], hue=Algeria_df[\"Classes\"] );"
   ]
  },
  {
   "cell_type": "markdown",
   "id": "8ebc04fd",
   "metadata": {},
   "source": [
    " - Observations:\n",
    "     1. Only Two Feature required for Predicting output.\n",
    "     2. Still Scaling other Feature"
   ]
  },
  {
   "cell_type": "code",
   "execution_count": 78,
   "id": "267a4680",
   "metadata": {},
   "outputs": [
    {
     "data": {
      "text/plain": [
       "<Figure size 720x576 with 0 Axes>"
      ]
     },
     "metadata": {},
     "output_type": "display_data"
    },
    {
     "data": {
      "image/png": "[encoded data removed]",
      "text/plain": [
       "<Figure size 1440x1440 with 72 Axes>"
      ]
     },
     "metadata": {
      "needs_background": "light"
     },
     "output_type": "display_data"
    }
   ],
   "source": [
    "# Plotting 2d Graph using FFMC and ISI\n",
    "plt.figure(figsize=(10,8))\n",
    "sns.pairplot(Algeria_df.loc[:,['Temperature', 'Rain ', 'FFMC', 'DMC', 'DC', 'ISI', 'BUI', 'FWI']]);"
   ]
  },
  {
   "cell_type": "code",
   "execution_count": 86,
   "id": "333b3bca",
   "metadata": {},
   "outputs": [
    {
     "data": {
      "image/png": "[encoded data removed]",
      "text/plain": [
       "<Figure size 720x576 with 1 Axes>"
      ]
     },
     "metadata": {
      "needs_background": "light"
     },
     "output_type": "display_data"
    }
   ],
   "source": [
    "# Plotting 2d Graph using FFMC and ISI\n",
    "plt.figure(figsize=(10,8))\n",
    "sns.scatterplot(x=Algeria_df[\"ISI\"], y = Algeria_df[\"BUI\"], hue=Algeria_df[\"Classes\"] );"
   ]
  },
  {
   "cell_type": "code",
   "execution_count": 68,
   "id": "f387be51",
   "metadata": {},
   "outputs": [
    {
     "data": {
      "text/plain": [
       "<AxesSubplot:>"
      ]
     },
     "execution_count": 68,
     "metadata": {},
     "output_type": "execute_result"
    },
    {
     "data": {
      "image/png": "[encoded data removed]",
      "text/plain": [
       "<Figure size 720x576 with 1 Axes>"
      ]
     },
     "metadata": {
      "needs_background": "light"
     },
     "output_type": "display_data"
    }
   ],
   "source": [
    "#Checking Skewness \n",
    "Algeria_df.skew().plot(kind=\"barh\", figsize=(10,8))"
   ]
  },
  {
   "cell_type": "markdown",
   "id": "87e520c6",
   "metadata": {},
   "source": [
    " - Observations:\n",
    "     1. Rain is Highley Right Skew Lograthemic Transformation required\n",
    "     2. FWI, BUI, ISI, DC, DMC and Rain Features are Right Skew.\n",
    "     3. Only FFMC is Left Skewed so Taking Square or sqrt will solved The Problem "
   ]
  }
 ],
 "metadata": {
  "kernelspec": {
   "display_name": "Python 3 (ipykernel)",
   "language": "python",
   "name": "python3"
  },
  "language_info": {
   "codemirror_mode": {
    "name": "ipython",
    "version": 3
   },
   "file_extension": ".py",
   "mimetype": "text/x-python",
   "name": "python",
   "nbconvert_exporter": "python",
   "pygments_lexer": "ipython3",
   "version": "3.9.7"
  }
 },
 "nbformat": 4,
 "nbformat_minor": 5
}
