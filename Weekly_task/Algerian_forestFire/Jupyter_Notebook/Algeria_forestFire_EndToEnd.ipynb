{
 "cells": [
  {
   "cell_type": "markdown",
   "id": "2ffa557d",
   "metadata": {},
   "source": [
    "## Importing Required Libraries"
   ]
  },
  {
   "cell_type": "code",
   "execution_count": 1,
   "id": "8dc81236",
   "metadata": {},
   "outputs": [],
   "source": [
    "import pandas as pd\n",
    "import numpy as np\n",
    "import matplotlib.pyplot as plt\n",
    "import seaborn as sns\n",
    "\n",
    "from sklearn.model_selection import train_test_split, GridSearchCV\n",
    "from sklearn.preprocessing import StandardScaler\n",
    "from sklearn.feature_selection import VarianceThreshold, mutual_info_classif\n",
    "\n",
    "from sklearn.linear_model import LinearRegression, Lasso, Ridge, LogisticRegression\n",
    "from sklearn.tree import DecisionTreeClassifier\n",
    "from sklearn. ensemble import RandomForestClassifier, AdaBoostClassifier\n",
    "from sklearn.svm import SVC\n",
    "from xgboost import XGBClassifier\n",
    "\n",
    "%matplotlib inline"
   ]
  },
  {
   "cell_type": "code",
   "execution_count": 2,
   "id": "8e6358ad",
   "metadata": {
    "scrolled": true
   },
   "outputs": [
    {
     "data": {
      "text/html": [
       "<div>\n",
       "<style scoped>\n",
       "    .dataframe tbody tr th:only-of-type {\n",
       "        vertical-align: middle;\n",
       "    }\n",
       "\n",
       "    .dataframe tbody tr th {\n",
       "        vertical-align: top;\n",
       "    }\n",
       "\n",
       "    .dataframe thead th {\n",
       "        text-align: right;\n",
       "    }\n",
       "</style>\n",
       "<table border=\"1\" class=\"dataframe\">\n",
       "  <thead>\n",
       "    <tr style=\"text-align: right;\">\n",
       "      <th></th>\n",
       "      <th>day</th>\n",
       "      <th>month</th>\n",
       "      <th>year</th>\n",
       "      <th>Temperature</th>\n",
       "      <th>RH</th>\n",
       "      <th>Ws</th>\n",
       "      <th>Rain</th>\n",
       "      <th>FFMC</th>\n",
       "      <th>DMC</th>\n",
       "      <th>DC</th>\n",
       "      <th>ISI</th>\n",
       "      <th>BUI</th>\n",
       "      <th>FWI</th>\n",
       "      <th>Classes</th>\n",
       "    </tr>\n",
       "  </thead>\n",
       "  <tbody>\n",
       "    <tr>\n",
       "      <th>240</th>\n",
       "      <td>25.0</td>\n",
       "      <td>9.0</td>\n",
       "      <td>2012.0</td>\n",
       "      <td>28.0</td>\n",
       "      <td>70.0</td>\n",
       "      <td>15.0</td>\n",
       "      <td>0.0</td>\n",
       "      <td>79.9</td>\n",
       "      <td>13.8</td>\n",
       "      <td>36.1</td>\n",
       "      <td>2.4</td>\n",
       "      <td>14.1</td>\n",
       "      <td>3.0</td>\n",
       "      <td>0</td>\n",
       "    </tr>\n",
       "    <tr>\n",
       "      <th>156</th>\n",
       "      <td>3.0</td>\n",
       "      <td>7.0</td>\n",
       "      <td>2012.0</td>\n",
       "      <td>34.0</td>\n",
       "      <td>56.0</td>\n",
       "      <td>17.0</td>\n",
       "      <td>0.1</td>\n",
       "      <td>84.7</td>\n",
       "      <td>9.7</td>\n",
       "      <td>27.3</td>\n",
       "      <td>4.7</td>\n",
       "      <td>10.3</td>\n",
       "      <td>5.2</td>\n",
       "      <td>1</td>\n",
       "    </tr>\n",
       "    <tr>\n",
       "      <th>169</th>\n",
       "      <td>16.0</td>\n",
       "      <td>7.0</td>\n",
       "      <td>2012.0</td>\n",
       "      <td>31.0</td>\n",
       "      <td>83.0</td>\n",
       "      <td>17.0</td>\n",
       "      <td>0.0</td>\n",
       "      <td>84.5</td>\n",
       "      <td>19.4</td>\n",
       "      <td>33.1</td>\n",
       "      <td>4.7</td>\n",
       "      <td>19.2</td>\n",
       "      <td>7.3</td>\n",
       "      <td>1</td>\n",
       "    </tr>\n",
       "    <tr>\n",
       "      <th>11</th>\n",
       "      <td>12.0</td>\n",
       "      <td>6.0</td>\n",
       "      <td>2012.0</td>\n",
       "      <td>26.0</td>\n",
       "      <td>81.0</td>\n",
       "      <td>19.0</td>\n",
       "      <td>0.0</td>\n",
       "      <td>84.0</td>\n",
       "      <td>13.8</td>\n",
       "      <td>61.4</td>\n",
       "      <td>4.8</td>\n",
       "      <td>17.7</td>\n",
       "      <td>7.1</td>\n",
       "      <td>1</td>\n",
       "    </tr>\n",
       "    <tr>\n",
       "      <th>125</th>\n",
       "      <td>2.0</td>\n",
       "      <td>6.0</td>\n",
       "      <td>2012.0</td>\n",
       "      <td>30.0</td>\n",
       "      <td>73.0</td>\n",
       "      <td>13.0</td>\n",
       "      <td>4.0</td>\n",
       "      <td>55.7</td>\n",
       "      <td>2.7</td>\n",
       "      <td>7.8</td>\n",
       "      <td>0.6</td>\n",
       "      <td>2.9</td>\n",
       "      <td>0.2</td>\n",
       "      <td>0</td>\n",
       "    </tr>\n",
       "  </tbody>\n",
       "</table>\n",
       "</div>"
      ],
      "text/plain": [
       "      day  month    year  Temperature    RH    Ws  Rain   FFMC   DMC    DC  \\\n",
       "240  25.0    9.0  2012.0         28.0  70.0  15.0    0.0  79.9  13.8  36.1   \n",
       "156   3.0    7.0  2012.0         34.0  56.0  17.0    0.1  84.7   9.7  27.3   \n",
       "169  16.0    7.0  2012.0         31.0  83.0  17.0    0.0  84.5  19.4  33.1   \n",
       "11   12.0    6.0  2012.0         26.0  81.0  19.0    0.0  84.0  13.8  61.4   \n",
       "125   2.0    6.0  2012.0         30.0  73.0  13.0    4.0  55.7   2.7   7.8   \n",
       "\n",
       "     ISI   BUI  FWI  Classes  \n",
       "240  2.4  14.1  3.0        0  \n",
       "156  4.7  10.3  5.2        1  \n",
       "169  4.7  19.2  7.3        1  \n",
       "11   4.8  17.7  7.1        1  \n",
       "125  0.6   2.9  0.2        0  "
      ]
     },
     "execution_count": 2,
     "metadata": {},
     "output_type": "execute_result"
    }
   ],
   "source": [
    "df = pd.read_csv(\"Algeria_forest_fire_updated.csv\", index_col=0)\n",
    "df.sample(5)"
   ]
  },
  {
   "cell_type": "code",
   "execution_count": 3,
   "id": "b50d2b46",
   "metadata": {},
   "outputs": [
    {
     "data": {
      "text/plain": [
       "day            0\n",
       "month          0\n",
       "year           0\n",
       "Temperature    0\n",
       " RH            0\n",
       " Ws            0\n",
       "Rain           0\n",
       "FFMC           0\n",
       "DMC            0\n",
       "DC             0\n",
       "ISI            0\n",
       "BUI            0\n",
       "FWI            0\n",
       "Classes        0\n",
       "dtype: int64"
      ]
     },
     "execution_count": 3,
     "metadata": {},
     "output_type": "execute_result"
    }
   ],
   "source": [
    "#Checking for Null values\n",
    "df.isnull().sum()"
   ]
  },
  {
   "cell_type": "code",
   "execution_count": 4,
   "id": "e4f72647",
   "metadata": {},
   "outputs": [],
   "source": [
    "# Saparating Dependent and Independent Features\n",
    "X = df.drop(\"Classes\", axis=1)\n",
    "y = df[\"Classes\"]"
   ]
  },
  {
   "cell_type": "code",
   "execution_count": 5,
   "id": "eadc01be",
   "metadata": {},
   "outputs": [
    {
     "data": {
      "text/plain": [
       "((218, 13), (25, 13))"
      ]
     },
     "execution_count": 5,
     "metadata": {},
     "output_type": "execute_result"
    }
   ],
   "source": [
    "#Spliting Train and Test set\n",
    "X_train, X_test, y_train, y_test = train_test_split(X, y, test_size=0.1, random_state=123)\n",
    "X_train.shape, X_test.shape"
   ]
  },
  {
   "cell_type": "code",
   "execution_count": 6,
   "id": "817218bb",
   "metadata": {},
   "outputs": [
    {
     "data": {
      "text/html": [
       "<div>\n",
       "<style scoped>\n",
       "    .dataframe tbody tr th:only-of-type {\n",
       "        vertical-align: middle;\n",
       "    }\n",
       "\n",
       "    .dataframe tbody tr th {\n",
       "        vertical-align: top;\n",
       "    }\n",
       "\n",
       "    .dataframe thead th {\n",
       "        text-align: right;\n",
       "    }\n",
       "</style>\n",
       "<table border=\"1\" class=\"dataframe\">\n",
       "  <thead>\n",
       "    <tr style=\"text-align: right;\">\n",
       "      <th></th>\n",
       "      <th>day</th>\n",
       "      <th>month</th>\n",
       "      <th>year</th>\n",
       "      <th>Temperature</th>\n",
       "      <th>RH</th>\n",
       "      <th>Ws</th>\n",
       "      <th>Rain</th>\n",
       "      <th>FFMC</th>\n",
       "      <th>DMC</th>\n",
       "      <th>DC</th>\n",
       "      <th>ISI</th>\n",
       "      <th>BUI</th>\n",
       "      <th>FWI</th>\n",
       "    </tr>\n",
       "  </thead>\n",
       "  <tbody>\n",
       "    <tr>\n",
       "      <th>count</th>\n",
       "      <td>218.000000</td>\n",
       "      <td>218.000000</td>\n",
       "      <td>218.0</td>\n",
       "      <td>218.000000</td>\n",
       "      <td>218.000000</td>\n",
       "      <td>218.000000</td>\n",
       "      <td>218.000000</td>\n",
       "      <td>218.000000</td>\n",
       "      <td>218.000000</td>\n",
       "      <td>218.000000</td>\n",
       "      <td>218.000000</td>\n",
       "      <td>218.000000</td>\n",
       "      <td>218.000000</td>\n",
       "    </tr>\n",
       "    <tr>\n",
       "      <th>mean</th>\n",
       "      <td>15.449541</td>\n",
       "      <td>7.522936</td>\n",
       "      <td>2012.0</td>\n",
       "      <td>32.096330</td>\n",
       "      <td>62.243119</td>\n",
       "      <td>15.431193</td>\n",
       "      <td>0.744954</td>\n",
       "      <td>77.571560</td>\n",
       "      <td>14.669266</td>\n",
       "      <td>49.316972</td>\n",
       "      <td>4.661927</td>\n",
       "      <td>16.658716</td>\n",
       "      <td>6.955505</td>\n",
       "    </tr>\n",
       "    <tr>\n",
       "      <th>std</th>\n",
       "      <td>8.886884</td>\n",
       "      <td>1.116251</td>\n",
       "      <td>0.0</td>\n",
       "      <td>3.620842</td>\n",
       "      <td>14.782621</td>\n",
       "      <td>2.823101</td>\n",
       "      <td>1.801432</td>\n",
       "      <td>14.575512</td>\n",
       "      <td>12.679764</td>\n",
       "      <td>47.454439</td>\n",
       "      <td>4.139433</td>\n",
       "      <td>14.448531</td>\n",
       "      <td>7.497870</td>\n",
       "    </tr>\n",
       "    <tr>\n",
       "      <th>min</th>\n",
       "      <td>1.000000</td>\n",
       "      <td>6.000000</td>\n",
       "      <td>2012.0</td>\n",
       "      <td>22.000000</td>\n",
       "      <td>21.000000</td>\n",
       "      <td>6.000000</td>\n",
       "      <td>0.000000</td>\n",
       "      <td>28.600000</td>\n",
       "      <td>0.700000</td>\n",
       "      <td>6.900000</td>\n",
       "      <td>0.000000</td>\n",
       "      <td>1.100000</td>\n",
       "      <td>0.000000</td>\n",
       "    </tr>\n",
       "    <tr>\n",
       "      <th>25%</th>\n",
       "      <td>7.250000</td>\n",
       "      <td>7.000000</td>\n",
       "      <td>2012.0</td>\n",
       "      <td>30.000000</td>\n",
       "      <td>53.000000</td>\n",
       "      <td>14.000000</td>\n",
       "      <td>0.000000</td>\n",
       "      <td>71.100000</td>\n",
       "      <td>5.275000</td>\n",
       "      <td>10.425000</td>\n",
       "      <td>1.325000</td>\n",
       "      <td>5.800000</td>\n",
       "      <td>0.700000</td>\n",
       "    </tr>\n",
       "    <tr>\n",
       "      <th>50%</th>\n",
       "      <td>16.000000</td>\n",
       "      <td>8.000000</td>\n",
       "      <td>2012.0</td>\n",
       "      <td>32.000000</td>\n",
       "      <td>63.000000</td>\n",
       "      <td>15.000000</td>\n",
       "      <td>0.000000</td>\n",
       "      <td>82.950000</td>\n",
       "      <td>11.250000</td>\n",
       "      <td>33.250000</td>\n",
       "      <td>3.300000</td>\n",
       "      <td>12.000000</td>\n",
       "      <td>4.200000</td>\n",
       "    </tr>\n",
       "    <tr>\n",
       "      <th>75%</th>\n",
       "      <td>23.000000</td>\n",
       "      <td>9.000000</td>\n",
       "      <td>2012.0</td>\n",
       "      <td>35.000000</td>\n",
       "      <td>73.750000</td>\n",
       "      <td>17.000000</td>\n",
       "      <td>0.500000</td>\n",
       "      <td>88.100000</td>\n",
       "      <td>20.525000</td>\n",
       "      <td>71.375000</td>\n",
       "      <td>6.975000</td>\n",
       "      <td>22.900000</td>\n",
       "      <td>10.900000</td>\n",
       "    </tr>\n",
       "    <tr>\n",
       "      <th>max</th>\n",
       "      <td>31.000000</td>\n",
       "      <td>9.000000</td>\n",
       "      <td>2012.0</td>\n",
       "      <td>42.000000</td>\n",
       "      <td>90.000000</td>\n",
       "      <td>29.000000</td>\n",
       "      <td>13.100000</td>\n",
       "      <td>96.000000</td>\n",
       "      <td>65.900000</td>\n",
       "      <td>220.400000</td>\n",
       "      <td>19.000000</td>\n",
       "      <td>68.000000</td>\n",
       "      <td>31.100000</td>\n",
       "    </tr>\n",
       "  </tbody>\n",
       "</table>\n",
       "</div>"
      ],
      "text/plain": [
       "              day       month    year  Temperature          RH          Ws  \\\n",
       "count  218.000000  218.000000   218.0   218.000000  218.000000  218.000000   \n",
       "mean    15.449541    7.522936  2012.0    32.096330   62.243119   15.431193   \n",
       "std      8.886884    1.116251     0.0     3.620842   14.782621    2.823101   \n",
       "min      1.000000    6.000000  2012.0    22.000000   21.000000    6.000000   \n",
       "25%      7.250000    7.000000  2012.0    30.000000   53.000000   14.000000   \n",
       "50%     16.000000    8.000000  2012.0    32.000000   63.000000   15.000000   \n",
       "75%     23.000000    9.000000  2012.0    35.000000   73.750000   17.000000   \n",
       "max     31.000000    9.000000  2012.0    42.000000   90.000000   29.000000   \n",
       "\n",
       "            Rain         FFMC         DMC          DC         ISI         BUI  \\\n",
       "count  218.000000  218.000000  218.000000  218.000000  218.000000  218.000000   \n",
       "mean     0.744954   77.571560   14.669266   49.316972    4.661927   16.658716   \n",
       "std      1.801432   14.575512   12.679764   47.454439    4.139433   14.448531   \n",
       "min      0.000000   28.600000    0.700000    6.900000    0.000000    1.100000   \n",
       "25%      0.000000   71.100000    5.275000   10.425000    1.325000    5.800000   \n",
       "50%      0.000000   82.950000   11.250000   33.250000    3.300000   12.000000   \n",
       "75%      0.500000   88.100000   20.525000   71.375000    6.975000   22.900000   \n",
       "max     13.100000   96.000000   65.900000  220.400000   19.000000   68.000000   \n",
       "\n",
       "              FWI  \n",
       "count  218.000000  \n",
       "mean     6.955505  \n",
       "std      7.497870  \n",
       "min      0.000000  \n",
       "25%      0.700000  \n",
       "50%      4.200000  \n",
       "75%     10.900000  \n",
       "max     31.100000  "
      ]
     },
     "execution_count": 6,
     "metadata": {},
     "output_type": "execute_result"
    }
   ],
   "source": [
    "X_train.describe()"
   ]
  },
  {
   "cell_type": "markdown",
   "id": "8d6dc2b3",
   "metadata": {},
   "source": [
    "# Feature Selection"
   ]
  },
  {
   "cell_type": "markdown",
   "id": "43956ffc",
   "metadata": {},
   "source": [
    "- FFMC,FWI,BUI,ISI"
   ]
  },
  {
   "cell_type": "markdown",
   "id": "75945bff",
   "metadata": {},
   "source": [
    "### 1. Using Variance Threshold"
   ]
  },
  {
   "cell_type": "code",
   "execution_count": 7,
   "id": "35fc9e3f",
   "metadata": {},
   "outputs": [
    {
     "data": {
      "text/plain": [
       "VarianceThreshold(threshold=0)"
      ]
     },
     "execution_count": 7,
     "metadata": {},
     "output_type": "execute_result"
    }
   ],
   "source": [
    "# Removing Constant data or less variance data, this will help in reducing Feature which is of no use.\n",
    "vt = VarianceThreshold(threshold=0)\n",
    "vt.fit(X_train)"
   ]
  },
  {
   "cell_type": "code",
   "execution_count": 8,
   "id": "08c5ceb5",
   "metadata": {},
   "outputs": [
    {
     "data": {
      "text/plain": [
       "['year']"
      ]
     },
     "execution_count": 8,
     "metadata": {},
     "output_type": "execute_result"
    }
   ],
   "source": [
    "const_columns = [column for column in X_train.columns \n",
    "                      if column not in X_train.columns[vt.get_support()]]\n",
    "const_columns"
   ]
  },
  {
   "cell_type": "markdown",
   "id": "97b8450d",
   "metadata": {},
   "source": [
    "- Year only contain one value \"2012\" which act as a constant so removing it will not harm our model."
   ]
  },
  {
   "cell_type": "markdown",
   "id": "a0b046ec",
   "metadata": {},
   "source": [
    "## 2. Mutual Info Classification"
   ]
  },
  {
   "cell_type": "code",
   "execution_count": 9,
   "id": "db09a0c4",
   "metadata": {},
   "outputs": [
    {
     "data": {
      "text/plain": [
       "array([0.        , 0.13154006, 0.01392964, 0.14888408, 0.12141848,\n",
       "       0.00522917, 0.23389853, 0.6372004 , 0.33157683, 0.31947519,\n",
       "       0.657796  , 0.34405654, 0.55463528])"
      ]
     },
     "execution_count": 9,
     "metadata": {},
     "output_type": "execute_result"
    }
   ],
   "source": [
    "# Creating an Object of Mutual_info_classification\n",
    "mutual_info = mutual_info_classif(X_train, y_train)\n",
    "mutual_info"
   ]
  },
  {
   "cell_type": "code",
   "execution_count": 10,
   "id": "0ce5ee14",
   "metadata": {},
   "outputs": [
    {
     "data": {
      "text/plain": [
       "<AxesSubplot:>"
      ]
     },
     "execution_count": 10,
     "metadata": {},
     "output_type": "execute_result"
    },
    {
     "data": {
      "image/png": "[encoded data removed]",
      "text/plain": [
       "<Figure size 720x576 with 1 Axes>"
      ]
     },
     "metadata": {
      "needs_background": "light"
     },
     "output_type": "display_data"
    }
   ],
   "source": [
    "mutual_info = pd.Series(mutual_info)\n",
    "mutual_info.index = X_train.columns\n",
    "mutual_info = mutual_info.sort_values(ascending=False)\n",
    "mutual_info.plot(kind=\"bar\", figsize=(10,8))"
   ]
  },
  {
   "cell_type": "code",
   "execution_count": 11,
   "id": "09278d7e",
   "metadata": {
    "scrolled": true
   },
   "outputs": [
    {
     "data": {
      "text/plain": [
       "Index([' RH', 'Rain ', 'FFMC', 'DMC', 'DC', 'ISI', 'BUI', 'FWI'], dtype='object')"
      ]
     },
     "execution_count": 11,
     "metadata": {},
     "output_type": "execute_result"
    }
   ],
   "source": [
    "# Selecting top 8 Feature\n",
    "from sklearn.feature_selection import SelectPercentile\n",
    "\n",
    "#Creating Object\n",
    "select_best_feature = SelectPercentile(mutual_info_classif,percentile=65)\n",
    "\n",
    "# Fitting X and y data\n",
    "select_best_feature.fit(X_train, y_train)\n",
    "\n",
    "#Extracting Required Feature\n",
    "Selected_feature = X_train.columns[select_best_feature.get_support()]\n",
    "Selected_feature"
   ]
  },
  {
   "cell_type": "code",
   "execution_count": 12,
   "id": "2ee6ca67",
   "metadata": {},
   "outputs": [],
   "source": [
    "# Removed Feature\n",
    "drop_feature = [feature for feature in X_train.columns if feature not in Selected_feature]"
   ]
  },
  {
   "cell_type": "code",
   "execution_count": 13,
   "id": "a6a4cf28",
   "metadata": {},
   "outputs": [
    {
     "data": {
      "text/html": [
       "<div>\n",
       "<style scoped>\n",
       "    .dataframe tbody tr th:only-of-type {\n",
       "        vertical-align: middle;\n",
       "    }\n",
       "\n",
       "    .dataframe tbody tr th {\n",
       "        vertical-align: top;\n",
       "    }\n",
       "\n",
       "    .dataframe thead th {\n",
       "        text-align: right;\n",
       "    }\n",
       "</style>\n",
       "<table border=\"1\" class=\"dataframe\">\n",
       "  <thead>\n",
       "    <tr style=\"text-align: right;\">\n",
       "      <th></th>\n",
       "      <th>RH</th>\n",
       "      <th>Rain</th>\n",
       "      <th>FFMC</th>\n",
       "      <th>DMC</th>\n",
       "      <th>DC</th>\n",
       "      <th>ISI</th>\n",
       "      <th>BUI</th>\n",
       "      <th>FWI</th>\n",
       "    </tr>\n",
       "  </thead>\n",
       "  <tbody>\n",
       "    <tr>\n",
       "      <th>count</th>\n",
       "      <td>218.000000</td>\n",
       "      <td>218.000000</td>\n",
       "      <td>218.000000</td>\n",
       "      <td>218.000000</td>\n",
       "      <td>218.000000</td>\n",
       "      <td>218.000000</td>\n",
       "      <td>218.000000</td>\n",
       "      <td>218.000000</td>\n",
       "    </tr>\n",
       "    <tr>\n",
       "      <th>mean</th>\n",
       "      <td>62.243119</td>\n",
       "      <td>0.744954</td>\n",
       "      <td>77.571560</td>\n",
       "      <td>14.669266</td>\n",
       "      <td>49.316972</td>\n",
       "      <td>4.661927</td>\n",
       "      <td>16.658716</td>\n",
       "      <td>6.955505</td>\n",
       "    </tr>\n",
       "    <tr>\n",
       "      <th>std</th>\n",
       "      <td>14.782621</td>\n",
       "      <td>1.801432</td>\n",
       "      <td>14.575512</td>\n",
       "      <td>12.679764</td>\n",
       "      <td>47.454439</td>\n",
       "      <td>4.139433</td>\n",
       "      <td>14.448531</td>\n",
       "      <td>7.497870</td>\n",
       "    </tr>\n",
       "    <tr>\n",
       "      <th>min</th>\n",
       "      <td>21.000000</td>\n",
       "      <td>0.000000</td>\n",
       "      <td>28.600000</td>\n",
       "      <td>0.700000</td>\n",
       "      <td>6.900000</td>\n",
       "      <td>0.000000</td>\n",
       "      <td>1.100000</td>\n",
       "      <td>0.000000</td>\n",
       "    </tr>\n",
       "    <tr>\n",
       "      <th>25%</th>\n",
       "      <td>53.000000</td>\n",
       "      <td>0.000000</td>\n",
       "      <td>71.100000</td>\n",
       "      <td>5.275000</td>\n",
       "      <td>10.425000</td>\n",
       "      <td>1.325000</td>\n",
       "      <td>5.800000</td>\n",
       "      <td>0.700000</td>\n",
       "    </tr>\n",
       "    <tr>\n",
       "      <th>50%</th>\n",
       "      <td>63.000000</td>\n",
       "      <td>0.000000</td>\n",
       "      <td>82.950000</td>\n",
       "      <td>11.250000</td>\n",
       "      <td>33.250000</td>\n",
       "      <td>3.300000</td>\n",
       "      <td>12.000000</td>\n",
       "      <td>4.200000</td>\n",
       "    </tr>\n",
       "    <tr>\n",
       "      <th>75%</th>\n",
       "      <td>73.750000</td>\n",
       "      <td>0.500000</td>\n",
       "      <td>88.100000</td>\n",
       "      <td>20.525000</td>\n",
       "      <td>71.375000</td>\n",
       "      <td>6.975000</td>\n",
       "      <td>22.900000</td>\n",
       "      <td>10.900000</td>\n",
       "    </tr>\n",
       "    <tr>\n",
       "      <th>max</th>\n",
       "      <td>90.000000</td>\n",
       "      <td>13.100000</td>\n",
       "      <td>96.000000</td>\n",
       "      <td>65.900000</td>\n",
       "      <td>220.400000</td>\n",
       "      <td>19.000000</td>\n",
       "      <td>68.000000</td>\n",
       "      <td>31.100000</td>\n",
       "    </tr>\n",
       "  </tbody>\n",
       "</table>\n",
       "</div>"
      ],
      "text/plain": [
       "               RH       Rain         FFMC         DMC          DC         ISI  \\\n",
       "count  218.000000  218.000000  218.000000  218.000000  218.000000  218.000000   \n",
       "mean    62.243119    0.744954   77.571560   14.669266   49.316972    4.661927   \n",
       "std     14.782621    1.801432   14.575512   12.679764   47.454439    4.139433   \n",
       "min     21.000000    0.000000   28.600000    0.700000    6.900000    0.000000   \n",
       "25%     53.000000    0.000000   71.100000    5.275000   10.425000    1.325000   \n",
       "50%     63.000000    0.000000   82.950000   11.250000   33.250000    3.300000   \n",
       "75%     73.750000    0.500000   88.100000   20.525000   71.375000    6.975000   \n",
       "max     90.000000   13.100000   96.000000   65.900000  220.400000   19.000000   \n",
       "\n",
       "              BUI         FWI  \n",
       "count  218.000000  218.000000  \n",
       "mean    16.658716    6.955505  \n",
       "std     14.448531    7.497870  \n",
       "min      1.100000    0.000000  \n",
       "25%      5.800000    0.700000  \n",
       "50%     12.000000    4.200000  \n",
       "75%     22.900000   10.900000  \n",
       "max     68.000000   31.100000  "
      ]
     },
     "execution_count": 13,
     "metadata": {},
     "output_type": "execute_result"
    }
   ],
   "source": [
    "# Droping Features\n",
    "X_train.drop(drop_feature, axis=1, inplace=True)\n",
    "X_train.describe()"
   ]
  },
  {
   "cell_type": "markdown",
   "id": "21065f40",
   "metadata": {},
   "source": [
    "## 3. Correlation Between Features"
   ]
  },
  {
   "cell_type": "code",
   "execution_count": 14,
   "id": "5a9305e0",
   "metadata": {},
   "outputs": [
    {
     "data": {
      "text/plain": [
       "<AxesSubplot:>"
      ]
     },
     "execution_count": 14,
     "metadata": {},
     "output_type": "execute_result"
    },
    {
     "data": {
      "image/png": "[encoded data removed]",
      "text/plain": [
       "<Figure size 720x720 with 2 Axes>"
      ]
     },
     "metadata": {
      "needs_background": "light"
     },
     "output_type": "display_data"
    }
   ],
   "source": [
    "# Correlation between Features using Spearman method\n",
    "plt.figure(figsize=(10,10))\n",
    "sns.heatmap(X_train.corr(method=\"kendall\"), annot=True)"
   ]
  },
  {
   "cell_type": "markdown",
   "id": "b82d706e",
   "metadata": {},
   "source": [
    "- Highly Correlated.\n",
    "- Using Random Forest to Determine Better Feature for Splitting"
   ]
  },
  {
   "cell_type": "markdown",
   "id": "6e55ec3f",
   "metadata": {},
   "source": [
    "## 4. Using Model To Determine Useful Feature"
   ]
  },
  {
   "attachments": {
    "Chart.png": {
     "image/png": "[encoded data removed]"
    }
   },
   "cell_type": "markdown",
   "id": "c9ee4d8a",
   "metadata": {},
   "source": [
    "![Chart.png](attachment:Chart.png)"
   ]
  },
  {
   "cell_type": "code",
   "execution_count": 15,
   "id": "ad109a04",
   "metadata": {},
   "outputs": [
    {
     "data": {
      "text/plain": [
       "DecisionTreeClassifier()"
      ]
     },
     "execution_count": 15,
     "metadata": {},
     "output_type": "execute_result"
    }
   ],
   "source": [
    "#Taking Decision tree for selection Suitable Feature.\n",
    "dt = DecisionTreeClassifier()\n",
    "dt.fit(X_train,y_train)"
   ]
  },
  {
   "cell_type": "code",
   "execution_count": 16,
   "id": "b7dd0a29",
   "metadata": {},
   "outputs": [
    {
     "data": {
      "text/plain": [
       "<AxesSubplot:>"
      ]
     },
     "execution_count": 16,
     "metadata": {},
     "output_type": "execute_result"
    },
    {
     "data": {
      "image/png": "[encoded data removed]",
      "text/plain": [
       "<Figure size 576x576 with 1 Axes>"
      ]
     },
     "metadata": {
      "needs_background": "light"
     },
     "output_type": "display_data"
    }
   ],
   "source": [
    "dt.feature_importances_\n",
    "dt_score = pd.Series(dt.feature_importances_)\n",
    "dt_score.index = X_train.columns\n",
    "dt_score.plot(kind=\"barh\", figsize=(8,8))"
   ]
  },
  {
   "cell_type": "code",
   "execution_count": 17,
   "id": "cf4b8cda",
   "metadata": {},
   "outputs": [
    {
     "data": {
      "text/plain": [
       "0.92"
      ]
     },
     "execution_count": 17,
     "metadata": {},
     "output_type": "execute_result"
    }
   ],
   "source": [
    "dt.score(X_test.drop(drop_feature,axis=1),y_test)"
   ]
  },
  {
   "cell_type": "code",
   "execution_count": 18,
   "id": "ec1c8be1",
   "metadata": {
    "scrolled": true
   },
   "outputs": [
    {
     "data": {
      "text/plain": [
       "LinearRegression()"
      ]
     },
     "execution_count": 18,
     "metadata": {},
     "output_type": "execute_result"
    }
   ],
   "source": [
    "#Taking Linear Regression for best feature\n",
    "lr = LinearRegression()\n",
    "lr.fit(X_train,y_train)"
   ]
  },
  {
   "cell_type": "code",
   "execution_count": 19,
   "id": "32dd9b56",
   "metadata": {},
   "outputs": [
    {
     "data": {
      "text/plain": [
       "<AxesSubplot:>"
      ]
     },
     "execution_count": 19,
     "metadata": {},
     "output_type": "execute_result"
    },
    {
     "data": {
      "image/png": "[encoded data removed]",
      "text/plain": [
       "<Figure size 576x576 with 1 Axes>"
      ]
     },
     "metadata": {
      "needs_background": "light"
     },
     "output_type": "display_data"
    }
   ],
   "source": [
    "lr_score = pd.Series(lr.coef_)\n",
    "lr_score.index = X_train.columns\n",
    "lr_score.plot(kind=\"barh\", figsize=(8,8))"
   ]
  },
  {
   "cell_type": "code",
   "execution_count": 20,
   "id": "a3e5cc2a",
   "metadata": {},
   "outputs": [
    {
     "data": {
      "text/plain": [
       "0.6373819230789539"
      ]
     },
     "execution_count": 20,
     "metadata": {},
     "output_type": "execute_result"
    }
   ],
   "source": [
    "lr.score(X_test.drop(drop_feature,axis=1),y_test)"
   ]
  },
  {
   "cell_type": "markdown",
   "id": "e81dde8b",
   "metadata": {},
   "source": [
    "- Observations:\n",
    "    - Temprature, DMC, DC are Least Required Features For Prediction of Fire\n",
    "    - Most Essential feature are FFMC, ISI, FWI, BUI \n",
    "    - Rain Showing negative Relation so I am Also Selecting Rainfor my Feature"
   ]
  },
  {
   "cell_type": "code",
   "execution_count": 21,
   "id": "e22401e3",
   "metadata": {},
   "outputs": [
    {
     "data": {
      "text/plain": [
       "Index(['Rain ', 'FFMC', 'ISI', 'BUI', 'FWI'], dtype='object')"
      ]
     },
     "execution_count": 21,
     "metadata": {},
     "output_type": "execute_result"
    }
   ],
   "source": [
    "# Final Features are: \n",
    "X_train = X_train.loc[:,['Rain ', 'FFMC', 'ISI', 'BUI', 'FWI']]\n",
    "X_train.columns"
   ]
  },
  {
   "cell_type": "markdown",
   "id": "bb631cfd",
   "metadata": {},
   "source": [
    "# Feature PreProcessing"
   ]
  },
  {
   "cell_type": "markdown",
   "id": "91cf4d67",
   "metadata": {},
   "source": [
    "## 1. Skewness in data"
   ]
  },
  {
   "cell_type": "code",
   "execution_count": 22,
   "id": "7bb8dc35",
   "metadata": {},
   "outputs": [
    {
     "data": {
      "image/png": "[encoded data removed]",
      "text/plain": [
       "<Figure size 720x576 with 1 Axes>"
      ]
     },
     "metadata": {
      "needs_background": "light"
     },
     "output_type": "display_data"
    }
   ],
   "source": [
    "X_train.skew().plot(kind=\"barh\", figsize=(10,8));"
   ]
  },
  {
   "cell_type": "markdown",
   "id": "862c712e",
   "metadata": {},
   "source": [
    "- Rain is Highly Right Skewed\n",
    "- Except FFMC all Features are Right Skewed\n",
    "- For Right Skewed data Lograthimic Transformations is applied\n",
    "- For Left skewed data (Sqr root or Sqr) "
   ]
  },
  {
   "cell_type": "code",
   "execution_count": 23,
   "id": "d37b3577",
   "metadata": {},
   "outputs": [
    {
     "data": {
      "image/png": "[encoded data removed]",
      "text/plain": [
       "<Figure size 720x576 with 1 Axes>"
      ]
     },
     "metadata": {
      "needs_background": "light"
     },
     "output_type": "display_data"
    }
   ],
   "source": [
    "# Create new dataset with right skew adjusted\n",
    "rSkew_feature = [\"ISI\", \"BUI\", \"FWI\", \"Rain\"]\n",
    "lSkew_feature = [\"FFMC\"]\n",
    "\n",
    "# Creating new Dataset and Adding small \"0.1\" for Zero\n",
    "X_train_skew = X_train.copy() \n",
    "\n",
    "for feature in X_train.columns:\n",
    "    if feature in rSkew_feature:\n",
    "        # Taking Log of right skew dataset\n",
    "        X_train_skew[feature] = np.log1p(X_train_skew[feature])\n",
    "    \n",
    "    elif feature in lSkew_feature:\n",
    "        # Taking sqr of data\n",
    "        X_train_skew[feature] = X_train_skew[feature]**3\n",
    "        \n",
    "#new Skewed dataset\n",
    "X_train_skew.skew().plot(kind=\"barh\", figsize=(10,8));"
   ]
  },
  {
   "cell_type": "code",
   "execution_count": 24,
   "id": "432062c9",
   "metadata": {
    "scrolled": false
   },
   "outputs": [
    {
     "data": {
      "text/plain": [
       "<AxesSubplot:>"
      ]
     },
     "execution_count": 24,
     "metadata": {},
     "output_type": "execute_result"
    },
    {
     "data": {
      "image/png": "[encoded data removed]",
      "text/plain": [
       "<Figure size 576x576 with 1 Axes>"
      ]
     },
     "metadata": {
      "needs_background": "light"
     },
     "output_type": "display_data"
    }
   ],
   "source": [
    "# Building Decision Tree\n",
    "dt1 = DecisionTreeClassifier()\n",
    "dt1.fit(X_train_skew,y_train)\n",
    "dt1_score = pd.Series(dt1.feature_importances_)\n",
    "dt1_score.index = X_train.columns\n",
    "dt1_score.plot(kind=\"barh\", figsize=(8,8))"
   ]
  },
  {
   "cell_type": "code",
   "execution_count": 25,
   "id": "e5d37534",
   "metadata": {},
   "outputs": [
    {
     "data": {
      "text/plain": [
       "Index(['Rain ', 'FFMC', 'ISI', 'BUI', 'FWI'], dtype='object')"
      ]
     },
     "execution_count": 25,
     "metadata": {},
     "output_type": "execute_result"
    }
   ],
   "source": [
    "X_train_skew.columns"
   ]
  },
  {
   "cell_type": "code",
   "execution_count": 26,
   "id": "fa57248f",
   "metadata": {},
   "outputs": [
    {
     "data": {
      "text/plain": [
       "<AxesSubplot:>"
      ]
     },
     "execution_count": 26,
     "metadata": {},
     "output_type": "execute_result"
    },
    {
     "data": {
      "image/png": "[encoded data removed]",
      "text/plain": [
       "<Figure size 576x576 with 1 Axes>"
      ]
     },
     "metadata": {
      "needs_background": "light"
     },
     "output_type": "display_data"
    }
   ],
   "source": [
    "#Building Linear Model\n",
    "lr1 = LinearRegression()\n",
    "lr1.fit(X_train_skew,y_train)\n",
    "lr1_score = pd.Series(lr1.coef_)\n",
    "lr1_score.index = X_train.columns\n",
    "lr1_score.plot(kind=\"barh\", figsize=(8,8))"
   ]
  },
  {
   "cell_type": "code",
   "execution_count": 27,
   "id": "0a362b1a",
   "metadata": {},
   "outputs": [],
   "source": [
    "# Create new test dataset with  skew adjusted\n",
    "rSkew_feature = [\"ISI\", \"BUI\", \"FWI\", \"Rain\"]\n",
    "lSkew_feature = [\"FFMC\"]\n",
    "\n",
    "# Creating new Dataset and Adding small \"0.1\" for Zero\n",
    "X_test_skew = X_test.copy() \n",
    "X_test_skew = X_test_skew.loc[:,['Rain ', 'FFMC', 'ISI', 'BUI', 'FWI']]\n",
    "\n",
    "for feature in X_train.columns:\n",
    "    if feature in rSkew_feature:\n",
    "        # Taking Log of right skew dataset\n",
    "        X_test_skew[feature] = np.log1p(X_test_skew[feature])\n",
    "    \n",
    "    elif feature in lSkew_feature:\n",
    "        # Taking sqr of data\n",
    "        X_test_skew[feature] = X_test_skew[feature]**3"
   ]
  },
  {
   "cell_type": "markdown",
   "id": "6cadb516",
   "metadata": {},
   "source": [
    "- Decision Tree and Linear Model Score after "
   ]
  },
  {
   "cell_type": "code",
   "execution_count": 28,
   "id": "79f6c89e",
   "metadata": {},
   "outputs": [
    {
     "data": {
      "text/plain": [
       "0.92"
      ]
     },
     "execution_count": 28,
     "metadata": {},
     "output_type": "execute_result"
    }
   ],
   "source": [
    "dt1.score(X_test_skew,y_test)"
   ]
  },
  {
   "cell_type": "code",
   "execution_count": 29,
   "id": "5621d52c",
   "metadata": {
    "scrolled": true
   },
   "outputs": [
    {
     "data": {
      "text/plain": [
       "0.800061698486978"
      ]
     },
     "execution_count": 29,
     "metadata": {},
     "output_type": "execute_result"
    }
   ],
   "source": [
    "lr1.score(X_test_skew,y_test)"
   ]
  },
  {
   "cell_type": "markdown",
   "id": "18678c16",
   "metadata": {},
   "source": [
    "- Observations:\n",
    "    1. After Adjusting Skewness R2_Score of Linear Regression Increased thats mean SVC will work better in this Data\n",
    "    2. Decision Tree Showing Similar Result Which Mean Skewness did not Affect on this Model, AdaBoost or Gradient Boosting will improve the Result.\n",
    "    3. Rain showing Zero weight in Both Model Removing it will not Affect our Model performance."
   ]
  },
  {
   "cell_type": "code",
   "execution_count": 30,
   "id": "4c31d165",
   "metadata": {},
   "outputs": [],
   "source": [
    "# Standard Scaling dataset for Better Result in Linear Regression\n",
    "st = StandardScaler()\n",
    "X_train_skew_st = st.fit_transform(X_train_skew)"
   ]
  },
  {
   "cell_type": "code",
   "execution_count": 31,
   "id": "f8faa32f",
   "metadata": {},
   "outputs": [
    {
     "data": {
      "text/plain": [
       "<AxesSubplot:>"
      ]
     },
     "execution_count": 31,
     "metadata": {},
     "output_type": "execute_result"
    },
    {
     "data": {
      "image/png": "[encoded data removed]",
      "text/plain": [
       "<Figure size 576x576 with 1 Axes>"
      ]
     },
     "metadata": {
      "needs_background": "light"
     },
     "output_type": "display_data"
    }
   ],
   "source": [
    "#Building Linear Model\n",
    "lr2 = LinearRegression()\n",
    "lr2.fit(X_train_skew_st,y_train)\n",
    "lr2_score = pd.Series(lr2.coef_)\n",
    "lr2_score.index = X_train.columns\n",
    "lr2_score.plot(kind=\"barh\", figsize=(8,8))"
   ]
  },
  {
   "cell_type": "code",
   "execution_count": 32,
   "id": "53c5123a",
   "metadata": {},
   "outputs": [
    {
     "data": {
      "text/plain": [
       "0.8000616984877487"
      ]
     },
     "execution_count": 32,
     "metadata": {},
     "output_type": "execute_result"
    }
   ],
   "source": [
    "# For R2 Score of Test set\n",
    "X_test_skew_st = st.transform(X_test_skew)\n",
    "lr2.score(X_test_skew_st,y_test)"
   ]
  },
  {
   "cell_type": "code",
   "execution_count": 33,
   "id": "c98db867",
   "metadata": {},
   "outputs": [
    {
     "data": {
      "text/plain": [
       "<AxesSubplot:>"
      ]
     },
     "execution_count": 33,
     "metadata": {},
     "output_type": "execute_result"
    },
    {
     "data": {
      "image/png": "[encoded data removed]",
      "text/plain": [
       "<Figure size 576x576 with 1 Axes>"
      ]
     },
     "metadata": {
      "needs_background": "light"
     },
     "output_type": "display_data"
    }
   ],
   "source": [
    "# Building Decision Tree\n",
    "dt2 = DecisionTreeClassifier()\n",
    "dt2.fit(X_train_skew_st,y_train)\n",
    "dt2_score = pd.Series(dt2.feature_importances_)\n",
    "dt2_score.index = X_train.columns\n",
    "dt2_score.plot(kind=\"barh\", figsize=(8,8))"
   ]
  },
  {
   "cell_type": "code",
   "execution_count": 34,
   "id": "1a4b9ce2",
   "metadata": {},
   "outputs": [
    {
     "name": "stderr",
     "output_type": "stream",
     "text": [
      "C:\\Python\\Python39\\lib\\site-packages\\sklearn\\base.py:450: UserWarning: X does not have valid feature names, but DecisionTreeClassifier was fitted with feature names\n",
      "  warnings.warn(\n"
     ]
    },
    {
     "data": {
      "text/plain": [
       "0.4"
      ]
     },
     "execution_count": 34,
     "metadata": {},
     "output_type": "execute_result"
    }
   ],
   "source": [
    "dt1.score(X_test_skew_st,y_test)"
   ]
  },
  {
   "cell_type": "markdown",
   "id": "ffafc328",
   "metadata": {},
   "source": [
    "- Observations:\n",
    "    1. After Standard Scaling Decision tree Prediction Reduce more then Half and LinearRegress dose not Change Much."
   ]
  },
  {
   "cell_type": "code",
   "execution_count": 35,
   "id": "56c0e386",
   "metadata": {},
   "outputs": [],
   "source": [
    "#Droping Rain from dataset\n",
    "X_train_skew.drop(\"Rain \", axis=1, inplace=True)\n",
    "X_test_skew.drop(\"Rain \", axis=1, inplace=True)"
   ]
  },
  {
   "cell_type": "code",
   "execution_count": 36,
   "id": "a9d56e66",
   "metadata": {},
   "outputs": [
    {
     "data": {
      "text/plain": [
       "<AxesSubplot:>"
      ]
     },
     "execution_count": 36,
     "metadata": {},
     "output_type": "execute_result"
    },
    {
     "data": {
      "image/png": "[encoded data removed]",
      "text/plain": [
       "<Figure size 720x576 with 1 Axes>"
      ]
     },
     "metadata": {
      "needs_background": "light"
     },
     "output_type": "display_data"
    }
   ],
   "source": [
    "# Checking for OutLiers\n",
    "plt.figure(figsize=(10,8))\n",
    "sns.boxplot(data=X_train_skew.loc[:,[\"ISI\", \"BUI\", \"FWI\"]])"
   ]
  },
  {
   "cell_type": "markdown",
   "id": "cb1970a4",
   "metadata": {},
   "source": [
    "- No Outliers in dataset"
   ]
  },
  {
   "cell_type": "markdown",
   "id": "3d9e25fb",
   "metadata": {},
   "source": [
    "## Selecting Best Model"
   ]
  },
  {
   "cell_type": "code",
   "execution_count": 37,
   "id": "8c301a4d",
   "metadata": {},
   "outputs": [],
   "source": [
    "# Taking Base Models\n",
    "\n",
    "#Linear Models\n",
    "logr = LogisticRegression()\n",
    "lasso = Lasso()\n",
    "ridge = Ridge()\n",
    "\n",
    "#SVC\n",
    "svc = SVC()\n",
    "\n",
    "# Ensabel Models\n",
    "random_forest = RandomForestClassifier()\n",
    "adaBoost = AdaBoostClassifier()\n",
    "\n",
    "#XGBoost\n",
    "xgBoost = XGBClassifier()"
   ]
  },
  {
   "cell_type": "code",
   "execution_count": 38,
   "id": "7262f664",
   "metadata": {},
   "outputs": [
    {
     "name": "stdout",
     "output_type": "stream",
     "text": [
      "_-__-__-__-__-__-__-__-__-__-__-__-__-__-__-__-__-__-__-__-__-__-__-__-__-__-__-__-__-__-__-__-__-__-__-_\n",
      "Model Name :  Logistic\n",
      "R2 Score :  0.6\n",
      "_-__-__-__-__-__-__-__-__-__-__-__-__-__-__-__-__-__-__-__-__-__-__-__-__-__-__-__-__-__-__-__-__-__-__-_\n",
      "Model Name :  Lasso\n",
      "R2 Score :  0.73\n",
      "_-__-__-__-__-__-__-__-__-__-__-__-__-__-__-__-__-__-__-__-__-__-__-__-__-__-__-__-__-__-__-__-__-__-__-_\n",
      "Model Name :  Ridge\n",
      "R2 Score :  0.8\n",
      "_-__-__-__-__-__-__-__-__-__-__-__-__-__-__-__-__-__-__-__-__-__-__-__-__-__-__-__-__-__-__-__-__-__-__-_\n",
      "Model Name :  SVC\n",
      "R2 Score :  0.92\n",
      "_-__-__-__-__-__-__-__-__-__-__-__-__-__-__-__-__-__-__-__-__-__-__-__-__-__-__-__-__-__-__-__-__-__-__-_\n",
      "Model Name :  Random Forest\n",
      "R2 Score :  0.92\n",
      "_-__-__-__-__-__-__-__-__-__-__-__-__-__-__-__-__-__-__-__-__-__-__-__-__-__-__-__-__-__-__-__-__-__-__-_\n",
      "Model Name :  AdaBoost\n",
      "R2 Score :  0.92\n",
      "_-__-__-__-__-__-__-__-__-__-__-__-__-__-__-__-__-__-__-__-__-__-__-__-__-__-__-__-__-__-__-__-__-__-__-_\n",
      "Model Name :  XGBoost\n",
      "R2 Score :  0.92\n"
     ]
    }
   ],
   "source": [
    "models = {\"Logistic\" : logr, \"Lasso\" : lasso, \"Ridge\" : ridge, \"SVC\": svc, \"Random Forest\" : random_forest,\n",
    "          \"AdaBoost\" : adaBoost, \"XGBoost\" : xgBoost}\n",
    "\n",
    "for Name, model in models.items():\n",
    "    print(\"_-_\"*35)\n",
    "    model.fit(X_train_skew, y_train)\n",
    "    score = model.score(X_test_skew, y_test)\n",
    "    print(\"Model Name : \", Name)\n",
    "    print(\"R2 Score : \", round(score, 2))"
   ]
  },
  {
   "cell_type": "markdown",
   "id": "77097af6",
   "metadata": {},
   "source": [
    " - Observations:\n",
    "     1. XGBoost, AdaBoost, Random Forest and SVC Are Performing better\n",
    "     2. Hyper Parameter Tunning and GridSearchCV will bring best Result"
   ]
  },
  {
   "cell_type": "markdown",
   "id": "a131e13e",
   "metadata": {},
   "source": [
    "## GridSerchCV"
   ]
  },
  {
   "cell_type": "code",
   "execution_count": 56,
   "id": "bfa5deb5",
   "metadata": {},
   "outputs": [],
   "source": [
    "from sklearn.model_selection import GridSearchCV\n",
    "\n",
    "#Appling Grid Search Cv for optimal Parameters:\n",
    "def to_GridSearch(estimator, parameters):\n",
    "    # Creating Object of GridSearchCV\n",
    "    gs = GridSearchCV(estimator=estimator, param_grid=parameters, n_jobs=-1,verbose=2, cv=5)\n",
    "    gs.fit(X_train_skew.values,y_train)\n",
    "    print(\"Best Perameters are :- \", gs.best_params_)\n",
    "    print(\"Accuracy Score : \", gs.best_score_)\n",
    "    return gs.best_estimator_"
   ]
  },
  {
   "cell_type": "markdown",
   "id": "2ad2f12c",
   "metadata": {},
   "source": [
    "- Selecting Best Estimator for AdaBoost"
   ]
  },
  {
   "cell_type": "code",
   "execution_count": 40,
   "id": "13e27ce1",
   "metadata": {},
   "outputs": [
    {
     "name": "stdout",
     "output_type": "stream",
     "text": [
      "Fitting 5 folds for each of 9 candidates, totalling 45 fits\n",
      "Best Perameters are :-  {'C': 0.1, 'penalty': 'l1', 'solver': 'saga'}\n",
      "Accuracy Score :  0.5596194503171248\n"
     ]
    }
   ],
   "source": [
    "#Logistic Regression\n",
    "para = dict(solver = ['saga'],C=[0.1, 0.01, 10], penalty=[ 'l1', 'l2', 'none'])\n",
    "lr = to_GridSearch(LogisticRegression(),para)"
   ]
  },
  {
   "cell_type": "code",
   "execution_count": 41,
   "id": "ed0e6988",
   "metadata": {},
   "outputs": [
    {
     "name": "stdout",
     "output_type": "stream",
     "text": [
      "Fitting 5 folds for each of 8 candidates, totalling 40 fits\n",
      "Best Perameters are :-  {'criterion': 'gini', 'max_depth': 4}\n",
      "Accuracy Score :  0.9908033826638478\n"
     ]
    }
   ],
   "source": [
    "# Decision Tree\n",
    "param = {\"criterion\":['gini','entropy'],\n",
    "         \"max_depth\" : [2,3,4,5]}\n",
    "dt = to_GridSearch(DecisionTreeClassifier(),param)"
   ]
  },
  {
   "cell_type": "code",
   "execution_count": 42,
   "id": "9bc66c2f",
   "metadata": {},
   "outputs": [
    {
     "name": "stdout",
     "output_type": "stream",
     "text": [
      "Fitting 5 folds for each of 10 candidates, totalling 50 fits\n",
      "Best Perameters are :-  {'criterion': 'gini', 'max_depth': 4}\n",
      "Accuracy Score :  0.9908033826638478\n"
     ]
    }
   ],
   "source": [
    "#Random Forest\n",
    "param = {\"criterion\":['gini','entropy'],\n",
    "         \"max_depth\" : [2,3,4,5,None]}\n",
    "rf = to_GridSearch(RandomForestClassifier(), param)"
   ]
  },
  {
   "cell_type": "code",
   "execution_count": 43,
   "id": "01e56f86",
   "metadata": {},
   "outputs": [
    {
     "name": "stdout",
     "output_type": "stream",
     "text": [
      "Fitting 5 folds for each of 36 candidates, totalling 180 fits\n",
      "Best Perameters are :-  {'base_estimator': None, 'learning_rate': 1, 'n_estimators': 50}\n",
      "Accuracy Score :  0.9954545454545455\n"
     ]
    }
   ],
   "source": [
    "#Adaboost with logistic regression\n",
    "param = {\"base_estimator\":[dt,lr,None],\n",
    "    \"n_estimators\":[50,200,300],\n",
    "         \"learning_rate\":[1,0.1,0.01,0.001]}\n",
    "\n",
    "ada_lr = to_GridSearch(AdaBoostClassifier(),param)"
   ]
  },
  {
   "cell_type": "code",
   "execution_count": 44,
   "id": "cf84bcbe",
   "metadata": {},
   "outputs": [
    {
     "name": "stdout",
     "output_type": "stream",
     "text": [
      "Fitting 5 folds for each of 2400 candidates, totalling 12000 fits\n",
      "Best Perameters are :-  {'colsample_bytree': 0.5, 'gamma': 0.0, 'learning_rate': 0.05, 'max_depth': 3, 'min_child_weight': 3}\n",
      "Accuracy Score :  0.9908033826638478\n"
     ]
    }
   ],
   "source": [
    "#XGBoost\n",
    "params={\n",
    " \"learning_rate\"    : [0.05, 0.10, 0.15, 0.20, 0.25, 0.30 ] ,\n",
    " \"max_depth\"        : [ 3, 4, 5, 6, 8],\n",
    " \"min_child_weight\" : [ 1, 3, 5, 7 ],\n",
    " \"gamma\"            : [ 0.0, 0.1, 0.2 , 0.3, 0.4 ],\n",
    " \"colsample_bytree\" : [ 0.3, 0.4, 0.5 , 0.7 ]\n",
    "    \n",
    "}\n",
    "xgb = to_GridSearch(XGBClassifier(),params)"
   ]
  },
  {
   "cell_type": "code",
   "execution_count": 45,
   "id": "e4b11c58",
   "metadata": {
    "scrolled": true
   },
   "outputs": [
    {
     "name": "stdout",
     "output_type": "stream",
     "text": [
      "Decision Tree :  0.92\n",
      "Ada Boost :  0.92\n",
      "XGBoost :  0.92\n"
     ]
    }
   ],
   "source": [
    "print(\"Decision Tree : \", dt.score(X_test_skew.values,y_test))\n",
    "print(\"Ada Boost : \", ada_lr.score(X_test_skew.values,y_test))\n",
    "print(\"XGBoost : \", xgb.score(X_test_skew.values,y_test))"
   ]
  },
  {
   "cell_type": "markdown",
   "id": "8cff999b",
   "metadata": {},
   "source": [
    "- Observation:\n",
    "    1. Either Modles are Performing too well or OverFitted\n",
    "    2. Taking Confusion Metrics to Get Some idea of High Variance"
   ]
  },
  {
   "cell_type": "code",
   "execution_count": 46,
   "id": "03fce096",
   "metadata": {},
   "outputs": [],
   "source": [
    "from sklearn.metrics import confusion_matrix"
   ]
  },
  {
   "cell_type": "code",
   "execution_count": 47,
   "id": "e164aa1f",
   "metadata": {},
   "outputs": [
    {
     "data": {
      "text/plain": [
       "<AxesSubplot:>"
      ]
     },
     "execution_count": 47,
     "metadata": {},
     "output_type": "execute_result"
    },
    {
     "data": {
      "image/png": "[encoded data removed]",
      "text/plain": [
       "<Figure size 432x288 with 2 Axes>"
      ]
     },
     "metadata": {
      "needs_background": "light"
     },
     "output_type": "display_data"
    }
   ],
   "source": [
    "#Decision Tree\n",
    "sns.heatmap(confusion_matrix(y_test, dt.predict(X_test_skew.values)), annot=True)"
   ]
  },
  {
   "cell_type": "code",
   "execution_count": 48,
   "id": "7e702c55",
   "metadata": {},
   "outputs": [
    {
     "data": {
      "text/plain": [
       "<AxesSubplot:>"
      ]
     },
     "execution_count": 48,
     "metadata": {},
     "output_type": "execute_result"
    },
    {
     "data": {
      "image/png": "[encoded data removed]",
      "text/plain": [
       "<Figure size 432x288 with 2 Axes>"
      ]
     },
     "metadata": {
      "needs_background": "light"
     },
     "output_type": "display_data"
    }
   ],
   "source": [
    "#Adaptive Boost\n",
    "sns.heatmap(confusion_matrix(y_test, ada_lr.predict(X_test_skew.values)), annot=True)"
   ]
  },
  {
   "cell_type": "code",
   "execution_count": 49,
   "id": "79b8c804",
   "metadata": {
    "scrolled": true
   },
   "outputs": [
    {
     "data": {
      "text/plain": [
       "<AxesSubplot:>"
      ]
     },
     "execution_count": 49,
     "metadata": {},
     "output_type": "execute_result"
    },
    {
     "data": {
      "image/png": "[encoded data removed]",
      "text/plain": [
       "<Figure size 432x288 with 2 Axes>"
      ]
     },
     "metadata": {
      "needs_background": "light"
     },
     "output_type": "display_data"
    }
   ],
   "source": [
    "#XGBoost\n",
    "sns.heatmap(confusion_matrix(y_test, xgb.predict(X_test_skew.values)), annot=True)"
   ]
  },
  {
   "cell_type": "markdown",
   "id": "11c84683",
   "metadata": {},
   "source": [
    "- Confusion Matrix dosen't solve the Problem Taking Cross val score to get an idea of Overfitting data"
   ]
  },
  {
   "cell_type": "markdown",
   "id": "635b5825",
   "metadata": {},
   "source": [
    "# K-fold cross val score"
   ]
  },
  {
   "cell_type": "code",
   "execution_count": 50,
   "id": "9812bd0e",
   "metadata": {},
   "outputs": [],
   "source": [
    "X_final = X.loc[:,['FFMC', 'ISI', 'BUI', 'FWI']]\n",
    "y_final = y\n",
    "\n",
    "# Create new test dataset with  skew adjusted\n",
    "rSkew_feature = [\"ISI\", \"BUI\", \"FWI\"]\n",
    "lSkew_feature = [\"FFMC\"]\n",
    "\n",
    "\n",
    "for feature in X_final.columns:\n",
    "    if feature in rSkew_feature:\n",
    "        # Taking Log of right skew dataset\n",
    "        X_final[feature] = np.log1p(X_final[feature])\n",
    "    \n",
    "    elif feature in lSkew_feature:\n",
    "        # Taking sqr of data\n",
    "        X_final[feature] = X_final[feature]**3"
   ]
  },
  {
   "cell_type": "code",
   "execution_count": 51,
   "id": "eab3a833",
   "metadata": {},
   "outputs": [
    {
     "name": "stdout",
     "output_type": "stream",
     "text": [
      "Model name :  Decision Tree\n",
      "Average Score :  0.9815010570824525\n",
      "Model name :  XGBoost\n",
      "Average Score :  0.9908033826638478\n",
      "Model name :  Adaboost\n",
      "Average Score :  0.9954545454545455\n"
     ]
    }
   ],
   "source": [
    "# For X_train and y_train\n",
    "from sklearn.model_selection import cross_val_score\n",
    "\n",
    "Models = {\"Decision Tree\":dt, \"XGBoost\" : xgb, \"Adaboost\" : ada_lr}\n",
    "for name, model in Models.items():\n",
    "    score = cross_val_score(model, X_train_skew.values, y_train, n_jobs=2, cv=5).mean()\n",
    "    print(\"Model name : \" , name)\n",
    "    print(\"Average Score : \", score)"
   ]
  },
  {
   "cell_type": "code",
   "execution_count": 52,
   "id": "59bba15e",
   "metadata": {},
   "outputs": [
    {
     "name": "stdout",
     "output_type": "stream",
     "text": [
      "Model name :  Decision Tree\n",
      "Average Score :  0.9672619047619048\n",
      "Model name :  XGBoost\n",
      "Average Score :  0.9836734693877551\n",
      "Model name :  Adaboost\n",
      "Average Score :  0.9754251700680273\n"
     ]
    }
   ],
   "source": [
    "# For X_final\n",
    "Models = {\"Decision Tree\":dt, \"XGBoost\" : xgb, \"Adaboost\" : ada_lr}\n",
    "for name, model in Models.items():\n",
    "    score = cross_val_score(model, X_final.values, y_final, n_jobs=2, cv=5).mean()\n",
    "    print(\"Model name : \" , name)\n",
    "    print(\"Average Score : \", score)"
   ]
  },
  {
   "cell_type": "markdown",
   "id": "5cf383bf",
   "metadata": {},
   "source": [
    "- XG boost is performing Best with Accuracy 98% Taking Pickle of best Model"
   ]
  },
  {
   "cell_type": "markdown",
   "id": "514062f0",
   "metadata": {},
   "source": [
    "## Making Pickle of Model"
   ]
  },
  {
   "cell_type": "code",
   "execution_count": 53,
   "id": "42d23b92",
   "metadata": {},
   "outputs": [
    {
     "data": {
      "text/plain": [
       "0.92"
      ]
     },
     "execution_count": 53,
     "metadata": {},
     "output_type": "execute_result"
    }
   ],
   "source": [
    "xgb.score(X_test_skew.values, y_test)"
   ]
  },
  {
   "cell_type": "code",
   "execution_count": 54,
   "id": "9d9189b7",
   "metadata": {},
   "outputs": [],
   "source": [
    "import pickle\n",
    "\n",
    "# Creating XGBoost Pickle file\n",
    "\n",
    "pickle.dump(xgb, open(\"XGBModel.pkl\", \"wb\"))"
   ]
  },
  {
   "cell_type": "code",
   "execution_count": 55,
   "id": "2919dccd",
   "metadata": {},
   "outputs": [
    {
     "data": {
      "text/plain": [
       "0.9836734693877551"
      ]
     },
     "execution_count": 55,
     "metadata": {},
     "output_type": "execute_result"
    }
   ],
   "source": [
    "# Testing Pickle Model\n",
    "\n",
    "test_model = pickle.load(open(\"XGBModel.pkl\", \"rb\"))\n",
    "\n",
    "cross_val_score(test_model,X_final.values, y_final, n_jobs=3, cv=5).mean()"
   ]
  },
  {
   "cell_type": "code",
   "execution_count": 59,
   "id": "70f268ef",
   "metadata": {},
   "outputs": [],
   "source": [
    "xgb2 = XGBClassifier(colsample_bytree = 0.5, gamma= 0.0, learning_rate= 0.05, max_depth= 3, min_child_weight= 3)"
   ]
  },
  {
   "cell_type": "code",
   "execution_count": 60,
   "id": "fc10a261",
   "metadata": {},
   "outputs": [
    {
     "data": {
      "text/plain": [
       "XGBClassifier(base_score=0.5, booster='gbtree', callbacks=None,\n",
       "              colsample_bylevel=1, colsample_bynode=1, colsample_bytree=0.5,\n",
       "              early_stopping_rounds=None, enable_categorical=False,\n",
       "              eval_metric=None, gamma=0.0, gpu_id=-1, grow_policy='depthwise',\n",
       "              importance_type=None, interaction_constraints='',\n",
       "              learning_rate=0.05, max_bin=256, max_cat_to_onehot=4,\n",
       "              max_delta_step=0, max_depth=3, max_leaves=0, min_child_weight=3,\n",
       "              missing=nan, monotone_constraints='()', n_estimators=100,\n",
       "              n_jobs=0, num_parallel_tree=1, predictor='auto', random_state=0,\n",
       "              reg_alpha=0, reg_lambda=1, ...)"
      ]
     },
     "execution_count": 60,
     "metadata": {},
     "output_type": "execute_result"
    }
   ],
   "source": [
    "xgb2.fit(X_train_skew.values,y_train)"
   ]
  },
  {
   "cell_type": "code",
   "execution_count": 62,
   "id": "c55a5dd6",
   "metadata": {},
   "outputs": [
    {
     "data": {
      "text/plain": [
       "0.92"
      ]
     },
     "execution_count": 62,
     "metadata": {},
     "output_type": "execute_result"
    }
   ],
   "source": [
    "xgb2.score(X_test_skew.values,y_test)"
   ]
  },
  {
   "cell_type": "code",
   "execution_count": null,
   "id": "1ab28aac",
   "metadata": {},
   "outputs": [],
   "source": [
    "c"
   ]
  }
 ],
 "metadata": {
  "kernelspec": {
   "display_name": "Python 3 (ipykernel)",
   "language": "python",
   "name": "python3"
  },
  "language_info": {
   "codemirror_mode": {
    "name": "ipython",
    "version": 3
   },
   "file_extension": ".py",
   "mimetype": "text/x-python",
   "name": "python",
   "nbconvert_exporter": "python",
   "pygments_lexer": "ipython3",
   "version": "3.9.7"
  }
 },
 "nbformat": 4,
 "nbformat_minor": 5
}
