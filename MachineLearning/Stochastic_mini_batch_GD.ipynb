{
 "cells": [
  {
   "cell_type": "code",
   "execution_count": 1,
   "id": "383fd8c2",
   "metadata": {},
   "outputs": [],
   "source": [
    "from sklearn.datasets import load_diabetes\n",
    "from sklearn.linear_model import LinearRegression\n",
    "import pandas as pd\n",
    "import numpy as np\n",
    "import matplotlib.pyplot as plt\n",
    "from sklearn.metrics import r2_score\n",
    "from sklearn.model_selection import train_test_split"
   ]
  },
  {
   "cell_type": "code",
   "execution_count": 2,
   "id": "70eb631a",
   "metadata": {},
   "outputs": [],
   "source": [
    "X,y = load_diabetes(return_X_y=True)"
   ]
  },
  {
   "cell_type": "code",
   "execution_count": 3,
   "id": "7adeb07a",
   "metadata": {},
   "outputs": [],
   "source": [
    "X_train,X_test,y_train,y_test = train_test_split(X,y,test_size=0.2,random_state=42)"
   ]
  },
  {
   "cell_type": "code",
   "execution_count": 4,
   "id": "42fb8a62",
   "metadata": {},
   "outputs": [
    {
     "data": {
      "text/plain": [
       "LinearRegression()"
      ]
     },
     "execution_count": 4,
     "metadata": {},
     "output_type": "execute_result"
    }
   ],
   "source": [
    "lr = LinearRegression()\n",
    "lr.fit(X_train,y_train)"
   ]
  },
  {
   "cell_type": "code",
   "execution_count": 5,
   "id": "9b9e6a21",
   "metadata": {},
   "outputs": [
    {
     "data": {
      "text/plain": [
       "array([  37.90031426, -241.96624835,  542.42575342,  347.70830529,\n",
       "       -931.46126093,  518.04405547,  163.40353476,  275.31003837,\n",
       "        736.18909839,   48.67112488])"
      ]
     },
     "execution_count": 5,
     "metadata": {},
     "output_type": "execute_result"
    }
   ],
   "source": [
    "lr.coef_"
   ]
  },
  {
   "cell_type": "code",
   "execution_count": 6,
   "id": "6f4c6ac0",
   "metadata": {},
   "outputs": [
    {
     "data": {
      "text/plain": [
       "151.3456553477407"
      ]
     },
     "execution_count": 6,
     "metadata": {},
     "output_type": "execute_result"
    }
   ],
   "source": [
    "lr.intercept_"
   ]
  },
  {
   "cell_type": "code",
   "execution_count": 7,
   "id": "420939f5",
   "metadata": {},
   "outputs": [
    {
     "data": {
      "text/plain": [
       "0.45260660216173787"
      ]
     },
     "execution_count": 7,
     "metadata": {},
     "output_type": "execute_result"
    }
   ],
   "source": [
    "y_pred = lr.predict(X_test)\n",
    "lr.score(X_test,y_test)"
   ]
  },
  {
   "cell_type": "code",
   "execution_count": 8,
   "id": "ce34410a",
   "metadata": {},
   "outputs": [
    {
     "data": {
      "text/plain": [
       "0.45260660216173787"
      ]
     },
     "execution_count": 8,
     "metadata": {},
     "output_type": "execute_result"
    }
   ],
   "source": [
    "r2_score(y_test,y_pred)"
   ]
  },
  {
   "cell_type": "code",
   "execution_count": 9,
   "id": "6c9eea26",
   "metadata": {},
   "outputs": [
    {
     "name": "stdout",
     "output_type": "stream",
     "text": [
      "293 126 209 193 70 263 338 126 41 240 321 342 288 13 169 174 223 289 239 37 "
     ]
    }
   ],
   "source": [
    "for i in range(20):\n",
    "    print(np.random.randint(0,X_train.shape[0]),end = \" \")"
   ]
  },
  {
   "cell_type": "code",
   "execution_count": 10,
   "id": "66470af5",
   "metadata": {},
   "outputs": [
    {
     "data": {
      "text/plain": [
       "0.4888956794428363"
      ]
     },
     "execution_count": 10,
     "metadata": {},
     "output_type": "execute_result"
    }
   ],
   "source": [
    "#Testing data\n",
    "coef_ = np.ones(X_train.shape[1])\n",
    "intercept_ = 0\n",
    "np.dot(X_train[52],coef_) + intercept_"
   ]
  },
  {
   "cell_type": "code",
   "execution_count": 11,
   "id": "8044910e",
   "metadata": {},
   "outputs": [],
   "source": [
    "class SDRegressor:\n",
    "    \n",
    "    def __init__(self,learning_rate=0.01,epochs=100):\n",
    "        \n",
    "        self.coef_ = None\n",
    "        self.intercept_ = None\n",
    "        self.lr = learning_rate\n",
    "        self.epochs = epochs\n",
    "        \n",
    "    def fit(self,X_train,y_train):\n",
    "        # init your coefs\n",
    "        self.intercept_ = 0\n",
    "        self.coef_ = np.ones(X_train.shape[1])\n",
    "        \n",
    "        for i in range(self.epochs):\n",
    "            for j in range(X_train.shape[0]):\n",
    "                idx = np.random.randint(0,X_train.shape[0])\n",
    "                \n",
    "                # This will generate a singel value for Y_hat\n",
    "                y_hat = np.dot(X_train[idx],self.coef_) + self.intercept_\n",
    "                \n",
    "                #derivative of intercept\n",
    "                intercept_der  = -2 * np.mean(y_train - y_hat)\n",
    "                \n",
    "                # derivative for coff\n",
    "                coef_der = -2 * np.dot((y_train[idx] - y_hat),X_train[idx])\n",
    "                \n",
    "                #Appling Gradient Decent\n",
    "                self.coef_ = self.coef_ - self.lr * coef_der\n",
    "                \n",
    "                self.intercept_ = self.intercept_ - self.lr * intercept_der\n",
    "        \n",
    "        \n",
    "        print(self.intercept_,self.coef_)\n",
    "    \n",
    "    def predict(self,X_test):\n",
    "        return np.dot(X_test,self.coef_) + self.intercept_\n",
    "            "
   ]
  },
  {
   "cell_type": "code",
   "execution_count": 12,
   "id": "42f711e0",
   "metadata": {},
   "outputs": [
    {
     "name": "stdout",
     "output_type": "stream",
     "text": [
      "155.22347815278556 [  59.95159028  -73.22520813  319.38394495  226.08471139   12.24673881\n",
      "  -19.78648498 -167.89236881  146.24807517  259.88631602  144.79010396]\n"
     ]
    },
    {
     "data": {
      "text/plain": [
       "0.43549109775261274"
      ]
     },
     "execution_count": 12,
     "metadata": {},
     "output_type": "execute_result"
    }
   ],
   "source": [
    "sd = SDRegressor(0.01,40)\n",
    "sd.fit(X_train,y_train)\n",
    "\n",
    "y_pred = sd.predict(X_test)\n",
    "\n",
    "r2_score(y_test,y_pred)"
   ]
  },
  {
   "cell_type": "markdown",
   "id": "c2c21415",
   "metadata": {},
   "source": [
    "- Scostic Gradient Decent is Fast but  as it is taking less nuber of epochs"
   ]
  },
  {
   "cell_type": "markdown",
   "id": "7789447e",
   "metadata": {},
   "source": [
    "# Mini Batch GD"
   ]
  },
  {
   "cell_type": "markdown",
   "id": "eb0c11c4",
   "metadata": {},
   "source": [
    "- R2 Score = 41%\n",
    "- intercept = 151"
   ]
  },
  {
   "cell_type": "code",
   "execution_count": 13,
   "id": "c9a7da0b",
   "metadata": {},
   "outputs": [
    {
     "data": {
      "text/plain": [
       "[39, 73, 25, 1, 72, 78, 93, 7, 66, 80]"
      ]
     },
     "execution_count": 13,
     "metadata": {},
     "output_type": "execute_result"
    }
   ],
   "source": [
    "import random\n",
    "random.sample(range(1,100),10)"
   ]
  },
  {
   "cell_type": "code",
   "execution_count": 14,
   "id": "4ee9926e",
   "metadata": {},
   "outputs": [],
   "source": [
    "class MBGDRegressor:\n",
    "    \n",
    "    def __init__(self,learning_rate=0.01,epochs=100, batch_size = 100):\n",
    "        \n",
    "        self.coef_ = None\n",
    "        self.intercept_ = None\n",
    "        self.lr = learning_rate\n",
    "        self.epochs = epochs\n",
    "        self.batch_size = batch_size\n",
    "        \n",
    "    def fit(self,X_train,y_train):\n",
    "        # init your coefs\n",
    "        self.intercept_ = 0\n",
    "        self.coef_ = np.ones(X_train.shape[1])\n",
    "        \n",
    "        for i in range(self.epochs):\n",
    "            for j in range(int(X_train.shape[0]/self.batch_size)):\n",
    "                idx = random.sample(range(X_train.shape[0]),self.batch_size)\n",
    "                \n",
    "                # This will generate a singel value for Y_hat\n",
    "                y_hat = np.dot(X_train[idx],self.coef_) + self.intercept_\n",
    "                \n",
    "                #derivative of intercept\n",
    "                intercept_der  = -2 * np.mean(y_train[idx] - y_hat)\n",
    "                \n",
    "                # derivative for coff\n",
    "                coef_der = -2 * np.dot((y_train[idx] - y_hat),X_train[idx])\n",
    "                \n",
    "                #Appling Gradient Decent\n",
    "                self.coef_ = self.coef_ - self.lr * coef_der\n",
    "                \n",
    "                self.intercept_ = self.intercept_ - self.lr * intercept_der\n",
    "        \n",
    "        \n",
    "        print(self.intercept_,self.coef_)\n",
    "    \n",
    "    def predict(self,X_test):\n",
    "        return np.dot(X_test,self.coef_) + self.intercept_"
   ]
  },
  {
   "cell_type": "code",
   "execution_count": 15,
   "id": "be47ea58",
   "metadata": {},
   "outputs": [
    {
     "name": "stdout",
     "output_type": "stream",
     "text": [
      "153.43963053112196 [ 5.12560812e+01 -1.00912703e+02  3.67082096e+02  2.53085305e+02\n",
      "  3.31982527e-02 -3.51476852e+01 -1.83984772e+02  1.54987936e+02\n",
      "  2.87203312e+02  1.56346813e+02]\n"
     ]
    }
   ],
   "source": [
    "mbd = MBGDRegressor(batch_size=int(X_train.shape[0]/10), learning_rate= 0.01, epochs = 50)\n",
    "\n",
    "mbd.fit(X_train,y_train)"
   ]
  },
  {
   "cell_type": "code",
   "execution_count": 16,
   "id": "900fe37e",
   "metadata": {},
   "outputs": [
    {
     "data": {
      "text/plain": [
       "0.4497637268703092"
      ]
     },
     "execution_count": 16,
     "metadata": {},
     "output_type": "execute_result"
    }
   ],
   "source": [
    "y_pred = mbd.predict(X_test)\n",
    "\n",
    "r2_score(y_test, y_pred)"
   ]
  },
  {
   "cell_type": "markdown",
   "id": "ba29e34d",
   "metadata": {},
   "source": [
    "## Using inbuild library to solve problem"
   ]
  },
  {
   "cell_type": "code",
   "execution_count": 17,
   "id": "e38a6135",
   "metadata": {},
   "outputs": [],
   "source": [
    "from sklearn.linear_model import SGDRegressor\n",
    "\n",
    "sgd = SGDRegressor(learning_rate=\"constant\", eta0=0.1)"
   ]
  },
  {
   "cell_type": "code",
   "execution_count": 18,
   "id": "c29a3e61",
   "metadata": {},
   "outputs": [],
   "source": [
    "#Using  Small trick to convert Schostic GD into Mini Batch GD\n",
    "batch_size = 35\n",
    "\n",
    "for i in range(100):\n",
    "    idx = random.sample(range(X_train.shape[0]),batch_size)\n",
    "    sgd.partial_fit(X_train[idx],y_train[idx])"
   ]
  },
  {
   "cell_type": "code",
   "execution_count": 19,
   "id": "468a7844",
   "metadata": {},
   "outputs": [
    {
     "data": {
      "text/plain": [
       "0.44192922514869615"
      ]
     },
     "execution_count": 19,
     "metadata": {},
     "output_type": "execute_result"
    }
   ],
   "source": [
    "y_pred = sgd.predict(X_test)\n",
    "\n",
    "r2_score(y_test, y_pred)"
   ]
  },
  {
   "cell_type": "code",
   "execution_count": null,
   "id": "9a1400d6",
   "metadata": {},
   "outputs": [],
   "source": []
  }
 ],
 "metadata": {
  "kernelspec": {
   "display_name": "Python 3 (ipykernel)",
   "language": "python",
   "name": "python3"
  },
  "language_info": {
   "codemirror_mode": {
    "name": "ipython",
    "version": 3
   },
   "file_extension": ".py",
   "mimetype": "text/x-python",
   "name": "python",
   "nbconvert_exporter": "python",
   "pygments_lexer": "ipython3",
   "version": "3.9.7"
  }
 },
 "nbformat": 4,
 "nbformat_minor": 5
}
