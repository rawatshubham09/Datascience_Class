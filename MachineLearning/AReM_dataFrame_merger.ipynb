{
 "cells": [
  {
   "cell_type": "code",
   "execution_count": 1,
   "id": "5fd531f4",
   "metadata": {},
   "outputs": [],
   "source": [
    "import pandas as pd\n",
    "import numpy as np\n",
    "import matplotlib.pyplot as plt\n",
    "%matplotlib inline"
   ]
  },
  {
   "cell_type": "code",
   "execution_count": 3,
   "id": "f7079000",
   "metadata": {},
   "outputs": [],
   "source": [
    "#Bending1 dataset\n",
    "bending1_df1 = pd.read_csv(\"Dataset/AReM/bending1/dataset1.csv\")\n",
    "bending1_df2 = pd.read_csv(\"Dataset/AReM/bending1/dataset2.csv\")\n",
    "bending1_df3 = pd.read_csv(\"Dataset/AReM/bending1/dataset3.csv\")\n",
    "bending1_df4 = pd.read_csv(\"Dataset/AReM/bending1/dataset4.csv\")\n",
    "bending1_df5 = pd.read_csv(\"Dataset/AReM/bending1/dataset5.csv\")\n",
    "bending1_df6 = pd.read_csv(\"Dataset/AReM/bending1/dataset6.csv\")\n",
    "Test_bending1_df1 = pd.read_csv(\"Dataset/AReM/bending1/dataset7.csv\")"
   ]
  },
  {
   "cell_type": "code",
   "execution_count": 55,
   "id": "34b13258",
   "metadata": {},
   "outputs": [],
   "source": [
    "Test_bending1_df1[\"type\"]=pd.DataFrame([\"bending1\" for i in range(Test_bending1_df1.shape[0])])"
   ]
  },
  {
   "cell_type": "code",
   "execution_count": 42,
   "id": "0b0f8641",
   "metadata": {
    "scrolled": true
   },
   "outputs": [
    {
     "data": {
      "text/html": [
       "<div>\n",
       "<style scoped>\n",
       "    .dataframe tbody tr th:only-of-type {\n",
       "        vertical-align: middle;\n",
       "    }\n",
       "\n",
       "    .dataframe tbody tr th {\n",
       "        vertical-align: top;\n",
       "    }\n",
       "\n",
       "    .dataframe thead th {\n",
       "        text-align: right;\n",
       "    }\n",
       "</style>\n",
       "<table border=\"1\" class=\"dataframe\">\n",
       "  <thead>\n",
       "    <tr style=\"text-align: right;\">\n",
       "      <th></th>\n",
       "      <th>time</th>\n",
       "      <th>avg_rss12</th>\n",
       "      <th>var_rss12</th>\n",
       "      <th>avg_rss13</th>\n",
       "      <th>var_rss13</th>\n",
       "      <th>avg_rss23</th>\n",
       "      <th>var_rss23</th>\n",
       "      <th>type</th>\n",
       "    </tr>\n",
       "  </thead>\n",
       "  <tbody>\n",
       "    <tr>\n",
       "      <th>0</th>\n",
       "      <td>0</td>\n",
       "      <td>39.25</td>\n",
       "      <td>0.43</td>\n",
       "      <td>22.75</td>\n",
       "      <td>0.43</td>\n",
       "      <td>33.75</td>\n",
       "      <td>1.3</td>\n",
       "      <td>bending1</td>\n",
       "    </tr>\n",
       "    <tr>\n",
       "      <th>1</th>\n",
       "      <td>250</td>\n",
       "      <td>39.25</td>\n",
       "      <td>0.43</td>\n",
       "      <td>23.00</td>\n",
       "      <td>0.00</td>\n",
       "      <td>33.00</td>\n",
       "      <td>0.0</td>\n",
       "      <td>bending1</td>\n",
       "    </tr>\n",
       "  </tbody>\n",
       "</table>\n",
       "</div>"
      ],
      "text/plain": [
       "   time  avg_rss12  var_rss12  avg_rss13  var_rss13  avg_rss23  var_rss23  \\\n",
       "0     0      39.25       0.43      22.75       0.43      33.75        1.3   \n",
       "1   250      39.25       0.43      23.00       0.00      33.00        0.0   \n",
       "\n",
       "       type  \n",
       "0  bending1  \n",
       "1  bending1  "
      ]
     },
     "execution_count": 42,
     "metadata": {},
     "output_type": "execute_result"
    }
   ],
   "source": [
    "# concatenating\n",
    "All_bend1=pd.concat([bending1_df1,bending1_df2,bending1_df3,bending1_df4,bending1_df5,bending1_df6])\n",
    "All_bend1[\"type\"] = pd.DataFrame([\"bending1\" for i in range(All_bend1.shape[0])])\n",
    "All_bend1.head(2)"
   ]
  },
  {
   "cell_type": "code",
   "execution_count": 4,
   "id": "071f32ac",
   "metadata": {},
   "outputs": [],
   "source": [
    "#Bending2 Dataset\n",
    "bending2_df1 = pd.read_csv(\"Dataset/AReM/bending2/dataset1.csv\")\n",
    "bending2_df2 = pd.read_csv(\"Dataset/AReM/bending2/dataset2.csv\")\n",
    "bending2_df3 = pd.read_csv(\"Dataset/AReM/bending2/dataset3.csv\")\n",
    "bending2_df4 = pd.read_csv(\"Dataset/AReM/bending2/dataset4.csv\")\n",
    "bending2_df5 = pd.read_csv(\"Dataset/AReM/bending2/dataset5.csv\")\n",
    "Test_bending2_df1 = pd.read_csv(\"Dataset/AReM/bending2/dataset6.csv\")"
   ]
  },
  {
   "cell_type": "code",
   "execution_count": 56,
   "id": "bc887cae",
   "metadata": {},
   "outputs": [],
   "source": [
    "Test_bending2_df1[\"type\"]=pd.DataFrame([\"bending2\" for i in range(Test_bending2_df1.shape[0])])"
   ]
  },
  {
   "cell_type": "code",
   "execution_count": 57,
   "id": "0f60bb55",
   "metadata": {},
   "outputs": [],
   "source": [
    "All_test_bending= pd.concat([Test_bending1_df1,Test_bending2_df1])"
   ]
  },
  {
   "cell_type": "code",
   "execution_count": 44,
   "id": "35e7a2eb",
   "metadata": {},
   "outputs": [
    {
     "data": {
      "text/html": [
       "<div>\n",
       "<style scoped>\n",
       "    .dataframe tbody tr th:only-of-type {\n",
       "        vertical-align: middle;\n",
       "    }\n",
       "\n",
       "    .dataframe tbody tr th {\n",
       "        vertical-align: top;\n",
       "    }\n",
       "\n",
       "    .dataframe thead th {\n",
       "        text-align: right;\n",
       "    }\n",
       "</style>\n",
       "<table border=\"1\" class=\"dataframe\">\n",
       "  <thead>\n",
       "    <tr style=\"text-align: right;\">\n",
       "      <th></th>\n",
       "      <th>time</th>\n",
       "      <th>avg_rss12</th>\n",
       "      <th>var_rss12</th>\n",
       "      <th>avg_rss13</th>\n",
       "      <th>var_rss13</th>\n",
       "      <th>avg_rss23</th>\n",
       "      <th>var_rss23</th>\n",
       "      <th>type</th>\n",
       "    </tr>\n",
       "  </thead>\n",
       "  <tbody>\n",
       "    <tr>\n",
       "      <th>0</th>\n",
       "      <td>0</td>\n",
       "      <td>23.75</td>\n",
       "      <td>0.43</td>\n",
       "      <td>24.0</td>\n",
       "      <td>0.0</td>\n",
       "      <td>24.67</td>\n",
       "      <td>0.47</td>\n",
       "      <td>bending2</td>\n",
       "    </tr>\n",
       "    <tr>\n",
       "      <th>1</th>\n",
       "      <td>250</td>\n",
       "      <td>22.67</td>\n",
       "      <td>0.94</td>\n",
       "      <td>24.0</td>\n",
       "      <td>0.0</td>\n",
       "      <td>24.67</td>\n",
       "      <td>0.94</td>\n",
       "      <td>bending2</td>\n",
       "    </tr>\n",
       "  </tbody>\n",
       "</table>\n",
       "</div>"
      ],
      "text/plain": [
       "  time  avg_rss12  var_rss12  avg_rss13  var_rss13  avg_rss23  var_rss23  \\\n",
       "0    0      23.75       0.43       24.0        0.0      24.67       0.47   \n",
       "1  250      22.67       0.94       24.0        0.0      24.67       0.94   \n",
       "\n",
       "       type  \n",
       "0  bending2  \n",
       "1  bending2  "
      ]
     },
     "execution_count": 44,
     "metadata": {},
     "output_type": "execute_result"
    }
   ],
   "source": [
    "# concatenating\n",
    "All_bend2=pd.concat([bending2_df1,bending2_df2,bending2_df3,bending2_df4,bending2_df5])\n",
    "All_bend2[\"type\"] = pd.DataFrame([\"bending2\" for i in range(All_bend2.shape[0])])\n",
    "All_bend2.head(2)"
   ]
  },
  {
   "cell_type": "code",
   "execution_count": 10,
   "id": "d3591146",
   "metadata": {},
   "outputs": [],
   "source": [
    "#Cycling Dataset\n",
    "cycling_df1 = pd.read_csv(\"Dataset/AReM/cycling/dataset1.csv\")\n",
    "cycling_df2 = pd.read_csv(\"Dataset/AReM/cycling/dataset2.csv\")\n",
    "cycling_df3 = pd.read_csv(\"Dataset/AReM/cycling/dataset3.csv\")\n",
    "cycling_df4 = pd.read_csv(\"Dataset/AReM/cycling/dataset4.csv\")\n",
    "cycling_df5 = pd.read_csv(\"Dataset/AReM/cycling/dataset5.csv\")\n",
    "cycling_df6 = pd.read_csv(\"Dataset/AReM/cycling/dataset6.csv\")\n",
    "cycling_df7 = pd.read_csv(\"Dataset/AReM/cycling/dataset7.csv\")\n",
    "cycling_df8 = pd.read_csv(\"Dataset/AReM/cycling/dataset8.csv\")\n",
    "cycling_df9 = pd.read_csv(\"Dataset/AReM/cycling/dataset9.csv\")\n",
    "cycling_df10 = pd.read_csv(\"Dataset/AReM/cycling/dataset10.csv\")\n",
    "cycling_df11 = pd.read_csv(\"Dataset/AReM/cycling/dataset11.csv\")\n",
    "cycling_df12 = pd.read_csv(\"Dataset/AReM/cycling/dataset12.csv\")\n",
    "cycling_df13 = pd.read_csv(\"Dataset/AReM/cycling/dataset13.csv\")\n",
    "Test_cycling_df1 = pd.read_csv(\"Dataset/AReM/cycling/dataset14.csv\")\n",
    "Test_cycling_df2 = pd.read_csv(\"Dataset/AReM/cycling/dataset15.csv\")"
   ]
  },
  {
   "cell_type": "code",
   "execution_count": 54,
   "id": "21c4beee",
   "metadata": {},
   "outputs": [],
   "source": [
    "All_test_cycling= pd.concat([Test_cycling_df1,Test_cycling_df1])\n",
    "All_test_cycling[\"type\"] = pd.DataFrame([\"cycling\" for i in range(All_test_cycling.shape[0])])"
   ]
  },
  {
   "cell_type": "code",
   "execution_count": 46,
   "id": "8393f49a",
   "metadata": {},
   "outputs": [
    {
     "data": {
      "text/html": [
       "<div>\n",
       "<style scoped>\n",
       "    .dataframe tbody tr th:only-of-type {\n",
       "        vertical-align: middle;\n",
       "    }\n",
       "\n",
       "    .dataframe tbody tr th {\n",
       "        vertical-align: top;\n",
       "    }\n",
       "\n",
       "    .dataframe thead th {\n",
       "        text-align: right;\n",
       "    }\n",
       "</style>\n",
       "<table border=\"1\" class=\"dataframe\">\n",
       "  <thead>\n",
       "    <tr style=\"text-align: right;\">\n",
       "      <th></th>\n",
       "      <th>time</th>\n",
       "      <th>avg_rss12</th>\n",
       "      <th>var_rss12</th>\n",
       "      <th>avg_rss13</th>\n",
       "      <th>var_rss13</th>\n",
       "      <th>avg_rss23</th>\n",
       "      <th>var_rss23</th>\n",
       "      <th>type</th>\n",
       "    </tr>\n",
       "  </thead>\n",
       "  <tbody>\n",
       "    <tr>\n",
       "      <th>0</th>\n",
       "      <td>0</td>\n",
       "      <td>32.0</td>\n",
       "      <td>4.85</td>\n",
       "      <td>17.5</td>\n",
       "      <td>3.35</td>\n",
       "      <td>22.50</td>\n",
       "      <td>3.2</td>\n",
       "      <td>cycling</td>\n",
       "    </tr>\n",
       "    <tr>\n",
       "      <th>1</th>\n",
       "      <td>250</td>\n",
       "      <td>40.5</td>\n",
       "      <td>1.12</td>\n",
       "      <td>14.0</td>\n",
       "      <td>2.24</td>\n",
       "      <td>21.75</td>\n",
       "      <td>1.3</td>\n",
       "      <td>cycling</td>\n",
       "    </tr>\n",
       "  </tbody>\n",
       "</table>\n",
       "</div>"
      ],
      "text/plain": [
       "   time  avg_rss12  var_rss12  avg_rss13  var_rss13  avg_rss23  var_rss23  \\\n",
       "0     0       32.0       4.85       17.5       3.35      22.50        3.2   \n",
       "1   250       40.5       1.12       14.0       2.24      21.75        1.3   \n",
       "\n",
       "      type  \n",
       "0  cycling  \n",
       "1  cycling  "
      ]
     },
     "execution_count": 46,
     "metadata": {},
     "output_type": "execute_result"
    }
   ],
   "source": [
    "All_cycle=pd.concat([cycling_df1,cycling_df2,cycling_df3,cycling_df4,cycling_df5,cycling_df6,cycling_df7,cycling_df8,cycling_df9,cycling_df10,cycling_df11,cycling_df12,cycling_df13])\n",
    "All_cycle[\"type\"] = pd.DataFrame([\"cycling\" for i in range(All_cycle.shape[0])])\n",
    "All_cycle.head(2)"
   ]
  },
  {
   "cell_type": "code",
   "execution_count": 11,
   "id": "c7d204d3",
   "metadata": {},
   "outputs": [],
   "source": [
    "#Lying Dataset\n",
    "lying_df1 = pd.read_csv(\"Dataset/AReM/lying/dataset1.csv\")\n",
    "lying_df2 = pd.read_csv(\"Dataset/AReM/lying/dataset2.csv\")\n",
    "lying_df3 = pd.read_csv(\"Dataset/AReM/lying/dataset3.csv\")\n",
    "lying_df4 = pd.read_csv(\"Dataset/AReM/lying/dataset4.csv\")\n",
    "lying_df5 = pd.read_csv(\"Dataset/AReM/lying/dataset5.csv\")\n",
    "lying_df6 = pd.read_csv(\"Dataset/AReM/lying/dataset6.csv\")\n",
    "lying_df7 = pd.read_csv(\"Dataset/AReM/lying/dataset7.csv\")\n",
    "lying_df8 = pd.read_csv(\"Dataset/AReM/lying/dataset8.csv\")\n",
    "lying_df9 = pd.read_csv(\"Dataset/AReM/lying/dataset9.csv\")\n",
    "lying_df10 = pd.read_csv(\"Dataset/AReM/lying/dataset10.csv\")\n",
    "lying_df11 = pd.read_csv(\"Dataset/AReM/lying/dataset11.csv\")\n",
    "lying_df12 = pd.read_csv(\"Dataset/AReM/lying/dataset12.csv\")\n",
    "lying_df13 = pd.read_csv(\"Dataset/AReM/lying/dataset13.csv\")\n",
    "Test_lying_df1 = pd.read_csv(\"Dataset/AReM/lying/dataset14.csv\")\n",
    "Test_lying_df2 = pd.read_csv(\"Dataset/AReM/lying/dataset15.csv\")"
   ]
  },
  {
   "cell_type": "code",
   "execution_count": 53,
   "id": "b4c7a4a9",
   "metadata": {},
   "outputs": [],
   "source": [
    "All_test_lying= pd.concat([Test_lying_df1,Test_lying_df1])\n",
    "All_test_lying[\"type\"] = pd.DataFrame([\"lying\" for i in range(All_test_lying.shape[0])])"
   ]
  },
  {
   "cell_type": "code",
   "execution_count": 47,
   "id": "446cdc29",
   "metadata": {},
   "outputs": [
    {
     "data": {
      "text/html": [
       "<div>\n",
       "<style scoped>\n",
       "    .dataframe tbody tr th:only-of-type {\n",
       "        vertical-align: middle;\n",
       "    }\n",
       "\n",
       "    .dataframe tbody tr th {\n",
       "        vertical-align: top;\n",
       "    }\n",
       "\n",
       "    .dataframe thead th {\n",
       "        text-align: right;\n",
       "    }\n",
       "</style>\n",
       "<table border=\"1\" class=\"dataframe\">\n",
       "  <thead>\n",
       "    <tr style=\"text-align: right;\">\n",
       "      <th></th>\n",
       "      <th>time</th>\n",
       "      <th>avg_rss12</th>\n",
       "      <th>var_rss12</th>\n",
       "      <th>avg_rss13</th>\n",
       "      <th>var_rss13</th>\n",
       "      <th>avg_rss23</th>\n",
       "      <th>var_rss23</th>\n",
       "      <th>type</th>\n",
       "    </tr>\n",
       "  </thead>\n",
       "  <tbody>\n",
       "    <tr>\n",
       "      <th>0</th>\n",
       "      <td>0</td>\n",
       "      <td>29.0</td>\n",
       "      <td>0.0</td>\n",
       "      <td>9.0</td>\n",
       "      <td>0.71</td>\n",
       "      <td>8.5</td>\n",
       "      <td>0.5</td>\n",
       "      <td>lying</td>\n",
       "    </tr>\n",
       "    <tr>\n",
       "      <th>1</th>\n",
       "      <td>250</td>\n",
       "      <td>29.0</td>\n",
       "      <td>0.0</td>\n",
       "      <td>8.0</td>\n",
       "      <td>0.71</td>\n",
       "      <td>8.5</td>\n",
       "      <td>0.5</td>\n",
       "      <td>lying</td>\n",
       "    </tr>\n",
       "  </tbody>\n",
       "</table>\n",
       "</div>"
      ],
      "text/plain": [
       "   time  avg_rss12  var_rss12  avg_rss13  var_rss13  avg_rss23  var_rss23  \\\n",
       "0     0       29.0        0.0        9.0       0.71        8.5        0.5   \n",
       "1   250       29.0        0.0        8.0       0.71        8.5        0.5   \n",
       "\n",
       "    type  \n",
       "0  lying  \n",
       "1  lying  "
      ]
     },
     "execution_count": 47,
     "metadata": {},
     "output_type": "execute_result"
    }
   ],
   "source": [
    "All_lying=pd.concat([lying_df1,lying_df2,lying_df3,lying_df4,lying_df5,lying_df6,lying_df7,lying_df8,lying_df9,lying_df10,lying_df11,lying_df12,lying_df13])\n",
    "All_lying[\"type\"] = pd.DataFrame([\"lying\" for i in range(All_lying.shape[0])])\n",
    "All_lying.head(2)"
   ]
  },
  {
   "cell_type": "code",
   "execution_count": 12,
   "id": "db7e1c20",
   "metadata": {},
   "outputs": [],
   "source": [
    "#Sitting Dataset\n",
    "sitting_df1 = pd.read_csv(\"Dataset/AReM/sitting/dataset1.csv\")\n",
    "sitting_df2 = pd.read_csv(\"Dataset/AReM/sitting/dataset2.csv\")\n",
    "sitting_df3 = pd.read_csv(\"Dataset/AReM/sitting/dataset3.csv\")\n",
    "sitting_df4 = pd.read_csv(\"Dataset/AReM/sitting/dataset4.csv\")\n",
    "sitting_df5 = pd.read_csv(\"Dataset/AReM/sitting/dataset5.csv\")\n",
    "sitting_df6 = pd.read_csv(\"Dataset/AReM/sitting/dataset6.csv\")\n",
    "sitting_df7 = pd.read_csv(\"Dataset/AReM/sitting/dataset7.csv\")\n",
    "sitting_df8 = pd.read_csv(\"Dataset/AReM/sitting/dataset8.csv\")\n",
    "sitting_df9 = pd.read_csv(\"Dataset/AReM/sitting/dataset9.csv\")\n",
    "sitting_df10 = pd.read_csv(\"Dataset/AReM/sitting/dataset10.csv\")\n",
    "sitting_df11 = pd.read_csv(\"Dataset/AReM/sitting/dataset11.csv\")\n",
    "sitting_df12 = pd.read_csv(\"Dataset/AReM/sitting/dataset12.csv\")\n",
    "sitting_df13 = pd.read_csv(\"Dataset/AReM/sitting/dataset13.csv\")\n",
    "Test_sitting_df1 = pd.read_csv(\"Dataset/AReM/sitting/dataset14.csv\")\n",
    "Test_sitting_df2 = pd.read_csv(\"Dataset/AReM/sitting/dataset15.csv\")"
   ]
  },
  {
   "cell_type": "code",
   "execution_count": 52,
   "id": "8f794ec3",
   "metadata": {},
   "outputs": [],
   "source": [
    "All_test_sitting= pd.concat([Test_sitting_df1,Test_sitting_df1])\n",
    "All_test_sitting[\"type\"] = pd.DataFrame([\"sitting\" for i in range(All_test_sitting.shape[0])])"
   ]
  },
  {
   "cell_type": "code",
   "execution_count": 49,
   "id": "50551b41",
   "metadata": {},
   "outputs": [
    {
     "data": {
      "text/html": [
       "<div>\n",
       "<style scoped>\n",
       "    .dataframe tbody tr th:only-of-type {\n",
       "        vertical-align: middle;\n",
       "    }\n",
       "\n",
       "    .dataframe tbody tr th {\n",
       "        vertical-align: top;\n",
       "    }\n",
       "\n",
       "    .dataframe thead th {\n",
       "        text-align: right;\n",
       "    }\n",
       "</style>\n",
       "<table border=\"1\" class=\"dataframe\">\n",
       "  <thead>\n",
       "    <tr style=\"text-align: right;\">\n",
       "      <th></th>\n",
       "      <th>time</th>\n",
       "      <th>avg_rss12</th>\n",
       "      <th>var_rss12</th>\n",
       "      <th>avg_rss13</th>\n",
       "      <th>var_rss13</th>\n",
       "      <th>avg_rss23</th>\n",
       "      <th>var_rss23</th>\n",
       "      <th>type</th>\n",
       "    </tr>\n",
       "  </thead>\n",
       "  <tbody>\n",
       "    <tr>\n",
       "      <th>0</th>\n",
       "      <td>0</td>\n",
       "      <td>42.0</td>\n",
       "      <td>0.0</td>\n",
       "      <td>19.20</td>\n",
       "      <td>0.98</td>\n",
       "      <td>15.5</td>\n",
       "      <td>2.06</td>\n",
       "      <td>sitting</td>\n",
       "    </tr>\n",
       "    <tr>\n",
       "      <th>1</th>\n",
       "      <td>250</td>\n",
       "      <td>42.0</td>\n",
       "      <td>0.0</td>\n",
       "      <td>19.33</td>\n",
       "      <td>0.94</td>\n",
       "      <td>11.0</td>\n",
       "      <td>0.82</td>\n",
       "      <td>sitting</td>\n",
       "    </tr>\n",
       "  </tbody>\n",
       "</table>\n",
       "</div>"
      ],
      "text/plain": [
       "   time  avg_rss12  var_rss12  avg_rss13  var_rss13  avg_rss23  var_rss23  \\\n",
       "0     0       42.0        0.0      19.20       0.98       15.5       2.06   \n",
       "1   250       42.0        0.0      19.33       0.94       11.0       0.82   \n",
       "\n",
       "      type  \n",
       "0  sitting  \n",
       "1  sitting  "
      ]
     },
     "execution_count": 49,
     "metadata": {},
     "output_type": "execute_result"
    }
   ],
   "source": [
    "All_sitting=pd.concat([sitting_df1,sitting_df2,sitting_df3,sitting_df4,sitting_df5,sitting_df6,sitting_df7,sitting_df8,sitting_df9,sitting_df10,sitting_df11,sitting_df12,sitting_df13])\n",
    "All_sitting[\"type\"] = pd.DataFrame([\"sitting\" for i in range(All_sitting.shape[0])])\n",
    "All_sitting.head(2)"
   ]
  },
  {
   "cell_type": "code",
   "execution_count": 14,
   "id": "692c263a",
   "metadata": {},
   "outputs": [],
   "source": [
    "#Walking Dataset\n",
    "walking_df1 = pd.read_csv(\"Dataset/AReM/walking/dataset1.csv\")\n",
    "walking_df2 = pd.read_csv(\"Dataset/AReM/walking/dataset2.csv\")\n",
    "walking_df3 = pd.read_csv(\"Dataset/AReM/walking/dataset3.csv\")\n",
    "walking_df4 = pd.read_csv(\"Dataset/AReM/walking/dataset4.csv\")\n",
    "walking_df5 = pd.read_csv(\"Dataset/AReM/walking/dataset5.csv\")\n",
    "walking_df6 = pd.read_csv(\"Dataset/AReM/walking/dataset6.csv\")\n",
    "walking_df7 = pd.read_csv(\"Dataset/AReM/walking/dataset7.csv\")\n",
    "walking_df8 = pd.read_csv(\"Dataset/AReM/walking/dataset8.csv\")\n",
    "walking_df9 = pd.read_csv(\"Dataset/AReM/walking/dataset9.csv\")\n",
    "walking_df10 = pd.read_csv(\"Dataset/AReM/walking/dataset10.csv\")\n",
    "walking_df11 = pd.read_csv(\"Dataset/AReM/walking/dataset11.csv\")\n",
    "walking_df12 = pd.read_csv(\"Dataset/AReM/walking/dataset12.csv\")\n",
    "walking_df13 = pd.read_csv(\"Dataset/AReM/walking/dataset13.csv\")\n",
    "Test_walking_df1 = pd.read_csv(\"Dataset/AReM/walking/dataset14.csv\")\n",
    "Test_walking_df2 = pd.read_csv(\"Dataset/AReM/walking/dataset15.csv\")"
   ]
  },
  {
   "cell_type": "code",
   "execution_count": 51,
   "id": "5343e0f3",
   "metadata": {},
   "outputs": [],
   "source": [
    "All_test_walking= pd.concat([Test_walking_df1,Test_walking_df1])\n",
    "All_test_walking[\"type\"] = pd.DataFrame([\"walking\" for i in range(All_test_walking.shape[0])])"
   ]
  },
  {
   "cell_type": "code",
   "execution_count": 50,
   "id": "01fbaf56",
   "metadata": {},
   "outputs": [
    {
     "data": {
      "text/html": [
       "<div>\n",
       "<style scoped>\n",
       "    .dataframe tbody tr th:only-of-type {\n",
       "        vertical-align: middle;\n",
       "    }\n",
       "\n",
       "    .dataframe tbody tr th {\n",
       "        vertical-align: top;\n",
       "    }\n",
       "\n",
       "    .dataframe thead th {\n",
       "        text-align: right;\n",
       "    }\n",
       "</style>\n",
       "<table border=\"1\" class=\"dataframe\">\n",
       "  <thead>\n",
       "    <tr style=\"text-align: right;\">\n",
       "      <th></th>\n",
       "      <th>time</th>\n",
       "      <th>avg_rss12</th>\n",
       "      <th>var_rss12</th>\n",
       "      <th>avg_rss13</th>\n",
       "      <th>var_rss13</th>\n",
       "      <th>avg_rss23</th>\n",
       "      <th>var_rss23</th>\n",
       "      <th>type</th>\n",
       "    </tr>\n",
       "  </thead>\n",
       "  <tbody>\n",
       "    <tr>\n",
       "      <th>0</th>\n",
       "      <td>0</td>\n",
       "      <td>35.0</td>\n",
       "      <td>3.67</td>\n",
       "      <td>16.5</td>\n",
       "      <td>3.77</td>\n",
       "      <td>14.00</td>\n",
       "      <td>1.63</td>\n",
       "      <td>walking</td>\n",
       "    </tr>\n",
       "    <tr>\n",
       "      <th>1</th>\n",
       "      <td>250</td>\n",
       "      <td>28.5</td>\n",
       "      <td>3.35</td>\n",
       "      <td>17.5</td>\n",
       "      <td>3.77</td>\n",
       "      <td>12.25</td>\n",
       "      <td>3.90</td>\n",
       "      <td>walking</td>\n",
       "    </tr>\n",
       "  </tbody>\n",
       "</table>\n",
       "</div>"
      ],
      "text/plain": [
       "   time  avg_rss12  var_rss12  avg_rss13  var_rss13  avg_rss23  var_rss23  \\\n",
       "0     0       35.0       3.67       16.5       3.77      14.00       1.63   \n",
       "1   250       28.5       3.35       17.5       3.77      12.25       3.90   \n",
       "\n",
       "      type  \n",
       "0  walking  \n",
       "1  walking  "
      ]
     },
     "execution_count": 50,
     "metadata": {},
     "output_type": "execute_result"
    }
   ],
   "source": [
    "All_walking=pd.concat([walking_df1,walking_df2,walking_df3,walking_df4,walking_df5,walking_df6,walking_df7,walking_df8,walking_df9,walking_df10,walking_df11,walking_df12,walking_df13])\n",
    "All_walking[\"type\"] = pd.DataFrame([\"walking\" for i in range(All_walking.shape[0])])\n",
    "All_walking.head(2)"
   ]
  },
  {
   "cell_type": "markdown",
   "id": "3adce0ce",
   "metadata": {},
   "source": [
    "#### Mearging All File"
   ]
  },
  {
   "cell_type": "code",
   "execution_count": 58,
   "id": "787df2b2",
   "metadata": {},
   "outputs": [],
   "source": [
    "#Train DataFrame\n",
    "train_df = pd.concat([All_bend1,All_bend2,All_cycle,All_lying,All_sitting,All_walking])\n",
    "train_df.to_csv(\"Dataset/AReM/train.csv\")"
   ]
  },
  {
   "cell_type": "code",
   "execution_count": 59,
   "id": "c68f4b34",
   "metadata": {},
   "outputs": [],
   "source": [
    "#Test Dataframe\n",
    "test_df = pd.concat([All_test_bending,All_test_cycling,All_test_lying,All_test_sitting,All_test_walking])\n",
    "test_df.to_csv(\"Dataset/AReM/test.csv\")"
   ]
  },
  {
   "cell_type": "code",
   "execution_count": null,
   "id": "3606d1ba",
   "metadata": {},
   "outputs": [],
   "source": []
  }
 ],
 "metadata": {
  "kernelspec": {
   "display_name": "Python 3 (ipykernel)",
   "language": "python",
   "name": "python3"
  },
  "language_info": {
   "codemirror_mode": {
    "name": "ipython",
    "version": 3
   },
   "file_extension": ".py",
   "mimetype": "text/x-python",
   "name": "python",
   "nbconvert_exporter": "python",
   "pygments_lexer": "ipython3",
   "version": "3.9.7"
  }
 },
 "nbformat": 4,
 "nbformat_minor": 5
}
