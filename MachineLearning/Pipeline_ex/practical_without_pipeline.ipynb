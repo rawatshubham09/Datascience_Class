{
 "cells": [
  {
   "cell_type": "code",
   "execution_count": 1,
   "id": "e588b142",
   "metadata": {},
   "outputs": [],
   "source": [
    "import pickle\n",
    "import numpy as np\n"
   ]
  },
  {
   "cell_type": "code",
   "execution_count": 2,
   "id": "021bd470",
   "metadata": {},
   "outputs": [],
   "source": [
    "# Loading Pickle Files\n",
    "ohe_sex = pickle.load(open(\"Model/Ohe_sex.pkl\",\"rb\"))\n",
    "ohe_embarked = pickle.load(open(\"Model/Ohe_embarked.pkl\",\"rb\"))\n",
    "clf = pickle.load(open(\"Model/clf.pkl\",\"rb\"))"
   ]
  },
  {
   "cell_type": "code",
   "execution_count": 7,
   "id": "b1fff24e",
   "metadata": {},
   "outputs": [],
   "source": [
    "# Taking Dummy User Input from Website\n",
    "test_data = np.array([2,\"male\",31.0,0,0,10.5,\"S\"], dtype = object).reshape(1,7)"
   ]
  },
  {
   "cell_type": "code",
   "execution_count": 8,
   "id": "f9f359f3",
   "metadata": {},
   "outputs": [
    {
     "data": {
      "text/plain": [
       "array([[2, 'male', 31.0, 0, 0, 10.5, 'S']], dtype=object)"
      ]
     },
     "execution_count": 8,
     "metadata": {},
     "output_type": "execute_result"
    }
   ],
   "source": [
    "test_data"
   ]
  },
  {
   "cell_type": "code",
   "execution_count": 15,
   "id": "44d530b9",
   "metadata": {},
   "outputs": [],
   "source": [
    "test_sex = ohe_sex.transform(test_data[:,1].reshape(1,1))\n",
    "test_embarked = ohe_embarked.transform(test_data[:,-1].reshape(1,1))\n",
    "test_age = test_data[:,2].reshape(1,1)"
   ]
  },
  {
   "cell_type": "code",
   "execution_count": 19,
   "id": "d2ce1bfb",
   "metadata": {},
   "outputs": [],
   "source": [
    "test_res = test_data[:,[0,3,4,5]]"
   ]
  },
  {
   "cell_type": "code",
   "execution_count": 20,
   "id": "1fac9835",
   "metadata": {},
   "outputs": [],
   "source": [
    "# Concatinate according to Trainning dataset\n",
    "\n",
    "test_final = np.concatenate([test_res,test_age,test_embarked,test_sex], axis=1)"
   ]
  },
  {
   "cell_type": "code",
   "execution_count": 21,
   "id": "eedb322f",
   "metadata": {},
   "outputs": [
    {
     "data": {
      "text/plain": [
       "(1, 10)"
      ]
     },
     "execution_count": 21,
     "metadata": {},
     "output_type": "execute_result"
    }
   ],
   "source": [
    "test_final.shape"
   ]
  },
  {
   "cell_type": "code",
   "execution_count": 22,
   "id": "509f4f6c",
   "metadata": {},
   "outputs": [
    {
     "data": {
      "text/plain": [
       "array([1], dtype=int64)"
      ]
     },
     "execution_count": 22,
     "metadata": {},
     "output_type": "execute_result"
    }
   ],
   "source": [
    "clf.predict(test_final)"
   ]
  },
  {
   "cell_type": "markdown",
   "id": "d5d8da22",
   "metadata": {},
   "source": [
    "- Pessanger will Survived"
   ]
  },
  {
   "cell_type": "code",
   "execution_count": null,
   "id": "8802c7fd",
   "metadata": {},
   "outputs": [],
   "source": []
  }
 ],
 "metadata": {
  "kernelspec": {
   "display_name": "Python 3 (ipykernel)",
   "language": "python",
   "name": "python3"
  },
  "language_info": {
   "codemirror_mode": {
    "name": "ipython",
    "version": 3
   },
   "file_extension": ".py",
   "mimetype": "text/x-python",
   "name": "python",
   "nbconvert_exporter": "python",
   "pygments_lexer": "ipython3",
   "version": "3.9.7"
  }
 },
 "nbformat": 4,
 "nbformat_minor": 5
}
