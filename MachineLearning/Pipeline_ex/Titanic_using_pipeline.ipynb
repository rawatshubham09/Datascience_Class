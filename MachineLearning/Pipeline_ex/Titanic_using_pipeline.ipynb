{
 "cells": [
  {
   "cell_type": "code",
   "execution_count": 1,
   "id": "8818f58e",
   "metadata": {},
   "outputs": [],
   "source": [
    "import numpy as np\n",
    "import pandas as pd\n",
    "\n",
    "from sklearn.model_selection import train_test_split\n",
    "from sklearn.preprocessing import MinMaxScaler, OneHotEncoder\n",
    "from sklearn.impute import SimpleImputer\n",
    "from sklearn.compose import ColumnTransformer\n",
    "from sklearn.pipeline import Pipeline, make_pipeline\n",
    "from sklearn.feature_selection import SelectKBest,chi2\n",
    "\n",
    "from sklearn.tree import DecisionTreeClassifier"
   ]
  },
  {
   "cell_type": "code",
   "execution_count": 8,
   "id": "5b605733",
   "metadata": {
    "scrolled": true
   },
   "outputs": [
    {
     "data": {
      "text/html": [
       "<div>\n",
       "<style scoped>\n",
       "    .dataframe tbody tr th:only-of-type {\n",
       "        vertical-align: middle;\n",
       "    }\n",
       "\n",
       "    .dataframe tbody tr th {\n",
       "        vertical-align: top;\n",
       "    }\n",
       "\n",
       "    .dataframe thead th {\n",
       "        text-align: right;\n",
       "    }\n",
       "</style>\n",
       "<table border=\"1\" class=\"dataframe\">\n",
       "  <thead>\n",
       "    <tr style=\"text-align: right;\">\n",
       "      <th></th>\n",
       "      <th>Unnamed: 0</th>\n",
       "      <th>PassengerId</th>\n",
       "      <th>Survived</th>\n",
       "      <th>Pclass</th>\n",
       "      <th>Name</th>\n",
       "      <th>Sex</th>\n",
       "      <th>Age</th>\n",
       "      <th>SibSp</th>\n",
       "      <th>Parch</th>\n",
       "      <th>Ticket</th>\n",
       "      <th>Fare</th>\n",
       "      <th>Cabin</th>\n",
       "      <th>Embarked</th>\n",
       "    </tr>\n",
       "  </thead>\n",
       "  <tbody>\n",
       "    <tr>\n",
       "      <th>0</th>\n",
       "      <td>0</td>\n",
       "      <td>1</td>\n",
       "      <td>0</td>\n",
       "      <td>3</td>\n",
       "      <td>Braund, Mr. Owen Harris</td>\n",
       "      <td>male</td>\n",
       "      <td>22.0</td>\n",
       "      <td>1</td>\n",
       "      <td>0</td>\n",
       "      <td>A/5 21171</td>\n",
       "      <td>7.2500</td>\n",
       "      <td>NaN</td>\n",
       "      <td>S</td>\n",
       "    </tr>\n",
       "    <tr>\n",
       "      <th>1</th>\n",
       "      <td>1</td>\n",
       "      <td>2</td>\n",
       "      <td>1</td>\n",
       "      <td>1</td>\n",
       "      <td>Cumings, Mrs. John Bradley (Florence Briggs Th...</td>\n",
       "      <td>female</td>\n",
       "      <td>38.0</td>\n",
       "      <td>1</td>\n",
       "      <td>0</td>\n",
       "      <td>PC 17599</td>\n",
       "      <td>71.2833</td>\n",
       "      <td>C85</td>\n",
       "      <td>C</td>\n",
       "    </tr>\n",
       "    <tr>\n",
       "      <th>2</th>\n",
       "      <td>2</td>\n",
       "      <td>3</td>\n",
       "      <td>1</td>\n",
       "      <td>3</td>\n",
       "      <td>Heikkinen, Miss. Laina</td>\n",
       "      <td>female</td>\n",
       "      <td>26.0</td>\n",
       "      <td>0</td>\n",
       "      <td>0</td>\n",
       "      <td>STON/O2. 3101282</td>\n",
       "      <td>7.9250</td>\n",
       "      <td>NaN</td>\n",
       "      <td>S</td>\n",
       "    </tr>\n",
       "    <tr>\n",
       "      <th>3</th>\n",
       "      <td>3</td>\n",
       "      <td>4</td>\n",
       "      <td>1</td>\n",
       "      <td>1</td>\n",
       "      <td>Futrelle, Mrs. Jacques Heath (Lily May Peel)</td>\n",
       "      <td>female</td>\n",
       "      <td>35.0</td>\n",
       "      <td>1</td>\n",
       "      <td>0</td>\n",
       "      <td>113803</td>\n",
       "      <td>53.1000</td>\n",
       "      <td>C123</td>\n",
       "      <td>S</td>\n",
       "    </tr>\n",
       "    <tr>\n",
       "      <th>4</th>\n",
       "      <td>4</td>\n",
       "      <td>5</td>\n",
       "      <td>0</td>\n",
       "      <td>3</td>\n",
       "      <td>Allen, Mr. William Henry</td>\n",
       "      <td>male</td>\n",
       "      <td>35.0</td>\n",
       "      <td>0</td>\n",
       "      <td>0</td>\n",
       "      <td>373450</td>\n",
       "      <td>8.0500</td>\n",
       "      <td>NaN</td>\n",
       "      <td>S</td>\n",
       "    </tr>\n",
       "  </tbody>\n",
       "</table>\n",
       "</div>"
      ],
      "text/plain": [
       "   Unnamed: 0  PassengerId  Survived  Pclass  \\\n",
       "0           0            1         0       3   \n",
       "1           1            2         1       1   \n",
       "2           2            3         1       3   \n",
       "3           3            4         1       1   \n",
       "4           4            5         0       3   \n",
       "\n",
       "                                                Name     Sex   Age  SibSp  \\\n",
       "0                            Braund, Mr. Owen Harris    male  22.0      1   \n",
       "1  Cumings, Mrs. John Bradley (Florence Briggs Th...  female  38.0      1   \n",
       "2                             Heikkinen, Miss. Laina  female  26.0      0   \n",
       "3       Futrelle, Mrs. Jacques Heath (Lily May Peel)  female  35.0      1   \n",
       "4                           Allen, Mr. William Henry    male  35.0      0   \n",
       "\n",
       "   Parch            Ticket     Fare Cabin Embarked  \n",
       "0      0         A/5 21171   7.2500   NaN        S  \n",
       "1      0          PC 17599  71.2833   C85        C  \n",
       "2      0  STON/O2. 3101282   7.9250   NaN        S  \n",
       "3      0            113803  53.1000  C123        S  \n",
       "4      0            373450   8.0500   NaN        S  "
      ]
     },
     "execution_count": 8,
     "metadata": {},
     "output_type": "execute_result"
    }
   ],
   "source": [
    "df = pd.read_csv(\"titanic.csv\")\n",
    "df.head()"
   ]
  },
  {
   "cell_type": "code",
   "execution_count": 9,
   "id": "b358432e",
   "metadata": {},
   "outputs": [
    {
     "data": {
      "text/plain": [
       "Index(['Unnamed: 0', 'PassengerId', 'Survived', 'Pclass', 'Name', 'Sex', 'Age',\n",
       "       'SibSp', 'Parch', 'Ticket', 'Fare', 'Cabin', 'Embarked'],\n",
       "      dtype='object')"
      ]
     },
     "execution_count": 9,
     "metadata": {},
     "output_type": "execute_result"
    }
   ],
   "source": [
    "df.columns"
   ]
  },
  {
   "cell_type": "code",
   "execution_count": 11,
   "id": "492bb627",
   "metadata": {},
   "outputs": [],
   "source": [
    "df.drop([\"PassengerId\",\"Name\",\"Ticket\",\"Cabin\"],axis=1, inplace=True)"
   ]
  },
  {
   "cell_type": "code",
   "execution_count": 12,
   "id": "9ce683e0",
   "metadata": {
    "scrolled": false
   },
   "outputs": [
    {
     "data": {
      "text/html": [
       "<div>\n",
       "<style scoped>\n",
       "    .dataframe tbody tr th:only-of-type {\n",
       "        vertical-align: middle;\n",
       "    }\n",
       "\n",
       "    .dataframe tbody tr th {\n",
       "        vertical-align: top;\n",
       "    }\n",
       "\n",
       "    .dataframe thead th {\n",
       "        text-align: right;\n",
       "    }\n",
       "</style>\n",
       "<table border=\"1\" class=\"dataframe\">\n",
       "  <thead>\n",
       "    <tr style=\"text-align: right;\">\n",
       "      <th></th>\n",
       "      <th>Unnamed: 0</th>\n",
       "      <th>Survived</th>\n",
       "      <th>Pclass</th>\n",
       "      <th>Sex</th>\n",
       "      <th>Age</th>\n",
       "      <th>SibSp</th>\n",
       "      <th>Parch</th>\n",
       "      <th>Fare</th>\n",
       "      <th>Embarked</th>\n",
       "    </tr>\n",
       "  </thead>\n",
       "  <tbody>\n",
       "    <tr>\n",
       "      <th>0</th>\n",
       "      <td>0</td>\n",
       "      <td>0</td>\n",
       "      <td>3</td>\n",
       "      <td>male</td>\n",
       "      <td>22.0</td>\n",
       "      <td>1</td>\n",
       "      <td>0</td>\n",
       "      <td>7.2500</td>\n",
       "      <td>S</td>\n",
       "    </tr>\n",
       "    <tr>\n",
       "      <th>1</th>\n",
       "      <td>1</td>\n",
       "      <td>1</td>\n",
       "      <td>1</td>\n",
       "      <td>female</td>\n",
       "      <td>38.0</td>\n",
       "      <td>1</td>\n",
       "      <td>0</td>\n",
       "      <td>71.2833</td>\n",
       "      <td>C</td>\n",
       "    </tr>\n",
       "  </tbody>\n",
       "</table>\n",
       "</div>"
      ],
      "text/plain": [
       "   Unnamed: 0  Survived  Pclass     Sex   Age  SibSp  Parch     Fare Embarked\n",
       "0           0         0       3    male  22.0      1      0   7.2500        S\n",
       "1           1         1       1  female  38.0      1      0  71.2833        C"
      ]
     },
     "execution_count": 12,
     "metadata": {},
     "output_type": "execute_result"
    }
   ],
   "source": [
    "df.head(2)"
   ]
  },
  {
   "cell_type": "code",
   "execution_count": 91,
   "id": "311e674c",
   "metadata": {},
   "outputs": [],
   "source": [
    "X = df.iloc[:,2:]\n",
    "y = df.Survived"
   ]
  },
  {
   "cell_type": "code",
   "execution_count": 19,
   "id": "a5431659",
   "metadata": {},
   "outputs": [],
   "source": [
    "#Train Test Split\n",
    "X_train,X_test,y_train,y_test = train_test_split(df.iloc[:,2:],df.Survived,test_size=0.2,random_state=42)"
   ]
  },
  {
   "cell_type": "code",
   "execution_count": 111,
   "id": "8e3ae662",
   "metadata": {
    "scrolled": true
   },
   "outputs": [
    {
     "data": {
      "text/html": [
       "<div>\n",
       "<style scoped>\n",
       "    .dataframe tbody tr th:only-of-type {\n",
       "        vertical-align: middle;\n",
       "    }\n",
       "\n",
       "    .dataframe tbody tr th {\n",
       "        vertical-align: top;\n",
       "    }\n",
       "\n",
       "    .dataframe thead th {\n",
       "        text-align: right;\n",
       "    }\n",
       "</style>\n",
       "<table border=\"1\" class=\"dataframe\">\n",
       "  <thead>\n",
       "    <tr style=\"text-align: right;\">\n",
       "      <th></th>\n",
       "      <th>Pclass</th>\n",
       "      <th>Sex</th>\n",
       "      <th>Age</th>\n",
       "      <th>SibSp</th>\n",
       "      <th>Parch</th>\n",
       "      <th>Fare</th>\n",
       "      <th>Embarked</th>\n",
       "    </tr>\n",
       "  </thead>\n",
       "  <tbody>\n",
       "    <tr>\n",
       "      <th>709</th>\n",
       "      <td>3</td>\n",
       "      <td>male</td>\n",
       "      <td>NaN</td>\n",
       "      <td>1</td>\n",
       "      <td>1</td>\n",
       "      <td>15.2458</td>\n",
       "      <td>C</td>\n",
       "    </tr>\n",
       "    <tr>\n",
       "      <th>439</th>\n",
       "      <td>2</td>\n",
       "      <td>male</td>\n",
       "      <td>31.0</td>\n",
       "      <td>0</td>\n",
       "      <td>0</td>\n",
       "      <td>10.5000</td>\n",
       "      <td>S</td>\n",
       "    </tr>\n",
       "    <tr>\n",
       "      <th>840</th>\n",
       "      <td>3</td>\n",
       "      <td>male</td>\n",
       "      <td>20.0</td>\n",
       "      <td>0</td>\n",
       "      <td>0</td>\n",
       "      <td>7.9250</td>\n",
       "      <td>S</td>\n",
       "    </tr>\n",
       "    <tr>\n",
       "      <th>720</th>\n",
       "      <td>2</td>\n",
       "      <td>female</td>\n",
       "      <td>6.0</td>\n",
       "      <td>0</td>\n",
       "      <td>1</td>\n",
       "      <td>33.0000</td>\n",
       "      <td>S</td>\n",
       "    </tr>\n",
       "    <tr>\n",
       "      <th>39</th>\n",
       "      <td>3</td>\n",
       "      <td>female</td>\n",
       "      <td>14.0</td>\n",
       "      <td>1</td>\n",
       "      <td>0</td>\n",
       "      <td>11.2417</td>\n",
       "      <td>C</td>\n",
       "    </tr>\n",
       "  </tbody>\n",
       "</table>\n",
       "</div>"
      ],
      "text/plain": [
       "     Pclass     Sex   Age  SibSp  Parch     Fare Embarked\n",
       "709       3    male   NaN      1      1  15.2458        C\n",
       "439       2    male  31.0      0      0  10.5000        S\n",
       "840       3    male  20.0      0      0   7.9250        S\n",
       "720       2  female   6.0      0      1  33.0000        S\n",
       "39        3  female  14.0      1      0  11.2417        C"
      ]
     },
     "execution_count": 111,
     "metadata": {},
     "output_type": "execute_result"
    }
   ],
   "source": [
    "X_test.head(5)"
   ]
  },
  {
   "cell_type": "code",
   "execution_count": 112,
   "id": "d457b9f4",
   "metadata": {},
   "outputs": [
    {
     "data": {
      "text/plain": [
       "709    1\n",
       "439    0\n",
       "840    0\n",
       "720    1\n",
       "39     1\n",
       "Name: Survived, dtype: int64"
      ]
     },
     "execution_count": 112,
     "metadata": {},
     "output_type": "execute_result"
    }
   ],
   "source": [
    "y_test.head(5)"
   ]
  },
  {
   "cell_type": "markdown",
   "id": "b2355e7c",
   "metadata": {},
   "source": [
    "## Creating Pipeline"
   ]
  },
  {
   "cell_type": "code",
   "execution_count": 73,
   "id": "bfa565b5",
   "metadata": {},
   "outputs": [],
   "source": [
    "# 1. Handling Missing Value Using Simple Imputer\n",
    "trf1 = ColumnTransformer([\n",
    "    (\"si_age\",SimpleImputer(),[2]),\n",
    "    (\"si_Embark\",SimpleImputer(strategy=\"most_frequent\"),[6])\n",
    "],remainder=\"passthrough\")"
   ]
  },
  {
   "cell_type": "code",
   "execution_count": 74,
   "id": "3fb30237",
   "metadata": {},
   "outputs": [],
   "source": [
    "#2.Appling OneHotEncoder to Categorical Data\n",
    "trf2 = ColumnTransformer([(\"ohe_emb\",OneHotEncoder(handle_unknown='ignore',sparse=False),[1]),\n",
    "                          (\"ohe_sex\",OneHotEncoder(handle_unknown='ignore',sparse=False),[3])], remainder=\"passthrough\")"
   ]
  },
  {
   "cell_type": "code",
   "execution_count": 75,
   "id": "8bd5861d",
   "metadata": {},
   "outputs": [],
   "source": [
    "trf3 = ColumnTransformer([(\"min_max\",MinMaxScaler(),slice(10))], remainder=\"passthrough\")"
   ]
  },
  {
   "cell_type": "code",
   "execution_count": 76,
   "id": "4a93d5ae",
   "metadata": {},
   "outputs": [],
   "source": [
    "trf4 = SelectKBest(score_func=chi2, k=8)"
   ]
  },
  {
   "cell_type": "code",
   "execution_count": 77,
   "id": "7dd2f2b8",
   "metadata": {},
   "outputs": [],
   "source": [
    "trf5 = DecisionTreeClassifier()"
   ]
  },
  {
   "cell_type": "markdown",
   "id": "6a78cb2b",
   "metadata": {},
   "source": [
    "## Importing Pipeline"
   ]
  },
  {
   "cell_type": "code",
   "execution_count": 78,
   "id": "e1c73a28",
   "metadata": {},
   "outputs": [],
   "source": [
    "pipe = Pipeline([\n",
    "    (\"trf1\",trf1),\n",
    "    (\"trf2\",trf2),\n",
    "    (\"trf3\",trf3),\n",
    "    (\"trf4\",trf4),\n",
    "    (\"trf5\",trf5)\n",
    "])"
   ]
  },
  {
   "cell_type": "markdown",
   "id": "5e03118d",
   "metadata": {},
   "source": [
    "-  Make Pipeline and Pipeline work on same bases.\n",
    "- Pipeline has some advance feature for display then Make_Pipeline"
   ]
  },
  {
   "cell_type": "code",
   "execution_count": 81,
   "id": "fafc1a4b",
   "metadata": {},
   "outputs": [],
   "source": [
    "from sklearn import set_config\n",
    "set_config(display='diagram')"
   ]
  },
  {
   "cell_type": "code",
   "execution_count": 82,
   "id": "e45a058d",
   "metadata": {},
   "outputs": [
    {
     "data": {
      "text/html": [
       "<style>#sk-ec23da83-6168-4e06-9914-73562dd31736 {color: black;background-color: white;}#sk-ec23da83-6168-4e06-9914-73562dd31736 pre{padding: 0;}#sk-ec23da83-6168-4e06-9914-73562dd31736 div.sk-toggleable {background-color: white;}#sk-ec23da83-6168-4e06-9914-73562dd31736 label.sk-toggleable__label {cursor: pointer;display: block;width: 100%;margin-bottom: 0;padding: 0.2em 0.3em;box-sizing: border-box;text-align: center;}#sk-ec23da83-6168-4e06-9914-73562dd31736 div.sk-toggleable__content {max-height: 0;max-width: 0;overflow: hidden;text-align: left;background-color: #f0f8ff;}#sk-ec23da83-6168-4e06-9914-73562dd31736 div.sk-toggleable__content pre {margin: 0.2em;color: black;border-radius: 0.25em;background-color: #f0f8ff;}#sk-ec23da83-6168-4e06-9914-73562dd31736 input.sk-toggleable__control:checked~div.sk-toggleable__content {max-height: 200px;max-width: 100%;overflow: auto;}#sk-ec23da83-6168-4e06-9914-73562dd31736 div.sk-estimator input.sk-toggleable__control:checked~label.sk-toggleable__label {background-color: #d4ebff;}#sk-ec23da83-6168-4e06-9914-73562dd31736 div.sk-label input.sk-toggleable__control:checked~label.sk-toggleable__label {background-color: #d4ebff;}#sk-ec23da83-6168-4e06-9914-73562dd31736 input.sk-hidden--visually {border: 0;clip: rect(1px 1px 1px 1px);clip: rect(1px, 1px, 1px, 1px);height: 1px;margin: -1px;overflow: hidden;padding: 0;position: absolute;width: 1px;}#sk-ec23da83-6168-4e06-9914-73562dd31736 div.sk-estimator {font-family: monospace;background-color: #f0f8ff;margin: 0.25em 0.25em;border: 1px dotted black;border-radius: 0.25em;box-sizing: border-box;}#sk-ec23da83-6168-4e06-9914-73562dd31736 div.sk-estimator:hover {background-color: #d4ebff;}#sk-ec23da83-6168-4e06-9914-73562dd31736 div.sk-parallel-item::after {content: \"\";width: 100%;border-bottom: 1px solid gray;flex-grow: 1;}#sk-ec23da83-6168-4e06-9914-73562dd31736 div.sk-label:hover label.sk-toggleable__label {background-color: #d4ebff;}#sk-ec23da83-6168-4e06-9914-73562dd31736 div.sk-serial::before {content: \"\";position: absolute;border-left: 1px solid gray;box-sizing: border-box;top: 2em;bottom: 0;left: 50%;}#sk-ec23da83-6168-4e06-9914-73562dd31736 div.sk-serial {display: flex;flex-direction: column;align-items: center;background-color: white;}#sk-ec23da83-6168-4e06-9914-73562dd31736 div.sk-item {z-index: 1;}#sk-ec23da83-6168-4e06-9914-73562dd31736 div.sk-parallel {display: flex;align-items: stretch;justify-content: center;background-color: white;}#sk-ec23da83-6168-4e06-9914-73562dd31736 div.sk-parallel-item {display: flex;flex-direction: column;position: relative;background-color: white;}#sk-ec23da83-6168-4e06-9914-73562dd31736 div.sk-parallel-item:first-child::after {align-self: flex-end;width: 50%;}#sk-ec23da83-6168-4e06-9914-73562dd31736 div.sk-parallel-item:last-child::after {align-self: flex-start;width: 50%;}#sk-ec23da83-6168-4e06-9914-73562dd31736 div.sk-parallel-item:only-child::after {width: 0;}#sk-ec23da83-6168-4e06-9914-73562dd31736 div.sk-dashed-wrapped {border: 1px dashed gray;margin: 0.2em;box-sizing: border-box;padding-bottom: 0.1em;background-color: white;position: relative;}#sk-ec23da83-6168-4e06-9914-73562dd31736 div.sk-label label {font-family: monospace;font-weight: bold;background-color: white;display: inline-block;line-height: 1.2em;}#sk-ec23da83-6168-4e06-9914-73562dd31736 div.sk-label-container {position: relative;z-index: 2;text-align: center;}#sk-ec23da83-6168-4e06-9914-73562dd31736 div.sk-container {display: inline-block;position: relative;}</style><div id=\"sk-ec23da83-6168-4e06-9914-73562dd31736\" class\"sk-top-container\"><div class=\"sk-container\"><div class=\"sk-item sk-dashed-wrapped\"><div class=\"sk-label-container\"><div class=\"sk-label sk-toggleable\"><input class=\"sk-toggleable__control sk-hidden--visually\" id=\"f4b2c682-3884-419b-b5cf-bbe25df90312\" type=\"checkbox\" ><label class=\"sk-toggleable__label\" for=\"f4b2c682-3884-419b-b5cf-bbe25df90312\">Pipeline</label><div class=\"sk-toggleable__content\"><pre>Pipeline(steps=[('trf1',\n",
       "                 ColumnTransformer(remainder='passthrough',\n",
       "                                   transformers=[('si_age', SimpleImputer(),\n",
       "                                                  [2]),\n",
       "                                                 ('si_Embark',\n",
       "                                                  SimpleImputer(strategy='most_frequent'),\n",
       "                                                  [6])])),\n",
       "                ('trf2',\n",
       "                 ColumnTransformer(remainder='passthrough',\n",
       "                                   transformers=[('ohe_emb',\n",
       "                                                  OneHotEncoder(handle_unknown='ignore',\n",
       "                                                                sparse=False),\n",
       "                                                  [1]),\n",
       "                                                 ('ohe_sex',\n",
       "                                                  OneHotEncoder(handle_unknown='ignore',\n",
       "                                                                sparse=False),\n",
       "                                                  [3])])),\n",
       "                ('trf3',\n",
       "                 ColumnTransformer(remainder='passthrough',\n",
       "                                   transformers=[('min_max', MinMaxScaler(),\n",
       "                                                  slice(None, 10, None))])),\n",
       "                ('trf4',\n",
       "                 SelectKBest(k=8,\n",
       "                             score_func=<function chi2 at 0x0000018F48A35B80>)),\n",
       "                ('trf5', DecisionTreeClassifier())])</pre></div></div></div><div class=\"sk-serial\"><div class=\"sk-item sk-dashed-wrapped\"><div class=\"sk-label-container\"><div class=\"sk-label sk-toggleable\"><input class=\"sk-toggleable__control sk-hidden--visually\" id=\"67dc9ab3-b45c-4d31-ae60-bfec0262b99f\" type=\"checkbox\" ><label class=\"sk-toggleable__label\" for=\"67dc9ab3-b45c-4d31-ae60-bfec0262b99f\">trf1: ColumnTransformer</label><div class=\"sk-toggleable__content\"><pre>ColumnTransformer(remainder='passthrough',\n",
       "                  transformers=[('si_age', SimpleImputer(), [2]),\n",
       "                                ('si_Embark',\n",
       "                                 SimpleImputer(strategy='most_frequent'),\n",
       "                                 [6])])</pre></div></div></div><div class=\"sk-parallel\"><div class=\"sk-parallel-item\"><div class=\"sk-item\"><div class=\"sk-label-container\"><div class=\"sk-label sk-toggleable\"><input class=\"sk-toggleable__control sk-hidden--visually\" id=\"ec5ac543-3aec-43f4-bde2-8440e84d458f\" type=\"checkbox\" ><label class=\"sk-toggleable__label\" for=\"ec5ac543-3aec-43f4-bde2-8440e84d458f\">si_age</label><div class=\"sk-toggleable__content\"><pre>[2]</pre></div></div></div><div class=\"sk-serial\"><div class=\"sk-item\"><div class=\"sk-estimator sk-toggleable\"><input class=\"sk-toggleable__control sk-hidden--visually\" id=\"ef4546fd-ac88-4b75-8fb6-64b4b482e180\" type=\"checkbox\" ><label class=\"sk-toggleable__label\" for=\"ef4546fd-ac88-4b75-8fb6-64b4b482e180\">SimpleImputer</label><div class=\"sk-toggleable__content\"><pre>SimpleImputer()</pre></div></div></div></div></div></div><div class=\"sk-parallel-item\"><div class=\"sk-item\"><div class=\"sk-label-container\"><div class=\"sk-label sk-toggleable\"><input class=\"sk-toggleable__control sk-hidden--visually\" id=\"012557e4-b286-4773-8698-7f78f477e4b7\" type=\"checkbox\" ><label class=\"sk-toggleable__label\" for=\"012557e4-b286-4773-8698-7f78f477e4b7\">si_Embark</label><div class=\"sk-toggleable__content\"><pre>[6]</pre></div></div></div><div class=\"sk-serial\"><div class=\"sk-item\"><div class=\"sk-estimator sk-toggleable\"><input class=\"sk-toggleable__control sk-hidden--visually\" id=\"f201f3c8-9bba-422a-bb43-6cccacbae7ad\" type=\"checkbox\" ><label class=\"sk-toggleable__label\" for=\"f201f3c8-9bba-422a-bb43-6cccacbae7ad\">SimpleImputer</label><div class=\"sk-toggleable__content\"><pre>SimpleImputer(strategy='most_frequent')</pre></div></div></div></div></div></div><div class=\"sk-parallel-item\"><div class=\"sk-item\"><div class=\"sk-label-container\"><div class=\"sk-label sk-toggleable\"><input class=\"sk-toggleable__control sk-hidden--visually\" id=\"bc63f385-de20-46f6-b089-0efd441dcdd8\" type=\"checkbox\" ><label class=\"sk-toggleable__label\" for=\"bc63f385-de20-46f6-b089-0efd441dcdd8\">remainder</label><div class=\"sk-toggleable__content\"><pre>['Pclass', 'Sex', 'SibSp', 'Parch', 'Fare']</pre></div></div></div><div class=\"sk-serial\"><div class=\"sk-item\"><div class=\"sk-estimator sk-toggleable\"><input class=\"sk-toggleable__control sk-hidden--visually\" id=\"c3a7b13c-ca7a-4f58-bfd3-bf7d8c3e0cd4\" type=\"checkbox\" ><label class=\"sk-toggleable__label\" for=\"c3a7b13c-ca7a-4f58-bfd3-bf7d8c3e0cd4\">passthrough</label><div class=\"sk-toggleable__content\"><pre>passthrough</pre></div></div></div></div></div></div></div></div><div class=\"sk-item sk-dashed-wrapped\"><div class=\"sk-label-container\"><div class=\"sk-label sk-toggleable\"><input class=\"sk-toggleable__control sk-hidden--visually\" id=\"277cd6c1-d80e-46e3-b783-388e3a47b5a2\" type=\"checkbox\" ><label class=\"sk-toggleable__label\" for=\"277cd6c1-d80e-46e3-b783-388e3a47b5a2\">trf2: ColumnTransformer</label><div class=\"sk-toggleable__content\"><pre>ColumnTransformer(remainder='passthrough',\n",
       "                  transformers=[('ohe_emb',\n",
       "                                 OneHotEncoder(handle_unknown='ignore',\n",
       "                                               sparse=False),\n",
       "                                 [1]),\n",
       "                                ('ohe_sex',\n",
       "                                 OneHotEncoder(handle_unknown='ignore',\n",
       "                                               sparse=False),\n",
       "                                 [3])])</pre></div></div></div><div class=\"sk-parallel\"><div class=\"sk-parallel-item\"><div class=\"sk-item\"><div class=\"sk-label-container\"><div class=\"sk-label sk-toggleable\"><input class=\"sk-toggleable__control sk-hidden--visually\" id=\"15d6a91a-c79d-4b4c-b4fb-eb251c70e835\" type=\"checkbox\" ><label class=\"sk-toggleable__label\" for=\"15d6a91a-c79d-4b4c-b4fb-eb251c70e835\">ohe_emb</label><div class=\"sk-toggleable__content\"><pre>[1]</pre></div></div></div><div class=\"sk-serial\"><div class=\"sk-item\"><div class=\"sk-estimator sk-toggleable\"><input class=\"sk-toggleable__control sk-hidden--visually\" id=\"e5948d7b-6258-4a8d-bd4f-99949ad8c9e8\" type=\"checkbox\" ><label class=\"sk-toggleable__label\" for=\"e5948d7b-6258-4a8d-bd4f-99949ad8c9e8\">OneHotEncoder</label><div class=\"sk-toggleable__content\"><pre>OneHotEncoder(handle_unknown='ignore', sparse=False)</pre></div></div></div></div></div></div><div class=\"sk-parallel-item\"><div class=\"sk-item\"><div class=\"sk-label-container\"><div class=\"sk-label sk-toggleable\"><input class=\"sk-toggleable__control sk-hidden--visually\" id=\"0b2b839a-0c9a-4143-a53f-104b33dc9fc7\" type=\"checkbox\" ><label class=\"sk-toggleable__label\" for=\"0b2b839a-0c9a-4143-a53f-104b33dc9fc7\">ohe_sex</label><div class=\"sk-toggleable__content\"><pre>[3]</pre></div></div></div><div class=\"sk-serial\"><div class=\"sk-item\"><div class=\"sk-estimator sk-toggleable\"><input class=\"sk-toggleable__control sk-hidden--visually\" id=\"fc566f05-e0e3-4b4d-875b-183cf7abcba2\" type=\"checkbox\" ><label class=\"sk-toggleable__label\" for=\"fc566f05-e0e3-4b4d-875b-183cf7abcba2\">OneHotEncoder</label><div class=\"sk-toggleable__content\"><pre>OneHotEncoder(handle_unknown='ignore', sparse=False)</pre></div></div></div></div></div></div><div class=\"sk-parallel-item\"><div class=\"sk-item\"><div class=\"sk-label-container\"><div class=\"sk-label sk-toggleable\"><input class=\"sk-toggleable__control sk-hidden--visually\" id=\"9d5c48eb-ab05-4481-a7cf-bf8e8058e5cc\" type=\"checkbox\" ><label class=\"sk-toggleable__label\" for=\"9d5c48eb-ab05-4481-a7cf-bf8e8058e5cc\">remainder</label><div class=\"sk-toggleable__content\"><pre>[0, 2, 4, 5, 6]</pre></div></div></div><div class=\"sk-serial\"><div class=\"sk-item\"><div class=\"sk-estimator sk-toggleable\"><input class=\"sk-toggleable__control sk-hidden--visually\" id=\"e0de29a8-ec29-46d2-9ec3-6dd77db7e41c\" type=\"checkbox\" ><label class=\"sk-toggleable__label\" for=\"e0de29a8-ec29-46d2-9ec3-6dd77db7e41c\">passthrough</label><div class=\"sk-toggleable__content\"><pre>passthrough</pre></div></div></div></div></div></div></div></div><div class=\"sk-item sk-dashed-wrapped\"><div class=\"sk-label-container\"><div class=\"sk-label sk-toggleable\"><input class=\"sk-toggleable__control sk-hidden--visually\" id=\"8d1a782e-8627-450e-9b96-f81c36eb9ec8\" type=\"checkbox\" ><label class=\"sk-toggleable__label\" for=\"8d1a782e-8627-450e-9b96-f81c36eb9ec8\">trf3: ColumnTransformer</label><div class=\"sk-toggleable__content\"><pre>ColumnTransformer(remainder='passthrough',\n",
       "                  transformers=[('min_max', MinMaxScaler(),\n",
       "                                 slice(None, 10, None))])</pre></div></div></div><div class=\"sk-parallel\"><div class=\"sk-parallel-item\"><div class=\"sk-item\"><div class=\"sk-label-container\"><div class=\"sk-label sk-toggleable\"><input class=\"sk-toggleable__control sk-hidden--visually\" id=\"759d5ddd-3159-4e04-9664-7da368a8e4cd\" type=\"checkbox\" ><label class=\"sk-toggleable__label\" for=\"759d5ddd-3159-4e04-9664-7da368a8e4cd\">min_max</label><div class=\"sk-toggleable__content\"><pre>slice(None, 10, None)</pre></div></div></div><div class=\"sk-serial\"><div class=\"sk-item\"><div class=\"sk-estimator sk-toggleable\"><input class=\"sk-toggleable__control sk-hidden--visually\" id=\"33667435-8c93-4d95-aadc-ee553911a3ab\" type=\"checkbox\" ><label class=\"sk-toggleable__label\" for=\"33667435-8c93-4d95-aadc-ee553911a3ab\">MinMaxScaler</label><div class=\"sk-toggleable__content\"><pre>MinMaxScaler()</pre></div></div></div></div></div></div><div class=\"sk-parallel-item\"><div class=\"sk-item\"><div class=\"sk-label-container\"><div class=\"sk-label sk-toggleable\"><label>remainder</label></div></div><div class=\"sk-serial\"><div class=\"sk-item\"><div class=\"sk-estimator sk-toggleable\"><input class=\"sk-toggleable__control sk-hidden--visually\" id=\"4b6f5019-71ec-4ded-8d87-1e89439b56e7\" type=\"checkbox\" ><label class=\"sk-toggleable__label\" for=\"4b6f5019-71ec-4ded-8d87-1e89439b56e7\">passthrough</label><div class=\"sk-toggleable__content\"><pre>passthrough</pre></div></div></div></div></div></div></div></div><div class=\"sk-item\"><div class=\"sk-estimator sk-toggleable\"><input class=\"sk-toggleable__control sk-hidden--visually\" id=\"6c595b42-e7dd-4a18-bf84-c424fbeb99f3\" type=\"checkbox\" ><label class=\"sk-toggleable__label\" for=\"6c595b42-e7dd-4a18-bf84-c424fbeb99f3\">SelectKBest</label><div class=\"sk-toggleable__content\"><pre>SelectKBest(k=8, score_func=<function chi2 at 0x0000018F48A35B80>)</pre></div></div></div><div class=\"sk-item\"><div class=\"sk-estimator sk-toggleable\"><input class=\"sk-toggleable__control sk-hidden--visually\" id=\"da9f564f-db20-4b64-864b-a3116734045c\" type=\"checkbox\" ><label class=\"sk-toggleable__label\" for=\"da9f564f-db20-4b64-864b-a3116734045c\">DecisionTreeClassifier</label><div class=\"sk-toggleable__content\"><pre>DecisionTreeClassifier()</pre></div></div></div></div></div></div></div>"
      ],
      "text/plain": [
       "Pipeline(steps=[('trf1',\n",
       "                 ColumnTransformer(remainder='passthrough',\n",
       "                                   transformers=[('si_age', SimpleImputer(),\n",
       "                                                  [2]),\n",
       "                                                 ('si_Embark',\n",
       "                                                  SimpleImputer(strategy='most_frequent'),\n",
       "                                                  [6])])),\n",
       "                ('trf2',\n",
       "                 ColumnTransformer(remainder='passthrough',\n",
       "                                   transformers=[('ohe_emb',\n",
       "                                                  OneHotEncoder(handle_unknown='ignore',\n",
       "                                                                sparse=False),\n",
       "                                                  [1]),\n",
       "                                                 ('ohe_sex',\n",
       "                                                  OneHotEncoder(handle_unknown='ignore',\n",
       "                                                                sparse=False),\n",
       "                                                  [3])])),\n",
       "                ('trf3',\n",
       "                 ColumnTransformer(remainder='passthrough',\n",
       "                                   transformers=[('min_max', MinMaxScaler(),\n",
       "                                                  slice(None, 10, None))])),\n",
       "                ('trf4',\n",
       "                 SelectKBest(k=8,\n",
       "                             score_func=<function chi2 at 0x0000018F48A35B80>)),\n",
       "                ('trf5', DecisionTreeClassifier())])"
      ]
     },
     "execution_count": 82,
     "metadata": {},
     "output_type": "execute_result"
    }
   ],
   "source": [
    "# Trainning data\n",
    "\n",
    "pipe.fit(X_train,y_train)"
   ]
  },
  {
   "cell_type": "code",
   "execution_count": 80,
   "id": "535d870f",
   "metadata": {},
   "outputs": [
    {
     "data": {
      "text/plain": [
       "array([[89, 21],\n",
       "       [16, 53]], dtype=int64)"
      ]
     },
     "execution_count": 80,
     "metadata": {},
     "output_type": "execute_result"
    }
   ],
   "source": [
    "y_pred = pipe.predict(X_test)\n",
    "\n",
    "from sklearn.metrics import confusion_matrix\n",
    "confusion_matrix(y_pred,y_test)"
   ]
  },
  {
   "cell_type": "code",
   "execution_count": 90,
   "id": "c1092129",
   "metadata": {},
   "outputs": [
    {
     "data": {
      "text/plain": [
       "0.7932960893854749"
      ]
     },
     "execution_count": 90,
     "metadata": {},
     "output_type": "execute_result"
    }
   ],
   "source": [
    "from sklearn.metrics import accuracy_score\n",
    "accuracy_score(y_pred,y_test)"
   ]
  },
  {
   "cell_type": "markdown",
   "id": "fb672f5b",
   "metadata": {},
   "source": [
    "## Explore Pipeline"
   ]
  },
  {
   "cell_type": "code",
   "execution_count": 83,
   "id": "468c68c8",
   "metadata": {},
   "outputs": [
    {
     "data": {
      "text/plain": [
       "{'trf1': ColumnTransformer(remainder='passthrough',\n",
       "                   transformers=[('si_age', SimpleImputer(), [2]),\n",
       "                                 ('si_Embark',\n",
       "                                  SimpleImputer(strategy='most_frequent'),\n",
       "                                  [6])]),\n",
       " 'trf2': ColumnTransformer(remainder='passthrough',\n",
       "                   transformers=[('ohe_emb',\n",
       "                                  OneHotEncoder(handle_unknown='ignore',\n",
       "                                                sparse=False),\n",
       "                                  [1]),\n",
       "                                 ('ohe_sex',\n",
       "                                  OneHotEncoder(handle_unknown='ignore',\n",
       "                                                sparse=False),\n",
       "                                  [3])]),\n",
       " 'trf3': ColumnTransformer(remainder='passthrough',\n",
       "                   transformers=[('min_max', MinMaxScaler(),\n",
       "                                  slice(None, 10, None))]),\n",
       " 'trf4': SelectKBest(k=8, score_func=<function chi2 at 0x0000018F48A35B80>),\n",
       " 'trf5': DecisionTreeClassifier()}"
      ]
     },
     "execution_count": 83,
     "metadata": {},
     "output_type": "execute_result"
    }
   ],
   "source": [
    "pipe.named_steps"
   ]
  },
  {
   "cell_type": "code",
   "execution_count": 85,
   "id": "de70b881",
   "metadata": {},
   "outputs": [
    {
     "data": {
      "text/plain": [
       "[('si_age', SimpleImputer(), [2]),\n",
       " ('si_Embark', SimpleImputer(strategy='most_frequent'), [6]),\n",
       " ('remainder', 'passthrough', [0, 1, 3, 4, 5])]"
      ]
     },
     "execution_count": 85,
     "metadata": {},
     "output_type": "execute_result"
    }
   ],
   "source": [
    "pipe.named_steps[\"trf1\"].transformers_"
   ]
  },
  {
   "cell_type": "code",
   "execution_count": 89,
   "id": "b560c332",
   "metadata": {},
   "outputs": [
    {
     "data": {
      "text/plain": [
       "array([29.49884615])"
      ]
     },
     "execution_count": 89,
     "metadata": {},
     "output_type": "execute_result"
    }
   ],
   "source": [
    "pipe.named_steps[\"trf1\"].transformers_[0][1].statistics_  # give mean of data"
   ]
  },
  {
   "cell_type": "markdown",
   "id": "4f17efd1",
   "metadata": {},
   "source": [
    "### Using CrossVal Score for Better accuracy"
   ]
  },
  {
   "cell_type": "code",
   "execution_count": 93,
   "id": "72c2de6e",
   "metadata": {},
   "outputs": [
    {
     "data": {
      "text/plain": [
       "0.800287141073658"
      ]
     },
     "execution_count": 93,
     "metadata": {},
     "output_type": "execute_result"
    }
   ],
   "source": [
    "from sklearn.model_selection import cross_val_score\n",
    "\n",
    "np.mean(cross_val_score(pipe,X,y,cv=10,scoring='accuracy'))"
   ]
  },
  {
   "cell_type": "markdown",
   "id": "cc560d1a",
   "metadata": {},
   "source": [
    "### GridSearchCV using Pipeline"
   ]
  },
  {
   "cell_type": "code",
   "execution_count": null,
   "id": "8164d248",
   "metadata": {},
   "outputs": [],
   "source": [
    "DecisionTreeClassifier()"
   ]
  },
  {
   "cell_type": "code",
   "execution_count": 96,
   "id": "8888eafd",
   "metadata": {},
   "outputs": [
    {
     "data": {
      "text/html": [
       "<style>#sk-0d319d20-3c94-47c4-88f8-1f7f48581674 {color: black;background-color: white;}#sk-0d319d20-3c94-47c4-88f8-1f7f48581674 pre{padding: 0;}#sk-0d319d20-3c94-47c4-88f8-1f7f48581674 div.sk-toggleable {background-color: white;}#sk-0d319d20-3c94-47c4-88f8-1f7f48581674 label.sk-toggleable__label {cursor: pointer;display: block;width: 100%;margin-bottom: 0;padding: 0.2em 0.3em;box-sizing: border-box;text-align: center;}#sk-0d319d20-3c94-47c4-88f8-1f7f48581674 div.sk-toggleable__content {max-height: 0;max-width: 0;overflow: hidden;text-align: left;background-color: #f0f8ff;}#sk-0d319d20-3c94-47c4-88f8-1f7f48581674 div.sk-toggleable__content pre {margin: 0.2em;color: black;border-radius: 0.25em;background-color: #f0f8ff;}#sk-0d319d20-3c94-47c4-88f8-1f7f48581674 input.sk-toggleable__control:checked~div.sk-toggleable__content {max-height: 200px;max-width: 100%;overflow: auto;}#sk-0d319d20-3c94-47c4-88f8-1f7f48581674 div.sk-estimator input.sk-toggleable__control:checked~label.sk-toggleable__label {background-color: #d4ebff;}#sk-0d319d20-3c94-47c4-88f8-1f7f48581674 div.sk-label input.sk-toggleable__control:checked~label.sk-toggleable__label {background-color: #d4ebff;}#sk-0d319d20-3c94-47c4-88f8-1f7f48581674 input.sk-hidden--visually {border: 0;clip: rect(1px 1px 1px 1px);clip: rect(1px, 1px, 1px, 1px);height: 1px;margin: -1px;overflow: hidden;padding: 0;position: absolute;width: 1px;}#sk-0d319d20-3c94-47c4-88f8-1f7f48581674 div.sk-estimator {font-family: monospace;background-color: #f0f8ff;margin: 0.25em 0.25em;border: 1px dotted black;border-radius: 0.25em;box-sizing: border-box;}#sk-0d319d20-3c94-47c4-88f8-1f7f48581674 div.sk-estimator:hover {background-color: #d4ebff;}#sk-0d319d20-3c94-47c4-88f8-1f7f48581674 div.sk-parallel-item::after {content: \"\";width: 100%;border-bottom: 1px solid gray;flex-grow: 1;}#sk-0d319d20-3c94-47c4-88f8-1f7f48581674 div.sk-label:hover label.sk-toggleable__label {background-color: #d4ebff;}#sk-0d319d20-3c94-47c4-88f8-1f7f48581674 div.sk-serial::before {content: \"\";position: absolute;border-left: 1px solid gray;box-sizing: border-box;top: 2em;bottom: 0;left: 50%;}#sk-0d319d20-3c94-47c4-88f8-1f7f48581674 div.sk-serial {display: flex;flex-direction: column;align-items: center;background-color: white;}#sk-0d319d20-3c94-47c4-88f8-1f7f48581674 div.sk-item {z-index: 1;}#sk-0d319d20-3c94-47c4-88f8-1f7f48581674 div.sk-parallel {display: flex;align-items: stretch;justify-content: center;background-color: white;}#sk-0d319d20-3c94-47c4-88f8-1f7f48581674 div.sk-parallel-item {display: flex;flex-direction: column;position: relative;background-color: white;}#sk-0d319d20-3c94-47c4-88f8-1f7f48581674 div.sk-parallel-item:first-child::after {align-self: flex-end;width: 50%;}#sk-0d319d20-3c94-47c4-88f8-1f7f48581674 div.sk-parallel-item:last-child::after {align-self: flex-start;width: 50%;}#sk-0d319d20-3c94-47c4-88f8-1f7f48581674 div.sk-parallel-item:only-child::after {width: 0;}#sk-0d319d20-3c94-47c4-88f8-1f7f48581674 div.sk-dashed-wrapped {border: 1px dashed gray;margin: 0.2em;box-sizing: border-box;padding-bottom: 0.1em;background-color: white;position: relative;}#sk-0d319d20-3c94-47c4-88f8-1f7f48581674 div.sk-label label {font-family: monospace;font-weight: bold;background-color: white;display: inline-block;line-height: 1.2em;}#sk-0d319d20-3c94-47c4-88f8-1f7f48581674 div.sk-label-container {position: relative;z-index: 2;text-align: center;}#sk-0d319d20-3c94-47c4-88f8-1f7f48581674 div.sk-container {display: inline-block;position: relative;}</style><div id=\"sk-0d319d20-3c94-47c4-88f8-1f7f48581674\" class\"sk-top-container\"><div class=\"sk-container\"><div class=\"sk-item sk-dashed-wrapped\"><div class=\"sk-label-container\"><div class=\"sk-label sk-toggleable\"><input class=\"sk-toggleable__control sk-hidden--visually\" id=\"5796909e-ed23-40b9-9f56-7681b062fbd7\" type=\"checkbox\" ><label class=\"sk-toggleable__label\" for=\"5796909e-ed23-40b9-9f56-7681b062fbd7\">GridSearchCV</label><div class=\"sk-toggleable__content\"><pre>GridSearchCV(cv=5,\n",
       "             estimator=Pipeline(steps=[('trf1',\n",
       "                                        ColumnTransformer(remainder='passthrough',\n",
       "                                                          transformers=[('si_age',\n",
       "                                                                         SimpleImputer(),\n",
       "                                                                         [2]),\n",
       "                                                                        ('si_Embark',\n",
       "                                                                         SimpleImputer(strategy='most_frequent'),\n",
       "                                                                         [6])])),\n",
       "                                       ('trf2',\n",
       "                                        ColumnTransformer(remainder='passthrough',\n",
       "                                                          transformers=[('ohe_emb',\n",
       "                                                                         OneHotEncoder(handle_unknown='ignore',\n",
       "                                                                                       sparse=False),\n",
       "                                                                         [1]),\n",
       "                                                                        ('ohe_sex',\n",
       "                                                                         OneHotEncoder(handle_unknown='ignore',\n",
       "                                                                                       sparse=False),\n",
       "                                                                         [3])])),\n",
       "                                       ('trf3',\n",
       "                                        ColumnTransformer(remainder='passthrough',\n",
       "                                                          transformers=[('min_max',\n",
       "                                                                         MinMaxScaler(),\n",
       "                                                                         slice(None, 10, None))])),\n",
       "                                       ('trf4',\n",
       "                                        SelectKBest(k=8,\n",
       "                                                    score_func=<function chi2 at 0x0000018F48A35B80>)),\n",
       "                                       ('trf5', DecisionTreeClassifier())]),\n",
       "             param_grid={'trf5__max_depth': [2, 3, 4, 5, 6, 7, 8, 9, 10, None]},\n",
       "             scoring='accuracy')</pre></div></div></div><div class=\"sk-parallel\"><div class=\"sk-parallel-item\"><div class=\"sk-item\"><div class=\"sk-serial\"><div class=\"sk-item\"><div class=\"sk-serial\"><div class=\"sk-item sk-dashed-wrapped\"><div class=\"sk-label-container\"><div class=\"sk-label sk-toggleable\"><input class=\"sk-toggleable__control sk-hidden--visually\" id=\"8977f80f-9c6a-475d-9be7-8cc95c34e995\" type=\"checkbox\" ><label class=\"sk-toggleable__label\" for=\"8977f80f-9c6a-475d-9be7-8cc95c34e995\">trf1: ColumnTransformer</label><div class=\"sk-toggleable__content\"><pre>ColumnTransformer(remainder='passthrough',\n",
       "                  transformers=[('si_age', SimpleImputer(), [2]),\n",
       "                                ('si_Embark',\n",
       "                                 SimpleImputer(strategy='most_frequent'),\n",
       "                                 [6])])</pre></div></div></div><div class=\"sk-parallel\"><div class=\"sk-parallel-item\"><div class=\"sk-item\"><div class=\"sk-label-container\"><div class=\"sk-label sk-toggleable\"><input class=\"sk-toggleable__control sk-hidden--visually\" id=\"a1dbba73-edc6-4533-a61d-e81740f922d5\" type=\"checkbox\" ><label class=\"sk-toggleable__label\" for=\"a1dbba73-edc6-4533-a61d-e81740f922d5\">si_age</label><div class=\"sk-toggleable__content\"><pre>[2]</pre></div></div></div><div class=\"sk-serial\"><div class=\"sk-item\"><div class=\"sk-estimator sk-toggleable\"><input class=\"sk-toggleable__control sk-hidden--visually\" id=\"23a554c6-7a40-4d0b-984a-a4c9d7738e3b\" type=\"checkbox\" ><label class=\"sk-toggleable__label\" for=\"23a554c6-7a40-4d0b-984a-a4c9d7738e3b\">SimpleImputer</label><div class=\"sk-toggleable__content\"><pre>SimpleImputer()</pre></div></div></div></div></div></div><div class=\"sk-parallel-item\"><div class=\"sk-item\"><div class=\"sk-label-container\"><div class=\"sk-label sk-toggleable\"><input class=\"sk-toggleable__control sk-hidden--visually\" id=\"07663a06-0291-4c3a-a1db-1e7041ba2417\" type=\"checkbox\" ><label class=\"sk-toggleable__label\" for=\"07663a06-0291-4c3a-a1db-1e7041ba2417\">si_Embark</label><div class=\"sk-toggleable__content\"><pre>[6]</pre></div></div></div><div class=\"sk-serial\"><div class=\"sk-item\"><div class=\"sk-estimator sk-toggleable\"><input class=\"sk-toggleable__control sk-hidden--visually\" id=\"f8ab19d2-cf01-4c56-9839-42ccdbfb78bb\" type=\"checkbox\" ><label class=\"sk-toggleable__label\" for=\"f8ab19d2-cf01-4c56-9839-42ccdbfb78bb\">SimpleImputer</label><div class=\"sk-toggleable__content\"><pre>SimpleImputer(strategy='most_frequent')</pre></div></div></div></div></div></div><div class=\"sk-parallel-item\"><div class=\"sk-item\"><div class=\"sk-label-container\"><div class=\"sk-label sk-toggleable\"><input class=\"sk-toggleable__control sk-hidden--visually\" id=\"297df808-2545-4827-bbd7-12a34f13ab63\" type=\"checkbox\" ><label class=\"sk-toggleable__label\" for=\"297df808-2545-4827-bbd7-12a34f13ab63\">remainder</label><div class=\"sk-toggleable__content\"><pre>['Pclass', 'Sex', 'SibSp', 'Parch', 'Fare']</pre></div></div></div><div class=\"sk-serial\"><div class=\"sk-item\"><div class=\"sk-estimator sk-toggleable\"><input class=\"sk-toggleable__control sk-hidden--visually\" id=\"2c1acf19-dc3e-4dc1-b553-2606449aaa06\" type=\"checkbox\" ><label class=\"sk-toggleable__label\" for=\"2c1acf19-dc3e-4dc1-b553-2606449aaa06\">passthrough</label><div class=\"sk-toggleable__content\"><pre>passthrough</pre></div></div></div></div></div></div></div></div><div class=\"sk-item sk-dashed-wrapped\"><div class=\"sk-label-container\"><div class=\"sk-label sk-toggleable\"><input class=\"sk-toggleable__control sk-hidden--visually\" id=\"47efe14a-047c-49d1-af8d-65160324f463\" type=\"checkbox\" ><label class=\"sk-toggleable__label\" for=\"47efe14a-047c-49d1-af8d-65160324f463\">trf2: ColumnTransformer</label><div class=\"sk-toggleable__content\"><pre>ColumnTransformer(remainder='passthrough',\n",
       "                  transformers=[('ohe_emb',\n",
       "                                 OneHotEncoder(handle_unknown='ignore',\n",
       "                                               sparse=False),\n",
       "                                 [1]),\n",
       "                                ('ohe_sex',\n",
       "                                 OneHotEncoder(handle_unknown='ignore',\n",
       "                                               sparse=False),\n",
       "                                 [3])])</pre></div></div></div><div class=\"sk-parallel\"><div class=\"sk-parallel-item\"><div class=\"sk-item\"><div class=\"sk-label-container\"><div class=\"sk-label sk-toggleable\"><input class=\"sk-toggleable__control sk-hidden--visually\" id=\"1b4459e3-1b04-40de-b1a5-d59c9dc8a189\" type=\"checkbox\" ><label class=\"sk-toggleable__label\" for=\"1b4459e3-1b04-40de-b1a5-d59c9dc8a189\">ohe_emb</label><div class=\"sk-toggleable__content\"><pre>[1]</pre></div></div></div><div class=\"sk-serial\"><div class=\"sk-item\"><div class=\"sk-estimator sk-toggleable\"><input class=\"sk-toggleable__control sk-hidden--visually\" id=\"f8b4c6b5-2409-4c76-addb-f77fc93f44b4\" type=\"checkbox\" ><label class=\"sk-toggleable__label\" for=\"f8b4c6b5-2409-4c76-addb-f77fc93f44b4\">OneHotEncoder</label><div class=\"sk-toggleable__content\"><pre>OneHotEncoder(handle_unknown='ignore', sparse=False)</pre></div></div></div></div></div></div><div class=\"sk-parallel-item\"><div class=\"sk-item\"><div class=\"sk-label-container\"><div class=\"sk-label sk-toggleable\"><input class=\"sk-toggleable__control sk-hidden--visually\" id=\"62ba5b52-c771-4712-a9b7-0219b80ffe5c\" type=\"checkbox\" ><label class=\"sk-toggleable__label\" for=\"62ba5b52-c771-4712-a9b7-0219b80ffe5c\">ohe_sex</label><div class=\"sk-toggleable__content\"><pre>[3]</pre></div></div></div><div class=\"sk-serial\"><div class=\"sk-item\"><div class=\"sk-estimator sk-toggleable\"><input class=\"sk-toggleable__control sk-hidden--visually\" id=\"6ab52536-67d3-409b-bd2b-b67e987d53ac\" type=\"checkbox\" ><label class=\"sk-toggleable__label\" for=\"6ab52536-67d3-409b-bd2b-b67e987d53ac\">OneHotEncoder</label><div class=\"sk-toggleable__content\"><pre>OneHotEncoder(handle_unknown='ignore', sparse=False)</pre></div></div></div></div></div></div><div class=\"sk-parallel-item\"><div class=\"sk-item\"><div class=\"sk-label-container\"><div class=\"sk-label sk-toggleable\"><input class=\"sk-toggleable__control sk-hidden--visually\" id=\"a9394674-eea7-46ba-ae2b-bbf5309a6bbf\" type=\"checkbox\" ><label class=\"sk-toggleable__label\" for=\"a9394674-eea7-46ba-ae2b-bbf5309a6bbf\">remainder</label><div class=\"sk-toggleable__content\"><pre>[0, 2, 4, 5, 6]</pre></div></div></div><div class=\"sk-serial\"><div class=\"sk-item\"><div class=\"sk-estimator sk-toggleable\"><input class=\"sk-toggleable__control sk-hidden--visually\" id=\"16cbded0-ecac-4322-a4a1-e0cd647c1e78\" type=\"checkbox\" ><label class=\"sk-toggleable__label\" for=\"16cbded0-ecac-4322-a4a1-e0cd647c1e78\">passthrough</label><div class=\"sk-toggleable__content\"><pre>passthrough</pre></div></div></div></div></div></div></div></div><div class=\"sk-item sk-dashed-wrapped\"><div class=\"sk-label-container\"><div class=\"sk-label sk-toggleable\"><input class=\"sk-toggleable__control sk-hidden--visually\" id=\"5dd34413-1b30-4988-9fdf-f4b2a0e96589\" type=\"checkbox\" ><label class=\"sk-toggleable__label\" for=\"5dd34413-1b30-4988-9fdf-f4b2a0e96589\">trf3: ColumnTransformer</label><div class=\"sk-toggleable__content\"><pre>ColumnTransformer(remainder='passthrough',\n",
       "                  transformers=[('min_max', MinMaxScaler(),\n",
       "                                 slice(None, 10, None))])</pre></div></div></div><div class=\"sk-parallel\"><div class=\"sk-parallel-item\"><div class=\"sk-item\"><div class=\"sk-label-container\"><div class=\"sk-label sk-toggleable\"><input class=\"sk-toggleable__control sk-hidden--visually\" id=\"8719437f-5532-4b01-91f1-bf048d159cd7\" type=\"checkbox\" ><label class=\"sk-toggleable__label\" for=\"8719437f-5532-4b01-91f1-bf048d159cd7\">min_max</label><div class=\"sk-toggleable__content\"><pre>slice(None, 10, None)</pre></div></div></div><div class=\"sk-serial\"><div class=\"sk-item\"><div class=\"sk-estimator sk-toggleable\"><input class=\"sk-toggleable__control sk-hidden--visually\" id=\"a438c059-6d8b-4338-81fd-0fe89c6b7348\" type=\"checkbox\" ><label class=\"sk-toggleable__label\" for=\"a438c059-6d8b-4338-81fd-0fe89c6b7348\">MinMaxScaler</label><div class=\"sk-toggleable__content\"><pre>MinMaxScaler()</pre></div></div></div></div></div></div><div class=\"sk-parallel-item\"><div class=\"sk-item\"><div class=\"sk-label-container\"><div class=\"sk-label sk-toggleable\"><label>remainder</label></div></div><div class=\"sk-serial\"><div class=\"sk-item\"><div class=\"sk-estimator sk-toggleable\"><input class=\"sk-toggleable__control sk-hidden--visually\" id=\"5726dd1b-4ca2-402a-ba8b-03c4c3b7ce96\" type=\"checkbox\" ><label class=\"sk-toggleable__label\" for=\"5726dd1b-4ca2-402a-ba8b-03c4c3b7ce96\">passthrough</label><div class=\"sk-toggleable__content\"><pre>passthrough</pre></div></div></div></div></div></div></div></div><div class=\"sk-item\"><div class=\"sk-estimator sk-toggleable\"><input class=\"sk-toggleable__control sk-hidden--visually\" id=\"00a46fca-821e-40a9-a52f-62941d12b9a9\" type=\"checkbox\" ><label class=\"sk-toggleable__label\" for=\"00a46fca-821e-40a9-a52f-62941d12b9a9\">SelectKBest</label><div class=\"sk-toggleable__content\"><pre>SelectKBest(k=8, score_func=<function chi2 at 0x0000018F48A35B80>)</pre></div></div></div><div class=\"sk-item\"><div class=\"sk-estimator sk-toggleable\"><input class=\"sk-toggleable__control sk-hidden--visually\" id=\"48fec6cf-2d5e-4a48-a441-6edfb9cb4773\" type=\"checkbox\" ><label class=\"sk-toggleable__label\" for=\"48fec6cf-2d5e-4a48-a441-6edfb9cb4773\">DecisionTreeClassifier</label><div class=\"sk-toggleable__content\"><pre>DecisionTreeClassifier()</pre></div></div></div></div></div></div></div></div></div></div></div></div>"
      ],
      "text/plain": [
       "GridSearchCV(cv=5,\n",
       "             estimator=Pipeline(steps=[('trf1',\n",
       "                                        ColumnTransformer(remainder='passthrough',\n",
       "                                                          transformers=[('si_age',\n",
       "                                                                         SimpleImputer(),\n",
       "                                                                         [2]),\n",
       "                                                                        ('si_Embark',\n",
       "                                                                         SimpleImputer(strategy='most_frequent'),\n",
       "                                                                         [6])])),\n",
       "                                       ('trf2',\n",
       "                                        ColumnTransformer(remainder='passthrough',\n",
       "                                                          transformers=[('ohe_emb',\n",
       "                                                                         OneHotEncoder(handle_unknown='ignore',\n",
       "                                                                                       sparse=False),\n",
       "                                                                         [1]),\n",
       "                                                                        ('ohe_sex',\n",
       "                                                                         OneHotEncoder(handle_unknown='ignore',\n",
       "                                                                                       sparse=False),\n",
       "                                                                         [3])])),\n",
       "                                       ('trf3',\n",
       "                                        ColumnTransformer(remainder='passthrough',\n",
       "                                                          transformers=[('min_max',\n",
       "                                                                         MinMaxScaler(),\n",
       "                                                                         slice(None, 10, None))])),\n",
       "                                       ('trf4',\n",
       "                                        SelectKBest(k=8,\n",
       "                                                    score_func=<function chi2 at 0x0000018F48A35B80>)),\n",
       "                                       ('trf5', DecisionTreeClassifier())]),\n",
       "             param_grid={'trf5__max_depth': [2, 3, 4, 5, 6, 7, 8, 9, 10, None]},\n",
       "             scoring='accuracy')"
      ]
     },
     "execution_count": 96,
     "metadata": {},
     "output_type": "execute_result"
    }
   ],
   "source": [
    "from sklearn.model_selection import GridSearchCV\n",
    "\n",
    "parm = {\"trf5__max_depth\" : [2,3,4,5,6,7,8,9,10,None]}\n",
    "grid = GridSearchCV(pipe,param_grid=parm,cv=5,scoring='accuracy')\n",
    "\n",
    "grid.fit(X,y)"
   ]
  },
  {
   "cell_type": "code",
   "execution_count": 98,
   "id": "18a03eef",
   "metadata": {},
   "outputs": [
    {
     "data": {
      "text/plain": [
       "{'trf5__max_depth': 7}"
      ]
     },
     "execution_count": 98,
     "metadata": {},
     "output_type": "execute_result"
    }
   ],
   "source": [
    "grid.best_params_"
   ]
  },
  {
   "cell_type": "code",
   "execution_count": 99,
   "id": "63aabba3",
   "metadata": {},
   "outputs": [
    {
     "data": {
      "text/plain": [
       "0.8136840123030569"
      ]
     },
     "execution_count": 99,
     "metadata": {},
     "output_type": "execute_result"
    }
   ],
   "source": [
    "grid.best_score_"
   ]
  },
  {
   "cell_type": "markdown",
   "id": "e3e3f8c7",
   "metadata": {},
   "source": [
    "# Using Best Param to build new Pipeline"
   ]
  },
  {
   "cell_type": "code",
   "execution_count": 100,
   "id": "6a7c37db",
   "metadata": {},
   "outputs": [],
   "source": [
    "# 1. Handling Missing Value Using Simple Imputer\n",
    "trf1 = ColumnTransformer([\n",
    "    (\"si_age\",SimpleImputer(),[2]),\n",
    "    (\"si_Embark\",SimpleImputer(strategy=\"most_frequent\"),[6])\n",
    "],remainder=\"passthrough\")"
   ]
  },
  {
   "cell_type": "code",
   "execution_count": 101,
   "id": "77363465",
   "metadata": {},
   "outputs": [],
   "source": [
    "#2.Appling OneHotEncoder to Categorical Data\n",
    "trf2 = ColumnTransformer([(\"ohe_emb\",OneHotEncoder(handle_unknown='ignore',sparse=False),[1]),\n",
    "                          (\"ohe_sex\",OneHotEncoder(handle_unknown='ignore',sparse=False),[3])], remainder=\"passthrough\")"
   ]
  },
  {
   "cell_type": "code",
   "execution_count": 102,
   "id": "b2905d27",
   "metadata": {},
   "outputs": [],
   "source": [
    "# using MinMaxScaler because we will use SelectKbest\n",
    "trf3 = ColumnTransformer([(\"min_max\",MinMaxScaler(),slice(10))], remainder=\"passthrough\")"
   ]
  },
  {
   "cell_type": "code",
   "execution_count": 103,
   "id": "dc6a7ece",
   "metadata": {},
   "outputs": [],
   "source": [
    "# Using Kbest and scoring function chi2 score\n",
    "trf4 = SelectKBest(score_func=chi2, k=8)"
   ]
  },
  {
   "cell_type": "code",
   "execution_count": 104,
   "id": "1a3115a7",
   "metadata": {},
   "outputs": [],
   "source": [
    "trf5 = DecisionTreeClassifier(max_depth=7)"
   ]
  },
  {
   "cell_type": "code",
   "execution_count": 105,
   "id": "e48d0e2b",
   "metadata": {},
   "outputs": [],
   "source": [
    "# Creating Pipeline\n",
    "pipe = Pipeline([\n",
    "    (\"trf1\",trf1),\n",
    "    (\"trf2\",trf2),\n",
    "    (\"trf3\",trf3),\n",
    "    (\"trf4\",trf4),\n",
    "    (\"trf5\",trf5)\n",
    "])"
   ]
  },
  {
   "cell_type": "code",
   "execution_count": 106,
   "id": "376afb11",
   "metadata": {},
   "outputs": [
    {
     "data": {
      "text/html": [
       "<style>#sk-59851e3d-b970-4645-b964-45f0d69b35ab {color: black;background-color: white;}#sk-59851e3d-b970-4645-b964-45f0d69b35ab pre{padding: 0;}#sk-59851e3d-b970-4645-b964-45f0d69b35ab div.sk-toggleable {background-color: white;}#sk-59851e3d-b970-4645-b964-45f0d69b35ab label.sk-toggleable__label {cursor: pointer;display: block;width: 100%;margin-bottom: 0;padding: 0.2em 0.3em;box-sizing: border-box;text-align: center;}#sk-59851e3d-b970-4645-b964-45f0d69b35ab div.sk-toggleable__content {max-height: 0;max-width: 0;overflow: hidden;text-align: left;background-color: #f0f8ff;}#sk-59851e3d-b970-4645-b964-45f0d69b35ab div.sk-toggleable__content pre {margin: 0.2em;color: black;border-radius: 0.25em;background-color: #f0f8ff;}#sk-59851e3d-b970-4645-b964-45f0d69b35ab input.sk-toggleable__control:checked~div.sk-toggleable__content {max-height: 200px;max-width: 100%;overflow: auto;}#sk-59851e3d-b970-4645-b964-45f0d69b35ab div.sk-estimator input.sk-toggleable__control:checked~label.sk-toggleable__label {background-color: #d4ebff;}#sk-59851e3d-b970-4645-b964-45f0d69b35ab div.sk-label input.sk-toggleable__control:checked~label.sk-toggleable__label {background-color: #d4ebff;}#sk-59851e3d-b970-4645-b964-45f0d69b35ab input.sk-hidden--visually {border: 0;clip: rect(1px 1px 1px 1px);clip: rect(1px, 1px, 1px, 1px);height: 1px;margin: -1px;overflow: hidden;padding: 0;position: absolute;width: 1px;}#sk-59851e3d-b970-4645-b964-45f0d69b35ab div.sk-estimator {font-family: monospace;background-color: #f0f8ff;margin: 0.25em 0.25em;border: 1px dotted black;border-radius: 0.25em;box-sizing: border-box;}#sk-59851e3d-b970-4645-b964-45f0d69b35ab div.sk-estimator:hover {background-color: #d4ebff;}#sk-59851e3d-b970-4645-b964-45f0d69b35ab div.sk-parallel-item::after {content: \"\";width: 100%;border-bottom: 1px solid gray;flex-grow: 1;}#sk-59851e3d-b970-4645-b964-45f0d69b35ab div.sk-label:hover label.sk-toggleable__label {background-color: #d4ebff;}#sk-59851e3d-b970-4645-b964-45f0d69b35ab div.sk-serial::before {content: \"\";position: absolute;border-left: 1px solid gray;box-sizing: border-box;top: 2em;bottom: 0;left: 50%;}#sk-59851e3d-b970-4645-b964-45f0d69b35ab div.sk-serial {display: flex;flex-direction: column;align-items: center;background-color: white;}#sk-59851e3d-b970-4645-b964-45f0d69b35ab div.sk-item {z-index: 1;}#sk-59851e3d-b970-4645-b964-45f0d69b35ab div.sk-parallel {display: flex;align-items: stretch;justify-content: center;background-color: white;}#sk-59851e3d-b970-4645-b964-45f0d69b35ab div.sk-parallel-item {display: flex;flex-direction: column;position: relative;background-color: white;}#sk-59851e3d-b970-4645-b964-45f0d69b35ab div.sk-parallel-item:first-child::after {align-self: flex-end;width: 50%;}#sk-59851e3d-b970-4645-b964-45f0d69b35ab div.sk-parallel-item:last-child::after {align-self: flex-start;width: 50%;}#sk-59851e3d-b970-4645-b964-45f0d69b35ab div.sk-parallel-item:only-child::after {width: 0;}#sk-59851e3d-b970-4645-b964-45f0d69b35ab div.sk-dashed-wrapped {border: 1px dashed gray;margin: 0.2em;box-sizing: border-box;padding-bottom: 0.1em;background-color: white;position: relative;}#sk-59851e3d-b970-4645-b964-45f0d69b35ab div.sk-label label {font-family: monospace;font-weight: bold;background-color: white;display: inline-block;line-height: 1.2em;}#sk-59851e3d-b970-4645-b964-45f0d69b35ab div.sk-label-container {position: relative;z-index: 2;text-align: center;}#sk-59851e3d-b970-4645-b964-45f0d69b35ab div.sk-container {display: inline-block;position: relative;}</style><div id=\"sk-59851e3d-b970-4645-b964-45f0d69b35ab\" class\"sk-top-container\"><div class=\"sk-container\"><div class=\"sk-item sk-dashed-wrapped\"><div class=\"sk-label-container\"><div class=\"sk-label sk-toggleable\"><input class=\"sk-toggleable__control sk-hidden--visually\" id=\"edcee8dc-4011-45b0-925b-438ba10333ac\" type=\"checkbox\" ><label class=\"sk-toggleable__label\" for=\"edcee8dc-4011-45b0-925b-438ba10333ac\">Pipeline</label><div class=\"sk-toggleable__content\"><pre>Pipeline(steps=[('trf1',\n",
       "                 ColumnTransformer(remainder='passthrough',\n",
       "                                   transformers=[('si_age', SimpleImputer(),\n",
       "                                                  [2]),\n",
       "                                                 ('si_Embark',\n",
       "                                                  SimpleImputer(strategy='most_frequent'),\n",
       "                                                  [6])])),\n",
       "                ('trf2',\n",
       "                 ColumnTransformer(remainder='passthrough',\n",
       "                                   transformers=[('ohe_emb',\n",
       "                                                  OneHotEncoder(handle_unknown='ignore',\n",
       "                                                                sparse=False),\n",
       "                                                  [1]),\n",
       "                                                 ('ohe_sex',\n",
       "                                                  OneHotEncoder(handle_unknown='ignore',\n",
       "                                                                sparse=False),\n",
       "                                                  [3])])),\n",
       "                ('trf3',\n",
       "                 ColumnTransformer(remainder='passthrough',\n",
       "                                   transformers=[('min_max', MinMaxScaler(),\n",
       "                                                  slice(None, 10, None))])),\n",
       "                ('trf4',\n",
       "                 SelectKBest(k=8,\n",
       "                             score_func=<function chi2 at 0x0000018F48A35B80>)),\n",
       "                ('trf5', DecisionTreeClassifier(max_depth=7))])</pre></div></div></div><div class=\"sk-serial\"><div class=\"sk-item sk-dashed-wrapped\"><div class=\"sk-label-container\"><div class=\"sk-label sk-toggleable\"><input class=\"sk-toggleable__control sk-hidden--visually\" id=\"20c648cd-8bcf-4088-97be-63902b2623f3\" type=\"checkbox\" ><label class=\"sk-toggleable__label\" for=\"20c648cd-8bcf-4088-97be-63902b2623f3\">trf1: ColumnTransformer</label><div class=\"sk-toggleable__content\"><pre>ColumnTransformer(remainder='passthrough',\n",
       "                  transformers=[('si_age', SimpleImputer(), [2]),\n",
       "                                ('si_Embark',\n",
       "                                 SimpleImputer(strategy='most_frequent'),\n",
       "                                 [6])])</pre></div></div></div><div class=\"sk-parallel\"><div class=\"sk-parallel-item\"><div class=\"sk-item\"><div class=\"sk-label-container\"><div class=\"sk-label sk-toggleable\"><input class=\"sk-toggleable__control sk-hidden--visually\" id=\"76282238-9d75-4b91-9ae4-b44cb5872a9d\" type=\"checkbox\" ><label class=\"sk-toggleable__label\" for=\"76282238-9d75-4b91-9ae4-b44cb5872a9d\">si_age</label><div class=\"sk-toggleable__content\"><pre>[2]</pre></div></div></div><div class=\"sk-serial\"><div class=\"sk-item\"><div class=\"sk-estimator sk-toggleable\"><input class=\"sk-toggleable__control sk-hidden--visually\" id=\"6de8a4d9-a900-498a-b6a6-9eba176ca7b7\" type=\"checkbox\" ><label class=\"sk-toggleable__label\" for=\"6de8a4d9-a900-498a-b6a6-9eba176ca7b7\">SimpleImputer</label><div class=\"sk-toggleable__content\"><pre>SimpleImputer()</pre></div></div></div></div></div></div><div class=\"sk-parallel-item\"><div class=\"sk-item\"><div class=\"sk-label-container\"><div class=\"sk-label sk-toggleable\"><input class=\"sk-toggleable__control sk-hidden--visually\" id=\"c87643f9-df7a-4b30-af3a-6aeb5cc722a7\" type=\"checkbox\" ><label class=\"sk-toggleable__label\" for=\"c87643f9-df7a-4b30-af3a-6aeb5cc722a7\">si_Embark</label><div class=\"sk-toggleable__content\"><pre>[6]</pre></div></div></div><div class=\"sk-serial\"><div class=\"sk-item\"><div class=\"sk-estimator sk-toggleable\"><input class=\"sk-toggleable__control sk-hidden--visually\" id=\"159e2f02-af47-4698-886e-f44af8ce39a4\" type=\"checkbox\" ><label class=\"sk-toggleable__label\" for=\"159e2f02-af47-4698-886e-f44af8ce39a4\">SimpleImputer</label><div class=\"sk-toggleable__content\"><pre>SimpleImputer(strategy='most_frequent')</pre></div></div></div></div></div></div><div class=\"sk-parallel-item\"><div class=\"sk-item\"><div class=\"sk-label-container\"><div class=\"sk-label sk-toggleable\"><input class=\"sk-toggleable__control sk-hidden--visually\" id=\"d88b4b8a-364b-4baf-bdcc-1da13c9c1dc5\" type=\"checkbox\" ><label class=\"sk-toggleable__label\" for=\"d88b4b8a-364b-4baf-bdcc-1da13c9c1dc5\">remainder</label><div class=\"sk-toggleable__content\"><pre>['Pclass', 'Sex', 'SibSp', 'Parch', 'Fare']</pre></div></div></div><div class=\"sk-serial\"><div class=\"sk-item\"><div class=\"sk-estimator sk-toggleable\"><input class=\"sk-toggleable__control sk-hidden--visually\" id=\"35b997bd-52af-492d-a093-c5fb9f4b51ad\" type=\"checkbox\" ><label class=\"sk-toggleable__label\" for=\"35b997bd-52af-492d-a093-c5fb9f4b51ad\">passthrough</label><div class=\"sk-toggleable__content\"><pre>passthrough</pre></div></div></div></div></div></div></div></div><div class=\"sk-item sk-dashed-wrapped\"><div class=\"sk-label-container\"><div class=\"sk-label sk-toggleable\"><input class=\"sk-toggleable__control sk-hidden--visually\" id=\"d729eeb1-7a4b-4739-a0f9-6d1492ffe5f1\" type=\"checkbox\" ><label class=\"sk-toggleable__label\" for=\"d729eeb1-7a4b-4739-a0f9-6d1492ffe5f1\">trf2: ColumnTransformer</label><div class=\"sk-toggleable__content\"><pre>ColumnTransformer(remainder='passthrough',\n",
       "                  transformers=[('ohe_emb',\n",
       "                                 OneHotEncoder(handle_unknown='ignore',\n",
       "                                               sparse=False),\n",
       "                                 [1]),\n",
       "                                ('ohe_sex',\n",
       "                                 OneHotEncoder(handle_unknown='ignore',\n",
       "                                               sparse=False),\n",
       "                                 [3])])</pre></div></div></div><div class=\"sk-parallel\"><div class=\"sk-parallel-item\"><div class=\"sk-item\"><div class=\"sk-label-container\"><div class=\"sk-label sk-toggleable\"><input class=\"sk-toggleable__control sk-hidden--visually\" id=\"7727c14e-6563-4bad-bf27-56c417f26f07\" type=\"checkbox\" ><label class=\"sk-toggleable__label\" for=\"7727c14e-6563-4bad-bf27-56c417f26f07\">ohe_emb</label><div class=\"sk-toggleable__content\"><pre>[1]</pre></div></div></div><div class=\"sk-serial\"><div class=\"sk-item\"><div class=\"sk-estimator sk-toggleable\"><input class=\"sk-toggleable__control sk-hidden--visually\" id=\"bf43c798-d0c4-43c2-bb3c-ff38ade27d60\" type=\"checkbox\" ><label class=\"sk-toggleable__label\" for=\"bf43c798-d0c4-43c2-bb3c-ff38ade27d60\">OneHotEncoder</label><div class=\"sk-toggleable__content\"><pre>OneHotEncoder(handle_unknown='ignore', sparse=False)</pre></div></div></div></div></div></div><div class=\"sk-parallel-item\"><div class=\"sk-item\"><div class=\"sk-label-container\"><div class=\"sk-label sk-toggleable\"><input class=\"sk-toggleable__control sk-hidden--visually\" id=\"2536159b-3797-4a51-878f-b8185d8f52de\" type=\"checkbox\" ><label class=\"sk-toggleable__label\" for=\"2536159b-3797-4a51-878f-b8185d8f52de\">ohe_sex</label><div class=\"sk-toggleable__content\"><pre>[3]</pre></div></div></div><div class=\"sk-serial\"><div class=\"sk-item\"><div class=\"sk-estimator sk-toggleable\"><input class=\"sk-toggleable__control sk-hidden--visually\" id=\"113d0ea5-ffe8-4c69-a712-d0946a9b5014\" type=\"checkbox\" ><label class=\"sk-toggleable__label\" for=\"113d0ea5-ffe8-4c69-a712-d0946a9b5014\">OneHotEncoder</label><div class=\"sk-toggleable__content\"><pre>OneHotEncoder(handle_unknown='ignore', sparse=False)</pre></div></div></div></div></div></div><div class=\"sk-parallel-item\"><div class=\"sk-item\"><div class=\"sk-label-container\"><div class=\"sk-label sk-toggleable\"><input class=\"sk-toggleable__control sk-hidden--visually\" id=\"4ecfaab6-6f76-4bc6-99c8-c017833912b4\" type=\"checkbox\" ><label class=\"sk-toggleable__label\" for=\"4ecfaab6-6f76-4bc6-99c8-c017833912b4\">remainder</label><div class=\"sk-toggleable__content\"><pre>[0, 2, 4, 5, 6]</pre></div></div></div><div class=\"sk-serial\"><div class=\"sk-item\"><div class=\"sk-estimator sk-toggleable\"><input class=\"sk-toggleable__control sk-hidden--visually\" id=\"67c6cb46-e7ad-4f3b-aee3-4f6e40d3c6f8\" type=\"checkbox\" ><label class=\"sk-toggleable__label\" for=\"67c6cb46-e7ad-4f3b-aee3-4f6e40d3c6f8\">passthrough</label><div class=\"sk-toggleable__content\"><pre>passthrough</pre></div></div></div></div></div></div></div></div><div class=\"sk-item sk-dashed-wrapped\"><div class=\"sk-label-container\"><div class=\"sk-label sk-toggleable\"><input class=\"sk-toggleable__control sk-hidden--visually\" id=\"610648c1-b97c-467a-97db-fee448211b30\" type=\"checkbox\" ><label class=\"sk-toggleable__label\" for=\"610648c1-b97c-467a-97db-fee448211b30\">trf3: ColumnTransformer</label><div class=\"sk-toggleable__content\"><pre>ColumnTransformer(remainder='passthrough',\n",
       "                  transformers=[('min_max', MinMaxScaler(),\n",
       "                                 slice(None, 10, None))])</pre></div></div></div><div class=\"sk-parallel\"><div class=\"sk-parallel-item\"><div class=\"sk-item\"><div class=\"sk-label-container\"><div class=\"sk-label sk-toggleable\"><input class=\"sk-toggleable__control sk-hidden--visually\" id=\"fd59e1ec-58bf-4795-92ed-3702ca8881fe\" type=\"checkbox\" ><label class=\"sk-toggleable__label\" for=\"fd59e1ec-58bf-4795-92ed-3702ca8881fe\">min_max</label><div class=\"sk-toggleable__content\"><pre>slice(None, 10, None)</pre></div></div></div><div class=\"sk-serial\"><div class=\"sk-item\"><div class=\"sk-estimator sk-toggleable\"><input class=\"sk-toggleable__control sk-hidden--visually\" id=\"2f2f0fa2-bf19-41b3-adcc-1b17bd32fc99\" type=\"checkbox\" ><label class=\"sk-toggleable__label\" for=\"2f2f0fa2-bf19-41b3-adcc-1b17bd32fc99\">MinMaxScaler</label><div class=\"sk-toggleable__content\"><pre>MinMaxScaler()</pre></div></div></div></div></div></div><div class=\"sk-parallel-item\"><div class=\"sk-item\"><div class=\"sk-label-container\"><div class=\"sk-label sk-toggleable\"><label>remainder</label></div></div><div class=\"sk-serial\"><div class=\"sk-item\"><div class=\"sk-estimator sk-toggleable\"><input class=\"sk-toggleable__control sk-hidden--visually\" id=\"3aaeab5d-1a8e-46e6-aaa4-c4df0714e8e1\" type=\"checkbox\" ><label class=\"sk-toggleable__label\" for=\"3aaeab5d-1a8e-46e6-aaa4-c4df0714e8e1\">passthrough</label><div class=\"sk-toggleable__content\"><pre>passthrough</pre></div></div></div></div></div></div></div></div><div class=\"sk-item\"><div class=\"sk-estimator sk-toggleable\"><input class=\"sk-toggleable__control sk-hidden--visually\" id=\"d99c182a-6f27-42db-87d8-61a4d2fd8384\" type=\"checkbox\" ><label class=\"sk-toggleable__label\" for=\"d99c182a-6f27-42db-87d8-61a4d2fd8384\">SelectKBest</label><div class=\"sk-toggleable__content\"><pre>SelectKBest(k=8, score_func=<function chi2 at 0x0000018F48A35B80>)</pre></div></div></div><div class=\"sk-item\"><div class=\"sk-estimator sk-toggleable\"><input class=\"sk-toggleable__control sk-hidden--visually\" id=\"8f307fe6-b3c4-4128-854c-91618ee3c8b3\" type=\"checkbox\" ><label class=\"sk-toggleable__label\" for=\"8f307fe6-b3c4-4128-854c-91618ee3c8b3\">DecisionTreeClassifier</label><div class=\"sk-toggleable__content\"><pre>DecisionTreeClassifier(max_depth=7)</pre></div></div></div></div></div></div></div>"
      ],
      "text/plain": [
       "Pipeline(steps=[('trf1',\n",
       "                 ColumnTransformer(remainder='passthrough',\n",
       "                                   transformers=[('si_age', SimpleImputer(),\n",
       "                                                  [2]),\n",
       "                                                 ('si_Embark',\n",
       "                                                  SimpleImputer(strategy='most_frequent'),\n",
       "                                                  [6])])),\n",
       "                ('trf2',\n",
       "                 ColumnTransformer(remainder='passthrough',\n",
       "                                   transformers=[('ohe_emb',\n",
       "                                                  OneHotEncoder(handle_unknown='ignore',\n",
       "                                                                sparse=False),\n",
       "                                                  [1]),\n",
       "                                                 ('ohe_sex',\n",
       "                                                  OneHotEncoder(handle_unknown='ignore',\n",
       "                                                                sparse=False),\n",
       "                                                  [3])])),\n",
       "                ('trf3',\n",
       "                 ColumnTransformer(remainder='passthrough',\n",
       "                                   transformers=[('min_max', MinMaxScaler(),\n",
       "                                                  slice(None, 10, None))])),\n",
       "                ('trf4',\n",
       "                 SelectKBest(k=8,\n",
       "                             score_func=<function chi2 at 0x0000018F48A35B80>)),\n",
       "                ('trf5', DecisionTreeClassifier(max_depth=7))])"
      ]
     },
     "execution_count": 106,
     "metadata": {},
     "output_type": "execute_result"
    }
   ],
   "source": [
    "# Trainning Pipeline to Export\n",
    "pipe.fit(X_train,y_train)"
   ]
  },
  {
   "cell_type": "code",
   "execution_count": 107,
   "id": "7ae747e7",
   "metadata": {},
   "outputs": [],
   "source": [
    "# Using pickle to Transform data\n",
    "import pickle\n",
    "pickle.dump(pipe,open(\"Model/pipeline.pkl\",\"wb\"))"
   ]
  }
 ],
 "metadata": {
  "kernelspec": {
   "display_name": "Python 3 (ipykernel)",
   "language": "python",
   "name": "python3"
  },
  "language_info": {
   "codemirror_mode": {
    "name": "ipython",
    "version": 3
   },
   "file_extension": ".py",
   "mimetype": "text/x-python",
   "name": "python",
   "nbconvert_exporter": "python",
   "pygments_lexer": "ipython3",
   "version": "3.9.7"
  }
 },
 "nbformat": 4,
 "nbformat_minor": 5
}
