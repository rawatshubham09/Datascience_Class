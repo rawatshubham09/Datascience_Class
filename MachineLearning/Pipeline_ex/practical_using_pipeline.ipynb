{
 "cells": [
  {
   "cell_type": "code",
   "execution_count": 1,
   "id": "51de8b3b",
   "metadata": {},
   "outputs": [],
   "source": [
    "import pickle\n",
    "import numpy as np"
   ]
  },
  {
   "cell_type": "code",
   "execution_count": 2,
   "id": "907c9a56",
   "metadata": {},
   "outputs": [],
   "source": [
    "pipe = pickle.load(open(\"Model/pipeline.pkl\",\"rb\"))"
   ]
  },
  {
   "cell_type": "code",
   "execution_count": 8,
   "id": "3f97dfa6",
   "metadata": {},
   "outputs": [],
   "source": [
    "# Taking Dummy as a User Input from Website\n",
    "test_data = np.array([3,\"male\",29.5,1,1,15.2458,'C'], dtype = object).reshape(1,7)"
   ]
  },
  {
   "cell_type": "code",
   "execution_count": 9,
   "id": "3b6701d3",
   "metadata": {},
   "outputs": [
    {
     "data": {
      "text/plain": [
       "array([1], dtype=int64)"
      ]
     },
     "execution_count": 9,
     "metadata": {},
     "output_type": "execute_result"
    }
   ],
   "source": [
    "pipe.predict(test_data) "
   ]
  },
  {
   "cell_type": "code",
   "execution_count": 10,
   "id": "62dc4663",
   "metadata": {},
   "outputs": [],
   "source": [
    "#Good Prediction and easy to Emplement"
   ]
  }
 ],
 "metadata": {
  "kernelspec": {
   "display_name": "Python 3 (ipykernel)",
   "language": "python",
   "name": "python3"
  },
  "language_info": {
   "codemirror_mode": {
    "name": "ipython",
    "version": 3
   },
   "file_extension": ".py",
   "mimetype": "text/x-python",
   "name": "python",
   "nbconvert_exporter": "python",
   "pygments_lexer": "ipython3",
   "version": "3.9.7"
  }
 },
 "nbformat": 4,
 "nbformat_minor": 5
}
