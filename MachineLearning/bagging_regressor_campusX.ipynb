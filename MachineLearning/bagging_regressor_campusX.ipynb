{
 "cells": [
  {
   "cell_type": "code",
   "execution_count": 3,
   "id": "20cac949",
   "metadata": {},
   "outputs": [],
   "source": [
    "import numpy as np\n",
    "import pandas as pd\n",
    "from sklearn.datasets import load_boston\n",
    "from sklearn.ensemble import BaggingRegressor\n",
    "from sklearn.tree import DecisionTreeRegressor\n",
    "from sklearn.neighbors import KNeighborsRegressor\n",
    "from sklearn.linear_model import LinearRegression\n",
    "from sklearn.metrics import r2_score\n",
    "from sklearn.model_selection import train_test_split,GridSearchCV"
   ]
  },
  {
   "cell_type": "code",
   "execution_count": 4,
   "id": "9ee83c14",
   "metadata": {},
   "outputs": [],
   "source": [
    "dataset = load_boston()"
   ]
  },
  {
   "cell_type": "code",
   "execution_count": 5,
   "id": "f91d6cce",
   "metadata": {},
   "outputs": [],
   "source": [
    "X,y = dataset.data, dataset.target"
   ]
  },
  {
   "cell_type": "code",
   "execution_count": 6,
   "id": "bcf9d263",
   "metadata": {},
   "outputs": [
    {
     "name": "stdout",
     "output_type": "stream",
     "text": [
      "Boaston Features : ['CRIM' 'ZN' 'INDUS' 'CHAS' 'NOX' 'RM' 'AGE' 'DIS' 'RAD' 'TAX' 'PTRATIO'\n",
      " 'B' 'LSTAT']\n",
      "Boaston data shape : (506, 13)\n",
      "Boaston target shape : (506,)\n"
     ]
    }
   ],
   "source": [
    "print(\"Boaston Features : \" + str(dataset.feature_names))\n",
    "print(\"Boaston data shape : \" + str(X.shape))\n",
    "print(\"Boaston target shape : \" + str(y.shape))"
   ]
  },
  {
   "cell_type": "code",
   "execution_count": 7,
   "id": "b48b9eaa",
   "metadata": {},
   "outputs": [],
   "source": [
    "X_train,X_test,y_train,y_test = train_test_split(X,y,test_size=0.2,random_state=42)"
   ]
  },
  {
   "cell_type": "code",
   "execution_count": 10,
   "id": "38e23805",
   "metadata": {},
   "outputs": [
    {
     "data": {
      "text/plain": [
       "((404, 13), (102, 13))"
      ]
     },
     "execution_count": 10,
     "metadata": {},
     "output_type": "execute_result"
    }
   ],
   "source": [
    "X_train.shape, X_test.shape"
   ]
  },
  {
   "cell_type": "code",
   "execution_count": 11,
   "id": "03472b43",
   "metadata": {},
   "outputs": [],
   "source": [
    "#Creating one one object of linear, decision and knn model\n",
    "lr = LinearRegression()\n",
    "dr = DecisionTreeRegressor()\n",
    "kr = KNeighborsRegressor()"
   ]
  },
  {
   "cell_type": "code",
   "execution_count": 12,
   "id": "0ec1a5fa",
   "metadata": {},
   "outputs": [
    {
     "data": {
      "text/plain": [
       "KNeighborsRegressor()"
      ]
     },
     "execution_count": 12,
     "metadata": {},
     "output_type": "execute_result"
    }
   ],
   "source": [
    "#Fitting the modles\n",
    "lr.fit(X_train,y_train)\n",
    "dr.fit(X_train,y_train)\n",
    "kr.fit(X_train,y_train)"
   ]
  },
  {
   "cell_type": "code",
   "execution_count": 13,
   "id": "01310a1a",
   "metadata": {},
   "outputs": [],
   "source": [
    "#Predicting values:\n",
    "y_pred1 = lr.predict(X_test)\n",
    "y_pred2 = dr.predict(X_test)\n",
    "y_pred3 = kr.predict(X_test)"
   ]
  },
  {
   "cell_type": "code",
   "execution_count": 14,
   "id": "11d99225",
   "metadata": {},
   "outputs": [
    {
     "name": "stdout",
     "output_type": "stream",
     "text": [
      "R2 score for Linear Regression :  0.6687594935356278\n",
      "R2 score for Decision Tree Regression :  0.6825166533265996\n",
      "R2 score for KNN Regression :  0.6473640882039258\n"
     ]
    }
   ],
   "source": [
    "#R2 score for each model is : \n",
    "print(\"R2 score for Linear Regression : \", r2_score(y_test, y_pred1))\n",
    "print(\"R2 score for Decision Tree Regression : \", r2_score(y_test, y_pred2))\n",
    "print(\"R2 score for KNN Regression : \", r2_score(y_test, y_pred3))"
   ]
  },
  {
   "cell_type": "markdown",
   "id": "1e8b680f",
   "metadata": {},
   "source": [
    "- Average Score From Every Models"
   ]
  },
  {
   "cell_type": "markdown",
   "id": "3bcecdaa",
   "metadata": {},
   "source": [
    "### Bagging Regressor"
   ]
  },
  {
   "cell_type": "code",
   "execution_count": 15,
   "id": "a3de32dd",
   "metadata": {},
   "outputs": [],
   "source": [
    "bag = BaggingRegressor(random_state=1)"
   ]
  },
  {
   "cell_type": "code",
   "execution_count": 16,
   "id": "4b94cd21",
   "metadata": {},
   "outputs": [
    {
     "data": {
      "text/plain": [
       "BaggingRegressor(random_state=1)"
      ]
     },
     "execution_count": 16,
     "metadata": {},
     "output_type": "execute_result"
    }
   ],
   "source": [
    "bag.fit(X_train,y_train)"
   ]
  },
  {
   "cell_type": "code",
   "execution_count": 17,
   "id": "1f6631bc",
   "metadata": {},
   "outputs": [
    {
     "name": "stdout",
     "output_type": "stream",
     "text": [
      "R2 Score for Train model is : 0.972\n",
      "R2 Score for Test model is : 0.838\n"
     ]
    }
   ],
   "source": [
    "print(\"R2 Score for Train model is : %.3f\"%bag.score(X_train,y_train))\n",
    "print(\"R2 Score for Test model is : %.3f\"%bag.score(X_test,y_test))"
   ]
  },
  {
   "cell_type": "markdown",
   "id": "1bcd3503",
   "metadata": {},
   "source": [
    "- Observation :\n",
    "    1. High Variance and Low Biased"
   ]
  },
  {
   "cell_type": "markdown",
   "id": "aa1510c5",
   "metadata": {},
   "source": [
    "## Using Grid Search CV for Best Parameters"
   ]
  },
  {
   "cell_type": "code",
   "execution_count": 33,
   "id": "3a8e91dd",
   "metadata": {},
   "outputs": [
    {
     "name": "stdout",
     "output_type": "stream",
     "text": [
      "Fitting 5 folds for each of 216 candidates, totalling 1080 fits\n"
     ]
    },
    {
     "name": "stderr",
     "output_type": "stream",
     "text": [
      "C:\\Python\\Python39\\lib\\site-packages\\sklearn\\model_selection\\_search.py:969: UserWarning: One or more of the test scores are non-finite: [ 0.7913094   0.79073897  0.79001501  0.79821018  0.80186794  0.80594134\n",
      " -0.01923843 -0.01869436 -0.01035365  0.4512659   0.47472433  0.45884596\n",
      "  0.46343486  0.47539143  0.47394872 -0.02290432 -0.02854205 -0.010113\n",
      "  0.76053679  0.77328891  0.76691625  0.77490158  0.78263296  0.78105897\n",
      " -0.03172738 -0.00889601 -0.00745193  0.46606327  0.44881171  0.45750038\n",
      "  0.44781335  0.46106764  0.47422216 -0.01438451 -0.01305956 -0.01307703\n",
      "  0.77615817  0.78561662  0.7854029   0.79911705  0.80031789  0.80359474\n",
      " -0.01710667 -0.01595818 -0.00200575  0.45869759  0.45445392  0.45482738\n",
      "  0.4779398   0.4842703   0.474764   -0.012679   -0.0051702  -0.01552821\n",
      "  0.76095632  0.76268475  0.76712402  0.78411182  0.77734689  0.7785285\n",
      " -0.05461595 -0.00879112 -0.00298958  0.44507949  0.45238149  0.45452897\n",
      "  0.47706908  0.45373331  0.46576467 -0.05244966 -0.00596456 -0.01221\n",
      "  0.66557373  0.6712102   0.66740749  0.66654472  0.66627924  0.66921611\n",
      " -0.01337498 -0.01780763 -0.01246359  0.31968155  0.3238048   0.32167329\n",
      "  0.33670897  0.31639601  0.31581907 -0.03391577 -0.00566357 -0.01015053\n",
      "  0.63658985  0.637208    0.63624032  0.62533674  0.63524581  0.63640126\n",
      " -0.00953374 -0.01230806 -0.009618    0.31074098  0.32101562  0.32263499\n",
      "  0.34230513  0.31360139  0.30784229 -0.0144873  -0.00578003 -0.00813309\n",
      "  0.66971201  0.67264843  0.67173524  0.67092476  0.67539755  0.67127927\n",
      " -0.01025235 -0.0060574  -0.01090956  0.31067358  0.31298121  0.31347407\n",
      "  0.31647673  0.30896205  0.32008093 -0.03921337 -0.00646534 -0.01610739\n",
      "  0.6329989   0.63796248  0.63529665  0.64249585  0.63793108  0.62835069\n",
      " -0.00939394 -0.0107812  -0.00562757  0.3121003   0.31342795  0.32511006\n",
      "  0.32309726  0.31505994  0.31394518 -0.00531303 -0.02184176 -0.01140867\n",
      "  0.47807831  0.48452687  0.48117621  0.55206646  0.55520766  0.55191197\n",
      "         nan         nan         nan  0.41610106  0.40952877  0.41541692\n",
      "  0.44736391  0.44483806  0.44660138         nan         nan         nan\n",
      "  0.50367022  0.49381399  0.49436303  0.565336    0.57218374  0.56472037\n",
      "         nan         nan         nan  0.42773767  0.42375419  0.41117971\n",
      "  0.44064587  0.44352658  0.44455767         nan         nan         nan\n",
      "  0.4705747   0.47542173  0.47346171  0.53164794  0.54543018  0.54875651\n",
      "         nan         nan         nan  0.42303689  0.41635288  0.4171774\n",
      "  0.42379207  0.458732    0.43870437         nan         nan         nan\n",
      "  0.49403757  0.49220485  0.4856083   0.567869    0.56590886  0.55557122\n",
      "         nan         nan         nan  0.40737269  0.4199228   0.40502034\n",
      "  0.43822527  0.44964029  0.43552142         nan         nan         nan]\n",
      "  warnings.warn(\n"
     ]
    },
    {
     "name": "stdout",
     "output_type": "stream",
     "text": [
      "R2 Score for Train model is : 0.954\n",
      "R2 Score for Test model is : 0.812\n",
      "Best R2 score by Grid Search best Model : 0.806\n",
      "Best Parameters are :  {'base_estimator': None, 'bootstrap': False, 'bootstrap_features': False, 'max_features': 0.5, 'max_samples': 0.5, 'n_estimators': 500}\n",
      "Wall time: 5min 9s\n"
     ]
    }
   ],
   "source": [
    "%%time\n",
    "param = {\"base_estimator\" : [None, LinearRegression(), KNeighborsRegressor()],\n",
    "        \"n_estimators\" : [100,300,500],\n",
    "        \"max_samples\" : [0.3,0.5,1],\n",
    "        \"max_features\" : [0.5, 1],\n",
    "        \"bootstrap\" : [False, True], \n",
    "        \"bootstrap_features\" : [False, True]\n",
    "        }\n",
    "\n",
    "bag_reg_grid = GridSearchCV(BaggingRegressor(),param, cv=5, verbose=True, n_jobs=-1)\n",
    "bag_reg_grid.fit(X_train,y_train)\n",
    "\n",
    "print(\"R2 Score for Train model is : %.3f\"%bag_reg_grid.best_estimator_.score(X_train,y_train))\n",
    "print(\"R2 Score for Test model is : %.3f\"%bag_reg_grid.best_estimator_.score(X_test,y_test))\n",
    "print(\"Best R2 score by Grid Search best Model : %.3f\"%bag_reg_grid.best_score_)\n",
    "print(\"Best Parameters are : \", bag_reg_grid.best_params_)"
   ]
  },
  {
   "cell_type": "code",
   "execution_count": null,
   "id": "e1e35326",
   "metadata": {},
   "outputs": [],
   "source": []
  }
 ],
 "metadata": {
  "kernelspec": {
   "display_name": "Python 3 (ipykernel)",
   "language": "python",
   "name": "python3"
  },
  "language_info": {
   "codemirror_mode": {
    "name": "ipython",
    "version": 3
   },
   "file_extension": ".py",
   "mimetype": "text/x-python",
   "name": "python",
   "nbconvert_exporter": "python",
   "pygments_lexer": "ipython3",
   "version": "3.9.7"
  }
 },
 "nbformat": 4,
 "nbformat_minor": 5
}
